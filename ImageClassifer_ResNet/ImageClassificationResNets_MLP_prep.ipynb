{
  "nbformat": 4,
  "nbformat_minor": 0,
  "metadata": {
    "kernelspec": {
      "display_name": "Python 3",
      "language": "python",
      "name": "python3"
    },
    "language_info": {
      "codemirror_mode": {
        "name": "ipython",
        "version": 3
      },
      "file_extension": ".py",
      "mimetype": "text/x-python",
      "name": "python",
      "nbconvert_exporter": "python",
      "pygments_lexer": "ipython3",
      "version": "3.7.1"
    },
    "colab": {
      "name": "ImageClassificationResNets_MLP_prep.ipynb",
      "provenance": [],
      "collapsed_sections": [],
      "machine_shape": "hm"
    }
  },
  "cells": [
    {
      "cell_type": "markdown",
      "metadata": {
        "id": "k24E3rqOCc1I",
        "colab_type": "text"
      },
      "source": [
        "### **This notebook is to get the same sample entries (2000 samples and 551 samples) from the album images dataframe as the customer review sample entries to use both modalities feature vecs as input to a simple MLP. Also added in an AUC and LRAP score test**"
      ]
    },
    {
      "cell_type": "code",
      "metadata": {
        "id": "OHzLmjcTVAPv",
        "colab_type": "code",
        "colab": {}
      },
      "source": [
        "from keras.models import load_model\n",
        "from keras.preprocessing import image\n",
        "from keras.applications.imagenet_utils import preprocess_input, decode_predictions\n",
        "from keras import applications\n",
        "import pandas as pd\n",
        "import numpy as np\n",
        "\n",
        "from PIL import Image\n",
        "import requests\n",
        "from io import BytesIO\n",
        "from keras.applications.resnet50 import ResNet50\n",
        "from sklearn.model_selection import train_test_split"
      ],
      "execution_count": 0,
      "outputs": []
    },
    {
      "cell_type": "code",
      "metadata": {
        "id": "UE9lMScOVAPz",
        "colab_type": "code",
        "colab": {}
      },
      "source": [
        "dfTracks = pd.read_pickle(\"dfTracks.pkl\")"
      ],
      "execution_count": 0,
      "outputs": []
    },
    {
      "cell_type": "code",
      "metadata": {
        "id": "qE-irLMiVAP2",
        "colab_type": "code",
        "colab": {}
      },
      "source": [
        "len(dfTracks.genres.unique().tolist())"
      ],
      "execution_count": 0,
      "outputs": []
    },
    {
      "cell_type": "code",
      "metadata": {
        "id": "We4mECOkVAP7",
        "colab_type": "code",
        "colab": {}
      },
      "source": [
        "dfImages = pd.read_pickle(\"df_images.pkl\")\n",
        "dfImages['imUrl'][1]\n",
        "dfImages['amazonID'][1]\n",
        "dfImages\n"
      ],
      "execution_count": 0,
      "outputs": []
    },
    {
      "cell_type": "code",
      "metadata": {
        "id": "_2QBR1enQInb",
        "colab_type": "code",
        "colab": {}
      },
      "source": [
        "# getting a sample of 551 \n",
        "dfText551 = pd.read_csv('551_albums_text.csv')\n",
        "dfText551\n",
        "entries_to_keep = dfText551.amazonIDs.tolist()\n",
        "dfImages = dfImages[dfImages['amazonID'].isin(entries_to_keep)]"
      ],
      "execution_count": 0,
      "outputs": []
    },
    {
      "cell_type": "code",
      "metadata": {
        "id": "Gx5dC9r6QgxP",
        "colab_type": "code",
        "colab": {}
      },
      "source": [
        "dfImages = dfImages.sort_values(by=['amazonID'])\n",
        "dfImages"
      ],
      "execution_count": 0,
      "outputs": []
    },
    {
      "cell_type": "code",
      "metadata": {
        "id": "NkZwYiF676QU",
        "colab_type": "code",
        "colab": {}
      },
      "source": [
        "# getting a sample of 2000\n",
        "dfText = pd.read_pickle(\"df2000_babelfied.pkl\")\n",
        "entries_to_keep = dfText.amazonIDs.tolist()\n",
        "dfImages = dfImages[dfImages['amazonID'].isin(entries_to_keep)]"
      ],
      "execution_count": 0,
      "outputs": []
    },
    {
      "cell_type": "code",
      "metadata": {
        "id": "85_AwLQV9PZU",
        "colab_type": "code",
        "colab": {}
      },
      "source": [
        "dfText = dfText.sort_values(by=['amazonIDs'])\n",
        "dfText"
      ],
      "execution_count": 0,
      "outputs": []
    },
    {
      "cell_type": "code",
      "metadata": {
        "id": "kxkL_Muv86N4",
        "colab_type": "code",
        "colab": {}
      },
      "source": [
        "dfImages = dfImages.sort_values(by=['amazonID'])\n",
        "dfImages"
      ],
      "execution_count": 0,
      "outputs": []
    },
    {
      "cell_type": "code",
      "metadata": {
        "id": "fpWa1GhqVAP9",
        "colab_type": "code",
        "colab": {}
      },
      "source": [
        "genres = []\n",
        "\n",
        "#get genre for each album cover through amazon ID and create new target col\n",
        "for index, row in dfImages.iterrows():\n",
        "    idAma = (row['amazonID'])\n",
        "    genre = (dfTracks[dfTracks.amazon_id == idAma]).genres.tolist()[0]\n",
        "    genres.append(genre)\n",
        "    \n",
        "dfImages[\"genres\"] = genres"
      ],
      "execution_count": 0,
      "outputs": []
    },
    {
      "cell_type": "code",
      "metadata": {
        "id": "WQUlJMf_-YKX",
        "colab_type": "code",
        "colab": {}
      },
      "source": [
        "dfImages"
      ],
      "execution_count": 0,
      "outputs": []
    },
    {
      "cell_type": "code",
      "metadata": {
        "id": "UPDETIcCagpv",
        "colab_type": "code",
        "colab": {}
      },
      "source": [
        "dfText551"
      ],
      "execution_count": 0,
      "outputs": []
    },
    {
      "cell_type": "code",
      "metadata": {
        "id": "IC0hSHhxVAQY",
        "colab_type": "code",
        "colab": {}
      },
      "source": [
        "def changeToTuple(x):\n",
        "    stringListGenres = x.split(\",\")\n",
        "    stringListGenres = tuple(stringListGenres)\n",
        "    return(stringListGenres)"
      ],
      "execution_count": 0,
      "outputs": []
    },
    {
      "cell_type": "code",
      "metadata": {
        "id": "njrZWoaKVAQl",
        "colab_type": "code",
        "colab": {}
      },
      "source": [
        "import time\n",
        "from PIL import Image, ImageOps\n",
        "\n",
        "\n",
        "def convertImage(x):\n",
        "    \n",
        "    status_code = 'not done'\n",
        "    \n",
        "    # x is the image URL\n",
        "    while(status_code == 'not done'):\n",
        "        try:\n",
        "            response = requests.get(x)\n",
        "            img = Image.open(BytesIO(response.content))\n",
        "\n",
        "            #resizing code from jdhao's blog\n",
        "            desired_size = 300\n",
        "            old_size = img.size  \n",
        "\n",
        "            ratio = float(desired_size)/max(old_size)\n",
        "            new_size = tuple([int(x*ratio) for x in old_size])\n",
        "            \n",
        "            # use thumbnail() or resize() method to resize the input image\n",
        "            # thumbnail is a in-place operation\n",
        "            # im.thumbnail(new_size, Image.ANTIALIAS)\n",
        "\n",
        "            img = img.resize(new_size, Image.ANTIALIAS)\n",
        "            # create a new image and paste the resized on it\n",
        "\n",
        "            new_img = Image.new(\"RGB\", (desired_size, desired_size))\n",
        "            new_img.paste(img, ((desired_size-new_size[0])//2,\n",
        "                                (desired_size-new_size[1])//2))\n",
        "            \n",
        "            \n",
        "            status_code = 'done'\n",
        "        except requests.exceptions.ConnectionError:\n",
        "            time.sleep(5)\n",
        "            continue\n",
        "\n",
        "    #PIL format to numpy format(h * w * channels)\n",
        "    numpy_image = image.img_to_array(new_img)\n",
        "    numpy_image.shape\n",
        "\n",
        "    #numpy format to batch format - adds extra dim in (batchsize)\n",
        "    image_batch = np.expand_dims(numpy_image, axis=0)\n",
        "    return(image_batch)"
      ],
      "execution_count": 0,
      "outputs": []
    },
    {
      "cell_type": "code",
      "metadata": {
        "id": "2eJhEi0tVAQp",
        "colab_type": "code",
        "colab": {}
      },
      "source": [
        "#X = dfImages[\"imUrl\"]\n",
        "\n",
        "dfImages[\"imUrl\"] = dfImages[\"imUrl\"].apply(lambda x: convertImage(x))"
      ],
      "execution_count": 0,
      "outputs": []
    },
    {
      "cell_type": "code",
      "metadata": {
        "id": "FaJuPl4LbLfz",
        "colab_type": "code",
        "colab": {}
      },
      "source": [
        "dfImages.tail()"
      ],
      "execution_count": 0,
      "outputs": []
    },
    {
      "cell_type": "code",
      "metadata": {
        "id": "XZ4GRCOhVAQs",
        "colab_type": "code",
        "colab": {}
      },
      "source": [
        "y = dfImages[\"genres\"]\n",
        "y = y.apply(lambda x: changeToTuple(x))"
      ],
      "execution_count": 0,
      "outputs": []
    },
    {
      "cell_type": "code",
      "metadata": {
        "id": "yI4NTXrkljLu",
        "colab_type": "code",
        "colab": {}
      },
      "source": [
        "X = dfImages[\"imUrl\"]"
      ],
      "execution_count": 0,
      "outputs": []
    },
    {
      "cell_type": "code",
      "metadata": {
        "id": "REv60qw9RfJH",
        "colab_type": "code",
        "colab": {}
      },
      "source": [
        "# pickling the sample of 551 preprocessed images \n",
        "X.to_pickle(\"df551_imgsVectorized_X.pkl\")\n",
        "y.to_pickle(\"df551_labelsImgs_y.pkl\")"
      ],
      "execution_count": 0,
      "outputs": []
    },
    {
      "cell_type": "code",
      "metadata": {
        "id": "P5aJhDhLBAbK",
        "colab_type": "code",
        "colab": {}
      },
      "source": [
        "y.to_pickle(\"df2000_labelsImgs_y.pkl\")"
      ],
      "execution_count": 0,
      "outputs": []
    },
    {
      "cell_type": "code",
      "metadata": {
        "id": "jCACUYERBh0q",
        "colab_type": "code",
        "colab": {}
      },
      "source": [
        "#read in label dataframe\n",
        "y = pd.read_pickle(\"df2000_labelsImgs_y.pkl\")"
      ],
      "execution_count": 0,
      "outputs": []
    },
    {
      "cell_type": "code",
      "metadata": {
        "id": "QnpVXwcDVAQv",
        "colab_type": "code",
        "colab": {}
      },
      "source": [
        "targetList = y.tolist()"
      ],
      "execution_count": 0,
      "outputs": []
    },
    {
      "cell_type": "code",
      "metadata": {
        "id": "SgA_4X6yVAQy",
        "colab_type": "code",
        "colab": {}
      },
      "source": [
        "X.to_pickle(\"df2000_imgsVectorized_X.pkl\")"
      ],
      "execution_count": 0,
      "outputs": []
    },
    {
      "cell_type": "code",
      "metadata": {
        "id": "vlx_mRovy8wB",
        "colab_type": "code",
        "colab": {}
      },
      "source": [
        "#read in vectorized images dataframe\n",
        "X = pd.read_pickle(\"df2000_imgsVectorized_X.pkl\")"
      ],
      "execution_count": 0,
      "outputs": []
    },
    {
      "cell_type": "code",
      "metadata": {
        "id": "y4BrHI7DVAQ3",
        "colab_type": "code",
        "colab": {}
      },
      "source": [
        "from sklearn.preprocessing import MultiLabelBinarizer\n",
        "mlb = MultiLabelBinarizer()\n",
        "\n",
        "targetLabelsBin = mlb.fit_transform(targetList)\n"
      ],
      "execution_count": 0,
      "outputs": []
    },
    {
      "cell_type": "code",
      "metadata": {
        "id": "TMUiIyojVAQ6",
        "colab_type": "code",
        "colab": {}
      },
      "source": [
        "targetLabelsBin.shape"
      ],
      "execution_count": 0,
      "outputs": []
    },
    {
      "cell_type": "code",
      "metadata": {
        "id": "QFOuKjB8VAQ8",
        "colab_type": "code",
        "colab": {}
      },
      "source": [
        "res = np.array(X.values.tolist()).squeeze()"
      ],
      "execution_count": 0,
      "outputs": []
    },
    {
      "cell_type": "markdown",
      "metadata": {
        "id": "Hv8f57ATXED7",
        "colab_type": "text"
      },
      "source": [
        "# **Building the Model**"
      ]
    },
    {
      "cell_type": "code",
      "metadata": {
        "id": "YPFv-QG0VARA",
        "colab_type": "code",
        "colab": {}
      },
      "source": [
        "X_train, X_test, y_train, y_test = train_test_split(res, targetLabelsBin, test_size=0.25, random_state=42)\n",
        "\n",
        "\n",
        "print (\"number of training examples = \" + str(X_train.shape[0]))\n",
        "print (\"number of test examples = \" + str(X_test.shape[0]))\n",
        "print (\"X_train shape: \" + str(X_train.shape))\n",
        "print (\"y_train shape: \" + str(y_train.shape))\n",
        "print (\"X_test shape: \" + str(X_test.shape))\n",
        "print (\"y_test shape: \" + str(y_test.shape))"
      ],
      "execution_count": 0,
      "outputs": []
    },
    {
      "cell_type": "code",
      "metadata": {
        "id": "GQyAnmuYVARC",
        "colab_type": "code",
        "colab": {}
      },
      "source": [
        "#img_height,img_width = 300,300\n",
        "from keras.layers import Input, Dense\n",
        "img = Input(shape = (300, 300, 3))\n",
        "\n",
        "\n",
        "base_model = applications.resnet50.ResNet50(weights = 'imagenet',include_top = False, input_tensor = img, input_shape = None, pooling = 'avg')"
      ],
      "execution_count": 0,
      "outputs": []
    },
    {
      "cell_type": "code",
      "metadata": {
        "id": "o6X5SfjqVARE",
        "colab_type": "code",
        "colab": {}
      },
      "source": [
        "processed_image = preprocess_input(image_batch, mode='caffe')"
      ],
      "execution_count": 0,
      "outputs": []
    },
    {
      "cell_type": "code",
      "metadata": {
        "id": "kekOm92AVARL",
        "colab_type": "code",
        "colab": {}
      },
      "source": [
        "from keras.layers import Dense, Dropout, Flatten, Conv2D, MaxPool2D,GlobalAveragePooling2D\n",
        "from keras.models import Sequential,Model,load_model\n",
        "num_classes = y_test.shape[1]\n",
        "\n",
        "\n",
        "final_layer = base_model.layers[-1].output\n",
        "dense_layer_1 = Dense(128, activation = 'relu')(final_layer)\n",
        "output_layer = Dense(num_classes, activation = 'sigmoid')(dense_layer_1)\n",
        "model = Model(input = img, output = output_layer)"
      ],
      "execution_count": 0,
      "outputs": []
    },
    {
      "cell_type": "code",
      "metadata": {
        "id": "vQdLPpMzrHo5",
        "colab_type": "code",
        "colab": {}
      },
      "source": [
        "# auc function from stackoverflow user tuomastik\n",
        "# currently not using this ---> error being caused with this function?\n",
        "import tensorflow as tf\n",
        "from keras import backend as K\n",
        "\n",
        "def auc(y_true, y_pred):\n",
        "    auc = tf.metrics.AUC(y_true, y_pred)[1]\n",
        "    K.get_session().run(tf.local_variables_initializer())\n",
        "    return auc"
      ],
      "execution_count": 0,
      "outputs": []
    },
    {
      "cell_type": "code",
      "metadata": {
        "id": "TltyYZddVARN",
        "colab_type": "code",
        "colab": {}
      },
      "source": [
        "from keras.optimizers import SGD, Adam\n",
        "\n",
        "adam = Adam(lr=0.0001)\n",
        "model.compile(optimizer = 'adam',metrics = ['accuracy', tf.keras.metrics.AUC(multi_label = True)], loss = 'binary_crossentropy')"
      ],
      "execution_count": 0,
      "outputs": []
    },
    {
      "cell_type": "code",
      "metadata": {
        "id": "KKKmZfKnVARO",
        "colab_type": "code",
        "colab": {}
      },
      "source": [
        "#\n",
        "model.fit(X_train, y_train, epochs = 20, batch_size = 32, validation_data=(X_test, y_test), validation_freq=5, verbose = 1)"
      ],
      "execution_count": 0,
      "outputs": []
    },
    {
      "cell_type": "code",
      "metadata": {
        "id": "g1uZ6JbEx6c3",
        "colab_type": "code",
        "colab": {}
      },
      "source": [
        "model.save(\"KerasResNetv1.h5\")"
      ],
      "execution_count": 0,
      "outputs": []
    },
    {
      "cell_type": "code",
      "metadata": {
        "id": "cadJTxuhzkvl",
        "colab_type": "code",
        "colab": {}
      },
      "source": [
        "model.summary()"
      ],
      "execution_count": 0,
      "outputs": []
    },
    {
      "cell_type": "markdown",
      "metadata": {
        "id": "cNsUaOe5XLwE",
        "colab_type": "text"
      },
      "source": [
        "# **Testing specific samples, scores, investigating outputs**"
      ]
    },
    {
      "cell_type": "code",
      "metadata": {
        "id": "yHW0amaiy9WV",
        "colab_type": "code",
        "colab": {}
      },
      "source": [
        "X_test[23][None]"
      ],
      "execution_count": 0,
      "outputs": []
    },
    {
      "cell_type": "code",
      "metadata": {
        "id": "AX9t5IsMyP2j",
        "colab_type": "code",
        "colab": {}
      },
      "source": [
        "#import keras\n",
        "preds = model.predict(X_test)\n",
        "#y_prob.shape\n",
        "#y_classes = y_prob.argmax(axis=-1)\n",
        "\n",
        "preds[preds>=0.5] = 1\n",
        "preds[preds<0.5] = 0"
      ],
      "execution_count": 0,
      "outputs": []
    },
    {
      "cell_type": "code",
      "metadata": {
        "id": "RZJgUiff86qb",
        "colab_type": "code",
        "colab": {}
      },
      "source": [
        "preds[0]"
      ],
      "execution_count": 0,
      "outputs": []
    },
    {
      "cell_type": "code",
      "metadata": {
        "id": "QVWIpJcjTmDu",
        "colab_type": "code",
        "colab": {}
      },
      "source": [
        "len(preds)"
      ],
      "execution_count": 0,
      "outputs": []
    },
    {
      "cell_type": "code",
      "metadata": {
        "id": "N6Bs-pCJ_tEy",
        "colab_type": "code",
        "colab": {}
      },
      "source": [
        "result = np.where(preds[0] == 1.)"
      ],
      "execution_count": 0,
      "outputs": []
    },
    {
      "cell_type": "code",
      "metadata": {
        "id": "KpQIZky1_1CG",
        "colab_type": "code",
        "colab": {}
      },
      "source": [
        "result"
      ],
      "execution_count": 0,
      "outputs": []
    },
    {
      "cell_type": "code",
      "metadata": {
        "id": "Jjv7Dbnx1eS6",
        "colab_type": "code",
        "colab": {}
      },
      "source": [
        "y_test[20]"
      ],
      "execution_count": 0,
      "outputs": []
    },
    {
      "cell_type": "code",
      "metadata": {
        "id": "CuCLthVP_5iZ",
        "colab_type": "code",
        "colab": {}
      },
      "source": [
        "result2 = np.where(y_test[20] == 1)\n",
        "result2"
      ],
      "execution_count": 0,
      "outputs": []
    },
    {
      "cell_type": "code",
      "metadata": {
        "id": "mUOxZaaVVARQ",
        "colab_type": "code",
        "colab": {}
      },
      "source": [
        "from sklearn.metrics import label_ranking_average_precision_score\n",
        "\n",
        "label_ranking_average_precision_score(y_test, preds)\n",
        "\n",
        "\n",
        "\n"
      ],
      "execution_count": 0,
      "outputs": []
    }
  ]
}