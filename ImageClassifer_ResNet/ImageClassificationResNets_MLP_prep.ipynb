{
  "nbformat": 4,
  "nbformat_minor": 0,
  "metadata": {
    "kernelspec": {
      "display_name": "Python 3",
      "language": "python",
      "name": "python3"
    },
    "language_info": {
      "codemirror_mode": {
        "name": "ipython",
        "version": 3
      },
      "file_extension": ".py",
      "mimetype": "text/x-python",
      "name": "python",
      "nbconvert_exporter": "python",
      "pygments_lexer": "ipython3",
      "version": "3.7.1"
    },
    "colab": {
      "name": "ImageClassificationResNets_MLP_prep.ipynb",
      "provenance": [],
      "collapsed_sections": [],
      "machine_shape": "hm"
    }
  },
  "cells": [
    {
      "cell_type": "markdown",
      "metadata": {
        "id": "k24E3rqOCc1I",
        "colab_type": "text"
      },
      "source": [
        "### **This notebook is to get the same sample entries (2000 samples) from the album images dataframe as the customer review sample entries to use both modalities feature vecs as input to a simple MLP.**"
      ]
    },
    {
      "cell_type": "code",
      "metadata": {
        "id": "OHzLmjcTVAPv",
        "colab_type": "code",
        "outputId": "4999102f-ee3b-4c85-864d-962f2b3a30b4",
        "colab": {
          "base_uri": "https://localhost:8080/",
          "height": 35
        }
      },
      "source": [
        "from keras.models import load_model\n",
        "from keras.preprocessing import image\n",
        "from keras.applications.imagenet_utils import preprocess_input, decode_predictions\n",
        "from keras import applications\n",
        "import pandas as pd\n",
        "import numpy as np\n",
        "\n",
        "from PIL import Image\n",
        "import requests\n",
        "from io import BytesIO\n",
        "from keras.applications.resnet50 import ResNet50\n",
        "from sklearn.model_selection import train_test_split"
      ],
      "execution_count": 1,
      "outputs": [
        {
          "output_type": "stream",
          "text": [
            "Using TensorFlow backend.\n"
          ],
          "name": "stderr"
        }
      ]
    },
    {
      "cell_type": "code",
      "metadata": {
        "id": "UE9lMScOVAPz",
        "colab_type": "code",
        "colab": {}
      },
      "source": [
        "dfTracks = pd.read_pickle(\"dfTracks.pkl\")"
      ],
      "execution_count": 0,
      "outputs": []
    },
    {
      "cell_type": "code",
      "metadata": {
        "id": "qE-irLMiVAP2",
        "colab_type": "code",
        "outputId": "99a61f95-af55-4e3a-b110-84b50416ebff",
        "colab": {
          "base_uri": "https://localhost:8080/",
          "height": 35
        }
      },
      "source": [
        "len(dfTracks.genres.unique().tolist())"
      ],
      "execution_count": 4,
      "outputs": [
        {
          "output_type": "execute_result",
          "data": {
            "text/plain": [
              "12903"
            ]
          },
          "metadata": {
            "tags": []
          },
          "execution_count": 4
        }
      ]
    },
    {
      "cell_type": "code",
      "metadata": {
        "id": "We4mECOkVAP7",
        "colab_type": "code",
        "outputId": "2cde9242-fa66-48e7-ff0b-77d007781579",
        "colab": {
          "base_uri": "https://localhost:8080/",
          "height": 399
        }
      },
      "source": [
        "dfImages = pd.read_pickle(\"df_images.pkl\")\n",
        "dfImages['imUrl'][1]\n",
        "dfImages['amazonID'][1]\n",
        "dfImages\n"
      ],
      "execution_count": 11,
      "outputs": [
        {
          "output_type": "execute_result",
          "data": {
            "text/html": [
              "<div>\n",
              "<style scoped>\n",
              "    .dataframe tbody tr th:only-of-type {\n",
              "        vertical-align: middle;\n",
              "    }\n",
              "\n",
              "    .dataframe tbody tr th {\n",
              "        vertical-align: top;\n",
              "    }\n",
              "\n",
              "    .dataframe thead th {\n",
              "        text-align: right;\n",
              "    }\n",
              "</style>\n",
              "<table border=\"1\" class=\"dataframe\">\n",
              "  <thead>\n",
              "    <tr style=\"text-align: right;\">\n",
              "      <th></th>\n",
              "      <th>imUrl</th>\n",
              "      <th>amazonID</th>\n",
              "    </tr>\n",
              "  </thead>\n",
              "  <tbody>\n",
              "    <tr>\n",
              "      <th>0</th>\n",
              "      <td>http://ecx.images-amazon.com/images/I/51fdvJLW...</td>\n",
              "      <td>1458389375</td>\n",
              "    </tr>\n",
              "    <tr>\n",
              "      <th>1</th>\n",
              "      <td>http://ecx.images-amazon.com/images/I/51GGK0zo...</td>\n",
              "      <td>1591791065</td>\n",
              "    </tr>\n",
              "    <tr>\n",
              "      <th>2</th>\n",
              "      <td>http://ecx.images-amazon.com/images/I/51Li1pqK...</td>\n",
              "      <td>1906063443</td>\n",
              "    </tr>\n",
              "    <tr>\n",
              "      <th>3</th>\n",
              "      <td>http://ecx.images-amazon.com/images/I/51eW8XLF...</td>\n",
              "      <td>1929243766</td>\n",
              "    </tr>\n",
              "    <tr>\n",
              "      <th>4</th>\n",
              "      <td>http://ecx.images-amazon.com/images/I/41F5hqeP...</td>\n",
              "      <td>1930864159</td>\n",
              "    </tr>\n",
              "    <tr>\n",
              "      <th>...</th>\n",
              "      <td>...</td>\n",
              "      <td>...</td>\n",
              "    </tr>\n",
              "    <tr>\n",
              "      <th>31466</th>\n",
              "      <td>http://ecx.images-amazon.com/images/I/21o%2B73...</td>\n",
              "      <td>B00JVSIMLQ</td>\n",
              "    </tr>\n",
              "    <tr>\n",
              "      <th>31467</th>\n",
              "      <td>http://ecx.images-amazon.com/images/I/316q03mN...</td>\n",
              "      <td>B00KDL9TTE</td>\n",
              "    </tr>\n",
              "    <tr>\n",
              "      <th>31468</th>\n",
              "      <td>http://ecx.images-amazon.com/images/I/51UgnZe%...</td>\n",
              "      <td>B00KE5M5IQ</td>\n",
              "    </tr>\n",
              "    <tr>\n",
              "      <th>31469</th>\n",
              "      <td>http://ecx.images-amazon.com/images/I/51obnT4n...</td>\n",
              "      <td>B00KG10ZXU</td>\n",
              "    </tr>\n",
              "    <tr>\n",
              "      <th>31470</th>\n",
              "      <td>http://ecx.images-amazon.com/images/I/51cOvY8o...</td>\n",
              "      <td>B00KOEQSTY</td>\n",
              "    </tr>\n",
              "  </tbody>\n",
              "</table>\n",
              "<p>31471 rows × 2 columns</p>\n",
              "</div>"
            ],
            "text/plain": [
              "                                                   imUrl    amazonID\n",
              "0      http://ecx.images-amazon.com/images/I/51fdvJLW...  1458389375\n",
              "1      http://ecx.images-amazon.com/images/I/51GGK0zo...  1591791065\n",
              "2      http://ecx.images-amazon.com/images/I/51Li1pqK...  1906063443\n",
              "3      http://ecx.images-amazon.com/images/I/51eW8XLF...  1929243766\n",
              "4      http://ecx.images-amazon.com/images/I/41F5hqeP...  1930864159\n",
              "...                                                  ...         ...\n",
              "31466  http://ecx.images-amazon.com/images/I/21o%2B73...  B00JVSIMLQ\n",
              "31467  http://ecx.images-amazon.com/images/I/316q03mN...  B00KDL9TTE\n",
              "31468  http://ecx.images-amazon.com/images/I/51UgnZe%...  B00KE5M5IQ\n",
              "31469  http://ecx.images-amazon.com/images/I/51obnT4n...  B00KG10ZXU\n",
              "31470  http://ecx.images-amazon.com/images/I/51cOvY8o...  B00KOEQSTY\n",
              "\n",
              "[31471 rows x 2 columns]"
            ]
          },
          "metadata": {
            "tags": []
          },
          "execution_count": 11
        }
      ]
    },
    {
      "cell_type": "code",
      "metadata": {
        "id": "NkZwYiF676QU",
        "colab_type": "code",
        "colab": {}
      },
      "source": [
        "dfText = pd.read_pickle(\"df2000_babelfied.pkl\")\n",
        "entries_to_keep = dfText.amazonIDs.tolist()\n",
        "dfImages = dfImages[dfImages['amazonID'].isin(entries_to_keep)]"
      ],
      "execution_count": 0,
      "outputs": []
    },
    {
      "cell_type": "code",
      "metadata": {
        "id": "85_AwLQV9PZU",
        "colab_type": "code",
        "colab": {
          "base_uri": "https://localhost:8080/",
          "height": 399
        },
        "outputId": "e59743d0-7e24-4699-ce06-25fbc087c826"
      },
      "source": [
        "dfText = dfText.sort_values(by=['amazonIDs'])\n",
        "dfText"
      ],
      "execution_count": 16,
      "outputs": [
        {
          "output_type": "execute_result",
          "data": {
            "text/html": [
              "<div>\n",
              "<style scoped>\n",
              "    .dataframe tbody tr th:only-of-type {\n",
              "        vertical-align: middle;\n",
              "    }\n",
              "\n",
              "    .dataframe tbody tr th {\n",
              "        vertical-align: top;\n",
              "    }\n",
              "\n",
              "    .dataframe thead th {\n",
              "        text-align: right;\n",
              "    }\n",
              "</style>\n",
              "<table border=\"1\" class=\"dataframe\">\n",
              "  <thead>\n",
              "    <tr style=\"text-align: right;\">\n",
              "      <th></th>\n",
              "      <th>amazonIDs</th>\n",
              "      <th>reviews</th>\n",
              "      <th>genres</th>\n",
              "      <th>clean_reviews</th>\n",
              "    </tr>\n",
              "  </thead>\n",
              "  <tbody>\n",
              "    <tr>\n",
              "      <th>2</th>\n",
              "      <td>1906063443</td>\n",
              "      <td>Contrary to the previous review, this IS a com...</td>\n",
              "      <td>Europe,Christian,Eastern Europe,Pop,Gypsy,Worl...</td>\n",
              "      <td>contrary previous review compilation single ar...</td>\n",
              "    </tr>\n",
              "    <tr>\n",
              "      <th>3</th>\n",
              "      <td>1929243766</td>\n",
              "      <td>My family and I all first experienced John on ...</td>\n",
              "      <td>Comedy &amp; Spoken Word,Pop</td>\n",
              "      <td>family first experienced john comedy central t...</td>\n",
              "    </tr>\n",
              "    <tr>\n",
              "      <th>4</th>\n",
              "      <td>1930864159</td>\n",
              "      <td>Awesome. This is so good when needing reminded...</td>\n",
              "      <td>Pop &amp; Contemporary,Christian,Gospel,Pop</td>\n",
              "      <td>awesome good needing reminded quiet hear god w...</td>\n",
              "    </tr>\n",
              "    <tr>\n",
              "      <th>6</th>\n",
              "      <td>3937406328</td>\n",
              "      <td>The purchase of this set was a bold step for m...</td>\n",
              "      <td>Europe,World Music,Blues Rock,Rock,Pop,Dance &amp;...</td>\n",
              "      <td>purchase set bold step dont boxed sets learned...</td>\n",
              "    </tr>\n",
              "    <tr>\n",
              "      <th>7</th>\n",
              "      <td>4266950926</td>\n",
              "      <td>I stumbled onto this CD one day at a listening...</td>\n",
              "      <td>New Age,Meditation,World Music,Pop</td>\n",
              "      <td>stumbled onto cd one day listening post first ...</td>\n",
              "    </tr>\n",
              "    <tr>\n",
              "      <th>...</th>\n",
              "      <td>...</td>\n",
              "      <td>...</td>\n",
              "      <td>...</td>\n",
              "      <td>...</td>\n",
              "    </tr>\n",
              "    <tr>\n",
              "      <th>2629</th>\n",
              "      <td>B000001AD0</td>\n",
              "      <td>All time classic, hadn't played it in years un...</td>\n",
              "      <td>Oldies,Dance &amp; Electronic,Motown,Philly Soul,S...</td>\n",
              "      <td>time classic hadnt played years recently given...</td>\n",
              "    </tr>\n",
              "    <tr>\n",
              "      <th>2630</th>\n",
              "      <td>B000001AEI</td>\n",
              "      <td>its vinyl, its jackson 5, whats not to love? t...</td>\n",
              "      <td>Oldies,Dance &amp; Electronic,Motown,Philly Soul,S...</td>\n",
              "      <td>vinyl jackson whats love sleeve picture bit fa...</td>\n",
              "    </tr>\n",
              "    <tr>\n",
              "      <th>2631</th>\n",
              "      <td>B000001AEK</td>\n",
              "      <td>my record arrived so brittle that it broke in ...</td>\n",
              "      <td>Oldies,Motown,Soul,Pop,R&amp;B,Classic R&amp;B,Girl Gr...</td>\n",
              "      <td>record arrived brittle broke half packaging ma...</td>\n",
              "    </tr>\n",
              "    <tr>\n",
              "      <th>2633</th>\n",
              "      <td>B000001AFH</td>\n",
              "      <td>I have waited for this album, AN EVENING WITH ...</td>\n",
              "      <td>R&amp;B,Blues,Motown,Soul,Classic R&amp;B</td>\n",
              "      <td>waited evening diana ross released cd long tim...</td>\n",
              "    </tr>\n",
              "    <tr>\n",
              "      <th>2636</th>\n",
              "      <td>B000001AFU</td>\n",
              "      <td>This is a great CD.  My family has been listen...</td>\n",
              "      <td>Oldies,Motown,Soul,Pop,Holiday &amp; Wedding,R&amp;B,C...</td>\n",
              "      <td>great cd family listening since baby probably ...</td>\n",
              "    </tr>\n",
              "  </tbody>\n",
              "</table>\n",
              "<p>2000 rows × 4 columns</p>\n",
              "</div>"
            ],
            "text/plain": [
              "       amazonIDs  ...                                      clean_reviews\n",
              "2     1906063443  ...  contrary previous review compilation single ar...\n",
              "3     1929243766  ...  family first experienced john comedy central t...\n",
              "4     1930864159  ...  awesome good needing reminded quiet hear god w...\n",
              "6     3937406328  ...  purchase set bold step dont boxed sets learned...\n",
              "7     4266950926  ...  stumbled onto cd one day listening post first ...\n",
              "...          ...  ...                                                ...\n",
              "2629  B000001AD0  ...  time classic hadnt played years recently given...\n",
              "2630  B000001AEI  ...  vinyl jackson whats love sleeve picture bit fa...\n",
              "2631  B000001AEK  ...  record arrived brittle broke half packaging ma...\n",
              "2633  B000001AFH  ...  waited evening diana ross released cd long tim...\n",
              "2636  B000001AFU  ...  great cd family listening since baby probably ...\n",
              "\n",
              "[2000 rows x 4 columns]"
            ]
          },
          "metadata": {
            "tags": []
          },
          "execution_count": 16
        }
      ]
    },
    {
      "cell_type": "code",
      "metadata": {
        "id": "kxkL_Muv86N4",
        "colab_type": "code",
        "colab": {
          "base_uri": "https://localhost:8080/",
          "height": 399
        },
        "outputId": "88affff9-94c6-42f0-cfc9-399130aa5dbc"
      },
      "source": [
        "dfImages = dfImages.sort_values(by=['amazonID'])\n",
        "dfImages"
      ],
      "execution_count": 17,
      "outputs": [
        {
          "output_type": "execute_result",
          "data": {
            "text/html": [
              "<div>\n",
              "<style scoped>\n",
              "    .dataframe tbody tr th:only-of-type {\n",
              "        vertical-align: middle;\n",
              "    }\n",
              "\n",
              "    .dataframe tbody tr th {\n",
              "        vertical-align: top;\n",
              "    }\n",
              "\n",
              "    .dataframe thead th {\n",
              "        text-align: right;\n",
              "    }\n",
              "</style>\n",
              "<table border=\"1\" class=\"dataframe\">\n",
              "  <thead>\n",
              "    <tr style=\"text-align: right;\">\n",
              "      <th></th>\n",
              "      <th>imUrl</th>\n",
              "      <th>amazonID</th>\n",
              "    </tr>\n",
              "  </thead>\n",
              "  <tbody>\n",
              "    <tr>\n",
              "      <th>2</th>\n",
              "      <td>http://ecx.images-amazon.com/images/I/51Li1pqK...</td>\n",
              "      <td>1906063443</td>\n",
              "    </tr>\n",
              "    <tr>\n",
              "      <th>3</th>\n",
              "      <td>http://ecx.images-amazon.com/images/I/51eW8XLF...</td>\n",
              "      <td>1929243766</td>\n",
              "    </tr>\n",
              "    <tr>\n",
              "      <th>4</th>\n",
              "      <td>http://ecx.images-amazon.com/images/I/41F5hqeP...</td>\n",
              "      <td>1930864159</td>\n",
              "    </tr>\n",
              "    <tr>\n",
              "      <th>6</th>\n",
              "      <td>http://ecx.images-amazon.com/images/I/41Mr73M0...</td>\n",
              "      <td>3937406328</td>\n",
              "    </tr>\n",
              "    <tr>\n",
              "      <th>7</th>\n",
              "      <td>http://ecx.images-amazon.com/images/I/51Z3TQXD...</td>\n",
              "      <td>4266950926</td>\n",
              "    </tr>\n",
              "    <tr>\n",
              "      <th>...</th>\n",
              "      <td>...</td>\n",
              "      <td>...</td>\n",
              "    </tr>\n",
              "    <tr>\n",
              "      <th>2644</th>\n",
              "      <td>http://ecx.images-amazon.com/images/I/4173RDBC...</td>\n",
              "      <td>B000001AD0</td>\n",
              "    </tr>\n",
              "    <tr>\n",
              "      <th>2627</th>\n",
              "      <td>http://ecx.images-amazon.com/images/I/31NFK7X2...</td>\n",
              "      <td>B000001AEI</td>\n",
              "    </tr>\n",
              "    <tr>\n",
              "      <th>2628</th>\n",
              "      <td>http://ecx.images-amazon.com/images/I/21VR865P...</td>\n",
              "      <td>B000001AEK</td>\n",
              "    </tr>\n",
              "    <tr>\n",
              "      <th>2634</th>\n",
              "      <td>http://ecx.images-amazon.com/images/I/21V7SGYQ...</td>\n",
              "      <td>B000001AFH</td>\n",
              "    </tr>\n",
              "    <tr>\n",
              "      <th>2633</th>\n",
              "      <td>http://ecx.images-amazon.com/images/I/21R9BNEA...</td>\n",
              "      <td>B000001AFU</td>\n",
              "    </tr>\n",
              "  </tbody>\n",
              "</table>\n",
              "<p>2000 rows × 2 columns</p>\n",
              "</div>"
            ],
            "text/plain": [
              "                                                  imUrl    amazonID\n",
              "2     http://ecx.images-amazon.com/images/I/51Li1pqK...  1906063443\n",
              "3     http://ecx.images-amazon.com/images/I/51eW8XLF...  1929243766\n",
              "4     http://ecx.images-amazon.com/images/I/41F5hqeP...  1930864159\n",
              "6     http://ecx.images-amazon.com/images/I/41Mr73M0...  3937406328\n",
              "7     http://ecx.images-amazon.com/images/I/51Z3TQXD...  4266950926\n",
              "...                                                 ...         ...\n",
              "2644  http://ecx.images-amazon.com/images/I/4173RDBC...  B000001AD0\n",
              "2627  http://ecx.images-amazon.com/images/I/31NFK7X2...  B000001AEI\n",
              "2628  http://ecx.images-amazon.com/images/I/21VR865P...  B000001AEK\n",
              "2634  http://ecx.images-amazon.com/images/I/21V7SGYQ...  B000001AFH\n",
              "2633  http://ecx.images-amazon.com/images/I/21R9BNEA...  B000001AFU\n",
              "\n",
              "[2000 rows x 2 columns]"
            ]
          },
          "metadata": {
            "tags": []
          },
          "execution_count": 17
        }
      ]
    },
    {
      "cell_type": "code",
      "metadata": {
        "id": "fpWa1GhqVAP9",
        "colab_type": "code",
        "colab": {}
      },
      "source": [
        "genres = []\n",
        "\n",
        "#get genre for each album cover through amazon ID and create new target col\n",
        "for index, row in dfImages.iterrows():\n",
        "    idAma = (row['amazonID'])\n",
        "    genre = (dfTracks[dfTracks.amazon_id == idAma]).genres.tolist()[0]\n",
        "    genres.append(genre)\n",
        "    \n",
        "dfImages[\"genres\"] = genres"
      ],
      "execution_count": 0,
      "outputs": []
    },
    {
      "cell_type": "code",
      "metadata": {
        "id": "WQUlJMf_-YKX",
        "colab_type": "code",
        "colab": {
          "base_uri": "https://localhost:8080/",
          "height": 399
        },
        "outputId": "d9853ef6-a8e0-4183-e54e-4030e33ddb66"
      },
      "source": [
        "dfImages"
      ],
      "execution_count": 19,
      "outputs": [
        {
          "output_type": "execute_result",
          "data": {
            "text/html": [
              "<div>\n",
              "<style scoped>\n",
              "    .dataframe tbody tr th:only-of-type {\n",
              "        vertical-align: middle;\n",
              "    }\n",
              "\n",
              "    .dataframe tbody tr th {\n",
              "        vertical-align: top;\n",
              "    }\n",
              "\n",
              "    .dataframe thead th {\n",
              "        text-align: right;\n",
              "    }\n",
              "</style>\n",
              "<table border=\"1\" class=\"dataframe\">\n",
              "  <thead>\n",
              "    <tr style=\"text-align: right;\">\n",
              "      <th></th>\n",
              "      <th>imUrl</th>\n",
              "      <th>amazonID</th>\n",
              "      <th>genres</th>\n",
              "    </tr>\n",
              "  </thead>\n",
              "  <tbody>\n",
              "    <tr>\n",
              "      <th>2</th>\n",
              "      <td>http://ecx.images-amazon.com/images/I/51Li1pqK...</td>\n",
              "      <td>1906063443</td>\n",
              "      <td>Europe,Christian,Eastern Europe,Pop,Gypsy,Worl...</td>\n",
              "    </tr>\n",
              "    <tr>\n",
              "      <th>3</th>\n",
              "      <td>http://ecx.images-amazon.com/images/I/51eW8XLF...</td>\n",
              "      <td>1929243766</td>\n",
              "      <td>Comedy &amp; Spoken Word,Pop</td>\n",
              "    </tr>\n",
              "    <tr>\n",
              "      <th>4</th>\n",
              "      <td>http://ecx.images-amazon.com/images/I/41F5hqeP...</td>\n",
              "      <td>1930864159</td>\n",
              "      <td>Pop &amp; Contemporary,Christian,Gospel,Pop</td>\n",
              "    </tr>\n",
              "    <tr>\n",
              "      <th>6</th>\n",
              "      <td>http://ecx.images-amazon.com/images/I/41Mr73M0...</td>\n",
              "      <td>3937406328</td>\n",
              "      <td>Europe,World Music,Blues Rock,Rock,Pop,Dance &amp;...</td>\n",
              "    </tr>\n",
              "    <tr>\n",
              "      <th>7</th>\n",
              "      <td>http://ecx.images-amazon.com/images/I/51Z3TQXD...</td>\n",
              "      <td>4266950926</td>\n",
              "      <td>New Age,Meditation,World Music,Pop</td>\n",
              "    </tr>\n",
              "    <tr>\n",
              "      <th>...</th>\n",
              "      <td>...</td>\n",
              "      <td>...</td>\n",
              "      <td>...</td>\n",
              "    </tr>\n",
              "    <tr>\n",
              "      <th>2644</th>\n",
              "      <td>http://ecx.images-amazon.com/images/I/4173RDBC...</td>\n",
              "      <td>B000001AD0</td>\n",
              "      <td>Oldies,Dance &amp; Electronic,Motown,Philly Soul,S...</td>\n",
              "    </tr>\n",
              "    <tr>\n",
              "      <th>2627</th>\n",
              "      <td>http://ecx.images-amazon.com/images/I/31NFK7X2...</td>\n",
              "      <td>B000001AEI</td>\n",
              "      <td>Oldies,Dance &amp; Electronic,Motown,Philly Soul,S...</td>\n",
              "    </tr>\n",
              "    <tr>\n",
              "      <th>2628</th>\n",
              "      <td>http://ecx.images-amazon.com/images/I/21VR865P...</td>\n",
              "      <td>B000001AEK</td>\n",
              "      <td>Oldies,Motown,Soul,Pop,R&amp;B,Classic R&amp;B,Girl Gr...</td>\n",
              "    </tr>\n",
              "    <tr>\n",
              "      <th>2634</th>\n",
              "      <td>http://ecx.images-amazon.com/images/I/21V7SGYQ...</td>\n",
              "      <td>B000001AFH</td>\n",
              "      <td>R&amp;B,Blues,Motown,Soul,Classic R&amp;B</td>\n",
              "    </tr>\n",
              "    <tr>\n",
              "      <th>2633</th>\n",
              "      <td>http://ecx.images-amazon.com/images/I/21R9BNEA...</td>\n",
              "      <td>B000001AFU</td>\n",
              "      <td>Oldies,Motown,Soul,Pop,Holiday &amp; Wedding,R&amp;B,C...</td>\n",
              "    </tr>\n",
              "  </tbody>\n",
              "</table>\n",
              "<p>2000 rows × 3 columns</p>\n",
              "</div>"
            ],
            "text/plain": [
              "                                                  imUrl  ...                                             genres\n",
              "2     http://ecx.images-amazon.com/images/I/51Li1pqK...  ...  Europe,Christian,Eastern Europe,Pop,Gypsy,Worl...\n",
              "3     http://ecx.images-amazon.com/images/I/51eW8XLF...  ...                           Comedy & Spoken Word,Pop\n",
              "4     http://ecx.images-amazon.com/images/I/41F5hqeP...  ...            Pop & Contemporary,Christian,Gospel,Pop\n",
              "6     http://ecx.images-amazon.com/images/I/41Mr73M0...  ...  Europe,World Music,Blues Rock,Rock,Pop,Dance &...\n",
              "7     http://ecx.images-amazon.com/images/I/51Z3TQXD...  ...                 New Age,Meditation,World Music,Pop\n",
              "...                                                 ...  ...                                                ...\n",
              "2644  http://ecx.images-amazon.com/images/I/4173RDBC...  ...  Oldies,Dance & Electronic,Motown,Philly Soul,S...\n",
              "2627  http://ecx.images-amazon.com/images/I/31NFK7X2...  ...  Oldies,Dance & Electronic,Motown,Philly Soul,S...\n",
              "2628  http://ecx.images-amazon.com/images/I/21VR865P...  ...  Oldies,Motown,Soul,Pop,R&B,Classic R&B,Girl Gr...\n",
              "2634  http://ecx.images-amazon.com/images/I/21V7SGYQ...  ...                  R&B,Blues,Motown,Soul,Classic R&B\n",
              "2633  http://ecx.images-amazon.com/images/I/21R9BNEA...  ...  Oldies,Motown,Soul,Pop,Holiday & Wedding,R&B,C...\n",
              "\n",
              "[2000 rows x 3 columns]"
            ]
          },
          "metadata": {
            "tags": []
          },
          "execution_count": 19
        }
      ]
    },
    {
      "cell_type": "code",
      "metadata": {
        "id": "IC0hSHhxVAQY",
        "colab_type": "code",
        "colab": {}
      },
      "source": [
        "def changeToTuple(x):\n",
        "    stringListGenres = x.split(\",\")\n",
        "    stringListGenres = tuple(stringListGenres)\n",
        "    return(stringListGenres)"
      ],
      "execution_count": 0,
      "outputs": []
    },
    {
      "cell_type": "code",
      "metadata": {
        "id": "njrZWoaKVAQl",
        "colab_type": "code",
        "colab": {}
      },
      "source": [
        "import time\n",
        "from PIL import Image, ImageOps\n",
        "\n",
        "\n",
        "def convertImage(x):\n",
        "    \n",
        "    status_code = 'not done'\n",
        "    \n",
        "    # x is the image URL\n",
        "    while(status_code == 'not done'):\n",
        "        try:\n",
        "            response = requests.get(x)\n",
        "            img = Image.open(BytesIO(response.content))\n",
        "\n",
        "            #resizing code from jdhao's blog\n",
        "            desired_size = 300\n",
        "            old_size = img.size  \n",
        "\n",
        "            ratio = float(desired_size)/max(old_size)\n",
        "            new_size = tuple([int(x*ratio) for x in old_size])\n",
        "            \n",
        "            # use thumbnail() or resize() method to resize the input image\n",
        "            # thumbnail is a in-place operation\n",
        "            # im.thumbnail(new_size, Image.ANTIALIAS)\n",
        "\n",
        "            img = img.resize(new_size, Image.ANTIALIAS)\n",
        "            # create a new image and paste the resized on it\n",
        "\n",
        "            new_img = Image.new(\"RGB\", (desired_size, desired_size))\n",
        "            new_img.paste(img, ((desired_size-new_size[0])//2,\n",
        "                                (desired_size-new_size[1])//2))\n",
        "            \n",
        "            \n",
        "            status_code = 'done'\n",
        "        except requests.exceptions.ConnectionError:\n",
        "            time.sleep(5)\n",
        "            continue\n",
        "\n",
        "    #PIL format to numpy format(h * w * channels)\n",
        "    numpy_image = image.img_to_array(new_img)\n",
        "    numpy_image.shape\n",
        "\n",
        "    #numpy format to batch format - adds extra dim in (batchsize)\n",
        "    image_batch = np.expand_dims(numpy_image, axis=0)\n",
        "    return(image_batch)"
      ],
      "execution_count": 0,
      "outputs": []
    },
    {
      "cell_type": "code",
      "metadata": {
        "id": "2eJhEi0tVAQp",
        "colab_type": "code",
        "colab": {}
      },
      "source": [
        "X = dfImages[\"imUrl\"]\n",
        "X = X.apply(lambda x: convertImage(x))"
      ],
      "execution_count": 0,
      "outputs": []
    },
    {
      "cell_type": "code",
      "metadata": {
        "id": "XZ4GRCOhVAQs",
        "colab_type": "code",
        "colab": {}
      },
      "source": [
        "y = dfImages[\"genres\"]\n",
        "y = y.apply(lambda x: changeToTuple(x))"
      ],
      "execution_count": 0,
      "outputs": []
    },
    {
      "cell_type": "code",
      "metadata": {
        "id": "P5aJhDhLBAbK",
        "colab_type": "code",
        "colab": {}
      },
      "source": [
        "#read in label dataframe\n",
        "y.to_pickle(\"df2000_labelsImgs_y.pkl\")"
      ],
      "execution_count": 0,
      "outputs": []
    },
    {
      "cell_type": "code",
      "metadata": {
        "id": "jCACUYERBh0q",
        "colab_type": "code",
        "colab": {}
      },
      "source": [
        "y = pd.read_pickle(\"df2000_labelsImgs_y.pkl\")"
      ],
      "execution_count": 0,
      "outputs": []
    },
    {
      "cell_type": "code",
      "metadata": {
        "id": "QnpVXwcDVAQv",
        "colab_type": "code",
        "colab": {}
      },
      "source": [
        "targetList = y.tolist()"
      ],
      "execution_count": 0,
      "outputs": []
    },
    {
      "cell_type": "code",
      "metadata": {
        "id": "SgA_4X6yVAQy",
        "colab_type": "code",
        "colab": {}
      },
      "source": [
        "X.to_pickle(\"df2000_imgsVectorized_X.pkl\")"
      ],
      "execution_count": 0,
      "outputs": []
    },
    {
      "cell_type": "code",
      "metadata": {
        "id": "vlx_mRovy8wB",
        "colab_type": "code",
        "colab": {}
      },
      "source": [
        "#read in vectorized images dataframe\n",
        "X = pd.read_pickle(\"df2000_imgsVectorized_X.pkl\")"
      ],
      "execution_count": 0,
      "outputs": []
    },
    {
      "cell_type": "code",
      "metadata": {
        "id": "nFk4j4LFVAQ1",
        "colab_type": "code",
        "colab": {}
      },
      "source": [
        "VecImages = X.to_numpy()"
      ],
      "execution_count": 0,
      "outputs": []
    },
    {
      "cell_type": "code",
      "metadata": {
        "id": "y4BrHI7DVAQ3",
        "colab_type": "code",
        "colab": {}
      },
      "source": [
        "from sklearn.preprocessing import MultiLabelBinarizer\n",
        "mlb = MultiLabelBinarizer()\n",
        "\n",
        "targetLabelsBin = mlb.fit_transform(targetList)\n"
      ],
      "execution_count": 0,
      "outputs": []
    },
    {
      "cell_type": "code",
      "metadata": {
        "id": "TMUiIyojVAQ6",
        "colab_type": "code",
        "outputId": "5ef7e5ab-2b39-4f95-dbb3-b6852a6319e1",
        "colab": {
          "base_uri": "https://localhost:8080/",
          "height": 35
        }
      },
      "source": [
        "targetLabelsBin.shape"
      ],
      "execution_count": 0,
      "outputs": [
        {
          "output_type": "execute_result",
          "data": {
            "text/plain": [
              "(1500, 350)"
            ]
          },
          "metadata": {
            "tags": []
          },
          "execution_count": 13
        }
      ]
    },
    {
      "cell_type": "code",
      "metadata": {
        "id": "QFOuKjB8VAQ8",
        "colab_type": "code",
        "colab": {}
      },
      "source": [
        "res = np.array(X.values.tolist()).squeeze()"
      ],
      "execution_count": 0,
      "outputs": []
    },
    {
      "cell_type": "code",
      "metadata": {
        "id": "YPFv-QG0VARA",
        "colab_type": "code",
        "outputId": "5a0c847a-6867-4462-e799-ea52bac915aa",
        "colab": {
          "base_uri": "https://localhost:8080/",
          "height": 124
        }
      },
      "source": [
        "X_train, X_test, y_train, y_test = train_test_split(res, targetLabelsBin, test_size=0.25, random_state=42)\n",
        "\n",
        "\n",
        "print (\"number of training examples = \" + str(X_train.shape[0]))\n",
        "print (\"number of test examples = \" + str(X_test.shape[0]))\n",
        "print (\"X_train shape: \" + str(X_train.shape))\n",
        "print (\"y_train shape: \" + str(y_train.shape))\n",
        "print (\"X_test shape: \" + str(X_test.shape))\n",
        "print (\"y_test shape: \" + str(y_test.shape))"
      ],
      "execution_count": 0,
      "outputs": [
        {
          "output_type": "stream",
          "text": [
            "number of training examples = 1125\n",
            "number of test examples = 375\n",
            "X_train shape: (1125, 300, 300, 3)\n",
            "y_train shape: (1125, 350)\n",
            "X_test shape: (375, 300, 300, 3)\n",
            "y_test shape: (375, 350)\n"
          ],
          "name": "stdout"
        }
      ]
    },
    {
      "cell_type": "code",
      "metadata": {
        "id": "GQyAnmuYVARC",
        "colab_type": "code",
        "outputId": "cf321759-fdaf-4b83-91d0-6f91aa041bc5",
        "colab": {
          "base_uri": "https://localhost:8080/",
          "height": 52
        }
      },
      "source": [
        "#img_height,img_width = 300,300\n",
        "from keras.layers import Input, Dense\n",
        "img = Input(shape = (300, 300, 3))\n",
        "\n",
        "\n",
        "base_model = applications.resnet50.ResNet50(weights = 'imagenet',include_top = False, input_tensor = img, input_shape = None, pooling = 'avg')"
      ],
      "execution_count": 0,
      "outputs": [
        {
          "output_type": "stream",
          "text": [
            "Downloading data from https://github.com/fchollet/deep-learning-models/releases/download/v0.2/resnet50_weights_tf_dim_ordering_tf_kernels_notop.h5\n",
            "94658560/94653016 [==============================] - 7s 0us/step\n"
          ],
          "name": "stdout"
        }
      ]
    },
    {
      "cell_type": "code",
      "metadata": {
        "id": "o6X5SfjqVARE",
        "colab_type": "code",
        "colab": {}
      },
      "source": [
        "processed_image = preprocess_input(image_batch, mode='caffe')"
      ],
      "execution_count": 0,
      "outputs": []
    },
    {
      "cell_type": "code",
      "metadata": {
        "id": "kekOm92AVARL",
        "colab_type": "code",
        "outputId": "e16dce96-36f4-49f4-d68d-31434b018308",
        "colab": {
          "base_uri": "https://localhost:8080/",
          "height": 72
        }
      },
      "source": [
        "from keras.layers import Dense, Dropout, Flatten, Conv2D, MaxPool2D,GlobalAveragePooling2D\n",
        "from keras.models import Sequential,Model,load_model\n",
        "num_classes = 350\n",
        "\n",
        "#x = base_model.output\n",
        "#x = GlobalAveragePooling2D()(x)\n",
        "#x = Dropout(0.7)(x)\n",
        "\n",
        "#predictions = Dense(num_classes, activation= 'softmax')(x)\n",
        "\n",
        "#model = Model(inputs = base_model.input, outputs = predictions)\n",
        "\n",
        "final_layer = base_model.layers[-1].output\n",
        "dense_layer_1 = Dense(128, activation = 'relu')(final_layer)\n",
        "output_layer = Dense(350, activation = 'sigmoid')(dense_layer_1)\n",
        "model = Model(input = img, output = output_layer)"
      ],
      "execution_count": 0,
      "outputs": [
        {
          "output_type": "stream",
          "text": [
            "/usr/local/lib/python3.6/dist-packages/ipykernel_launcher.py:16: UserWarning: Update your `Model` call to the Keras 2 API: `Model(inputs=Tensor(\"in..., outputs=Tensor(\"de...)`\n",
            "  app.launch_new_instance()\n"
          ],
          "name": "stderr"
        }
      ]
    },
    {
      "cell_type": "code",
      "metadata": {
        "id": "TltyYZddVARN",
        "colab_type": "code",
        "colab": {}
      },
      "source": [
        "from keras.optimizers import SGD, Adam\n",
        "\n",
        "adam = Adam(lr=0.0001)\n",
        "model.compile(optimizer = 'adam',metrics = ['accuracy'], loss = 'binary_crossentropy')"
      ],
      "execution_count": 0,
      "outputs": []
    },
    {
      "cell_type": "code",
      "metadata": {
        "id": "KKKmZfKnVARO",
        "colab_type": "code",
        "outputId": "c4b37cc4-83db-41ce-fbf2-6fc576a7948c",
        "colab": {
          "base_uri": "https://localhost:8080/",
          "height": 764
        }
      },
      "source": [
        "model.fit(X_train, y_train, epochs = 20, batch_size = 32, validation_data=(X_test, y_test), validation_freq=5, verbose = 1)"
      ],
      "execution_count": 0,
      "outputs": [
        {
          "output_type": "stream",
          "text": [
            "Train on 1125 samples, validate on 375 samples\n",
            "Epoch 1/20\n",
            "1125/1125 [==============================] - 725s 644ms/step - loss: 0.2020 - accuracy: 0.9106\n",
            "Epoch 2/20\n",
            "1125/1125 [==============================] - 712s 633ms/step - loss: 0.0635 - accuracy: 0.9844\n",
            "Epoch 3/20\n",
            "1125/1125 [==============================] - 716s 636ms/step - loss: 0.0623 - accuracy: 0.9844\n",
            "Epoch 4/20\n",
            "1125/1125 [==============================] - 732s 651ms/step - loss: 0.0616 - accuracy: 0.9845\n",
            "Epoch 5/20\n",
            "1125/1125 [==============================] - 789s 701ms/step - loss: 0.0617 - accuracy: 0.9846 - val_loss: 0.1348 - val_accuracy: 0.9816\n",
            "Epoch 6/20\n",
            "1125/1125 [==============================] - 718s 638ms/step - loss: 0.0605 - accuracy: 0.9846\n",
            "Epoch 7/20\n",
            "1125/1125 [==============================] - 717s 637ms/step - loss: 0.0600 - accuracy: 0.9846\n",
            "Epoch 8/20\n",
            "1125/1125 [==============================] - 719s 639ms/step - loss: 0.0590 - accuracy: 0.9848\n",
            "Epoch 9/20\n",
            "1125/1125 [==============================] - 736s 654ms/step - loss: 0.0576 - accuracy: 0.9848\n",
            "Epoch 10/20\n",
            "1125/1125 [==============================] - 797s 709ms/step - loss: 0.0559 - accuracy: 0.9850 - val_loss: 0.0734 - val_accuracy: 0.9834\n",
            "Epoch 11/20\n",
            "1125/1125 [==============================] - 724s 643ms/step - loss: 0.0554 - accuracy: 0.9852\n",
            "Epoch 12/20\n",
            "1125/1125 [==============================] - 724s 644ms/step - loss: 0.0526 - accuracy: 0.9855\n",
            "Epoch 13/20\n",
            "1125/1125 [==============================] - 726s 645ms/step - loss: 0.0499 - accuracy: 0.9858\n",
            "Epoch 14/20\n",
            "1125/1125 [==============================] - 732s 651ms/step - loss: 0.0464 - accuracy: 0.9866\n",
            "Epoch 15/20\n",
            "1125/1125 [==============================] - 794s 706ms/step - loss: 0.0444 - accuracy: 0.9868 - val_loss: 0.1314 - val_accuracy: 0.9747\n",
            "Epoch 16/20\n",
            "1125/1125 [==============================] - 721s 641ms/step - loss: 0.0415 - accuracy: 0.9872\n",
            "Epoch 17/20\n",
            "1125/1125 [==============================] - 718s 638ms/step - loss: 0.0383 - accuracy: 0.9881\n",
            "Epoch 18/20\n",
            "1125/1125 [==============================] - 720s 640ms/step - loss: 0.0350 - accuracy: 0.9888\n",
            "Epoch 19/20\n",
            "1125/1125 [==============================] - 725s 644ms/step - loss: 0.0324 - accuracy: 0.9894\n",
            "Epoch 20/20\n",
            "1125/1125 [==============================] - 794s 706ms/step - loss: 0.0301 - accuracy: 0.9901 - val_loss: 0.0899 - val_accuracy: 0.9808\n"
          ],
          "name": "stdout"
        },
        {
          "output_type": "execute_result",
          "data": {
            "text/plain": [
              "<keras.callbacks.callbacks.History at 0x7f136ba7c978>"
            ]
          },
          "metadata": {
            "tags": []
          },
          "execution_count": 31
        }
      ]
    },
    {
      "cell_type": "code",
      "metadata": {
        "id": "g1uZ6JbEx6c3",
        "colab_type": "code",
        "colab": {}
      },
      "source": [
        "model.save(\"KerasResNetv1.h5\")"
      ],
      "execution_count": 0,
      "outputs": []
    },
    {
      "cell_type": "code",
      "metadata": {
        "id": "cadJTxuhzkvl",
        "colab_type": "code",
        "outputId": "35b005c2-6ba1-4f2f-b463-a055b6fc74d2",
        "colab": {
          "base_uri": "https://localhost:8080/",
          "height": 1000
        }
      },
      "source": [
        "model.summary()"
      ],
      "execution_count": 0,
      "outputs": [
        {
          "output_type": "stream",
          "text": [
            "Model: \"model_4\"\n",
            "__________________________________________________________________________________________________\n",
            "Layer (type)                    Output Shape         Param #     Connected to                     \n",
            "==================================================================================================\n",
            "input_2 (InputLayer)            (None, 300, 300, 3)  0                                            \n",
            "__________________________________________________________________________________________________\n",
            "conv1_pad (ZeroPadding2D)       (None, 306, 306, 3)  0           input_2[0][0]                    \n",
            "__________________________________________________________________________________________________\n",
            "conv1 (Conv2D)                  (None, 150, 150, 64) 9472        conv1_pad[0][0]                  \n",
            "__________________________________________________________________________________________________\n",
            "bn_conv1 (BatchNormalization)   (None, 150, 150, 64) 256         conv1[0][0]                      \n",
            "__________________________________________________________________________________________________\n",
            "activation_50 (Activation)      (None, 150, 150, 64) 0           bn_conv1[0][0]                   \n",
            "__________________________________________________________________________________________________\n",
            "pool1_pad (ZeroPadding2D)       (None, 152, 152, 64) 0           activation_50[0][0]              \n",
            "__________________________________________________________________________________________________\n",
            "max_pooling2d_2 (MaxPooling2D)  (None, 75, 75, 64)   0           pool1_pad[0][0]                  \n",
            "__________________________________________________________________________________________________\n",
            "res2a_branch2a (Conv2D)         (None, 75, 75, 64)   4160        max_pooling2d_2[0][0]            \n",
            "__________________________________________________________________________________________________\n",
            "bn2a_branch2a (BatchNormalizati (None, 75, 75, 64)   256         res2a_branch2a[0][0]             \n",
            "__________________________________________________________________________________________________\n",
            "activation_51 (Activation)      (None, 75, 75, 64)   0           bn2a_branch2a[0][0]              \n",
            "__________________________________________________________________________________________________\n",
            "res2a_branch2b (Conv2D)         (None, 75, 75, 64)   36928       activation_51[0][0]              \n",
            "__________________________________________________________________________________________________\n",
            "bn2a_branch2b (BatchNormalizati (None, 75, 75, 64)   256         res2a_branch2b[0][0]             \n",
            "__________________________________________________________________________________________________\n",
            "activation_52 (Activation)      (None, 75, 75, 64)   0           bn2a_branch2b[0][0]              \n",
            "__________________________________________________________________________________________________\n",
            "res2a_branch2c (Conv2D)         (None, 75, 75, 256)  16640       activation_52[0][0]              \n",
            "__________________________________________________________________________________________________\n",
            "res2a_branch1 (Conv2D)          (None, 75, 75, 256)  16640       max_pooling2d_2[0][0]            \n",
            "__________________________________________________________________________________________________\n",
            "bn2a_branch2c (BatchNormalizati (None, 75, 75, 256)  1024        res2a_branch2c[0][0]             \n",
            "__________________________________________________________________________________________________\n",
            "bn2a_branch1 (BatchNormalizatio (None, 75, 75, 256)  1024        res2a_branch1[0][0]              \n",
            "__________________________________________________________________________________________________\n",
            "add_17 (Add)                    (None, 75, 75, 256)  0           bn2a_branch2c[0][0]              \n",
            "                                                                 bn2a_branch1[0][0]               \n",
            "__________________________________________________________________________________________________\n",
            "activation_53 (Activation)      (None, 75, 75, 256)  0           add_17[0][0]                     \n",
            "__________________________________________________________________________________________________\n",
            "res2b_branch2a (Conv2D)         (None, 75, 75, 64)   16448       activation_53[0][0]              \n",
            "__________________________________________________________________________________________________\n",
            "bn2b_branch2a (BatchNormalizati (None, 75, 75, 64)   256         res2b_branch2a[0][0]             \n",
            "__________________________________________________________________________________________________\n",
            "activation_54 (Activation)      (None, 75, 75, 64)   0           bn2b_branch2a[0][0]              \n",
            "__________________________________________________________________________________________________\n",
            "res2b_branch2b (Conv2D)         (None, 75, 75, 64)   36928       activation_54[0][0]              \n",
            "__________________________________________________________________________________________________\n",
            "bn2b_branch2b (BatchNormalizati (None, 75, 75, 64)   256         res2b_branch2b[0][0]             \n",
            "__________________________________________________________________________________________________\n",
            "activation_55 (Activation)      (None, 75, 75, 64)   0           bn2b_branch2b[0][0]              \n",
            "__________________________________________________________________________________________________\n",
            "res2b_branch2c (Conv2D)         (None, 75, 75, 256)  16640       activation_55[0][0]              \n",
            "__________________________________________________________________________________________________\n",
            "bn2b_branch2c (BatchNormalizati (None, 75, 75, 256)  1024        res2b_branch2c[0][0]             \n",
            "__________________________________________________________________________________________________\n",
            "add_18 (Add)                    (None, 75, 75, 256)  0           bn2b_branch2c[0][0]              \n",
            "                                                                 activation_53[0][0]              \n",
            "__________________________________________________________________________________________________\n",
            "activation_56 (Activation)      (None, 75, 75, 256)  0           add_18[0][0]                     \n",
            "__________________________________________________________________________________________________\n",
            "res2c_branch2a (Conv2D)         (None, 75, 75, 64)   16448       activation_56[0][0]              \n",
            "__________________________________________________________________________________________________\n",
            "bn2c_branch2a (BatchNormalizati (None, 75, 75, 64)   256         res2c_branch2a[0][0]             \n",
            "__________________________________________________________________________________________________\n",
            "activation_57 (Activation)      (None, 75, 75, 64)   0           bn2c_branch2a[0][0]              \n",
            "__________________________________________________________________________________________________\n",
            "res2c_branch2b (Conv2D)         (None, 75, 75, 64)   36928       activation_57[0][0]              \n",
            "__________________________________________________________________________________________________\n",
            "bn2c_branch2b (BatchNormalizati (None, 75, 75, 64)   256         res2c_branch2b[0][0]             \n",
            "__________________________________________________________________________________________________\n",
            "activation_58 (Activation)      (None, 75, 75, 64)   0           bn2c_branch2b[0][0]              \n",
            "__________________________________________________________________________________________________\n",
            "res2c_branch2c (Conv2D)         (None, 75, 75, 256)  16640       activation_58[0][0]              \n",
            "__________________________________________________________________________________________________\n",
            "bn2c_branch2c (BatchNormalizati (None, 75, 75, 256)  1024        res2c_branch2c[0][0]             \n",
            "__________________________________________________________________________________________________\n",
            "add_19 (Add)                    (None, 75, 75, 256)  0           bn2c_branch2c[0][0]              \n",
            "                                                                 activation_56[0][0]              \n",
            "__________________________________________________________________________________________________\n",
            "activation_59 (Activation)      (None, 75, 75, 256)  0           add_19[0][0]                     \n",
            "__________________________________________________________________________________________________\n",
            "res3a_branch2a (Conv2D)         (None, 38, 38, 128)  32896       activation_59[0][0]              \n",
            "__________________________________________________________________________________________________\n",
            "bn3a_branch2a (BatchNormalizati (None, 38, 38, 128)  512         res3a_branch2a[0][0]             \n",
            "__________________________________________________________________________________________________\n",
            "activation_60 (Activation)      (None, 38, 38, 128)  0           bn3a_branch2a[0][0]              \n",
            "__________________________________________________________________________________________________\n",
            "res3a_branch2b (Conv2D)         (None, 38, 38, 128)  147584      activation_60[0][0]              \n",
            "__________________________________________________________________________________________________\n",
            "bn3a_branch2b (BatchNormalizati (None, 38, 38, 128)  512         res3a_branch2b[0][0]             \n",
            "__________________________________________________________________________________________________\n",
            "activation_61 (Activation)      (None, 38, 38, 128)  0           bn3a_branch2b[0][0]              \n",
            "__________________________________________________________________________________________________\n",
            "res3a_branch2c (Conv2D)         (None, 38, 38, 512)  66048       activation_61[0][0]              \n",
            "__________________________________________________________________________________________________\n",
            "res3a_branch1 (Conv2D)          (None, 38, 38, 512)  131584      activation_59[0][0]              \n",
            "__________________________________________________________________________________________________\n",
            "bn3a_branch2c (BatchNormalizati (None, 38, 38, 512)  2048        res3a_branch2c[0][0]             \n",
            "__________________________________________________________________________________________________\n",
            "bn3a_branch1 (BatchNormalizatio (None, 38, 38, 512)  2048        res3a_branch1[0][0]              \n",
            "__________________________________________________________________________________________________\n",
            "add_20 (Add)                    (None, 38, 38, 512)  0           bn3a_branch2c[0][0]              \n",
            "                                                                 bn3a_branch1[0][0]               \n",
            "__________________________________________________________________________________________________\n",
            "activation_62 (Activation)      (None, 38, 38, 512)  0           add_20[0][0]                     \n",
            "__________________________________________________________________________________________________\n",
            "res3b_branch2a (Conv2D)         (None, 38, 38, 128)  65664       activation_62[0][0]              \n",
            "__________________________________________________________________________________________________\n",
            "bn3b_branch2a (BatchNormalizati (None, 38, 38, 128)  512         res3b_branch2a[0][0]             \n",
            "__________________________________________________________________________________________________\n",
            "activation_63 (Activation)      (None, 38, 38, 128)  0           bn3b_branch2a[0][0]              \n",
            "__________________________________________________________________________________________________\n",
            "res3b_branch2b (Conv2D)         (None, 38, 38, 128)  147584      activation_63[0][0]              \n",
            "__________________________________________________________________________________________________\n",
            "bn3b_branch2b (BatchNormalizati (None, 38, 38, 128)  512         res3b_branch2b[0][0]             \n",
            "__________________________________________________________________________________________________\n",
            "activation_64 (Activation)      (None, 38, 38, 128)  0           bn3b_branch2b[0][0]              \n",
            "__________________________________________________________________________________________________\n",
            "res3b_branch2c (Conv2D)         (None, 38, 38, 512)  66048       activation_64[0][0]              \n",
            "__________________________________________________________________________________________________\n",
            "bn3b_branch2c (BatchNormalizati (None, 38, 38, 512)  2048        res3b_branch2c[0][0]             \n",
            "__________________________________________________________________________________________________\n",
            "add_21 (Add)                    (None, 38, 38, 512)  0           bn3b_branch2c[0][0]              \n",
            "                                                                 activation_62[0][0]              \n",
            "__________________________________________________________________________________________________\n",
            "activation_65 (Activation)      (None, 38, 38, 512)  0           add_21[0][0]                     \n",
            "__________________________________________________________________________________________________\n",
            "res3c_branch2a (Conv2D)         (None, 38, 38, 128)  65664       activation_65[0][0]              \n",
            "__________________________________________________________________________________________________\n",
            "bn3c_branch2a (BatchNormalizati (None, 38, 38, 128)  512         res3c_branch2a[0][0]             \n",
            "__________________________________________________________________________________________________\n",
            "activation_66 (Activation)      (None, 38, 38, 128)  0           bn3c_branch2a[0][0]              \n",
            "__________________________________________________________________________________________________\n",
            "res3c_branch2b (Conv2D)         (None, 38, 38, 128)  147584      activation_66[0][0]              \n",
            "__________________________________________________________________________________________________\n",
            "bn3c_branch2b (BatchNormalizati (None, 38, 38, 128)  512         res3c_branch2b[0][0]             \n",
            "__________________________________________________________________________________________________\n",
            "activation_67 (Activation)      (None, 38, 38, 128)  0           bn3c_branch2b[0][0]              \n",
            "__________________________________________________________________________________________________\n",
            "res3c_branch2c (Conv2D)         (None, 38, 38, 512)  66048       activation_67[0][0]              \n",
            "__________________________________________________________________________________________________\n",
            "bn3c_branch2c (BatchNormalizati (None, 38, 38, 512)  2048        res3c_branch2c[0][0]             \n",
            "__________________________________________________________________________________________________\n",
            "add_22 (Add)                    (None, 38, 38, 512)  0           bn3c_branch2c[0][0]              \n",
            "                                                                 activation_65[0][0]              \n",
            "__________________________________________________________________________________________________\n",
            "activation_68 (Activation)      (None, 38, 38, 512)  0           add_22[0][0]                     \n",
            "__________________________________________________________________________________________________\n",
            "res3d_branch2a (Conv2D)         (None, 38, 38, 128)  65664       activation_68[0][0]              \n",
            "__________________________________________________________________________________________________\n",
            "bn3d_branch2a (BatchNormalizati (None, 38, 38, 128)  512         res3d_branch2a[0][0]             \n",
            "__________________________________________________________________________________________________\n",
            "activation_69 (Activation)      (None, 38, 38, 128)  0           bn3d_branch2a[0][0]              \n",
            "__________________________________________________________________________________________________\n",
            "res3d_branch2b (Conv2D)         (None, 38, 38, 128)  147584      activation_69[0][0]              \n",
            "__________________________________________________________________________________________________\n",
            "bn3d_branch2b (BatchNormalizati (None, 38, 38, 128)  512         res3d_branch2b[0][0]             \n",
            "__________________________________________________________________________________________________\n",
            "activation_70 (Activation)      (None, 38, 38, 128)  0           bn3d_branch2b[0][0]              \n",
            "__________________________________________________________________________________________________\n",
            "res3d_branch2c (Conv2D)         (None, 38, 38, 512)  66048       activation_70[0][0]              \n",
            "__________________________________________________________________________________________________\n",
            "bn3d_branch2c (BatchNormalizati (None, 38, 38, 512)  2048        res3d_branch2c[0][0]             \n",
            "__________________________________________________________________________________________________\n",
            "add_23 (Add)                    (None, 38, 38, 512)  0           bn3d_branch2c[0][0]              \n",
            "                                                                 activation_68[0][0]              \n",
            "__________________________________________________________________________________________________\n",
            "activation_71 (Activation)      (None, 38, 38, 512)  0           add_23[0][0]                     \n",
            "__________________________________________________________________________________________________\n",
            "res4a_branch2a (Conv2D)         (None, 19, 19, 256)  131328      activation_71[0][0]              \n",
            "__________________________________________________________________________________________________\n",
            "bn4a_branch2a (BatchNormalizati (None, 19, 19, 256)  1024        res4a_branch2a[0][0]             \n",
            "__________________________________________________________________________________________________\n",
            "activation_72 (Activation)      (None, 19, 19, 256)  0           bn4a_branch2a[0][0]              \n",
            "__________________________________________________________________________________________________\n",
            "res4a_branch2b (Conv2D)         (None, 19, 19, 256)  590080      activation_72[0][0]              \n",
            "__________________________________________________________________________________________________\n",
            "bn4a_branch2b (BatchNormalizati (None, 19, 19, 256)  1024        res4a_branch2b[0][0]             \n",
            "__________________________________________________________________________________________________\n",
            "activation_73 (Activation)      (None, 19, 19, 256)  0           bn4a_branch2b[0][0]              \n",
            "__________________________________________________________________________________________________\n",
            "res4a_branch2c (Conv2D)         (None, 19, 19, 1024) 263168      activation_73[0][0]              \n",
            "__________________________________________________________________________________________________\n",
            "res4a_branch1 (Conv2D)          (None, 19, 19, 1024) 525312      activation_71[0][0]              \n",
            "__________________________________________________________________________________________________\n",
            "bn4a_branch2c (BatchNormalizati (None, 19, 19, 1024) 4096        res4a_branch2c[0][0]             \n",
            "__________________________________________________________________________________________________\n",
            "bn4a_branch1 (BatchNormalizatio (None, 19, 19, 1024) 4096        res4a_branch1[0][0]              \n",
            "__________________________________________________________________________________________________\n",
            "add_24 (Add)                    (None, 19, 19, 1024) 0           bn4a_branch2c[0][0]              \n",
            "                                                                 bn4a_branch1[0][0]               \n",
            "__________________________________________________________________________________________________\n",
            "activation_74 (Activation)      (None, 19, 19, 1024) 0           add_24[0][0]                     \n",
            "__________________________________________________________________________________________________\n",
            "res4b_branch2a (Conv2D)         (None, 19, 19, 256)  262400      activation_74[0][0]              \n",
            "__________________________________________________________________________________________________\n",
            "bn4b_branch2a (BatchNormalizati (None, 19, 19, 256)  1024        res4b_branch2a[0][0]             \n",
            "__________________________________________________________________________________________________\n",
            "activation_75 (Activation)      (None, 19, 19, 256)  0           bn4b_branch2a[0][0]              \n",
            "__________________________________________________________________________________________________\n",
            "res4b_branch2b (Conv2D)         (None, 19, 19, 256)  590080      activation_75[0][0]              \n",
            "__________________________________________________________________________________________________\n",
            "bn4b_branch2b (BatchNormalizati (None, 19, 19, 256)  1024        res4b_branch2b[0][0]             \n",
            "__________________________________________________________________________________________________\n",
            "activation_76 (Activation)      (None, 19, 19, 256)  0           bn4b_branch2b[0][0]              \n",
            "__________________________________________________________________________________________________\n",
            "res4b_branch2c (Conv2D)         (None, 19, 19, 1024) 263168      activation_76[0][0]              \n",
            "__________________________________________________________________________________________________\n",
            "bn4b_branch2c (BatchNormalizati (None, 19, 19, 1024) 4096        res4b_branch2c[0][0]             \n",
            "__________________________________________________________________________________________________\n",
            "add_25 (Add)                    (None, 19, 19, 1024) 0           bn4b_branch2c[0][0]              \n",
            "                                                                 activation_74[0][0]              \n",
            "__________________________________________________________________________________________________\n",
            "activation_77 (Activation)      (None, 19, 19, 1024) 0           add_25[0][0]                     \n",
            "__________________________________________________________________________________________________\n",
            "res4c_branch2a (Conv2D)         (None, 19, 19, 256)  262400      activation_77[0][0]              \n",
            "__________________________________________________________________________________________________\n",
            "bn4c_branch2a (BatchNormalizati (None, 19, 19, 256)  1024        res4c_branch2a[0][0]             \n",
            "__________________________________________________________________________________________________\n",
            "activation_78 (Activation)      (None, 19, 19, 256)  0           bn4c_branch2a[0][0]              \n",
            "__________________________________________________________________________________________________\n",
            "res4c_branch2b (Conv2D)         (None, 19, 19, 256)  590080      activation_78[0][0]              \n",
            "__________________________________________________________________________________________________\n",
            "bn4c_branch2b (BatchNormalizati (None, 19, 19, 256)  1024        res4c_branch2b[0][0]             \n",
            "__________________________________________________________________________________________________\n",
            "activation_79 (Activation)      (None, 19, 19, 256)  0           bn4c_branch2b[0][0]              \n",
            "__________________________________________________________________________________________________\n",
            "res4c_branch2c (Conv2D)         (None, 19, 19, 1024) 263168      activation_79[0][0]              \n",
            "__________________________________________________________________________________________________\n",
            "bn4c_branch2c (BatchNormalizati (None, 19, 19, 1024) 4096        res4c_branch2c[0][0]             \n",
            "__________________________________________________________________________________________________\n",
            "add_26 (Add)                    (None, 19, 19, 1024) 0           bn4c_branch2c[0][0]              \n",
            "                                                                 activation_77[0][0]              \n",
            "__________________________________________________________________________________________________\n",
            "activation_80 (Activation)      (None, 19, 19, 1024) 0           add_26[0][0]                     \n",
            "__________________________________________________________________________________________________\n",
            "res4d_branch2a (Conv2D)         (None, 19, 19, 256)  262400      activation_80[0][0]              \n",
            "__________________________________________________________________________________________________\n",
            "bn4d_branch2a (BatchNormalizati (None, 19, 19, 256)  1024        res4d_branch2a[0][0]             \n",
            "__________________________________________________________________________________________________\n",
            "activation_81 (Activation)      (None, 19, 19, 256)  0           bn4d_branch2a[0][0]              \n",
            "__________________________________________________________________________________________________\n",
            "res4d_branch2b (Conv2D)         (None, 19, 19, 256)  590080      activation_81[0][0]              \n",
            "__________________________________________________________________________________________________\n",
            "bn4d_branch2b (BatchNormalizati (None, 19, 19, 256)  1024        res4d_branch2b[0][0]             \n",
            "__________________________________________________________________________________________________\n",
            "activation_82 (Activation)      (None, 19, 19, 256)  0           bn4d_branch2b[0][0]              \n",
            "__________________________________________________________________________________________________\n",
            "res4d_branch2c (Conv2D)         (None, 19, 19, 1024) 263168      activation_82[0][0]              \n",
            "__________________________________________________________________________________________________\n",
            "bn4d_branch2c (BatchNormalizati (None, 19, 19, 1024) 4096        res4d_branch2c[0][0]             \n",
            "__________________________________________________________________________________________________\n",
            "add_27 (Add)                    (None, 19, 19, 1024) 0           bn4d_branch2c[0][0]              \n",
            "                                                                 activation_80[0][0]              \n",
            "__________________________________________________________________________________________________\n",
            "activation_83 (Activation)      (None, 19, 19, 1024) 0           add_27[0][0]                     \n",
            "__________________________________________________________________________________________________\n",
            "res4e_branch2a (Conv2D)         (None, 19, 19, 256)  262400      activation_83[0][0]              \n",
            "__________________________________________________________________________________________________\n",
            "bn4e_branch2a (BatchNormalizati (None, 19, 19, 256)  1024        res4e_branch2a[0][0]             \n",
            "__________________________________________________________________________________________________\n",
            "activation_84 (Activation)      (None, 19, 19, 256)  0           bn4e_branch2a[0][0]              \n",
            "__________________________________________________________________________________________________\n",
            "res4e_branch2b (Conv2D)         (None, 19, 19, 256)  590080      activation_84[0][0]              \n",
            "__________________________________________________________________________________________________\n",
            "bn4e_branch2b (BatchNormalizati (None, 19, 19, 256)  1024        res4e_branch2b[0][0]             \n",
            "__________________________________________________________________________________________________\n",
            "activation_85 (Activation)      (None, 19, 19, 256)  0           bn4e_branch2b[0][0]              \n",
            "__________________________________________________________________________________________________\n",
            "res4e_branch2c (Conv2D)         (None, 19, 19, 1024) 263168      activation_85[0][0]              \n",
            "__________________________________________________________________________________________________\n",
            "bn4e_branch2c (BatchNormalizati (None, 19, 19, 1024) 4096        res4e_branch2c[0][0]             \n",
            "__________________________________________________________________________________________________\n",
            "add_28 (Add)                    (None, 19, 19, 1024) 0           bn4e_branch2c[0][0]              \n",
            "                                                                 activation_83[0][0]              \n",
            "__________________________________________________________________________________________________\n",
            "activation_86 (Activation)      (None, 19, 19, 1024) 0           add_28[0][0]                     \n",
            "__________________________________________________________________________________________________\n",
            "res4f_branch2a (Conv2D)         (None, 19, 19, 256)  262400      activation_86[0][0]              \n",
            "__________________________________________________________________________________________________\n",
            "bn4f_branch2a (BatchNormalizati (None, 19, 19, 256)  1024        res4f_branch2a[0][0]             \n",
            "__________________________________________________________________________________________________\n",
            "activation_87 (Activation)      (None, 19, 19, 256)  0           bn4f_branch2a[0][0]              \n",
            "__________________________________________________________________________________________________\n",
            "res4f_branch2b (Conv2D)         (None, 19, 19, 256)  590080      activation_87[0][0]              \n",
            "__________________________________________________________________________________________________\n",
            "bn4f_branch2b (BatchNormalizati (None, 19, 19, 256)  1024        res4f_branch2b[0][0]             \n",
            "__________________________________________________________________________________________________\n",
            "activation_88 (Activation)      (None, 19, 19, 256)  0           bn4f_branch2b[0][0]              \n",
            "__________________________________________________________________________________________________\n",
            "res4f_branch2c (Conv2D)         (None, 19, 19, 1024) 263168      activation_88[0][0]              \n",
            "__________________________________________________________________________________________________\n",
            "bn4f_branch2c (BatchNormalizati (None, 19, 19, 1024) 4096        res4f_branch2c[0][0]             \n",
            "__________________________________________________________________________________________________\n",
            "add_29 (Add)                    (None, 19, 19, 1024) 0           bn4f_branch2c[0][0]              \n",
            "                                                                 activation_86[0][0]              \n",
            "__________________________________________________________________________________________________\n",
            "activation_89 (Activation)      (None, 19, 19, 1024) 0           add_29[0][0]                     \n",
            "__________________________________________________________________________________________________\n",
            "res5a_branch2a (Conv2D)         (None, 10, 10, 512)  524800      activation_89[0][0]              \n",
            "__________________________________________________________________________________________________\n",
            "bn5a_branch2a (BatchNormalizati (None, 10, 10, 512)  2048        res5a_branch2a[0][0]             \n",
            "__________________________________________________________________________________________________\n",
            "activation_90 (Activation)      (None, 10, 10, 512)  0           bn5a_branch2a[0][0]              \n",
            "__________________________________________________________________________________________________\n",
            "res5a_branch2b (Conv2D)         (None, 10, 10, 512)  2359808     activation_90[0][0]              \n",
            "__________________________________________________________________________________________________\n",
            "bn5a_branch2b (BatchNormalizati (None, 10, 10, 512)  2048        res5a_branch2b[0][0]             \n",
            "__________________________________________________________________________________________________\n",
            "activation_91 (Activation)      (None, 10, 10, 512)  0           bn5a_branch2b[0][0]              \n",
            "__________________________________________________________________________________________________\n",
            "res5a_branch2c (Conv2D)         (None, 10, 10, 2048) 1050624     activation_91[0][0]              \n",
            "__________________________________________________________________________________________________\n",
            "res5a_branch1 (Conv2D)          (None, 10, 10, 2048) 2099200     activation_89[0][0]              \n",
            "__________________________________________________________________________________________________\n",
            "bn5a_branch2c (BatchNormalizati (None, 10, 10, 2048) 8192        res5a_branch2c[0][0]             \n",
            "__________________________________________________________________________________________________\n",
            "bn5a_branch1 (BatchNormalizatio (None, 10, 10, 2048) 8192        res5a_branch1[0][0]              \n",
            "__________________________________________________________________________________________________\n",
            "add_30 (Add)                    (None, 10, 10, 2048) 0           bn5a_branch2c[0][0]              \n",
            "                                                                 bn5a_branch1[0][0]               \n",
            "__________________________________________________________________________________________________\n",
            "activation_92 (Activation)      (None, 10, 10, 2048) 0           add_30[0][0]                     \n",
            "__________________________________________________________________________________________________\n",
            "res5b_branch2a (Conv2D)         (None, 10, 10, 512)  1049088     activation_92[0][0]              \n",
            "__________________________________________________________________________________________________\n",
            "bn5b_branch2a (BatchNormalizati (None, 10, 10, 512)  2048        res5b_branch2a[0][0]             \n",
            "__________________________________________________________________________________________________\n",
            "activation_93 (Activation)      (None, 10, 10, 512)  0           bn5b_branch2a[0][0]              \n",
            "__________________________________________________________________________________________________\n",
            "res5b_branch2b (Conv2D)         (None, 10, 10, 512)  2359808     activation_93[0][0]              \n",
            "__________________________________________________________________________________________________\n",
            "bn5b_branch2b (BatchNormalizati (None, 10, 10, 512)  2048        res5b_branch2b[0][0]             \n",
            "__________________________________________________________________________________________________\n",
            "activation_94 (Activation)      (None, 10, 10, 512)  0           bn5b_branch2b[0][0]              \n",
            "__________________________________________________________________________________________________\n",
            "res5b_branch2c (Conv2D)         (None, 10, 10, 2048) 1050624     activation_94[0][0]              \n",
            "__________________________________________________________________________________________________\n",
            "bn5b_branch2c (BatchNormalizati (None, 10, 10, 2048) 8192        res5b_branch2c[0][0]             \n",
            "__________________________________________________________________________________________________\n",
            "add_31 (Add)                    (None, 10, 10, 2048) 0           bn5b_branch2c[0][0]              \n",
            "                                                                 activation_92[0][0]              \n",
            "__________________________________________________________________________________________________\n",
            "activation_95 (Activation)      (None, 10, 10, 2048) 0           add_31[0][0]                     \n",
            "__________________________________________________________________________________________________\n",
            "res5c_branch2a (Conv2D)         (None, 10, 10, 512)  1049088     activation_95[0][0]              \n",
            "__________________________________________________________________________________________________\n",
            "bn5c_branch2a (BatchNormalizati (None, 10, 10, 512)  2048        res5c_branch2a[0][0]             \n",
            "__________________________________________________________________________________________________\n",
            "activation_96 (Activation)      (None, 10, 10, 512)  0           bn5c_branch2a[0][0]              \n",
            "__________________________________________________________________________________________________\n",
            "res5c_branch2b (Conv2D)         (None, 10, 10, 512)  2359808     activation_96[0][0]              \n",
            "__________________________________________________________________________________________________\n",
            "bn5c_branch2b (BatchNormalizati (None, 10, 10, 512)  2048        res5c_branch2b[0][0]             \n",
            "__________________________________________________________________________________________________\n",
            "activation_97 (Activation)      (None, 10, 10, 512)  0           bn5c_branch2b[0][0]              \n",
            "__________________________________________________________________________________________________\n",
            "res5c_branch2c (Conv2D)         (None, 10, 10, 2048) 1050624     activation_97[0][0]              \n",
            "__________________________________________________________________________________________________\n",
            "bn5c_branch2c (BatchNormalizati (None, 10, 10, 2048) 8192        res5c_branch2c[0][0]             \n",
            "__________________________________________________________________________________________________\n",
            "add_32 (Add)                    (None, 10, 10, 2048) 0           bn5c_branch2c[0][0]              \n",
            "                                                                 activation_95[0][0]              \n",
            "__________________________________________________________________________________________________\n",
            "activation_98 (Activation)      (None, 10, 10, 2048) 0           add_32[0][0]                     \n",
            "__________________________________________________________________________________________________\n",
            "global_average_pooling2d_3 (Glo (None, 2048)         0           activation_98[0][0]              \n",
            "__________________________________________________________________________________________________\n",
            "dense_5 (Dense)                 (None, 128)          262272      global_average_pooling2d_3[0][0] \n",
            "__________________________________________________________________________________________________\n",
            "dense_6 (Dense)                 (None, 350)          45150       dense_5[0][0]                    \n",
            "==================================================================================================\n",
            "Total params: 23,895,134\n",
            "Trainable params: 23,842,014\n",
            "Non-trainable params: 53,120\n",
            "__________________________________________________________________________________________________\n"
          ],
          "name": "stdout"
        }
      ]
    },
    {
      "cell_type": "code",
      "metadata": {
        "id": "yHW0amaiy9WV",
        "colab_type": "code",
        "outputId": "6edab451-51ea-4385-931c-ba4e299e302f",
        "colab": {
          "base_uri": "https://localhost:8080/",
          "height": 888
        }
      },
      "source": [
        "X_test[23][None]"
      ],
      "execution_count": 0,
      "outputs": [
        {
          "output_type": "execute_result",
          "data": {
            "text/plain": [
              "array([[[[ 93.,  96., 105.],\n",
              "         [ 90.,  93., 102.],\n",
              "         [102., 105., 114.],\n",
              "         ...,\n",
              "         [ 39.,  36.,  31.],\n",
              "         [ 40.,  37.,  32.],\n",
              "         [ 47.,  44.,  39.]],\n",
              "\n",
              "        [[ 18.,  21.,  30.],\n",
              "         [ 16.,  19.,  28.],\n",
              "         [ 16.,  19.,  28.],\n",
              "         ...,\n",
              "         [  5.,   2.,   0.],\n",
              "         [  7.,   4.,   0.],\n",
              "         [ 15.,  12.,   7.]],\n",
              "\n",
              "        [[ 22.,  22.,  32.],\n",
              "         [ 24.,  24.,  34.],\n",
              "         [ 12.,  12.,  22.],\n",
              "         ...,\n",
              "         [  7.,   2.,   0.],\n",
              "         [  9.,   4.,   0.],\n",
              "         [ 17.,  12.,   8.]],\n",
              "\n",
              "        ...,\n",
              "\n",
              "        [[ 21.,  12.,  17.],\n",
              "         [ 21.,  12.,  17.],\n",
              "         [ 22.,  13.,  18.],\n",
              "         ...,\n",
              "         [ 14.,   5.,   6.],\n",
              "         [ 15.,   6.,   7.],\n",
              "         [ 15.,   6.,   7.]],\n",
              "\n",
              "        [[ 21.,  12.,  17.],\n",
              "         [ 21.,  12.,  17.],\n",
              "         [ 22.,  13.,  18.],\n",
              "         ...,\n",
              "         [ 13.,   4.,   5.],\n",
              "         [ 13.,   4.,   5.],\n",
              "         [ 14.,   5.,   6.]],\n",
              "\n",
              "        [[  0.,   0.,   0.],\n",
              "         [  0.,   0.,   0.],\n",
              "         [  0.,   0.,   0.],\n",
              "         ...,\n",
              "         [  0.,   0.,   0.],\n",
              "         [  0.,   0.,   0.],\n",
              "         [  0.,   0.,   0.]]]], dtype=float32)"
            ]
          },
          "metadata": {
            "tags": []
          },
          "execution_count": 70
        }
      ]
    },
    {
      "cell_type": "code",
      "metadata": {
        "id": "AX9t5IsMyP2j",
        "colab_type": "code",
        "colab": {}
      },
      "source": [
        "#import keras\n",
        "preds = model.predict(X_test[20][None])\n",
        "#y_prob.shape\n",
        "#y_classes = y_prob.argmax(axis=-1)\n",
        "\n",
        "preds[preds>=0.5] = 1\n",
        "preds[preds<0.5] = 0"
      ],
      "execution_count": 0,
      "outputs": []
    },
    {
      "cell_type": "code",
      "metadata": {
        "id": "RZJgUiff86qb",
        "colab_type": "code",
        "outputId": "c7ec6a7a-37bd-44b3-b596-21438935920a",
        "colab": {
          "base_uri": "https://localhost:8080/",
          "height": 390
        }
      },
      "source": [
        "preds[0]"
      ],
      "execution_count": 0,
      "outputs": [
        {
          "output_type": "execute_result",
          "data": {
            "text/plain": [
              "array([0., 0., 0., 0., 0., 0., 0., 0., 0., 0., 0., 0., 0., 0., 0., 0., 0.,\n",
              "       0., 0., 0., 0., 0., 0., 0., 0., 0., 0., 0., 0., 0., 0., 0., 0., 0.,\n",
              "       0., 0., 0., 0., 0., 0., 0., 0., 0., 0., 0., 0., 0., 0., 0., 0., 0.,\n",
              "       0., 0., 0., 0., 0., 0., 0., 0., 0., 0., 0., 0., 0., 0., 0., 0., 0.,\n",
              "       0., 0., 0., 0., 0., 0., 0., 0., 0., 0., 1., 0., 0., 0., 0., 0., 0.,\n",
              "       0., 0., 0., 0., 0., 0., 0., 0., 0., 0., 0., 0., 0., 0., 0., 0., 0.,\n",
              "       0., 0., 0., 0., 0., 0., 0., 0., 0., 0., 0., 0., 0., 0., 0., 0., 0.,\n",
              "       0., 0., 0., 0., 0., 0., 0., 0., 0., 0., 0., 0., 0., 0., 0., 0., 0.,\n",
              "       0., 0., 0., 0., 0., 0., 0., 0., 0., 0., 0., 0., 0., 0., 0., 0., 0.,\n",
              "       0., 0., 0., 0., 0., 0., 0., 0., 0., 0., 0., 0., 0., 0., 0., 0., 0.,\n",
              "       0., 0., 0., 0., 0., 0., 0., 0., 0., 0., 0., 0., 0., 0., 0., 0., 0.,\n",
              "       0., 0., 0., 0., 0., 0., 0., 0., 0., 0., 0., 0., 0., 0., 0., 0., 0.,\n",
              "       0., 0., 0., 0., 0., 0., 0., 0., 0., 0., 0., 0., 0., 0., 0., 0., 0.,\n",
              "       0., 0., 0., 0., 0., 0., 0., 0., 0., 0., 0., 0., 0., 0., 0., 0., 0.,\n",
              "       0., 0., 0., 0., 0., 0., 0., 0., 0., 0., 0., 0., 0., 0., 0., 0., 0.,\n",
              "       0., 0., 0., 0., 0., 0., 0., 0., 0., 0., 0., 0., 0., 1., 0., 0., 0.,\n",
              "       0., 0., 0., 0., 0., 0., 0., 0., 0., 0., 0., 0., 0., 0., 0., 0., 0.,\n",
              "       0., 0., 0., 0., 0., 0., 0., 0., 0., 0., 0., 0., 0., 0., 0., 0., 0.,\n",
              "       0., 0., 0., 0., 0., 0., 0., 0., 0., 0., 0., 0., 0., 0., 0., 0., 0.,\n",
              "       0., 0., 0., 0., 0., 0., 0., 0., 0., 0., 0., 0., 0., 0., 0., 0., 0.,\n",
              "       0., 0., 0., 0., 0., 0., 0., 0., 0., 0.], dtype=float32)"
            ]
          },
          "metadata": {
            "tags": []
          },
          "execution_count": 93
        }
      ]
    },
    {
      "cell_type": "code",
      "metadata": {
        "id": "N6Bs-pCJ_tEy",
        "colab_type": "code",
        "colab": {}
      },
      "source": [
        "result = np.where(preds[0] == 1.)"
      ],
      "execution_count": 0,
      "outputs": []
    },
    {
      "cell_type": "code",
      "metadata": {
        "id": "KpQIZky1_1CG",
        "colab_type": "code",
        "outputId": "ff947aac-2473-45c6-8ecc-cbf5cf4dd75a",
        "colab": {
          "base_uri": "https://localhost:8080/",
          "height": 35
        }
      },
      "source": [
        "result"
      ],
      "execution_count": 0,
      "outputs": [
        {
          "output_type": "execute_result",
          "data": {
            "text/plain": [
              "(array([ 78, 268]),)"
            ]
          },
          "metadata": {
            "tags": []
          },
          "execution_count": 95
        }
      ]
    },
    {
      "cell_type": "code",
      "metadata": {
        "id": "3x9Fdkmj3fQx",
        "colab_type": "code",
        "colab": {}
      },
      "source": [
        ""
      ],
      "execution_count": 0,
      "outputs": []
    },
    {
      "cell_type": "code",
      "metadata": {
        "id": "Jjv7Dbnx1eS6",
        "colab_type": "code",
        "outputId": "b071f190-2c7a-4681-a2b1-ebb77a5812e8",
        "colab": {
          "base_uri": "https://localhost:8080/",
          "height": 301
        }
      },
      "source": [
        "y_test[20]"
      ],
      "execution_count": 0,
      "outputs": [
        {
          "output_type": "execute_result",
          "data": {
            "text/plain": [
              "array([0, 0, 0, 0, 0, 0, 0, 0, 0, 0, 0, 0, 0, 0, 0, 0, 0, 0, 0, 0, 0, 0,\n",
              "       0, 0, 0, 0, 0, 0, 0, 0, 0, 0, 0, 0, 0, 0, 0, 0, 0, 0, 0, 0, 0, 0,\n",
              "       0, 0, 0, 0, 0, 0, 0, 0, 0, 0, 0, 0, 0, 0, 0, 0, 0, 0, 0, 0, 0, 0,\n",
              "       0, 0, 0, 0, 0, 0, 0, 0, 0, 0, 0, 0, 0, 0, 0, 0, 0, 0, 0, 0, 0, 0,\n",
              "       0, 0, 0, 0, 0, 0, 0, 0, 0, 0, 0, 0, 0, 0, 0, 0, 0, 0, 0, 0, 0, 0,\n",
              "       0, 0, 0, 0, 0, 0, 0, 0, 0, 0, 0, 0, 0, 0, 0, 0, 0, 0, 0, 0, 0, 0,\n",
              "       0, 0, 0, 0, 0, 0, 0, 0, 0, 0, 0, 0, 0, 0, 0, 0, 0, 0, 0, 0, 0, 0,\n",
              "       0, 0, 0, 0, 0, 0, 0, 0, 0, 0, 0, 0, 0, 0, 0, 0, 0, 0, 0, 0, 0, 0,\n",
              "       0, 0, 0, 0, 0, 0, 0, 0, 0, 0, 0, 0, 0, 0, 0, 0, 0, 0, 0, 0, 0, 0,\n",
              "       0, 1, 0, 0, 0, 0, 0, 0, 0, 0, 0, 0, 0, 0, 0, 0, 0, 0, 0, 0, 0, 0,\n",
              "       0, 0, 0, 0, 0, 0, 0, 0, 0, 0, 0, 0, 0, 0, 0, 0, 0, 0, 0, 0, 0, 0,\n",
              "       0, 0, 0, 0, 0, 0, 0, 0, 0, 0, 0, 0, 0, 0, 0, 0, 0, 0, 0, 0, 0, 0,\n",
              "       0, 0, 0, 0, 0, 0, 0, 0, 0, 0, 0, 0, 0, 0, 0, 0, 0, 0, 0, 0, 0, 0,\n",
              "       0, 0, 0, 0, 0, 0, 0, 0, 0, 0, 0, 0, 0, 0, 0, 0, 0, 0, 0, 0, 0, 0,\n",
              "       0, 0, 0, 0, 0, 0, 0, 0, 0, 0, 0, 0, 0, 0, 0, 0, 0, 0, 0, 0, 0, 0,\n",
              "       0, 0, 0, 0, 0, 0, 0, 0, 0, 0, 0, 0, 0, 0, 0, 0, 0, 0, 0, 0])"
            ]
          },
          "metadata": {
            "tags": []
          },
          "execution_count": 97
        }
      ]
    },
    {
      "cell_type": "code",
      "metadata": {
        "id": "CuCLthVP_5iZ",
        "colab_type": "code",
        "outputId": "e540bfb3-91f0-4138-d66e-fcb8ab9f86b5",
        "colab": {
          "base_uri": "https://localhost:8080/",
          "height": 35
        }
      },
      "source": [
        "result2 = np.where(y_test[20] == 1)\n",
        "result2"
      ],
      "execution_count": 0,
      "outputs": [
        {
          "output_type": "execute_result",
          "data": {
            "text/plain": [
              "(array([199]),)"
            ]
          },
          "metadata": {
            "tags": []
          },
          "execution_count": 98
        }
      ]
    },
    {
      "cell_type": "code",
      "metadata": {
        "id": "mUOxZaaVVARQ",
        "colab_type": "code",
        "outputId": "1b651477-50fb-4068-e181-c37e52e8acb2",
        "colab": {}
      },
      "source": [
        "\n",
        "\n",
        "\n",
        "\n"
      ],
      "execution_count": 0,
      "outputs": [
        {
          "output_type": "error",
          "ename": "MemoryError",
          "evalue": "",
          "traceback": [
            "\u001b[1;31m---------------------------------------------------------------------------\u001b[0m",
            "\u001b[1;31mMemoryError\u001b[0m                               Traceback (most recent call last)",
            "\u001b[1;32m<ipython-input-82-3780368983c4>\u001b[0m in \u001b[0;36m<module>\u001b[1;34m\u001b[0m\n\u001b[0;32m      7\u001b[0m \u001b[1;33m\u001b[0m\u001b[0m\n\u001b[0;32m      8\u001b[0m     \u001b[1;31m#convert images to proper form\u001b[0m\u001b[1;33m\u001b[0m\u001b[1;33m\u001b[0m\u001b[1;33m\u001b[0m\u001b[0m\n\u001b[1;32m----> 9\u001b[1;33m     \u001b[0mX\u001b[0m \u001b[1;33m=\u001b[0m \u001b[0mX\u001b[0m\u001b[1;33m.\u001b[0m\u001b[0mapply\u001b[0m\u001b[1;33m(\u001b[0m\u001b[1;32mlambda\u001b[0m \u001b[0mx\u001b[0m\u001b[1;33m:\u001b[0m \u001b[0mconvertImage\u001b[0m\u001b[1;33m(\u001b[0m\u001b[0mx\u001b[0m\u001b[1;33m)\u001b[0m\u001b[1;33m)\u001b[0m\u001b[1;33m\u001b[0m\u001b[1;33m\u001b[0m\u001b[0m\n\u001b[0m\u001b[0;32m     10\u001b[0m     \u001b[0mdfImagesListVectorized\u001b[0m\u001b[1;33m.\u001b[0m\u001b[0mappend\u001b[0m\u001b[1;33m(\u001b[0m\u001b[0mX\u001b[0m\u001b[1;33m)\u001b[0m\u001b[1;33m\u001b[0m\u001b[1;33m\u001b[0m\u001b[0m\n\u001b[0;32m     11\u001b[0m \u001b[1;33m\u001b[0m\u001b[0m\n",
            "\u001b[1;32mC:\\Anaconda\\lib\\site-packages\\pandas\\core\\series.py\u001b[0m in \u001b[0;36mapply\u001b[1;34m(self, func, convert_dtype, args, **kwds)\u001b[0m\n\u001b[0;32m   4040\u001b[0m             \u001b[1;32melse\u001b[0m\u001b[1;33m:\u001b[0m\u001b[1;33m\u001b[0m\u001b[1;33m\u001b[0m\u001b[0m\n\u001b[0;32m   4041\u001b[0m                 \u001b[0mvalues\u001b[0m \u001b[1;33m=\u001b[0m \u001b[0mself\u001b[0m\u001b[1;33m.\u001b[0m\u001b[0mastype\u001b[0m\u001b[1;33m(\u001b[0m\u001b[0mobject\u001b[0m\u001b[1;33m)\u001b[0m\u001b[1;33m.\u001b[0m\u001b[0mvalues\u001b[0m\u001b[1;33m\u001b[0m\u001b[1;33m\u001b[0m\u001b[0m\n\u001b[1;32m-> 4042\u001b[1;33m                 \u001b[0mmapped\u001b[0m \u001b[1;33m=\u001b[0m \u001b[0mlib\u001b[0m\u001b[1;33m.\u001b[0m\u001b[0mmap_infer\u001b[0m\u001b[1;33m(\u001b[0m\u001b[0mvalues\u001b[0m\u001b[1;33m,\u001b[0m \u001b[0mf\u001b[0m\u001b[1;33m,\u001b[0m \u001b[0mconvert\u001b[0m\u001b[1;33m=\u001b[0m\u001b[0mconvert_dtype\u001b[0m\u001b[1;33m)\u001b[0m\u001b[1;33m\u001b[0m\u001b[1;33m\u001b[0m\u001b[0m\n\u001b[0m\u001b[0;32m   4043\u001b[0m \u001b[1;33m\u001b[0m\u001b[0m\n\u001b[0;32m   4044\u001b[0m         \u001b[1;32mif\u001b[0m \u001b[0mlen\u001b[0m\u001b[1;33m(\u001b[0m\u001b[0mmapped\u001b[0m\u001b[1;33m)\u001b[0m \u001b[1;32mand\u001b[0m \u001b[0misinstance\u001b[0m\u001b[1;33m(\u001b[0m\u001b[0mmapped\u001b[0m\u001b[1;33m[\u001b[0m\u001b[1;36m0\u001b[0m\u001b[1;33m]\u001b[0m\u001b[1;33m,\u001b[0m \u001b[0mSeries\u001b[0m\u001b[1;33m)\u001b[0m\u001b[1;33m:\u001b[0m\u001b[1;33m\u001b[0m\u001b[1;33m\u001b[0m\u001b[0m\n",
            "\u001b[1;32mpandas\\_libs\\lib.pyx\u001b[0m in \u001b[0;36mpandas._libs.lib.map_infer\u001b[1;34m()\u001b[0m\n",
            "\u001b[1;32m<ipython-input-82-3780368983c4>\u001b[0m in \u001b[0;36m<lambda>\u001b[1;34m(x)\u001b[0m\n\u001b[0;32m      7\u001b[0m \u001b[1;33m\u001b[0m\u001b[0m\n\u001b[0;32m      8\u001b[0m     \u001b[1;31m#convert images to proper form\u001b[0m\u001b[1;33m\u001b[0m\u001b[1;33m\u001b[0m\u001b[1;33m\u001b[0m\u001b[0m\n\u001b[1;32m----> 9\u001b[1;33m     \u001b[0mX\u001b[0m \u001b[1;33m=\u001b[0m \u001b[0mX\u001b[0m\u001b[1;33m.\u001b[0m\u001b[0mapply\u001b[0m\u001b[1;33m(\u001b[0m\u001b[1;32mlambda\u001b[0m \u001b[0mx\u001b[0m\u001b[1;33m:\u001b[0m \u001b[0mconvertImage\u001b[0m\u001b[1;33m(\u001b[0m\u001b[0mx\u001b[0m\u001b[1;33m)\u001b[0m\u001b[1;33m)\u001b[0m\u001b[1;33m\u001b[0m\u001b[1;33m\u001b[0m\u001b[0m\n\u001b[0m\u001b[0;32m     10\u001b[0m     \u001b[0mdfImagesListVectorized\u001b[0m\u001b[1;33m.\u001b[0m\u001b[0mappend\u001b[0m\u001b[1;33m(\u001b[0m\u001b[0mX\u001b[0m\u001b[1;33m)\u001b[0m\u001b[1;33m\u001b[0m\u001b[1;33m\u001b[0m\u001b[0m\n\u001b[0;32m     11\u001b[0m \u001b[1;33m\u001b[0m\u001b[0m\n",
            "\u001b[1;32m<ipython-input-69-7129645d3241>\u001b[0m in \u001b[0;36mconvertImage\u001b[1;34m(x)\u001b[0m\n\u001b[0;32m     17\u001b[0m \u001b[1;33m\u001b[0m\u001b[0m\n\u001b[0;32m     18\u001b[0m     \u001b[1;31m#PIL format to numpy format(h * w * channels)\u001b[0m\u001b[1;33m\u001b[0m\u001b[1;33m\u001b[0m\u001b[1;33m\u001b[0m\u001b[0m\n\u001b[1;32m---> 19\u001b[1;33m     \u001b[0mnumpy_image\u001b[0m \u001b[1;33m=\u001b[0m \u001b[0mimage\u001b[0m\u001b[1;33m.\u001b[0m\u001b[0mimg_to_array\u001b[0m\u001b[1;33m(\u001b[0m\u001b[0mimg\u001b[0m\u001b[1;33m)\u001b[0m\u001b[1;33m\u001b[0m\u001b[1;33m\u001b[0m\u001b[0m\n\u001b[0m\u001b[0;32m     20\u001b[0m     \u001b[0mnumpy_image\u001b[0m\u001b[1;33m.\u001b[0m\u001b[0mshape\u001b[0m\u001b[1;33m\u001b[0m\u001b[1;33m\u001b[0m\u001b[0m\n\u001b[0;32m     21\u001b[0m \u001b[1;33m\u001b[0m\u001b[0m\n",
            "\u001b[1;32mC:\\Anaconda\\lib\\site-packages\\keras\\preprocessing\\image.py\u001b[0m in \u001b[0;36mimg_to_array\u001b[1;34m(img, data_format, dtype)\u001b[0m\n\u001b[0;32m     73\u001b[0m     \u001b[1;32mif\u001b[0m \u001b[0mdtype\u001b[0m \u001b[1;32mis\u001b[0m \u001b[1;32mNone\u001b[0m\u001b[1;33m:\u001b[0m\u001b[1;33m\u001b[0m\u001b[1;33m\u001b[0m\u001b[0m\n\u001b[0;32m     74\u001b[0m         \u001b[0mdtype\u001b[0m \u001b[1;33m=\u001b[0m \u001b[0mbackend\u001b[0m\u001b[1;33m.\u001b[0m\u001b[0mfloatx\u001b[0m\u001b[1;33m(\u001b[0m\u001b[1;33m)\u001b[0m\u001b[1;33m\u001b[0m\u001b[1;33m\u001b[0m\u001b[0m\n\u001b[1;32m---> 75\u001b[1;33m     \u001b[1;32mreturn\u001b[0m \u001b[0mimage\u001b[0m\u001b[1;33m.\u001b[0m\u001b[0mimg_to_array\u001b[0m\u001b[1;33m(\u001b[0m\u001b[0mimg\u001b[0m\u001b[1;33m,\u001b[0m \u001b[0mdata_format\u001b[0m\u001b[1;33m=\u001b[0m\u001b[0mdata_format\u001b[0m\u001b[1;33m,\u001b[0m \u001b[0mdtype\u001b[0m\u001b[1;33m=\u001b[0m\u001b[0mdtype\u001b[0m\u001b[1;33m)\u001b[0m\u001b[1;33m\u001b[0m\u001b[1;33m\u001b[0m\u001b[0m\n\u001b[0m\u001b[0;32m     76\u001b[0m \u001b[1;33m\u001b[0m\u001b[0m\n\u001b[0;32m     77\u001b[0m \u001b[1;33m\u001b[0m\u001b[0m\n",
            "\u001b[1;32mC:\\Anaconda\\lib\\site-packages\\keras_preprocessing\\image\\utils.py\u001b[0m in \u001b[0;36mimg_to_array\u001b[1;34m(img, data_format, dtype)\u001b[0m\n\u001b[0;32m    297\u001b[0m     \u001b[1;31m# or (channel, height, width)\u001b[0m\u001b[1;33m\u001b[0m\u001b[1;33m\u001b[0m\u001b[1;33m\u001b[0m\u001b[0m\n\u001b[0;32m    298\u001b[0m     \u001b[1;31m# but original PIL image has format (width, height, channel)\u001b[0m\u001b[1;33m\u001b[0m\u001b[1;33m\u001b[0m\u001b[1;33m\u001b[0m\u001b[0m\n\u001b[1;32m--> 299\u001b[1;33m     \u001b[0mx\u001b[0m \u001b[1;33m=\u001b[0m \u001b[0mnp\u001b[0m\u001b[1;33m.\u001b[0m\u001b[0masarray\u001b[0m\u001b[1;33m(\u001b[0m\u001b[0mimg\u001b[0m\u001b[1;33m,\u001b[0m \u001b[0mdtype\u001b[0m\u001b[1;33m=\u001b[0m\u001b[0mdtype\u001b[0m\u001b[1;33m)\u001b[0m\u001b[1;33m\u001b[0m\u001b[1;33m\u001b[0m\u001b[0m\n\u001b[0m\u001b[0;32m    300\u001b[0m     \u001b[1;32mif\u001b[0m \u001b[0mlen\u001b[0m\u001b[1;33m(\u001b[0m\u001b[0mx\u001b[0m\u001b[1;33m.\u001b[0m\u001b[0mshape\u001b[0m\u001b[1;33m)\u001b[0m \u001b[1;33m==\u001b[0m \u001b[1;36m3\u001b[0m\u001b[1;33m:\u001b[0m\u001b[1;33m\u001b[0m\u001b[1;33m\u001b[0m\u001b[0m\n\u001b[0;32m    301\u001b[0m         \u001b[1;32mif\u001b[0m \u001b[0mdata_format\u001b[0m \u001b[1;33m==\u001b[0m \u001b[1;34m'channels_first'\u001b[0m\u001b[1;33m:\u001b[0m\u001b[1;33m\u001b[0m\u001b[1;33m\u001b[0m\u001b[0m\n",
            "\u001b[1;32mC:\\Anaconda\\lib\\site-packages\\numpy\\core\\numeric.py\u001b[0m in \u001b[0;36masarray\u001b[1;34m(a, dtype, order)\u001b[0m\n\u001b[0;32m    499\u001b[0m \u001b[1;33m\u001b[0m\u001b[0m\n\u001b[0;32m    500\u001b[0m     \"\"\"\n\u001b[1;32m--> 501\u001b[1;33m     \u001b[1;32mreturn\u001b[0m \u001b[0marray\u001b[0m\u001b[1;33m(\u001b[0m\u001b[0ma\u001b[0m\u001b[1;33m,\u001b[0m \u001b[0mdtype\u001b[0m\u001b[1;33m,\u001b[0m \u001b[0mcopy\u001b[0m\u001b[1;33m=\u001b[0m\u001b[1;32mFalse\u001b[0m\u001b[1;33m,\u001b[0m \u001b[0morder\u001b[0m\u001b[1;33m=\u001b[0m\u001b[0morder\u001b[0m\u001b[1;33m)\u001b[0m\u001b[1;33m\u001b[0m\u001b[1;33m\u001b[0m\u001b[0m\n\u001b[0m\u001b[0;32m    502\u001b[0m \u001b[1;33m\u001b[0m\u001b[0m\n\u001b[0;32m    503\u001b[0m \u001b[1;33m\u001b[0m\u001b[0m\n",
            "\u001b[1;31mMemoryError\u001b[0m: "
          ]
        }
      ]
    }
  ]
}