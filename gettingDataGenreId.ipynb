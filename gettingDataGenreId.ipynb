{
 "cells": [
  {
   "cell_type": "code",
   "execution_count": 2,
   "metadata": {},
   "outputs": [],
   "source": [
    "import tarfile\n",
    "import numpy as np\n",
    "import pandas as pd"
   ]
  },
  {
   "cell_type": "code",
   "execution_count": 3,
   "metadata": {},
   "outputs": [
    {
     "data": {
      "text/html": [
       "<div>\n",
       "<style scoped>\n",
       "    .dataframe tbody tr th:only-of-type {\n",
       "        vertical-align: middle;\n",
       "    }\n",
       "\n",
       "    .dataframe tbody tr th {\n",
       "        vertical-align: top;\n",
       "    }\n",
       "\n",
       "    .dataframe thead th {\n",
       "        text-align: right;\n",
       "    }\n",
       "</style>\n",
       "<table border=\"1\" class=\"dataframe\">\n",
       "  <thead>\n",
       "    <tr style=\"text-align: right;\">\n",
       "      <th></th>\n",
       "      <th>amazon_id</th>\n",
       "      <th>album_mbid</th>\n",
       "      <th>MSD_track_id</th>\n",
       "      <th>recording_mbid</th>\n",
       "      <th>artist_mbid</th>\n",
       "      <th>genres</th>\n",
       "    </tr>\n",
       "  </thead>\n",
       "  <tbody>\n",
       "    <tr>\n",
       "      <td>0</td>\n",
       "      <td>B0018ZB6ZO</td>\n",
       "      <td>0164b5ce-42f8-46bf-b140-61ecd2ed449e</td>\n",
       "      <td>TRYDUXK12903CE0C37</td>\n",
       "      <td>66dd470f-4c4f-4caa-b8d4-2ebc80a83cb6</td>\n",
       "      <td>7434b85a-4a06-42ba-9e1d-9c568c044842</td>\n",
       "      <td>Dance &amp; Electronic</td>\n",
       "    </tr>\n",
       "    <tr>\n",
       "      <td>1</td>\n",
       "      <td>B0018ZB6ZO</td>\n",
       "      <td>0164b5ce-42f8-46bf-b140-61ecd2ed449e</td>\n",
       "      <td>TRGWXYX128F426E27F</td>\n",
       "      <td>b45aef36-c3a3-42f2-90fb-728e8b3c54a2</td>\n",
       "      <td>7434b85a-4a06-42ba-9e1d-9c568c044842</td>\n",
       "      <td>Dance &amp; Electronic</td>\n",
       "    </tr>\n",
       "    <tr>\n",
       "      <td>2</td>\n",
       "      <td>B000003HGR</td>\n",
       "      <td>7fe6e337-9115-3719-855b-0441c42a2c36</td>\n",
       "      <td>TRVMIIJ12903CDBF1D</td>\n",
       "      <td>36b15f42-b441-4d64-8ba9-ca264ed1c6f1</td>\n",
       "      <td>1b54e90c-638e-4fdd-a20e-4ab09db9fdaf</td>\n",
       "      <td>Alternative Rock</td>\n",
       "    </tr>\n",
       "    <tr>\n",
       "      <td>3</td>\n",
       "      <td>B000003HGR</td>\n",
       "      <td>7fe6e337-9115-3719-855b-0441c42a2c36</td>\n",
       "      <td>TRDHJVA128F9335634</td>\n",
       "      <td>279fabb3-830e-4d04-86d5-53668bc42bfa</td>\n",
       "      <td>1b54e90c-638e-4fdd-a20e-4ab09db9fdaf</td>\n",
       "      <td>Alternative Rock</td>\n",
       "    </tr>\n",
       "    <tr>\n",
       "      <td>4</td>\n",
       "      <td>B000003HGR</td>\n",
       "      <td>7fe6e337-9115-3719-855b-0441c42a2c36</td>\n",
       "      <td>TRKDLHL12903CDBF32</td>\n",
       "      <td>381b90e1-c07f-4a53-be8c-6a2107d7a17f</td>\n",
       "      <td>1b54e90c-638e-4fdd-a20e-4ab09db9fdaf</td>\n",
       "      <td>Alternative Rock</td>\n",
       "    </tr>\n",
       "    <tr>\n",
       "      <td>...</td>\n",
       "      <td>...</td>\n",
       "      <td>...</td>\n",
       "      <td>...</td>\n",
       "      <td>...</td>\n",
       "      <td>...</td>\n",
       "      <td>...</td>\n",
       "    </tr>\n",
       "    <tr>\n",
       "      <td>12082</td>\n",
       "      <td>B000GRU732</td>\n",
       "      <td>f9dd2e53-45f6-3ed1-b7bb-090c9e5abbeb</td>\n",
       "      <td>TRLWWDS128F4244824</td>\n",
       "      <td>991d3087-edfd-48fc-a8f9-ce5308f97243</td>\n",
       "      <td>8ef27ebb-f741-4ddf-bf5d-61a6bb981eca</td>\n",
       "      <td>Dance &amp; Electronic</td>\n",
       "    </tr>\n",
       "    <tr>\n",
       "      <td>12083</td>\n",
       "      <td>B000GRU732</td>\n",
       "      <td>f9dd2e53-45f6-3ed1-b7bb-090c9e5abbeb</td>\n",
       "      <td>TRIUYMM128F424481D</td>\n",
       "      <td>a6b3f48a-d820-4405-9eee-937d9fa7ca07</td>\n",
       "      <td>8ef27ebb-f741-4ddf-bf5d-61a6bb981eca</td>\n",
       "      <td>Dance &amp; Electronic</td>\n",
       "    </tr>\n",
       "    <tr>\n",
       "      <td>12084</td>\n",
       "      <td>B0032EZCBS</td>\n",
       "      <td>737d53f7-b603-486e-bd13-b3e079406343</td>\n",
       "      <td>TRVSDNO12903CC37B0</td>\n",
       "      <td>ef2fd4ae-3ec0-4b6d-a156-e81a6f9ea5ea</td>\n",
       "      <td>89ad4ac3-39f7-470e-963a-56509c546377</td>\n",
       "      <td>Dance &amp; Electronic</td>\n",
       "    </tr>\n",
       "    <tr>\n",
       "      <td>12085</td>\n",
       "      <td>B0032EZCBS</td>\n",
       "      <td>737d53f7-b603-486e-bd13-b3e079406343</td>\n",
       "      <td>TRINFIP12903D052D0</td>\n",
       "      <td>8f94190e-bdf3-441b-9701-42b029b9fedc</td>\n",
       "      <td>89ad4ac3-39f7-470e-963a-56509c546377</td>\n",
       "      <td>Dance &amp; Electronic</td>\n",
       "    </tr>\n",
       "    <tr>\n",
       "      <td>12086</td>\n",
       "      <td>B0032EZCBS</td>\n",
       "      <td>737d53f7-b603-486e-bd13-b3e079406343</td>\n",
       "      <td>TRVBBOR12903CEEE19</td>\n",
       "      <td>9647958b-736d-487e-8a5f-2a7a8b4f743d</td>\n",
       "      <td>89ad4ac3-39f7-470e-963a-56509c546377</td>\n",
       "      <td>Dance &amp; Electronic</td>\n",
       "    </tr>\n",
       "  </tbody>\n",
       "</table>\n",
       "<p>12087 rows × 6 columns</p>\n",
       "</div>"
      ],
      "text/plain": [
       "        amazon_id                            album_mbid        MSD_track_id  \\\n",
       "0      B0018ZB6ZO  0164b5ce-42f8-46bf-b140-61ecd2ed449e  TRYDUXK12903CE0C37   \n",
       "1      B0018ZB6ZO  0164b5ce-42f8-46bf-b140-61ecd2ed449e  TRGWXYX128F426E27F   \n",
       "2      B000003HGR  7fe6e337-9115-3719-855b-0441c42a2c36  TRVMIIJ12903CDBF1D   \n",
       "3      B000003HGR  7fe6e337-9115-3719-855b-0441c42a2c36  TRDHJVA128F9335634   \n",
       "4      B000003HGR  7fe6e337-9115-3719-855b-0441c42a2c36  TRKDLHL12903CDBF32   \n",
       "...           ...                                   ...                 ...   \n",
       "12082  B000GRU732  f9dd2e53-45f6-3ed1-b7bb-090c9e5abbeb  TRLWWDS128F4244824   \n",
       "12083  B000GRU732  f9dd2e53-45f6-3ed1-b7bb-090c9e5abbeb  TRIUYMM128F424481D   \n",
       "12084  B0032EZCBS  737d53f7-b603-486e-bd13-b3e079406343  TRVSDNO12903CC37B0   \n",
       "12085  B0032EZCBS  737d53f7-b603-486e-bd13-b3e079406343  TRINFIP12903D052D0   \n",
       "12086  B0032EZCBS  737d53f7-b603-486e-bd13-b3e079406343  TRVBBOR12903CEEE19   \n",
       "\n",
       "                             recording_mbid  \\\n",
       "0      66dd470f-4c4f-4caa-b8d4-2ebc80a83cb6   \n",
       "1      b45aef36-c3a3-42f2-90fb-728e8b3c54a2   \n",
       "2      36b15f42-b441-4d64-8ba9-ca264ed1c6f1   \n",
       "3      279fabb3-830e-4d04-86d5-53668bc42bfa   \n",
       "4      381b90e1-c07f-4a53-be8c-6a2107d7a17f   \n",
       "...                                     ...   \n",
       "12082  991d3087-edfd-48fc-a8f9-ce5308f97243   \n",
       "12083  a6b3f48a-d820-4405-9eee-937d9fa7ca07   \n",
       "12084  ef2fd4ae-3ec0-4b6d-a156-e81a6f9ea5ea   \n",
       "12085  8f94190e-bdf3-441b-9701-42b029b9fedc   \n",
       "12086  9647958b-736d-487e-8a5f-2a7a8b4f743d   \n",
       "\n",
       "                                artist_mbid              genres  \n",
       "0      7434b85a-4a06-42ba-9e1d-9c568c044842  Dance & Electronic  \n",
       "1      7434b85a-4a06-42ba-9e1d-9c568c044842  Dance & Electronic  \n",
       "2      1b54e90c-638e-4fdd-a20e-4ab09db9fdaf    Alternative Rock  \n",
       "3      1b54e90c-638e-4fdd-a20e-4ab09db9fdaf    Alternative Rock  \n",
       "4      1b54e90c-638e-4fdd-a20e-4ab09db9fdaf    Alternative Rock  \n",
       "...                                     ...                 ...  \n",
       "12082  8ef27ebb-f741-4ddf-bf5d-61a6bb981eca  Dance & Electronic  \n",
       "12083  8ef27ebb-f741-4ddf-bf5d-61a6bb981eca  Dance & Electronic  \n",
       "12084  89ad4ac3-39f7-470e-963a-56509c546377  Dance & Electronic  \n",
       "12085  89ad4ac3-39f7-470e-963a-56509c546377  Dance & Electronic  \n",
       "12086  89ad4ac3-39f7-470e-963a-56509c546377  Dance & Electronic  \n",
       "\n",
       "[12087 rows x 6 columns]"
      ]
     },
     "execution_count": 3,
     "metadata": {},
     "output_type": "execute_result"
    }
   ],
   "source": [
    "from io import StringIO\n",
    "\n",
    "tar = tarfile.open(\"MuMu_dataset.tar.gz\", \"r:gz\")\n",
    "f = tar.extractfile(tar.getmembers()[1])\n",
    "s=str(f.read(),'utf-8')\n",
    "\n",
    "data = StringIO(s) \n",
    "df=pd.read_csv(data)\n",
    "df\n"
   ]
  },
  {
   "cell_type": "code",
   "execution_count": 5,
   "metadata": {},
   "outputs": [
    {
     "data": {
      "text/html": [
       "<div>\n",
       "<style scoped>\n",
       "    .dataframe tbody tr th:only-of-type {\n",
       "        vertical-align: middle;\n",
       "    }\n",
       "\n",
       "    .dataframe tbody tr th {\n",
       "        vertical-align: top;\n",
       "    }\n",
       "\n",
       "    .dataframe thead th {\n",
       "        text-align: right;\n",
       "    }\n",
       "</style>\n",
       "<table border=\"1\" class=\"dataframe\">\n",
       "  <thead>\n",
       "    <tr style=\"text-align: right;\">\n",
       "      <th></th>\n",
       "      <th>amazon_id</th>\n",
       "      <th>album_mbid</th>\n",
       "      <th>MSD_track_id</th>\n",
       "      <th>recording_mbid</th>\n",
       "      <th>artist_mbid</th>\n",
       "      <th>genres</th>\n",
       "    </tr>\n",
       "  </thead>\n",
       "  <tbody>\n",
       "    <tr>\n",
       "      <td>0</td>\n",
       "      <td>B00005YQOV</td>\n",
       "      <td>77944b8c-f753-4c7c-84ba-a48fbf518667</td>\n",
       "      <td>TRJIKJU128F930BF28</td>\n",
       "      <td>68c38213-65ba-4c1e-ac20-76883b512993</td>\n",
       "      <td>0a6f37da-2a2a-4308-896a-7c34b968b0b3</td>\n",
       "      <td>Vocal Jazz,Jazz,Traditional Vocal Pop,Pop,Mode...</td>\n",
       "    </tr>\n",
       "    <tr>\n",
       "      <td>1</td>\n",
       "      <td>B00005YQOV</td>\n",
       "      <td>77944b8c-f753-4c7c-84ba-a48fbf518667</td>\n",
       "      <td>TRLCVKT128F930BF18</td>\n",
       "      <td>f5c25488-4fbc-4ade-9cd4-431ae3fe3737</td>\n",
       "      <td>0a6f37da-2a2a-4308-896a-7c34b968b0b3</td>\n",
       "      <td>Vocal Jazz,Jazz,Traditional Vocal Pop,Pop,Mode...</td>\n",
       "    </tr>\n",
       "    <tr>\n",
       "      <td>2</td>\n",
       "      <td>B00005YQOV</td>\n",
       "      <td>77944b8c-f753-4c7c-84ba-a48fbf518667</td>\n",
       "      <td>TRBQSIG128F930BEFC</td>\n",
       "      <td>e76bbfcc-f94a-425d-bf13-d4e8d32df173</td>\n",
       "      <td>0a6f37da-2a2a-4308-896a-7c34b968b0b3</td>\n",
       "      <td>Vocal Jazz,Jazz,Traditional Vocal Pop,Pop,Mode...</td>\n",
       "    </tr>\n",
       "    <tr>\n",
       "      <td>3</td>\n",
       "      <td>B00005YQOV</td>\n",
       "      <td>77944b8c-f753-4c7c-84ba-a48fbf518667</td>\n",
       "      <td>TRGQLER128F930BF59</td>\n",
       "      <td>9def0715-4be3-4755-b546-f0335e03447b</td>\n",
       "      <td>0a6f37da-2a2a-4308-896a-7c34b968b0b3</td>\n",
       "      <td>Vocal Jazz,Jazz,Traditional Vocal Pop,Pop,Mode...</td>\n",
       "    </tr>\n",
       "    <tr>\n",
       "      <td>4</td>\n",
       "      <td>B00005YQOV</td>\n",
       "      <td>77944b8c-f753-4c7c-84ba-a48fbf518667</td>\n",
       "      <td>TRQPGRM128F930BEEA</td>\n",
       "      <td>9fe52229-a318-499e-af96-0903294366b1</td>\n",
       "      <td>0a6f37da-2a2a-4308-896a-7c34b968b0b3</td>\n",
       "      <td>Vocal Jazz,Jazz,Traditional Vocal Pop,Pop,Mode...</td>\n",
       "    </tr>\n",
       "    <tr>\n",
       "      <td>...</td>\n",
       "      <td>...</td>\n",
       "      <td>...</td>\n",
       "      <td>...</td>\n",
       "      <td>...</td>\n",
       "      <td>...</td>\n",
       "      <td>...</td>\n",
       "    </tr>\n",
       "    <tr>\n",
       "      <td>147290</td>\n",
       "      <td>B00004NH92</td>\n",
       "      <td>31d692d2-c9a5-3637-bc59-9becba83bbd3</td>\n",
       "      <td>TRNEHCV128F930CE23</td>\n",
       "      <td>533f353a-5ebe-409e-b854-92c34b9c6619</td>\n",
       "      <td>b8282669-ab13-40c2-a01e-acbb9cf64981</td>\n",
       "      <td>R&amp;B,Jazz,Pop,Dance &amp; Electronic,Jazz Jam Bands...</td>\n",
       "    </tr>\n",
       "    <tr>\n",
       "      <td>147291</td>\n",
       "      <td>B00004NH92</td>\n",
       "      <td>31d692d2-c9a5-3637-bc59-9becba83bbd3</td>\n",
       "      <td>TRXXOQB128F930CE17</td>\n",
       "      <td>7381e598-78c7-4eb8-88f2-1b38eb439014</td>\n",
       "      <td>b8282669-ab13-40c2-a01e-acbb9cf64981</td>\n",
       "      <td>R&amp;B,Jazz,Pop,Dance &amp; Electronic,Jazz Jam Bands...</td>\n",
       "    </tr>\n",
       "    <tr>\n",
       "      <td>147292</td>\n",
       "      <td>B00004NH92</td>\n",
       "      <td>31d692d2-c9a5-3637-bc59-9becba83bbd3</td>\n",
       "      <td>TRQHKOT128F930CE20</td>\n",
       "      <td>1cc31fb3-24d2-4460-804c-968446af5677</td>\n",
       "      <td>b8282669-ab13-40c2-a01e-acbb9cf64981</td>\n",
       "      <td>R&amp;B,Jazz,Pop,Dance &amp; Electronic,Jazz Jam Bands...</td>\n",
       "    </tr>\n",
       "    <tr>\n",
       "      <td>147293</td>\n",
       "      <td>B00004NH92</td>\n",
       "      <td>31d692d2-c9a5-3637-bc59-9becba83bbd3</td>\n",
       "      <td>TRTAIPQ128F930CE1B</td>\n",
       "      <td>ad8cede6-a437-4a2c-8a69-7a92b7e486f0</td>\n",
       "      <td>b8282669-ab13-40c2-a01e-acbb9cf64981</td>\n",
       "      <td>R&amp;B,Jazz,Pop,Dance &amp; Electronic,Jazz Jam Bands...</td>\n",
       "    </tr>\n",
       "    <tr>\n",
       "      <td>147294</td>\n",
       "      <td>B0008D5L4Y</td>\n",
       "      <td>51d88da7-6763-3530-8d7e-2b3f600558a5</td>\n",
       "      <td>TRJLVFG128F4285E8A</td>\n",
       "      <td>f8e92ff7-58b4-4111-a8f7-41e69a63ddea</td>\n",
       "      <td>b85ea783-e44f-4010-b62c-a39840699c4a</td>\n",
       "      <td>Electronica,Trance,Pop,Dance &amp; Electronic,Tech...</td>\n",
       "    </tr>\n",
       "  </tbody>\n",
       "</table>\n",
       "<p>147295 rows × 6 columns</p>\n",
       "</div>"
      ],
      "text/plain": [
       "         amazon_id                            album_mbid        MSD_track_id  \\\n",
       "0       B00005YQOV  77944b8c-f753-4c7c-84ba-a48fbf518667  TRJIKJU128F930BF28   \n",
       "1       B00005YQOV  77944b8c-f753-4c7c-84ba-a48fbf518667  TRLCVKT128F930BF18   \n",
       "2       B00005YQOV  77944b8c-f753-4c7c-84ba-a48fbf518667  TRBQSIG128F930BEFC   \n",
       "3       B00005YQOV  77944b8c-f753-4c7c-84ba-a48fbf518667  TRGQLER128F930BF59   \n",
       "4       B00005YQOV  77944b8c-f753-4c7c-84ba-a48fbf518667  TRQPGRM128F930BEEA   \n",
       "...            ...                                   ...                 ...   \n",
       "147290  B00004NH92  31d692d2-c9a5-3637-bc59-9becba83bbd3  TRNEHCV128F930CE23   \n",
       "147291  B00004NH92  31d692d2-c9a5-3637-bc59-9becba83bbd3  TRXXOQB128F930CE17   \n",
       "147292  B00004NH92  31d692d2-c9a5-3637-bc59-9becba83bbd3  TRQHKOT128F930CE20   \n",
       "147293  B00004NH92  31d692d2-c9a5-3637-bc59-9becba83bbd3  TRTAIPQ128F930CE1B   \n",
       "147294  B0008D5L4Y  51d88da7-6763-3530-8d7e-2b3f600558a5  TRJLVFG128F4285E8A   \n",
       "\n",
       "                              recording_mbid  \\\n",
       "0       68c38213-65ba-4c1e-ac20-76883b512993   \n",
       "1       f5c25488-4fbc-4ade-9cd4-431ae3fe3737   \n",
       "2       e76bbfcc-f94a-425d-bf13-d4e8d32df173   \n",
       "3       9def0715-4be3-4755-b546-f0335e03447b   \n",
       "4       9fe52229-a318-499e-af96-0903294366b1   \n",
       "...                                      ...   \n",
       "147290  533f353a-5ebe-409e-b854-92c34b9c6619   \n",
       "147291  7381e598-78c7-4eb8-88f2-1b38eb439014   \n",
       "147292  1cc31fb3-24d2-4460-804c-968446af5677   \n",
       "147293  ad8cede6-a437-4a2c-8a69-7a92b7e486f0   \n",
       "147294  f8e92ff7-58b4-4111-a8f7-41e69a63ddea   \n",
       "\n",
       "                                 artist_mbid  \\\n",
       "0       0a6f37da-2a2a-4308-896a-7c34b968b0b3   \n",
       "1       0a6f37da-2a2a-4308-896a-7c34b968b0b3   \n",
       "2       0a6f37da-2a2a-4308-896a-7c34b968b0b3   \n",
       "3       0a6f37da-2a2a-4308-896a-7c34b968b0b3   \n",
       "4       0a6f37da-2a2a-4308-896a-7c34b968b0b3   \n",
       "...                                      ...   \n",
       "147290  b8282669-ab13-40c2-a01e-acbb9cf64981   \n",
       "147291  b8282669-ab13-40c2-a01e-acbb9cf64981   \n",
       "147292  b8282669-ab13-40c2-a01e-acbb9cf64981   \n",
       "147293  b8282669-ab13-40c2-a01e-acbb9cf64981   \n",
       "147294  b85ea783-e44f-4010-b62c-a39840699c4a   \n",
       "\n",
       "                                                   genres  \n",
       "0       Vocal Jazz,Jazz,Traditional Vocal Pop,Pop,Mode...  \n",
       "1       Vocal Jazz,Jazz,Traditional Vocal Pop,Pop,Mode...  \n",
       "2       Vocal Jazz,Jazz,Traditional Vocal Pop,Pop,Mode...  \n",
       "3       Vocal Jazz,Jazz,Traditional Vocal Pop,Pop,Mode...  \n",
       "4       Vocal Jazz,Jazz,Traditional Vocal Pop,Pop,Mode...  \n",
       "...                                                   ...  \n",
       "147290  R&B,Jazz,Pop,Dance & Electronic,Jazz Jam Bands...  \n",
       "147291  R&B,Jazz,Pop,Dance & Electronic,Jazz Jam Bands...  \n",
       "147292  R&B,Jazz,Pop,Dance & Electronic,Jazz Jam Bands...  \n",
       "147293  R&B,Jazz,Pop,Dance & Electronic,Jazz Jam Bands...  \n",
       "147294  Electronica,Trance,Pop,Dance & Electronic,Tech...  \n",
       "\n",
       "[147295 rows x 6 columns]"
      ]
     },
     "execution_count": 5,
     "metadata": {},
     "output_type": "execute_result"
    }
   ],
   "source": [
    "tar = tarfile.open(\"MuMu_dataset.tar.gz\", \"r:gz\")\n",
    "f2 = tar.extractfile(tar.getmembers()[2])\n",
    "s2=str(f2.read(),'utf-8')\n",
    "\n",
    "data2 = StringIO(s2) \n",
    "df2=pd.read_csv(data2)\n",
    "df2"
   ]
  },
  {
   "cell_type": "code",
   "execution_count": 6,
   "metadata": {},
   "outputs": [],
   "source": [
    "dfTracks = df.append(df2, ignore_index=True)"
   ]
  },
  {
   "cell_type": "code",
   "execution_count": 14,
   "metadata": {},
   "outputs": [],
   "source": [
    "dfTracks\n",
    "dfTracks.to_pickle(\"./dfTracks\")"
   ]
  },
  {
   "cell_type": "code",
   "execution_count": 9,
   "metadata": {},
   "outputs": [
    {
     "name": "stderr",
     "output_type": "stream",
     "text": [
      "C:\\Anaconda\\lib\\site-packages\\ipykernel_launcher.py:6: ParserWarning: Falling back to the 'python' engine because the 'c' engine does not support regex separators (separators > 1 char and different from '\\s+' are interpreted as regex); you can avoid this warning by specifying engine='python'.\n",
      "  \n"
     ]
    }
   ],
   "source": [
    "tar = tarfile.open(\"MuMu_dataset.tar.gz\", \"r:gz\")\n",
    "f3 = tar.extractfile(tar.getmembers()[3])\n",
    "s3=str(f3.read(),'utf-8')\n",
    "\n",
    "data3 = StringIO(s3) \n",
    "df3=pd.read_csv(data3, sep='delimiter', header=None)\n"
   ]
  },
  {
   "cell_type": "code",
   "execution_count": 10,
   "metadata": {},
   "outputs": [],
   "source": [
    "import sys\n",
    "import numpy\n",
    "numpy.set_printoptions(threshold=sys.maxsize)"
   ]
  },
  {
   "cell_type": "code",
   "execution_count": 11,
   "metadata": {},
   "outputs": [
    {
     "data": {
      "text/plain": [
       "{'title': 'Kirtan',\n",
       " 'price': 22.94,\n",
       " 'artist': 'Jai Uttal',\n",
       " 'imUrl': 'http://ecx.images-amazon.com/images/I/51GGK0zoubL._SY300_.jpg',\n",
       " 'amazon_id': '1591791065',\n",
       " 'related': {'also_bought': ['B001QSER54',\n",
       "   'B00020HDXU',\n",
       "   'B000AA4JI4',\n",
       "   'B000ION6UE',\n",
       "   'B00317LM8I'],\n",
       "  'bought_together': ['B000B6FXWS', 'B000AA4JHK'],\n",
       "  'buy_after_viewing': []},\n",
       " 'label': 'Sounds True',\n",
       " 'release-group_mbid': 'cb6b590f-2656-385f-ac33-b4abfd6b1498',\n",
       " 'artist_url': '/Jai-Uttal/e/B000AP6Z0Y',\n",
       " 'artist_mbid': 'eb6f3fca-c40c-4740-b288-a7f5744c6cec',\n",
       " 'salesRank': {'Music': 89340},\n",
       " 'categories': [['CDs & Vinyl', 'Classical'],\n",
       "  ['CDs & Vinyl', 'New Age'],\n",
       "  ['CDs & Vinyl', 'Pop', 'Dance Pop'],\n",
       "  ['CDs & Vinyl', 'World Music']]}"
      ]
     },
     "execution_count": 11,
     "metadata": {},
     "output_type": "execute_result"
    }
   ],
   "source": [
    "list3 = df3[0].tolist()\n",
    "Dict = eval(list3[0])\n",
    "Dict[0]\n",
    "Dict[1]\n"
   ]
  },
  {
   "cell_type": "code",
   "execution_count": 69,
   "metadata": {},
   "outputs": [
    {
     "data": {
      "text/plain": [
       "'http://ecx.images-amazon.com/images/I/51fdvJLWs5L._SY300_.jpg'"
      ]
     },
     "execution_count": 69,
     "metadata": {},
     "output_type": "execute_result"
    }
   ],
   "source": [
    "Dict[0][\"imUrl\"]"
   ]
  },
  {
   "cell_type": "code",
   "execution_count": 12,
   "metadata": {},
   "outputs": [],
   "source": [
    "df_images = pd.DataFrame({'imUrl' : [], 'amazonID' : []})\n",
    "for i in range(len(Dict)):\n",
    "    list_temp = []\n",
    "    image_url = Dict[i][\"imUrl\"]\n",
    "    amazon_id = Dict[i][\"amazon_id\"]\n",
    "    list_temp.append(image_url)\n",
    "    list_temp.append(amazon_id)\n",
    "    \n",
    "    df_images.loc[i] = list_temp\n",
    "    "
   ]
  },
  {
   "cell_type": "code",
   "execution_count": 15,
   "metadata": {},
   "outputs": [],
   "source": [
    "df_images\n",
    "df_images.to_pickle(\"./df_images\")"
   ]
  },
  {
   "cell_type": "code",
   "execution_count": 16,
   "metadata": {},
   "outputs": [
    {
     "name": "stderr",
     "output_type": "stream",
     "text": [
      "C:\\Anaconda\\lib\\site-packages\\ipykernel_launcher.py:6: ParserWarning: Falling back to the 'python' engine because the 'c' engine does not support regex separators (separators > 1 char and different from '\\s+' are interpreted as regex); you can avoid this warning by specifying engine='python'.\n",
      "  \n"
     ]
    }
   ],
   "source": [
    "tar = tarfile.open(\"MuMu_dataset.tar.gz\", \"r:gz\")\n",
    "f4 = tar.extractfile(tar.getmembers()[4])\n",
    "s4=str(f4.read(),'utf-8')\n",
    "\n",
    "data4 = StringIO(s4) \n",
    "df4=pd.read_csv(data4, sep='delimiter', header=None)"
   ]
  },
  {
   "cell_type": "code",
   "execution_count": 17,
   "metadata": {},
   "outputs": [],
   "source": [
    "list4 = df4[0].tolist()\n",
    "DictReviews = eval(list4[0])"
   ]
  },
  {
   "cell_type": "code",
   "execution_count": 18,
   "metadata": {},
   "outputs": [
    {
     "data": {
      "text/plain": [
       "{'reviewerID': 'A1T7P8KS0NYQ7I',\n",
       " 'reviewerName': 'Elizabeth',\n",
       " 'helpful': [0, 0],\n",
       " 'amazon_id': '1458389375',\n",
       " 'unixReviewTime': 1312588800,\n",
       " 'reviewText': 'Earth and Sky Dancing Music, intelligent on so many levels. Co-writers Costa/ St.John Ramirez deliver a blend of Indigenous Soul Music with R&B and Afro Latin Rhythms that is smooth, fun & deep. And with Justo Almario on horns - can you handle it? Oh Yea!',\n",
       " 'overall': 5.0,\n",
       " 'reviewTime': '08 6, 2011',\n",
       " 'summary': 'Smooth, Fun & Deep -  And What A Voice!'}"
      ]
     },
     "execution_count": 18,
     "metadata": {},
     "output_type": "execute_result"
    }
   ],
   "source": [
    "DictReviews"
   ]
  },
  {
   "cell_type": "code",
   "execution_count": 20,
   "metadata": {},
   "outputs": [
    {
     "data": {
      "text/plain": [
       "30000"
      ]
     },
     "execution_count": 20,
     "metadata": {},
     "output_type": "execute_result"
    }
   ],
   "source": [
    "len(list4[0:30000])"
   ]
  },
  {
   "cell_type": "code",
   "execution_count": 21,
   "metadata": {},
   "outputs": [],
   "source": [
    "df_reviews = pd.DataFrame({'review' : [], 'amazonID' : []})\n",
    "for i in range(len(list4[0:30000])):\n",
    "    list_temp = []\n",
    "    temp_Dict = eval(list4[i])\n",
    "    review = temp_Dict[\"reviewText\"]\n",
    "    amazon_id = temp_Dict[\"amazon_id\"]\n",
    "    list_temp.append(review)\n",
    "    list_temp.append(amazon_id)\n",
    "    \n",
    "    df_reviews.loc[i] = list_temp"
   ]
  },
  {
   "cell_type": "code",
   "execution_count": 22,
   "metadata": {},
   "outputs": [],
   "source": [
    "df_reviews\n",
    "df_reviews.to_pickle(\"./df_reviews\")"
   ]
  },
  {
   "cell_type": "code",
   "execution_count": null,
   "metadata": {},
   "outputs": [],
   "source": []
  }
 ],
 "metadata": {
  "kernelspec": {
   "display_name": "Python 3",
   "language": "python",
   "name": "python3"
  },
  "language_info": {
   "codemirror_mode": {
    "name": "ipython",
    "version": 3
   },
   "file_extension": ".py",
   "mimetype": "text/x-python",
   "name": "python",
   "nbconvert_exporter": "python",
   "pygments_lexer": "ipython3",
   "version": "3.7.1"
  }
 },
 "nbformat": 4,
 "nbformat_minor": 2
}
