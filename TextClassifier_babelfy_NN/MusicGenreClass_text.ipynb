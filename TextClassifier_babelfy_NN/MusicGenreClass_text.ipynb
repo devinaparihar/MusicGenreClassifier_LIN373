{
  "nbformat": 4,
  "nbformat_minor": 0,
  "metadata": {
    "colab": {
      "name": "MusicGenreClass_text.ipynb",
      "provenance": [],
      "collapsed_sections": []
    },
    "kernelspec": {
      "name": "python3",
      "display_name": "Python 3"
    }
  },
  "cells": [
    {
      "cell_type": "code",
      "metadata": {
        "id": "4Ocs_F8UsePV",
        "colab_type": "code",
        "outputId": "7c5594fe-9fe2-40a0-c7c8-9d2f85ae325a",
        "colab": {
          "base_uri": "https://localhost:8080/",
          "height": 35
        }
      },
      "source": [
        "import pandas as pd\n",
        "import numpy as np\n",
        "from sklearn.preprocessing import LabelEncoder\n",
        "from sklearn.model_selection import train_test_split\n",
        "from keras.models import Sequential\n",
        "from keras.layers import Activation\n",
        "from keras.optimizers import SGD\n",
        "from keras.layers import Dense\n",
        "from keras.utils import np_utils\n",
        "from keras.layers import Input, Dense\n",
        "from keras.models import Sequential,Model,load_model"
      ],
      "execution_count": 1,
      "outputs": [
        {
          "output_type": "stream",
          "text": [
            "Using TensorFlow backend.\n"
          ],
          "name": "stderr"
        }
      ]
    },
    {
      "cell_type": "markdown",
      "metadata": {
        "id": "gD8BQPzlXdnE",
        "colab_type": "text"
      },
      "source": [
        "# **Entity Linking w Babelfy**"
      ]
    },
    {
      "cell_type": "code",
      "metadata": {
        "id": "xdRLFPokskxF",
        "colab_type": "code",
        "outputId": "5eec0b3a-4fa1-46ff-b519-4185c3434aa2",
        "colab": {
          "base_uri": "https://localhost:8080/",
          "height": 177
        }
      },
      "source": [
        "!pip install babelpy"
      ],
      "execution_count": 0,
      "outputs": [
        {
          "output_type": "stream",
          "text": [
            "Collecting babelpy\n",
            "  Downloading https://files.pythonhosted.org/packages/09/03/93430ae2c3011b9eb0ae179d58612be8e094e04e920686a1ffb7740e27ce/BabelPy-1.0.1.tar.gz\n",
            "Building wheels for collected packages: babelpy\n",
            "  Building wheel for babelpy (setup.py) ... \u001b[?25l\u001b[?25hdone\n",
            "  Created wheel for babelpy: filename=BabelPy-1.0.1-cp36-none-any.whl size=9723 sha256=444738923927fc0ccd348caaaea235163cecb87ed2b190868f477a871f0ff26d\n",
            "  Stored in directory: /root/.cache/pip/wheels/c9/53/db/2b25b9bdc97574bd1a076b31d0a8ba8f8ce0969e247debcc5b\n",
            "Successfully built babelpy\n",
            "Installing collected packages: babelpy\n",
            "Successfully installed babelpy-1.0.1\n"
          ],
          "name": "stdout"
        }
      ]
    },
    {
      "cell_type": "code",
      "metadata": {
        "id": "Xv3-3Tndxeq0",
        "colab_type": "code",
        "colab": {}
      },
      "source": [
        "from babelpy import babelfy"
      ],
      "execution_count": 0,
      "outputs": []
    },
    {
      "cell_type": "code",
      "metadata": {
        "id": "9Pg8TivKspMD",
        "colab_type": "code",
        "colab": {}
      },
      "source": [
        "#from babelfy import BabelfyClient\n",
        "\n",
        "\n",
        "# Instantiate BabelFy client\n",
        "\n",
        "API_KEY  = 'ddacf5fe-702e-4b24-b6b8-95a4806d8acc'\n",
        "\n",
        "params = dict()\n",
        "params['lang'] = 'EN'\n",
        "babel_client = babelfy.BabelfyClient(API_KEY, params)"
      ],
      "execution_count": 0,
      "outputs": []
    },
    {
      "cell_type": "code",
      "metadata": {
        "id": "BYy0ffLJxxV4",
        "colab_type": "code",
        "colab": {}
      },
      "source": [
        "text = \"earth sky dancing intelligent many levels co writers costa st john ramirez deliver blend indigenous soul r b afro latin rhythms smooth fun deep justo almario horns handle oh yea\""
      ],
      "execution_count": 0,
      "outputs": []
    },
    {
      "cell_type": "code",
      "metadata": {
        "id": "P00kG4b1xYiX",
        "colab_type": "code",
        "colab": {}
      },
      "source": [
        "def babelfyReview(x):\n",
        "\n",
        "  # Babelfy sentence\n",
        "  babel_client.babelfy(x)\n",
        "\n",
        "  # Get entity data\n",
        "  #print(babel_client.entities)\n",
        "  try:\n",
        "    #entitiesFlag = True\n",
        "    #print('here')\n",
        "    entitiesDictList = babel_client.entities\n",
        "    #print(babel_client.entities)\n",
        "  except AttributeError:\n",
        "    (\"AttributeError for review: \"+x)\n",
        "    return(x)\n",
        "\n",
        "  entitiesToAdd = []\n",
        "\n",
        "  #if(entitiesFlag):\n",
        "  #print(entitiesDictList)\n",
        "  for entDict in entitiesDictList:\n",
        "    entitiesToAdd.append(entDict['text'])\n",
        "\n",
        "  entities = ' '.join(entitiesToAdd)\n",
        "  x = x +\" \"+entities\n",
        "\n",
        "  return(x)\n",
        "\n"
      ],
      "execution_count": 0,
      "outputs": []
    },
    {
      "cell_type": "code",
      "metadata": {
        "id": "2t_mLHVZe4m1",
        "colab_type": "code",
        "outputId": "e5ded1fd-c917-424d-ae2d-10af2f3ce592",
        "colab": {
          "base_uri": "https://localhost:8080/",
          "height": 55
        }
      },
      "source": [
        "text = babelfyReview(text)"
      ],
      "execution_count": 0,
      "outputs": [
        {
          "output_type": "stream",
          "text": [
            "[{'start': 0, 'end': 4, 'text': 'earth', 'isEntity': True, 'tokenFragment': {'start': 0, 'end': 0}, 'charFragment': {'start': 0, 'end': 4}, 'babelSynsetID': 'bn:00029424n', 'DBpediaURL': 'http://dbpedia.org/resource/Earth', 'BabelNetURL': 'http://babelnet.org/rdf/s00029424n', 'score': 0.9195402298850575, 'coherenceScore': 0.4, 'globalScore': 0.09148084619782733, 'source': 'BABELFY'}, {'start': 6, 'end': 8, 'text': 'sky', 'isEntity': True, 'tokenFragment': {'start': 1, 'end': 1}, 'charFragment': {'start': 6, 'end': 8}, 'babelSynsetID': 'bn:00072016n', 'DBpediaURL': 'http://dbpedia.org/resource/Sky', 'BabelNetURL': 'http://babelnet.org/rdf/s00072016n', 'score': 0.0, 'coherenceScore': 0.0, 'globalScore': 0.0, 'source': 'MCS'}, {'start': 10, 'end': 16, 'text': 'dancing', 'isEntity': True, 'tokenFragment': {'start': 2, 'end': 2}, 'charFragment': {'start': 10, 'end': 16}, 'babelSynsetID': 'bn:00086271v', 'DBpediaURL': '', 'BabelNetURL': 'http://babelnet.org/rdf/s00086271v', 'score': 1.0, 'coherenceScore': 0.15, 'globalScore': 0.005145797598627788, 'source': 'BABELFY'}, {'start': 18, 'end': 28, 'text': 'intelligent', 'isEntity': True, 'tokenFragment': {'start': 3, 'end': 3}, 'charFragment': {'start': 18, 'end': 28}, 'babelSynsetID': 'bn:00105243a', 'DBpediaURL': '', 'BabelNetURL': 'http://babelnet.org/rdf/s00105243a', 'score': 0.0, 'coherenceScore': 0.0, 'globalScore': 0.0, 'source': 'MCS'}, {'start': 35, 'end': 40, 'text': 'levels', 'isEntity': True, 'tokenFragment': {'start': 5, 'end': 5}, 'charFragment': {'start': 35, 'end': 40}, 'babelSynsetID': 'bn:00025965n', 'DBpediaURL': 'http://dbpedia.org/resource/Degree_(music)', 'BabelNetURL': 'http://babelnet.org/rdf/s00025965n', 'score': 0.7857142857142857, 'coherenceScore': 0.3, 'globalScore': 0.03773584905660377, 'source': 'BABELFY'}, {'start': 45, 'end': 51, 'text': 'writers', 'isEntity': True, 'tokenFragment': {'start': 7, 'end': 7}, 'charFragment': {'start': 45, 'end': 51}, 'babelSynsetID': 'bn:00007287n', 'DBpediaURL': 'http://dbpedia.org/resource/Author', 'BabelNetURL': 'http://babelnet.org/rdf/s00007287n', 'score': 0.8888888888888888, 'coherenceScore': 0.2, 'globalScore': 0.0137221269296741, 'source': 'BABELFY'}, {'start': 59, 'end': 65, 'text': 'st john', 'isEntity': True, 'tokenFragment': {'start': 9, 'end': 10}, 'charFragment': {'start': 59, 'end': 65}, 'babelSynsetID': 'bn:01825783n', 'DBpediaURL': 'http://dbpedia.org/resource/St_John_(name)', 'BabelNetURL': 'http://babelnet.org/rdf/s01825783n', 'score': 1.0, 'coherenceScore': 0.05, 'globalScore': 0.0005717552887364208, 'source': 'BABELFY'}, {'start': 62, 'end': 65, 'text': 'john', 'isEntity': True, 'tokenFragment': {'start': 10, 'end': 10}, 'charFragment': {'start': 62, 'end': 65}, 'babelSynsetID': 'bn:00009020n', 'DBpediaURL': 'http://dbpedia.org/resource/Toilet_(room)', 'BabelNetURL': 'http://babelnet.org/rdf/s00009020n', 'score': 0.0, 'coherenceScore': 0.0, 'globalScore': 0.0, 'source': 'MCS'}, {'start': 75, 'end': 81, 'text': 'deliver', 'isEntity': True, 'tokenFragment': {'start': 12, 'end': 12}, 'charFragment': {'start': 75, 'end': 81}, 'babelSynsetID': 'bn:00086530v', 'DBpediaURL': '', 'BabelNetURL': 'http://babelnet.org/rdf/s00086530v', 'score': 0.0, 'coherenceScore': 0.0, 'globalScore': 0.0, 'source': 'MCS'}, {'start': 83, 'end': 87, 'text': 'blend', 'isEntity': True, 'tokenFragment': {'start': 13, 'end': 13}, 'charFragment': {'start': 83, 'end': 87}, 'babelSynsetID': 'bn:00083595v', 'DBpediaURL': '', 'BabelNetURL': 'http://babelnet.org/rdf/s00083595v', 'score': 0.0, 'coherenceScore': 0.0, 'globalScore': 0.0, 'source': 'MCS'}, {'start': 89, 'end': 98, 'text': 'indigenous', 'isEntity': True, 'tokenFragment': {'start': 14, 'end': 14}, 'charFragment': {'start': 89, 'end': 98}, 'babelSynsetID': 'bn:00097805a', 'DBpediaURL': '', 'BabelNetURL': 'http://babelnet.org/rdf/s00097805a', 'score': 0.0, 'coherenceScore': 0.0, 'globalScore': 0.0, 'source': 'MCS'}, {'start': 100, 'end': 103, 'text': 'soul', 'isEntity': True, 'tokenFragment': {'start': 15, 'end': 15}, 'charFragment': {'start': 100, 'end': 103}, 'babelSynsetID': 'bn:00065006n', 'DBpediaURL': '', 'BabelNetURL': 'http://babelnet.org/rdf/s00065006n', 'score': 0.0, 'coherenceScore': 0.0, 'globalScore': 0.0, 'source': 'MCS'}, {'start': 109, 'end': 112, 'text': 'afro', 'isEntity': True, 'tokenFragment': {'start': 18, 'end': 18}, 'charFragment': {'start': 109, 'end': 112}, 'babelSynsetID': 'bn:02873602n', 'DBpediaURL': 'http://dbpedia.org/resource/Afro_(album)', 'BabelNetURL': 'http://babelnet.org/rdf/s02873602n', 'score': 0.9, 'coherenceScore': 0.15, 'globalScore': 0.005145797598627788, 'source': 'BABELFY'}, {'start': 114, 'end': 118, 'text': 'latin', 'isEntity': True, 'tokenFragment': {'start': 19, 'end': 19}, 'charFragment': {'start': 114, 'end': 118}, 'babelSynsetID': 'bn:00050161n', 'DBpediaURL': 'http://dbpedia.org/resource/Latin', 'BabelNetURL': 'http://babelnet.org/rdf/s00050161n', 'score': 0.8875255623721882, 'coherenceScore': 0.7, 'globalScore': 0.24814179531160663, 'source': 'BABELFY'}, {'start': 114, 'end': 126, 'text': 'latin rhythms', 'isEntity': True, 'tokenFragment': {'start': 19, 'end': 20}, 'charFragment': {'start': 114, 'end': 126}, 'babelSynsetID': 'bn:03411513n', 'DBpediaURL': 'http://dbpedia.org/resource/Latin_American_music', 'BabelNetURL': 'http://babelnet.org/rdf/s03411513n', 'score': 1.0, 'coherenceScore': 0.3, 'globalScore': 0.0274442538593482, 'source': 'BABELFY'}, {'start': 120, 'end': 126, 'text': 'rhythms', 'isEntity': True, 'tokenFragment': {'start': 20, 'end': 20}, 'charFragment': {'start': 120, 'end': 126}, 'babelSynsetID': 'bn:00009396n', 'DBpediaURL': 'http://dbpedia.org/resource/Rhythm', 'BabelNetURL': 'http://babelnet.org/rdf/s00009396n', 'score': 1.0, 'coherenceScore': 0.4, 'globalScore': 0.0548885077186964, 'source': 'BABELFY'}, {'start': 128, 'end': 133, 'text': 'smooth', 'isEntity': True, 'tokenFragment': {'start': 21, 'end': 21}, 'charFragment': {'start': 128, 'end': 133}, 'babelSynsetID': 'bn:00110803a', 'DBpediaURL': '', 'BabelNetURL': 'http://babelnet.org/rdf/s00110803a', 'score': 0.0, 'coherenceScore': 0.0, 'globalScore': 0.0, 'source': 'MCS'}, {'start': 135, 'end': 137, 'text': 'fun', 'isEntity': True, 'tokenFragment': {'start': 22, 'end': 22}, 'charFragment': {'start': 135, 'end': 137}, 'babelSynsetID': 'bn:00036813n', 'DBpediaURL': 'http://dbpedia.org/resource/Fun', 'BabelNetURL': 'http://babelnet.org/rdf/s00036813n', 'score': 1.0, 'coherenceScore': 0.1, 'globalScore': 0.003430531732418525, 'source': 'BABELFY'}, {'start': 139, 'end': 142, 'text': 'deep', 'isEntity': True, 'tokenFragment': {'start': 23, 'end': 23}, 'charFragment': {'start': 139, 'end': 142}, 'babelSynsetID': 'bn:00101043a', 'DBpediaURL': '', 'BabelNetURL': 'http://babelnet.org/rdf/s00101043a', 'score': 0.0, 'coherenceScore': 0.0, 'globalScore': 0.0, 'source': 'MCS'}, {'start': 144, 'end': 156, 'text': 'justo almario', 'isEntity': True, 'tokenFragment': {'start': 24, 'end': 25}, 'charFragment': {'start': 144, 'end': 156}, 'babelSynsetID': 'bn:17077276n', 'DBpediaURL': 'http://dbpedia.org/resource/Justo_Almario', 'BabelNetURL': 'http://babelnet.org/rdf/s17077276n', 'score': 1.0, 'coherenceScore': 0.15, 'globalScore': 0.005145797598627788, 'source': 'BABELFY'}, {'start': 158, 'end': 162, 'text': 'horns', 'isEntity': True, 'tokenFragment': {'start': 26, 'end': 26}, 'charFragment': {'start': 158, 'end': 162}, 'babelSynsetID': 'bn:00022750n', 'DBpediaURL': 'http://dbpedia.org/resource/Trumpet', 'BabelNetURL': 'http://babelnet.org/rdf/s00022750n', 'score': 0.9121621621621622, 'coherenceScore': 0.45, 'globalScore': 0.07718696397941681, 'source': 'BABELFY'}, {'start': 164, 'end': 169, 'text': 'handle', 'isEntity': True, 'tokenFragment': {'start': 27, 'end': 27}, 'charFragment': {'start': 164, 'end': 169}, 'babelSynsetID': 'bn:00084527v', 'DBpediaURL': '', 'BabelNetURL': 'http://babelnet.org/rdf/s00084527v', 'score': 0.0, 'coherenceScore': 0.0, 'globalScore': 0.0, 'source': 'MCS'}]\n"
          ],
          "name": "stdout"
        }
      ]
    },
    {
      "cell_type": "code",
      "metadata": {
        "id": "W9sdKvxue9EJ",
        "colab_type": "code",
        "outputId": "0d0efc65-ef7f-465d-9191-9ae215f84124",
        "colab": {
          "base_uri": "https://localhost:8080/",
          "height": 55
        }
      },
      "source": [
        "text"
      ],
      "execution_count": 0,
      "outputs": [
        {
          "output_type": "execute_result",
          "data": {
            "text/plain": [
              "'earth sky dancing intelligent many levels co writers costa st john ramirez deliver blend indigenous soul r b afro latin rhythms smooth fun deep justo almario horns handle oh yea earth sky dancing intelligent levels writers st john john deliver blend indigenous soul afro latin latin rhythms rhythms smooth fun deep justo almario horns handle'"
            ]
          },
          "metadata": {
            "tags": []
          },
          "execution_count": 20
        }
      ]
    },
    {
      "cell_type": "code",
      "metadata": {
        "id": "9Ui6e3IXyzq5",
        "colab_type": "code",
        "colab": {}
      },
      "source": [
        "df = pd.read_pickle(\"reviews_cleaned.pkl\")\n",
        "#df1000 = df.sample(n = 1000)\n",
        "df1000_babelfied = pd.read_pickle(\"df1000_babelfied.pkl\")"
      ],
      "execution_count": 0,
      "outputs": []
    },
    {
      "cell_type": "code",
      "metadata": {
        "id": "VV-Na-LgGDID",
        "colab_type": "code",
        "outputId": "0ee2c9b5-2f39-4efe-80d9-a2d784b4f6b7",
        "colab": {
          "base_uri": "https://localhost:8080/",
          "height": 194
        }
      },
      "source": [
        "df.head()"
      ],
      "execution_count": 0,
      "outputs": [
        {
          "output_type": "execute_result",
          "data": {
            "text/html": [
              "<div>\n",
              "<style scoped>\n",
              "    .dataframe tbody tr th:only-of-type {\n",
              "        vertical-align: middle;\n",
              "    }\n",
              "\n",
              "    .dataframe tbody tr th {\n",
              "        vertical-align: top;\n",
              "    }\n",
              "\n",
              "    .dataframe thead th {\n",
              "        text-align: right;\n",
              "    }\n",
              "</style>\n",
              "<table border=\"1\" class=\"dataframe\">\n",
              "  <thead>\n",
              "    <tr style=\"text-align: right;\">\n",
              "      <th></th>\n",
              "      <th>amazonIDs</th>\n",
              "      <th>reviews</th>\n",
              "      <th>genres</th>\n",
              "      <th>clean_reviews</th>\n",
              "    </tr>\n",
              "  </thead>\n",
              "  <tbody>\n",
              "    <tr>\n",
              "      <th>0</th>\n",
              "      <td>1458389375</td>\n",
              "      <td>Earth and Sky Dancing Music, intelligent on so...</td>\n",
              "      <td>Jazz,Pop</td>\n",
              "      <td>earth sky dancing intelligent many levels co w...</td>\n",
              "    </tr>\n",
              "    <tr>\n",
              "      <th>1</th>\n",
              "      <td>1591791065</td>\n",
              "      <td>I bought this based on the snippets that they ...</td>\n",
              "      <td>New Age,Dance Pop,World Music,Pop,Classical</td>\n",
              "      <td>bought based snippets give amazon actual c muc...</td>\n",
              "    </tr>\n",
              "    <tr>\n",
              "      <th>2</th>\n",
              "      <td>1906063443</td>\n",
              "      <td>Contrary to the previous review, this IS a com...</td>\n",
              "      <td>Europe,Christian,Eastern Europe,Pop,Gypsy,Worl...</td>\n",
              "      <td>contrary previous review compilation single ar...</td>\n",
              "    </tr>\n",
              "    <tr>\n",
              "      <th>3</th>\n",
              "      <td>1929243766</td>\n",
              "      <td>My family and I all first experienced John on ...</td>\n",
              "      <td>Comedy &amp; Spoken Word,Pop</td>\n",
              "      <td>family first experienced john comedy central t...</td>\n",
              "    </tr>\n",
              "    <tr>\n",
              "      <th>4</th>\n",
              "      <td>1930864159</td>\n",
              "      <td>Awesome. This is so good when needing reminded...</td>\n",
              "      <td>Pop &amp; Contemporary,Christian,Gospel,Pop</td>\n",
              "      <td>awesome good needing reminded quiet hear god w...</td>\n",
              "    </tr>\n",
              "  </tbody>\n",
              "</table>\n",
              "</div>"
            ],
            "text/plain": [
              "    amazonIDs  ...                                      clean_reviews\n",
              "0  1458389375  ...  earth sky dancing intelligent many levels co w...\n",
              "1  1591791065  ...  bought based snippets give amazon actual c muc...\n",
              "2  1906063443  ...  contrary previous review compilation single ar...\n",
              "3  1929243766  ...  family first experienced john comedy central t...\n",
              "4  1930864159  ...  awesome good needing reminded quiet hear god w...\n",
              "\n",
              "[5 rows x 4 columns]"
            ]
          },
          "metadata": {
            "tags": []
          },
          "execution_count": 12
        }
      ]
    },
    {
      "cell_type": "code",
      "metadata": {
        "id": "uyicvgWFDza5",
        "colab_type": "code",
        "outputId": "96dd7bc1-2c2f-4bd0-a8e5-41c7481bf1f3",
        "colab": {
          "base_uri": "https://localhost:8080/",
          "height": 194
        }
      },
      "source": [
        "df1000_babelfied.head()"
      ],
      "execution_count": 0,
      "outputs": [
        {
          "output_type": "execute_result",
          "data": {
            "text/html": [
              "<div>\n",
              "<style scoped>\n",
              "    .dataframe tbody tr th:only-of-type {\n",
              "        vertical-align: middle;\n",
              "    }\n",
              "\n",
              "    .dataframe tbody tr th {\n",
              "        vertical-align: top;\n",
              "    }\n",
              "\n",
              "    .dataframe thead th {\n",
              "        text-align: right;\n",
              "    }\n",
              "</style>\n",
              "<table border=\"1\" class=\"dataframe\">\n",
              "  <thead>\n",
              "    <tr style=\"text-align: right;\">\n",
              "      <th></th>\n",
              "      <th>amazonIDs</th>\n",
              "      <th>reviews</th>\n",
              "      <th>genres</th>\n",
              "      <th>clean_reviews</th>\n",
              "    </tr>\n",
              "  </thead>\n",
              "  <tbody>\n",
              "    <tr>\n",
              "      <th>2398</th>\n",
              "      <td>B000001320</td>\n",
              "      <td>Primitive Streak is the last studio recording ...</td>\n",
              "      <td>Americana,Country,Pop,Adult Alternative,Roots ...</td>\n",
              "      <td>primitive streak last studio recording made su...</td>\n",
              "    </tr>\n",
              "    <tr>\n",
              "      <th>1485</th>\n",
              "      <td>B000000NMZ</td>\n",
              "      <td>I'm not here to review the music on this album...</td>\n",
              "      <td>Progressive,House,Pop,New Age,Dance &amp; Electron...</td>\n",
              "      <td>im review rather quality specific release manu...</td>\n",
              "    </tr>\n",
              "    <tr>\n",
              "      <th>1220</th>\n",
              "      <td>B000000H97</td>\n",
              "      <td>for weeks, track three was the anthem of my sl...</td>\n",
              "      <td>Electronica,Dance &amp; Electronic,Techno,Pop,Ambient</td>\n",
              "      <td>weeks three anthem sleep sweetly sad melody om...</td>\n",
              "    </tr>\n",
              "    <tr>\n",
              "      <th>2382</th>\n",
              "      <td>B0000012FW</td>\n",
              "      <td>Psychedelicatessen is Threshold's second offer...</td>\n",
              "      <td>Progressive Rock,Metal,Progressive,Pop,Rock</td>\n",
              "      <td>psychedelicatessen thresholds second offering ...</td>\n",
              "    </tr>\n",
              "    <tr>\n",
              "      <th>1995</th>\n",
              "      <td>B000000XHF</td>\n",
              "      <td>The modus operandi of Ellington Is Forever, Vo...</td>\n",
              "      <td>Jazz,Pop,Soul-Jazz &amp; Boogaloo</td>\n",
              "      <td>modus operandi ellington forever vol essential...</td>\n",
              "    </tr>\n",
              "  </tbody>\n",
              "</table>\n",
              "</div>"
            ],
            "text/plain": [
              "       amazonIDs  ...                                      clean_reviews\n",
              "2398  B000001320  ...  primitive streak last studio recording made su...\n",
              "1485  B000000NMZ  ...  im review rather quality specific release manu...\n",
              "1220  B000000H97  ...  weeks three anthem sleep sweetly sad melody om...\n",
              "2382  B0000012FW  ...  psychedelicatessen thresholds second offering ...\n",
              "1995  B000000XHF  ...  modus operandi ellington forever vol essential...\n",
              "\n",
              "[5 rows x 4 columns]"
            ]
          },
          "metadata": {
            "tags": []
          },
          "execution_count": 13
        }
      ]
    },
    {
      "cell_type": "code",
      "metadata": {
        "id": "ADDbRlYMFmmu",
        "colab_type": "code",
        "colab": {}
      },
      "source": [
        "remove_babelfied_entries = df1000_babelfied.reviews.tolist()\n",
        "df = df[~df['reviews'].isin(remove_babelfied_entries)]\n"
      ],
      "execution_count": 0,
      "outputs": []
    },
    {
      "cell_type": "code",
      "metadata": {
        "id": "QPOiVwSJHdzq",
        "colab_type": "code",
        "colab": {}
      },
      "source": [
        "# get another sample of 1000 entries to use with Babelfy API, totaling 2000 \"bablefied\" entries\n",
        "df2000 = df.sample(n = 1000)"
      ],
      "execution_count": 0,
      "outputs": []
    },
    {
      "cell_type": "code",
      "metadata": {
        "id": "5B9-mcJeHqHD",
        "colab_type": "code",
        "colab": {}
      },
      "source": [
        ""
      ],
      "execution_count": 0,
      "outputs": []
    },
    {
      "cell_type": "code",
      "metadata": {
        "id": "RIRTd7vQvA1O",
        "colab_type": "code",
        "outputId": "68dd6411-b48d-4103-81b8-8add19864b48",
        "colab": {
          "base_uri": "https://localhost:8080/",
          "height": 352
        }
      },
      "source": [
        "df2000[\"clean_reviews\"] = df2000[\"clean_reviews\"].apply(lambda x: babelfyReview(x))"
      ],
      "execution_count": 0,
      "outputs": [
        {
          "output_type": "error",
          "ename": "KeyboardInterrupt",
          "evalue": "ignored",
          "traceback": [
            "\u001b[0;31m---------------------------------------------------------------------------\u001b[0m",
            "\u001b[0;31mKeyboardInterrupt\u001b[0m                         Traceback (most recent call last)",
            "\u001b[0;32m<ipython-input-21-9a82312f4a40>\u001b[0m in \u001b[0;36m<module>\u001b[0;34m()\u001b[0m\n\u001b[0;32m----> 1\u001b[0;31m \u001b[0mdf2000\u001b[0m\u001b[0;34m[\u001b[0m\u001b[0;34m\"clean_reviews\"\u001b[0m\u001b[0;34m]\u001b[0m \u001b[0;34m=\u001b[0m \u001b[0mdf2000\u001b[0m\u001b[0;34m[\u001b[0m\u001b[0;34m\"clean_reviews\"\u001b[0m\u001b[0;34m]\u001b[0m\u001b[0;34m.\u001b[0m\u001b[0mapply\u001b[0m\u001b[0;34m(\u001b[0m\u001b[0;32mlambda\u001b[0m \u001b[0mx\u001b[0m\u001b[0;34m:\u001b[0m \u001b[0mbabelfyReview\u001b[0m\u001b[0;34m(\u001b[0m\u001b[0mx\u001b[0m\u001b[0;34m)\u001b[0m\u001b[0;34m)\u001b[0m\u001b[0;34m\u001b[0m\u001b[0;34m\u001b[0m\u001b[0m\n\u001b[0m",
            "\u001b[0;32m/usr/local/lib/python3.6/dist-packages/pandas/core/series.py\u001b[0m in \u001b[0;36mapply\u001b[0;34m(self, func, convert_dtype, args, **kwds)\u001b[0m\n\u001b[1;32m   3846\u001b[0m             \u001b[0;32melse\u001b[0m\u001b[0;34m:\u001b[0m\u001b[0;34m\u001b[0m\u001b[0;34m\u001b[0m\u001b[0m\n\u001b[1;32m   3847\u001b[0m                 \u001b[0mvalues\u001b[0m \u001b[0;34m=\u001b[0m \u001b[0mself\u001b[0m\u001b[0;34m.\u001b[0m\u001b[0mastype\u001b[0m\u001b[0;34m(\u001b[0m\u001b[0mobject\u001b[0m\u001b[0;34m)\u001b[0m\u001b[0;34m.\u001b[0m\u001b[0mvalues\u001b[0m\u001b[0;34m\u001b[0m\u001b[0;34m\u001b[0m\u001b[0m\n\u001b[0;32m-> 3848\u001b[0;31m                 \u001b[0mmapped\u001b[0m \u001b[0;34m=\u001b[0m \u001b[0mlib\u001b[0m\u001b[0;34m.\u001b[0m\u001b[0mmap_infer\u001b[0m\u001b[0;34m(\u001b[0m\u001b[0mvalues\u001b[0m\u001b[0;34m,\u001b[0m \u001b[0mf\u001b[0m\u001b[0;34m,\u001b[0m \u001b[0mconvert\u001b[0m\u001b[0;34m=\u001b[0m\u001b[0mconvert_dtype\u001b[0m\u001b[0;34m)\u001b[0m\u001b[0;34m\u001b[0m\u001b[0;34m\u001b[0m\u001b[0m\n\u001b[0m\u001b[1;32m   3849\u001b[0m \u001b[0;34m\u001b[0m\u001b[0m\n\u001b[1;32m   3850\u001b[0m         \u001b[0;32mif\u001b[0m \u001b[0mlen\u001b[0m\u001b[0;34m(\u001b[0m\u001b[0mmapped\u001b[0m\u001b[0;34m)\u001b[0m \u001b[0;32mand\u001b[0m \u001b[0misinstance\u001b[0m\u001b[0;34m(\u001b[0m\u001b[0mmapped\u001b[0m\u001b[0;34m[\u001b[0m\u001b[0;36m0\u001b[0m\u001b[0;34m]\u001b[0m\u001b[0;34m,\u001b[0m \u001b[0mSeries\u001b[0m\u001b[0;34m)\u001b[0m\u001b[0;34m:\u001b[0m\u001b[0;34m\u001b[0m\u001b[0;34m\u001b[0m\u001b[0m\n",
            "\u001b[0;32mpandas/_libs/lib.pyx\u001b[0m in \u001b[0;36mpandas._libs.lib.map_infer\u001b[0;34m()\u001b[0m\n",
            "\u001b[0;32m<ipython-input-21-9a82312f4a40>\u001b[0m in \u001b[0;36m<lambda>\u001b[0;34m(x)\u001b[0m\n\u001b[0;32m----> 1\u001b[0;31m \u001b[0mdf2000\u001b[0m\u001b[0;34m[\u001b[0m\u001b[0;34m\"clean_reviews\"\u001b[0m\u001b[0;34m]\u001b[0m \u001b[0;34m=\u001b[0m \u001b[0mdf2000\u001b[0m\u001b[0;34m[\u001b[0m\u001b[0;34m\"clean_reviews\"\u001b[0m\u001b[0;34m]\u001b[0m\u001b[0;34m.\u001b[0m\u001b[0mapply\u001b[0m\u001b[0;34m(\u001b[0m\u001b[0;32mlambda\u001b[0m \u001b[0mx\u001b[0m\u001b[0;34m:\u001b[0m \u001b[0mbabelfyReview\u001b[0m\u001b[0;34m(\u001b[0m\u001b[0mx\u001b[0m\u001b[0;34m)\u001b[0m\u001b[0;34m)\u001b[0m\u001b[0;34m\u001b[0m\u001b[0;34m\u001b[0m\u001b[0m\n\u001b[0m",
            "\u001b[0;32m<ipython-input-19-cc45bbc707ae>\u001b[0m in \u001b[0;36mbabelfyReview\u001b[0;34m(x)\u001b[0m\n\u001b[1;32m      2\u001b[0m \u001b[0;34m\u001b[0m\u001b[0m\n\u001b[1;32m      3\u001b[0m   \u001b[0;31m# Babelfy sentence\u001b[0m\u001b[0;34m\u001b[0m\u001b[0;34m\u001b[0m\u001b[0;34m\u001b[0m\u001b[0m\n\u001b[0;32m----> 4\u001b[0;31m   \u001b[0mbabel_client\u001b[0m\u001b[0;34m.\u001b[0m\u001b[0mbabelfy\u001b[0m\u001b[0;34m(\u001b[0m\u001b[0mx\u001b[0m\u001b[0;34m)\u001b[0m\u001b[0;34m\u001b[0m\u001b[0;34m\u001b[0m\u001b[0m\n\u001b[0m\u001b[1;32m      5\u001b[0m \u001b[0;34m\u001b[0m\u001b[0m\n\u001b[1;32m      6\u001b[0m   \u001b[0;31m# Get entity data\u001b[0m\u001b[0;34m\u001b[0m\u001b[0;34m\u001b[0m\u001b[0;34m\u001b[0m\u001b[0m\n",
            "\u001b[0;32m/usr/local/lib/python3.6/dist-packages/babelpy/babelfy.py\u001b[0m in \u001b[0;36mbabelfy\u001b[0;34m(self, text, params)\u001b[0m\n\u001b[1;32m     97\u001b[0m         \u001b[0mrequest\u001b[0m \u001b[0;34m=\u001b[0m \u001b[0mRequest\u001b[0m\u001b[0;34m(\u001b[0m\u001b[0murl\u001b[0m\u001b[0;34m)\u001b[0m\u001b[0;34m\u001b[0m\u001b[0;34m\u001b[0m\u001b[0m\n\u001b[1;32m     98\u001b[0m         \u001b[0mrequest\u001b[0m\u001b[0;34m.\u001b[0m\u001b[0madd_header\u001b[0m\u001b[0;34m(\u001b[0m\u001b[0;34m'Accept-encoding'\u001b[0m\u001b[0;34m,\u001b[0m \u001b[0;34m'gzip'\u001b[0m\u001b[0;34m)\u001b[0m\u001b[0;34m\u001b[0m\u001b[0;34m\u001b[0m\u001b[0m\n\u001b[0;32m---> 99\u001b[0;31m         \u001b[0mresponse\u001b[0m \u001b[0;34m=\u001b[0m \u001b[0murlopen\u001b[0m\u001b[0;34m(\u001b[0m\u001b[0mrequest\u001b[0m\u001b[0;34m)\u001b[0m\u001b[0;34m\u001b[0m\u001b[0;34m\u001b[0m\u001b[0m\n\u001b[0m\u001b[1;32m    100\u001b[0m         \u001b[0;32mif\u001b[0m \u001b[0msys\u001b[0m\u001b[0;34m.\u001b[0m\u001b[0mversion\u001b[0m \u001b[0;34m<\u001b[0m \u001b[0;34m'3'\u001b[0m\u001b[0;34m:\u001b[0m\u001b[0;34m\u001b[0m\u001b[0;34m\u001b[0m\u001b[0m\n\u001b[1;32m    101\u001b[0m             \u001b[0mbuf\u001b[0m \u001b[0;34m=\u001b[0m \u001b[0mStringIO\u001b[0m\u001b[0;34m(\u001b[0m\u001b[0mresponse\u001b[0m\u001b[0;34m.\u001b[0m\u001b[0mread\u001b[0m\u001b[0;34m(\u001b[0m\u001b[0;34m)\u001b[0m\u001b[0;34m)\u001b[0m\u001b[0;34m\u001b[0m\u001b[0;34m\u001b[0m\u001b[0m\n",
            "\u001b[0;32m/usr/lib/python3.6/urllib/request.py\u001b[0m in \u001b[0;36murlopen\u001b[0;34m(url, data, timeout, cafile, capath, cadefault, context)\u001b[0m\n\u001b[1;32m    221\u001b[0m     \u001b[0;32melse\u001b[0m\u001b[0;34m:\u001b[0m\u001b[0;34m\u001b[0m\u001b[0;34m\u001b[0m\u001b[0m\n\u001b[1;32m    222\u001b[0m         \u001b[0mopener\u001b[0m \u001b[0;34m=\u001b[0m \u001b[0m_opener\u001b[0m\u001b[0;34m\u001b[0m\u001b[0;34m\u001b[0m\u001b[0m\n\u001b[0;32m--> 223\u001b[0;31m     \u001b[0;32mreturn\u001b[0m \u001b[0mopener\u001b[0m\u001b[0;34m.\u001b[0m\u001b[0mopen\u001b[0m\u001b[0;34m(\u001b[0m\u001b[0murl\u001b[0m\u001b[0;34m,\u001b[0m \u001b[0mdata\u001b[0m\u001b[0;34m,\u001b[0m \u001b[0mtimeout\u001b[0m\u001b[0;34m)\u001b[0m\u001b[0;34m\u001b[0m\u001b[0;34m\u001b[0m\u001b[0m\n\u001b[0m\u001b[1;32m    224\u001b[0m \u001b[0;34m\u001b[0m\u001b[0m\n\u001b[1;32m    225\u001b[0m \u001b[0;32mdef\u001b[0m \u001b[0minstall_opener\u001b[0m\u001b[0;34m(\u001b[0m\u001b[0mopener\u001b[0m\u001b[0;34m)\u001b[0m\u001b[0;34m:\u001b[0m\u001b[0;34m\u001b[0m\u001b[0;34m\u001b[0m\u001b[0m\n",
            "\u001b[0;32m/usr/lib/python3.6/urllib/request.py\u001b[0m in \u001b[0;36mopen\u001b[0;34m(self, fullurl, data, timeout)\u001b[0m\n\u001b[1;32m    524\u001b[0m             \u001b[0mreq\u001b[0m \u001b[0;34m=\u001b[0m \u001b[0mmeth\u001b[0m\u001b[0;34m(\u001b[0m\u001b[0mreq\u001b[0m\u001b[0;34m)\u001b[0m\u001b[0;34m\u001b[0m\u001b[0;34m\u001b[0m\u001b[0m\n\u001b[1;32m    525\u001b[0m \u001b[0;34m\u001b[0m\u001b[0m\n\u001b[0;32m--> 526\u001b[0;31m         \u001b[0mresponse\u001b[0m \u001b[0;34m=\u001b[0m \u001b[0mself\u001b[0m\u001b[0;34m.\u001b[0m\u001b[0m_open\u001b[0m\u001b[0;34m(\u001b[0m\u001b[0mreq\u001b[0m\u001b[0;34m,\u001b[0m \u001b[0mdata\u001b[0m\u001b[0;34m)\u001b[0m\u001b[0;34m\u001b[0m\u001b[0;34m\u001b[0m\u001b[0m\n\u001b[0m\u001b[1;32m    527\u001b[0m \u001b[0;34m\u001b[0m\u001b[0m\n\u001b[1;32m    528\u001b[0m         \u001b[0;31m# post-process response\u001b[0m\u001b[0;34m\u001b[0m\u001b[0;34m\u001b[0m\u001b[0;34m\u001b[0m\u001b[0m\n",
            "\u001b[0;32m/usr/lib/python3.6/urllib/request.py\u001b[0m in \u001b[0;36m_open\u001b[0;34m(self, req, data)\u001b[0m\n\u001b[1;32m    542\u001b[0m         \u001b[0mprotocol\u001b[0m \u001b[0;34m=\u001b[0m \u001b[0mreq\u001b[0m\u001b[0;34m.\u001b[0m\u001b[0mtype\u001b[0m\u001b[0;34m\u001b[0m\u001b[0;34m\u001b[0m\u001b[0m\n\u001b[1;32m    543\u001b[0m         result = self._call_chain(self.handle_open, protocol, protocol +\n\u001b[0;32m--> 544\u001b[0;31m                                   '_open', req)\n\u001b[0m\u001b[1;32m    545\u001b[0m         \u001b[0;32mif\u001b[0m \u001b[0mresult\u001b[0m\u001b[0;34m:\u001b[0m\u001b[0;34m\u001b[0m\u001b[0;34m\u001b[0m\u001b[0m\n\u001b[1;32m    546\u001b[0m             \u001b[0;32mreturn\u001b[0m \u001b[0mresult\u001b[0m\u001b[0;34m\u001b[0m\u001b[0;34m\u001b[0m\u001b[0m\n",
            "\u001b[0;32m/usr/lib/python3.6/urllib/request.py\u001b[0m in \u001b[0;36m_call_chain\u001b[0;34m(self, chain, kind, meth_name, *args)\u001b[0m\n\u001b[1;32m    502\u001b[0m         \u001b[0;32mfor\u001b[0m \u001b[0mhandler\u001b[0m \u001b[0;32min\u001b[0m \u001b[0mhandlers\u001b[0m\u001b[0;34m:\u001b[0m\u001b[0;34m\u001b[0m\u001b[0;34m\u001b[0m\u001b[0m\n\u001b[1;32m    503\u001b[0m             \u001b[0mfunc\u001b[0m \u001b[0;34m=\u001b[0m \u001b[0mgetattr\u001b[0m\u001b[0;34m(\u001b[0m\u001b[0mhandler\u001b[0m\u001b[0;34m,\u001b[0m \u001b[0mmeth_name\u001b[0m\u001b[0;34m)\u001b[0m\u001b[0;34m\u001b[0m\u001b[0;34m\u001b[0m\u001b[0m\n\u001b[0;32m--> 504\u001b[0;31m             \u001b[0mresult\u001b[0m \u001b[0;34m=\u001b[0m \u001b[0mfunc\u001b[0m\u001b[0;34m(\u001b[0m\u001b[0;34m*\u001b[0m\u001b[0margs\u001b[0m\u001b[0;34m)\u001b[0m\u001b[0;34m\u001b[0m\u001b[0;34m\u001b[0m\u001b[0m\n\u001b[0m\u001b[1;32m    505\u001b[0m             \u001b[0;32mif\u001b[0m \u001b[0mresult\u001b[0m \u001b[0;32mis\u001b[0m \u001b[0;32mnot\u001b[0m \u001b[0;32mNone\u001b[0m\u001b[0;34m:\u001b[0m\u001b[0;34m\u001b[0m\u001b[0;34m\u001b[0m\u001b[0m\n\u001b[1;32m    506\u001b[0m                 \u001b[0;32mreturn\u001b[0m \u001b[0mresult\u001b[0m\u001b[0;34m\u001b[0m\u001b[0;34m\u001b[0m\u001b[0m\n",
            "\u001b[0;32m/usr/lib/python3.6/urllib/request.py\u001b[0m in \u001b[0;36mhttps_open\u001b[0;34m(self, req)\u001b[0m\n\u001b[1;32m   1366\u001b[0m         \u001b[0;32mdef\u001b[0m \u001b[0mhttps_open\u001b[0m\u001b[0;34m(\u001b[0m\u001b[0mself\u001b[0m\u001b[0;34m,\u001b[0m \u001b[0mreq\u001b[0m\u001b[0;34m)\u001b[0m\u001b[0;34m:\u001b[0m\u001b[0;34m\u001b[0m\u001b[0;34m\u001b[0m\u001b[0m\n\u001b[1;32m   1367\u001b[0m             return self.do_open(http.client.HTTPSConnection, req,\n\u001b[0;32m-> 1368\u001b[0;31m                 context=self._context, check_hostname=self._check_hostname)\n\u001b[0m\u001b[1;32m   1369\u001b[0m \u001b[0;34m\u001b[0m\u001b[0m\n\u001b[1;32m   1370\u001b[0m         \u001b[0mhttps_request\u001b[0m \u001b[0;34m=\u001b[0m \u001b[0mAbstractHTTPHandler\u001b[0m\u001b[0;34m.\u001b[0m\u001b[0mdo_request_\u001b[0m\u001b[0;34m\u001b[0m\u001b[0;34m\u001b[0m\u001b[0m\n",
            "\u001b[0;32m/usr/lib/python3.6/urllib/request.py\u001b[0m in \u001b[0;36mdo_open\u001b[0;34m(self, http_class, req, **http_conn_args)\u001b[0m\n\u001b[1;32m   1323\u001b[0m             \u001b[0;32mtry\u001b[0m\u001b[0;34m:\u001b[0m\u001b[0;34m\u001b[0m\u001b[0;34m\u001b[0m\u001b[0m\n\u001b[1;32m   1324\u001b[0m                 h.request(req.get_method(), req.selector, req.data, headers,\n\u001b[0;32m-> 1325\u001b[0;31m                           encode_chunked=req.has_header('Transfer-encoding'))\n\u001b[0m\u001b[1;32m   1326\u001b[0m             \u001b[0;32mexcept\u001b[0m \u001b[0mOSError\u001b[0m \u001b[0;32mas\u001b[0m \u001b[0merr\u001b[0m\u001b[0;34m:\u001b[0m \u001b[0;31m# timeout error\u001b[0m\u001b[0;34m\u001b[0m\u001b[0;34m\u001b[0m\u001b[0m\n\u001b[1;32m   1327\u001b[0m                 \u001b[0;32mraise\u001b[0m \u001b[0mURLError\u001b[0m\u001b[0;34m(\u001b[0m\u001b[0merr\u001b[0m\u001b[0;34m)\u001b[0m\u001b[0;34m\u001b[0m\u001b[0;34m\u001b[0m\u001b[0m\n",
            "\u001b[0;32m/usr/lib/python3.6/http/client.py\u001b[0m in \u001b[0;36mrequest\u001b[0;34m(self, method, url, body, headers, encode_chunked)\u001b[0m\n\u001b[1;32m   1262\u001b[0m                 encode_chunked=False):\n\u001b[1;32m   1263\u001b[0m         \u001b[0;34m\"\"\"Send a complete request to the server.\"\"\"\u001b[0m\u001b[0;34m\u001b[0m\u001b[0;34m\u001b[0m\u001b[0m\n\u001b[0;32m-> 1264\u001b[0;31m         \u001b[0mself\u001b[0m\u001b[0;34m.\u001b[0m\u001b[0m_send_request\u001b[0m\u001b[0;34m(\u001b[0m\u001b[0mmethod\u001b[0m\u001b[0;34m,\u001b[0m \u001b[0murl\u001b[0m\u001b[0;34m,\u001b[0m \u001b[0mbody\u001b[0m\u001b[0;34m,\u001b[0m \u001b[0mheaders\u001b[0m\u001b[0;34m,\u001b[0m \u001b[0mencode_chunked\u001b[0m\u001b[0;34m)\u001b[0m\u001b[0;34m\u001b[0m\u001b[0;34m\u001b[0m\u001b[0m\n\u001b[0m\u001b[1;32m   1265\u001b[0m \u001b[0;34m\u001b[0m\u001b[0m\n\u001b[1;32m   1266\u001b[0m     \u001b[0;32mdef\u001b[0m \u001b[0m_send_request\u001b[0m\u001b[0;34m(\u001b[0m\u001b[0mself\u001b[0m\u001b[0;34m,\u001b[0m \u001b[0mmethod\u001b[0m\u001b[0;34m,\u001b[0m \u001b[0murl\u001b[0m\u001b[0;34m,\u001b[0m \u001b[0mbody\u001b[0m\u001b[0;34m,\u001b[0m \u001b[0mheaders\u001b[0m\u001b[0;34m,\u001b[0m \u001b[0mencode_chunked\u001b[0m\u001b[0;34m)\u001b[0m\u001b[0;34m:\u001b[0m\u001b[0;34m\u001b[0m\u001b[0;34m\u001b[0m\u001b[0m\n",
            "\u001b[0;32m/usr/lib/python3.6/http/client.py\u001b[0m in \u001b[0;36m_send_request\u001b[0;34m(self, method, url, body, headers, encode_chunked)\u001b[0m\n\u001b[1;32m   1308\u001b[0m             \u001b[0;31m# default charset of iso-8859-1.\u001b[0m\u001b[0;34m\u001b[0m\u001b[0;34m\u001b[0m\u001b[0;34m\u001b[0m\u001b[0m\n\u001b[1;32m   1309\u001b[0m             \u001b[0mbody\u001b[0m \u001b[0;34m=\u001b[0m \u001b[0m_encode\u001b[0m\u001b[0;34m(\u001b[0m\u001b[0mbody\u001b[0m\u001b[0;34m,\u001b[0m \u001b[0;34m'body'\u001b[0m\u001b[0;34m)\u001b[0m\u001b[0;34m\u001b[0m\u001b[0;34m\u001b[0m\u001b[0m\n\u001b[0;32m-> 1310\u001b[0;31m         \u001b[0mself\u001b[0m\u001b[0;34m.\u001b[0m\u001b[0mendheaders\u001b[0m\u001b[0;34m(\u001b[0m\u001b[0mbody\u001b[0m\u001b[0;34m,\u001b[0m \u001b[0mencode_chunked\u001b[0m\u001b[0;34m=\u001b[0m\u001b[0mencode_chunked\u001b[0m\u001b[0;34m)\u001b[0m\u001b[0;34m\u001b[0m\u001b[0;34m\u001b[0m\u001b[0m\n\u001b[0m\u001b[1;32m   1311\u001b[0m \u001b[0;34m\u001b[0m\u001b[0m\n\u001b[1;32m   1312\u001b[0m     \u001b[0;32mdef\u001b[0m \u001b[0mgetresponse\u001b[0m\u001b[0;34m(\u001b[0m\u001b[0mself\u001b[0m\u001b[0;34m)\u001b[0m\u001b[0;34m:\u001b[0m\u001b[0;34m\u001b[0m\u001b[0;34m\u001b[0m\u001b[0m\n",
            "\u001b[0;32m/usr/lib/python3.6/http/client.py\u001b[0m in \u001b[0;36mendheaders\u001b[0;34m(self, message_body, encode_chunked)\u001b[0m\n\u001b[1;32m   1257\u001b[0m         \u001b[0;32melse\u001b[0m\u001b[0;34m:\u001b[0m\u001b[0;34m\u001b[0m\u001b[0;34m\u001b[0m\u001b[0m\n\u001b[1;32m   1258\u001b[0m             \u001b[0;32mraise\u001b[0m \u001b[0mCannotSendHeader\u001b[0m\u001b[0;34m(\u001b[0m\u001b[0;34m)\u001b[0m\u001b[0;34m\u001b[0m\u001b[0;34m\u001b[0m\u001b[0m\n\u001b[0;32m-> 1259\u001b[0;31m         \u001b[0mself\u001b[0m\u001b[0;34m.\u001b[0m\u001b[0m_send_output\u001b[0m\u001b[0;34m(\u001b[0m\u001b[0mmessage_body\u001b[0m\u001b[0;34m,\u001b[0m \u001b[0mencode_chunked\u001b[0m\u001b[0;34m=\u001b[0m\u001b[0mencode_chunked\u001b[0m\u001b[0;34m)\u001b[0m\u001b[0;34m\u001b[0m\u001b[0;34m\u001b[0m\u001b[0m\n\u001b[0m\u001b[1;32m   1260\u001b[0m \u001b[0;34m\u001b[0m\u001b[0m\n\u001b[1;32m   1261\u001b[0m     def request(self, method, url, body=None, headers={}, *,\n",
            "\u001b[0;32m/usr/lib/python3.6/http/client.py\u001b[0m in \u001b[0;36m_send_output\u001b[0;34m(self, message_body, encode_chunked)\u001b[0m\n\u001b[1;32m   1036\u001b[0m         \u001b[0mmsg\u001b[0m \u001b[0;34m=\u001b[0m \u001b[0;34mb\"\\r\\n\"\u001b[0m\u001b[0;34m.\u001b[0m\u001b[0mjoin\u001b[0m\u001b[0;34m(\u001b[0m\u001b[0mself\u001b[0m\u001b[0;34m.\u001b[0m\u001b[0m_buffer\u001b[0m\u001b[0;34m)\u001b[0m\u001b[0;34m\u001b[0m\u001b[0;34m\u001b[0m\u001b[0m\n\u001b[1;32m   1037\u001b[0m         \u001b[0;32mdel\u001b[0m \u001b[0mself\u001b[0m\u001b[0;34m.\u001b[0m\u001b[0m_buffer\u001b[0m\u001b[0;34m[\u001b[0m\u001b[0;34m:\u001b[0m\u001b[0;34m]\u001b[0m\u001b[0;34m\u001b[0m\u001b[0;34m\u001b[0m\u001b[0m\n\u001b[0;32m-> 1038\u001b[0;31m         \u001b[0mself\u001b[0m\u001b[0;34m.\u001b[0m\u001b[0msend\u001b[0m\u001b[0;34m(\u001b[0m\u001b[0mmsg\u001b[0m\u001b[0;34m)\u001b[0m\u001b[0;34m\u001b[0m\u001b[0;34m\u001b[0m\u001b[0m\n\u001b[0m\u001b[1;32m   1039\u001b[0m \u001b[0;34m\u001b[0m\u001b[0m\n\u001b[1;32m   1040\u001b[0m         \u001b[0;32mif\u001b[0m \u001b[0mmessage_body\u001b[0m \u001b[0;32mis\u001b[0m \u001b[0;32mnot\u001b[0m \u001b[0;32mNone\u001b[0m\u001b[0;34m:\u001b[0m\u001b[0;34m\u001b[0m\u001b[0;34m\u001b[0m\u001b[0m\n",
            "\u001b[0;32m/usr/lib/python3.6/http/client.py\u001b[0m in \u001b[0;36msend\u001b[0;34m(self, data)\u001b[0m\n\u001b[1;32m    974\u001b[0m         \u001b[0;32mif\u001b[0m \u001b[0mself\u001b[0m\u001b[0;34m.\u001b[0m\u001b[0msock\u001b[0m \u001b[0;32mis\u001b[0m \u001b[0;32mNone\u001b[0m\u001b[0;34m:\u001b[0m\u001b[0;34m\u001b[0m\u001b[0;34m\u001b[0m\u001b[0m\n\u001b[1;32m    975\u001b[0m             \u001b[0;32mif\u001b[0m \u001b[0mself\u001b[0m\u001b[0;34m.\u001b[0m\u001b[0mauto_open\u001b[0m\u001b[0;34m:\u001b[0m\u001b[0;34m\u001b[0m\u001b[0;34m\u001b[0m\u001b[0m\n\u001b[0;32m--> 976\u001b[0;31m                 \u001b[0mself\u001b[0m\u001b[0;34m.\u001b[0m\u001b[0mconnect\u001b[0m\u001b[0;34m(\u001b[0m\u001b[0;34m)\u001b[0m\u001b[0;34m\u001b[0m\u001b[0;34m\u001b[0m\u001b[0m\n\u001b[0m\u001b[1;32m    977\u001b[0m             \u001b[0;32melse\u001b[0m\u001b[0;34m:\u001b[0m\u001b[0;34m\u001b[0m\u001b[0;34m\u001b[0m\u001b[0m\n\u001b[1;32m    978\u001b[0m                 \u001b[0;32mraise\u001b[0m \u001b[0mNotConnected\u001b[0m\u001b[0;34m(\u001b[0m\u001b[0;34m)\u001b[0m\u001b[0;34m\u001b[0m\u001b[0;34m\u001b[0m\u001b[0m\n",
            "\u001b[0;32m/usr/lib/python3.6/http/client.py\u001b[0m in \u001b[0;36mconnect\u001b[0;34m(self)\u001b[0m\n\u001b[1;32m   1415\u001b[0m             \u001b[0;34m\"Connect to a host on a given (SSL) port.\"\u001b[0m\u001b[0;34m\u001b[0m\u001b[0;34m\u001b[0m\u001b[0m\n\u001b[1;32m   1416\u001b[0m \u001b[0;34m\u001b[0m\u001b[0m\n\u001b[0;32m-> 1417\u001b[0;31m             \u001b[0msuper\u001b[0m\u001b[0;34m(\u001b[0m\u001b[0;34m)\u001b[0m\u001b[0;34m.\u001b[0m\u001b[0mconnect\u001b[0m\u001b[0;34m(\u001b[0m\u001b[0;34m)\u001b[0m\u001b[0;34m\u001b[0m\u001b[0;34m\u001b[0m\u001b[0m\n\u001b[0m\u001b[1;32m   1418\u001b[0m \u001b[0;34m\u001b[0m\u001b[0m\n\u001b[1;32m   1419\u001b[0m             \u001b[0;32mif\u001b[0m \u001b[0mself\u001b[0m\u001b[0;34m.\u001b[0m\u001b[0m_tunnel_host\u001b[0m\u001b[0;34m:\u001b[0m\u001b[0;34m\u001b[0m\u001b[0;34m\u001b[0m\u001b[0m\n",
            "\u001b[0;32m/usr/lib/python3.6/http/client.py\u001b[0m in \u001b[0;36mconnect\u001b[0;34m(self)\u001b[0m\n\u001b[1;32m    946\u001b[0m         \u001b[0;34m\"\"\"Connect to the host and port specified in __init__.\"\"\"\u001b[0m\u001b[0;34m\u001b[0m\u001b[0;34m\u001b[0m\u001b[0m\n\u001b[1;32m    947\u001b[0m         self.sock = self._create_connection(\n\u001b[0;32m--> 948\u001b[0;31m             (self.host,self.port), self.timeout, self.source_address)\n\u001b[0m\u001b[1;32m    949\u001b[0m         \u001b[0mself\u001b[0m\u001b[0;34m.\u001b[0m\u001b[0msock\u001b[0m\u001b[0;34m.\u001b[0m\u001b[0msetsockopt\u001b[0m\u001b[0;34m(\u001b[0m\u001b[0msocket\u001b[0m\u001b[0;34m.\u001b[0m\u001b[0mIPPROTO_TCP\u001b[0m\u001b[0;34m,\u001b[0m \u001b[0msocket\u001b[0m\u001b[0;34m.\u001b[0m\u001b[0mTCP_NODELAY\u001b[0m\u001b[0;34m,\u001b[0m \u001b[0;36m1\u001b[0m\u001b[0;34m)\u001b[0m\u001b[0;34m\u001b[0m\u001b[0;34m\u001b[0m\u001b[0m\n\u001b[1;32m    950\u001b[0m \u001b[0;34m\u001b[0m\u001b[0m\n",
            "\u001b[0;32m/usr/lib/python3.6/socket.py\u001b[0m in \u001b[0;36mcreate_connection\u001b[0;34m(address, timeout, source_address)\u001b[0m\n\u001b[1;32m    711\u001b[0m             \u001b[0;32mif\u001b[0m \u001b[0msource_address\u001b[0m\u001b[0;34m:\u001b[0m\u001b[0;34m\u001b[0m\u001b[0;34m\u001b[0m\u001b[0m\n\u001b[1;32m    712\u001b[0m                 \u001b[0msock\u001b[0m\u001b[0;34m.\u001b[0m\u001b[0mbind\u001b[0m\u001b[0;34m(\u001b[0m\u001b[0msource_address\u001b[0m\u001b[0;34m)\u001b[0m\u001b[0;34m\u001b[0m\u001b[0;34m\u001b[0m\u001b[0m\n\u001b[0;32m--> 713\u001b[0;31m             \u001b[0msock\u001b[0m\u001b[0;34m.\u001b[0m\u001b[0mconnect\u001b[0m\u001b[0;34m(\u001b[0m\u001b[0msa\u001b[0m\u001b[0;34m)\u001b[0m\u001b[0;34m\u001b[0m\u001b[0;34m\u001b[0m\u001b[0m\n\u001b[0m\u001b[1;32m    714\u001b[0m             \u001b[0;31m# Break explicitly a reference cycle\u001b[0m\u001b[0;34m\u001b[0m\u001b[0;34m\u001b[0m\u001b[0;34m\u001b[0m\u001b[0m\n\u001b[1;32m    715\u001b[0m             \u001b[0merr\u001b[0m \u001b[0;34m=\u001b[0m \u001b[0;32mNone\u001b[0m\u001b[0;34m\u001b[0m\u001b[0;34m\u001b[0m\u001b[0m\n",
            "\u001b[0;31mKeyboardInterrupt\u001b[0m: "
          ]
        }
      ]
    },
    {
      "cell_type": "code",
      "metadata": {
        "id": "QC_UYfSHtCPj",
        "colab_type": "code",
        "colab": {}
      },
      "source": [
        "df2000 = df1000_babelfied.append(df2000)\n",
        "\n",
        "df2000.to_pickle(\"df2000_babelfied.pkl\")"
      ],
      "execution_count": 0,
      "outputs": []
    },
    {
      "cell_type": "code",
      "metadata": {
        "id": "dmBYU0stLZqQ",
        "colab_type": "code",
        "outputId": "e944a96c-9278-4aeb-87f3-5c118ed1bd9e",
        "colab": {
          "base_uri": "https://localhost:8080/",
          "height": 399
        }
      },
      "source": [
        "df2000"
      ],
      "execution_count": 0,
      "outputs": [
        {
          "output_type": "execute_result",
          "data": {
            "text/html": [
              "<div>\n",
              "<style scoped>\n",
              "    .dataframe tbody tr th:only-of-type {\n",
              "        vertical-align: middle;\n",
              "    }\n",
              "\n",
              "    .dataframe tbody tr th {\n",
              "        vertical-align: top;\n",
              "    }\n",
              "\n",
              "    .dataframe thead th {\n",
              "        text-align: right;\n",
              "    }\n",
              "</style>\n",
              "<table border=\"1\" class=\"dataframe\">\n",
              "  <thead>\n",
              "    <tr style=\"text-align: right;\">\n",
              "      <th></th>\n",
              "      <th>amazonIDs</th>\n",
              "      <th>reviews</th>\n",
              "      <th>genres</th>\n",
              "      <th>clean_reviews</th>\n",
              "    </tr>\n",
              "  </thead>\n",
              "  <tbody>\n",
              "    <tr>\n",
              "      <th>2398</th>\n",
              "      <td>B000001320</td>\n",
              "      <td>Primitive Streak is the last studio recording ...</td>\n",
              "      <td>Americana,Country,Pop,Adult Alternative,Roots ...</td>\n",
              "      <td>primitive streak last studio recording made su...</td>\n",
              "    </tr>\n",
              "    <tr>\n",
              "      <th>1485</th>\n",
              "      <td>B000000NMZ</td>\n",
              "      <td>I'm not here to review the music on this album...</td>\n",
              "      <td>Progressive,House,Pop,New Age,Dance &amp; Electron...</td>\n",
              "      <td>im review rather quality specific release manu...</td>\n",
              "    </tr>\n",
              "    <tr>\n",
              "      <th>1220</th>\n",
              "      <td>B000000H97</td>\n",
              "      <td>for weeks, track three was the anthem of my sl...</td>\n",
              "      <td>Electronica,Dance &amp; Electronic,Techno,Pop,Ambient</td>\n",
              "      <td>weeks three anthem sleep sweetly sad melody om...</td>\n",
              "    </tr>\n",
              "    <tr>\n",
              "      <th>2382</th>\n",
              "      <td>B0000012FW</td>\n",
              "      <td>Psychedelicatessen is Threshold's second offer...</td>\n",
              "      <td>Progressive Rock,Metal,Progressive,Pop,Rock</td>\n",
              "      <td>psychedelicatessen thresholds second offering ...</td>\n",
              "    </tr>\n",
              "    <tr>\n",
              "      <th>1995</th>\n",
              "      <td>B000000XHF</td>\n",
              "      <td>The modus operandi of Ellington Is Forever, Vo...</td>\n",
              "      <td>Jazz,Pop,Soul-Jazz &amp; Boogaloo</td>\n",
              "      <td>modus operandi ellington forever vol essential...</td>\n",
              "    </tr>\n",
              "    <tr>\n",
              "      <th>...</th>\n",
              "      <td>...</td>\n",
              "      <td>...</td>\n",
              "      <td>...</td>\n",
              "      <td>...</td>\n",
              "    </tr>\n",
              "    <tr>\n",
              "      <th>2181</th>\n",
              "      <td>B000000Z2E</td>\n",
              "      <td>It's on this album that Sonny really begins a ...</td>\n",
              "      <td>Jazz Fusion,R&amp;B,Jazz,Pop,Modern Postbebop,Funk...</td>\n",
              "      <td>sonny really begins journey toward sound refer...</td>\n",
              "    </tr>\n",
              "    <tr>\n",
              "      <th>439</th>\n",
              "      <td>B000000545</td>\n",
              "      <td>This is just as solid as his first and then th...</td>\n",
              "      <td>Gangsta &amp; Hardcore,Pop Rap,Rap &amp; Hip-Hop,West ...</td>\n",
              "      <td>solid first b legit showing world clicks sucse...</td>\n",
              "    </tr>\n",
              "    <tr>\n",
              "      <th>858</th>\n",
              "      <td>B000000DX3</td>\n",
              "      <td>this is a most excellent insight into the earl...</td>\n",
              "      <td>Reggae,World Music,Pop</td>\n",
              "      <td>excellent insight earlier years reggae version...</td>\n",
              "    </tr>\n",
              "    <tr>\n",
              "      <th>854</th>\n",
              "      <td>B000000DWJ</td>\n",
              "      <td>Bunny Wailer's heavy commentary on Apartheid m...</td>\n",
              "      <td>Reggae,World Music,Pop</td>\n",
              "      <td>bunny wailers heavy commentary apartheid makes...</td>\n",
              "    </tr>\n",
              "    <tr>\n",
              "      <th>2532</th>\n",
              "      <td>B0000017DB</td>\n",
              "      <td>This CD &amp;quot;What Kind Of Fool Am I&amp;quot; is ...</td>\n",
              "      <td>Swing Jazz,Vocal Pop,Oldies,Vocal Jazz,Jazz,Tr...</td>\n",
              "      <td>cd quot kind fool quot beautiful ballads keely...</td>\n",
              "    </tr>\n",
              "  </tbody>\n",
              "</table>\n",
              "<p>2000 rows × 4 columns</p>\n",
              "</div>"
            ],
            "text/plain": [
              "       amazonIDs  ...                                      clean_reviews\n",
              "2398  B000001320  ...  primitive streak last studio recording made su...\n",
              "1485  B000000NMZ  ...  im review rather quality specific release manu...\n",
              "1220  B000000H97  ...  weeks three anthem sleep sweetly sad melody om...\n",
              "2382  B0000012FW  ...  psychedelicatessen thresholds second offering ...\n",
              "1995  B000000XHF  ...  modus operandi ellington forever vol essential...\n",
              "...          ...  ...                                                ...\n",
              "2181  B000000Z2E  ...  sonny really begins journey toward sound refer...\n",
              "439   B000000545  ...  solid first b legit showing world clicks sucse...\n",
              "858   B000000DX3  ...  excellent insight earlier years reggae version...\n",
              "854   B000000DWJ  ...  bunny wailers heavy commentary apartheid makes...\n",
              "2532  B0000017DB  ...  cd quot kind fool quot beautiful ballads keely...\n",
              "\n",
              "[2000 rows x 4 columns]"
            ]
          },
          "metadata": {
            "tags": []
          },
          "execution_count": 25
        }
      ]
    },
    {
      "cell_type": "code",
      "metadata": {
        "id": "en2bf9lpujir",
        "colab_type": "code",
        "colab": {}
      },
      "source": [
        "df2000 = pd.read_pickle(\"df2000_babelfied.pkl\")"
      ],
      "execution_count": 0,
      "outputs": []
    },
    {
      "cell_type": "code",
      "metadata": {
        "id": "MTvNh7Y8ofGl",
        "colab_type": "code",
        "colab": {}
      },
      "source": [
        "from sklearn.preprocessing import MultiLabelBinarizer\n",
        "\n",
        "def changeToTuple(x):\n",
        "    stringListGenres = x.split(\",\")\n",
        "    stringListGenres = tuple(stringListGenres)\n",
        "    return(stringListGenres)\n",
        "\n",
        "y = df2000[\"genres\"]\n",
        "y = y.apply(lambda x: changeToTuple(x))\n",
        "\n",
        "targetList = y.tolist()\n",
        "\n",
        "mlb = MultiLabelBinarizer()\n",
        "\n",
        "targetLabelsBin = mlb.fit_transform(targetList)"
      ],
      "execution_count": 0,
      "outputs": []
    },
    {
      "cell_type": "code",
      "metadata": {
        "id": "Nb_6H19NHmF0",
        "colab_type": "code",
        "outputId": "aa6ccd9d-f309-4384-9ef3-33712e1278d0",
        "colab": {
          "base_uri": "https://localhost:8080/",
          "height": 141
        }
      },
      "source": [
        "targetLabelsBin"
      ],
      "execution_count": 0,
      "outputs": [
        {
          "output_type": "execute_result",
          "data": {
            "text/plain": [
              "array([[0, 0, 0, ..., 0, 0, 0],\n",
              "       [0, 0, 0, ..., 0, 0, 0],\n",
              "       [0, 0, 0, ..., 0, 0, 0],\n",
              "       ...,\n",
              "       [0, 0, 0, ..., 0, 1, 0],\n",
              "       [0, 0, 0, ..., 0, 1, 0],\n",
              "       [0, 0, 0, ..., 0, 0, 0]])"
            ]
          },
          "metadata": {
            "tags": []
          },
          "execution_count": 4
        }
      ]
    },
    {
      "cell_type": "code",
      "metadata": {
        "id": "zW1Nwni9zEfn",
        "colab_type": "code",
        "outputId": "c46096b6-f367-4bba-d6a1-b50fae68be6d",
        "colab": {
          "base_uri": "https://localhost:8080/",
          "height": 52
        }
      },
      "source": [
        "!pip install scipy"
      ],
      "execution_count": 0,
      "outputs": [
        {
          "output_type": "stream",
          "text": [
            "Requirement already satisfied: scipy in /usr/local/lib/python3.6/dist-packages (1.4.1)\n",
            "Requirement already satisfied: numpy>=1.13.3 in /usr/local/lib/python3.6/dist-packages (from scipy) (1.18.4)\n"
          ],
          "name": "stdout"
        }
      ]
    },
    {
      "cell_type": "code",
      "metadata": {
        "id": "vbsZdXj6ncd0",
        "colab_type": "code",
        "outputId": "9d449286-619a-4eee-b8da-9b02cd36711e",
        "colab": {
          "base_uri": "https://localhost:8080/",
          "height": 88
        }
      },
      "source": [
        "import sys\n",
        "import numpy\n",
        "#numpy.set_printoptions(threshold=sys.maxsize)\n",
        "from sklearn.feature_extraction.text import TfidfVectorizer\n",
        "from scipy.sparse import csc_matrix\n",
        "\n",
        "tfidf_vectorizer = TfidfVectorizer(max_features=10000)\n",
        "X_train, X_test, y_train, y_test = train_test_split(df2000['clean_reviews'], targetLabelsBin, test_size=0.2, random_state=9)\n",
        "X_train_tfidf = tfidf_vectorizer.fit_transform(X_train).toarray()\n",
        "X_test_tfidf = tfidf_vectorizer.transform(X_test).toarray()\n",
        "print(len(y_train[0]))\n",
        "print(X_train_tfidf.shape)\n",
        "print(X_train_tfidf[0])\n",
        "y_train.shape\n",
        "print(X_test_tfidf.shape)"
      ],
      "execution_count": 4,
      "outputs": [
        {
          "output_type": "stream",
          "text": [
            "327\n",
            "(1600, 10000)\n",
            "[0. 0. 0. ... 0. 0. 0.]\n",
            "(400, 10000)\n"
          ],
          "name": "stdout"
        }
      ]
    },
    {
      "cell_type": "code",
      "metadata": {
        "id": "5tgm01KAGoJB",
        "colab_type": "code",
        "outputId": "96d173d5-ffbc-4e2c-87ef-b9427eecc994",
        "colab": {
          "base_uri": "https://localhost:8080/",
          "height": 870
        }
      },
      "source": [
        "whos"
      ],
      "execution_count": 0,
      "outputs": [
        {
          "output_type": "stream",
          "text": [
            "Variable              Type                   Data/Info\n",
            "------------------------------------------------------\n",
            "API_KEY               str                    ddacf5fe-702e-4b24-b6b8-95a4806d8acc\n",
            "Activation            type                   <class 'keras.layers.core.Activation'>\n",
            "Adam                  type                   <class 'keras.optimizers.Adam'>\n",
            "Dense                 type                   <class 'keras.layers.core.Dense'>\n",
            "Flatten               type                   <class 'keras.layers.core.Flatten'>\n",
            "Input                 function               <function Input at 0x7fa3356fa268>\n",
            "LabelEncoder          type                   <class 'sklearn.preproces<...>ing._label.LabelEncoder'>\n",
            "Model                 type                   <class 'keras.engine.training.Model'>\n",
            "MultiLabelBinarizer   type                   <class 'sklearn.preproces<...>bel.MultiLabelBinarizer'>\n",
            "SGD                   type                   <class 'keras.optimizers.SGD'>\n",
            "Sequential            type                   <class 'keras.engine.sequential.Sequential'>\n",
            "TfidfVectorizer       type                   <class 'sklearn.feature_e<...>on.text.TfidfVectorizer'>\n",
            "X_test                Series                 1220    weeks three anthe<...>ength: 200, dtype: object\n",
            "X_test_tfidf          ndarray                200x10000: 2000000 elems, type `float64`, 16000000 bytes (15.2587890625 Mb)\n",
            "X_train               Series                 1904    youre already big<...>ength: 800, dtype: object\n",
            "X_train_tfidf         ndarray                800x1x10000: 8000000 elems, type `float64`, 64000000 bytes (61.03515625 Mb)\n",
            "adam                  Adam                   <keras.optimizers.Adam object at 0x7fa32c1c1860>\n",
            "babel_client          BabelfyClient          <babelpy.babelfy.BabelfyC<...>object at 0x7fa3a0fd2400>\n",
            "babelfy               module                 <module 'babelpy.babelfy'<...>ages/babelpy/babelfy.py'>\n",
            "babelfyReview         function               <function babelfyReview at 0x7fa334fe90d0>\n",
            "changeToTuple         function               <function changeToTuple at 0x7fa3329a9950>\n",
            "csc_matrix            type                   <class 'scipy.sparse.csc.csc_matrix'>\n",
            "dense1                Tensor                 Tensor(\"dense_7/Relu:0\", <...> 1, 2048), dtype=float32)\n",
            "dense2                Tensor                 Tensor(\"dense_14/Relu:0\",<...>ne, 2048), dtype=float32)\n",
            "df                    DataFrame                     amazonIDs  ...    <...>\\n[2637 rows x 4 columns]\n",
            "df1000                DataFrame                     amazonIDs  ...    <...>\\n[1000 rows x 4 columns]\n",
            "flatten1              Tensor                 Tensor(\"flatten_1/Reshape<...>ne, None), dtype=float32)\n",
            "input_dim             int                    10000\n",
            "input_tfidf           Tensor                 Tensor(\"input_7:0\", shape<...>e, 10000), dtype=float32)\n",
            "load_model            function               <function load_model at 0x7fa335669d08>\n",
            "mlb                   MultiLabelBinarizer    MultiLabelBinarizer(class<...>one, sparse_output=False)\n",
            "model                 Model                  <keras.engine.training.Mo<...>object at 0x7fa32c251c50>\n",
            "np                    module                 <module 'numpy' from '/us<...>kages/numpy/__init__.py'>\n",
            "np_utils              module                 <module 'keras.utils.np_u<...>keras/utils/np_utils.py'>\n",
            "numpy                 module                 <module 'numpy' from '/us<...>kages/numpy/__init__.py'>\n",
            "output                Tensor                 Tensor(\"dense_15/Sigmoid:<...>one, 285), dtype=float32)\n",
            "params                dict                   n=3\n",
            "pd                    module                 <module 'pandas' from '/u<...>ages/pandas/__init__.py'>\n",
            "sys                   module                 <module 'sys' (built-in)>\n",
            "targetLabelsBin       ndarray                1000x285: 285000 elems, type `int64`, 2280000 bytes (2.17437744140625 Mb)\n",
            "targetList            list                   n=1000\n",
            "tfidf_vectorizer      TfidfVectorizer        TfidfVectorizer(analyzer=<...>df=True, vocabulary=None)\n",
            "train_test_split      function               <function train_test_split at 0x7fa374042a60>\n",
            "y                     Series                 2398    (Americana, Count<...>ngth: 1000, dtype: object\n",
            "y_test                ndarray                200x285: 57000 elems, type `int64`, 456000 bytes (445.3125 kb)\n",
            "y_train               ndarray                800x285: 228000 elems, type `int64`, 1824000 bytes (1.739501953125 Mb)\n"
          ],
          "name": "stdout"
        }
      ]
    },
    {
      "cell_type": "markdown",
      "metadata": {
        "id": "IKQKHW3aXwxf",
        "colab_type": "text"
      },
      "source": [
        "# **Building Simple Neural Net**"
      ]
    },
    {
      "cell_type": "code",
      "metadata": {
        "id": "c0GTY10y0TYM",
        "colab_type": "code",
        "outputId": "a8443278-8f0e-4df3-a4f0-e909ebc09186",
        "colab": {
          "base_uri": "https://localhost:8080/",
          "height": 72
        }
      },
      "source": [
        "# creating a simple feed forward network\n",
        "\n",
        "from keras.layers import Input, Dense, Flatten, Dropout\n",
        "\n",
        "input_tfidf = Input(shape=(10000,))\n",
        "dense1 = Dense(2048, activation = 'relu')(input_tfidf)\n",
        "dense2 = Dense(2048, activation = 'relu')(dense1)\n",
        "output = Dense(327, activation = 'sigmoid')(dense2)\n",
        "\n",
        "model = Model(input = input_tfidf, output = output)\n",
        "\n",
        "#similar sequential model\n",
        "\n",
        "modelSeq  = Sequential()\n",
        "modelSeq.add(Dense(2048, input_shape = (10000,), activation = 'relu'))\n",
        "#modelSeq.add(Dropout(0.25))\n",
        "modelSeq.add(Dense(2048, activation = 'relu'))\n",
        "#modelSeq.add(Dropout(0.10))\n",
        "modelSeq.add(Dense(327, activation = 'sigmoid'))\n"
      ],
      "execution_count": 5,
      "outputs": [
        {
          "output_type": "stream",
          "text": [
            "/usr/local/lib/python3.6/dist-packages/ipykernel_launcher.py:10: UserWarning: Update your `Model` call to the Keras 2 API: `Model(inputs=Tensor(\"in..., outputs=Tensor(\"de...)`\n",
            "  # Remove the CWD from sys.path while we load stuff.\n"
          ],
          "name": "stderr"
        }
      ]
    },
    {
      "cell_type": "code",
      "metadata": {
        "id": "2_MLx8xaYFjZ",
        "colab_type": "code",
        "colab": {}
      },
      "source": [
        "# auc function from stackoverflow user tuomastik\n",
        "# currently not using this ---> error being caused with this function?\n",
        "import tensorflow as tf\n",
        "from keras import backend as K\n",
        "\n",
        "def auc(y_true, y_pred):\n",
        "    auc = tf.metrics.AUC(y_true, y_pred)[1]\n",
        "    K.get_session().run(tf.local_variables_initializer())\n",
        "    return auc"
      ],
      "execution_count": 0,
      "outputs": []
    },
    {
      "cell_type": "code",
      "metadata": {
        "id": "OM-2_x2Z1b5X",
        "colab_type": "code",
        "colab": {}
      },
      "source": [
        "from keras.optimizers import SGD, Adam\n",
        "\n",
        "adam = Adam(lr=0.0001)\n",
        "model.compile(optimizer = 'adam',metrics = ['accuracy', tf.keras.metrics.AUC(multi_label = True)], loss = 'binary_crossentropy')\n",
        "modelSeq.compile(optimizer = 'adam',metrics = ['accuracy', tf.keras.metrics.AUC(multi_label = True)], loss = 'binary_crossentropy')"
      ],
      "execution_count": 0,
      "outputs": []
    },
    {
      "cell_type": "code",
      "metadata": {
        "id": "_JnKCq8o9MjI",
        "colab_type": "code",
        "outputId": "998df1a4-4aae-41bc-f442-bc793800e79b",
        "colab": {
          "base_uri": "https://localhost:8080/",
          "height": 266
        }
      },
      "source": [
        "modelSeq.summary()"
      ],
      "execution_count": 0,
      "outputs": [
        {
          "output_type": "stream",
          "text": [
            "Model: \"sequential_3\"\n",
            "_________________________________________________________________\n",
            "Layer (type)                 Output Shape              Param #   \n",
            "=================================================================\n",
            "dense_16 (Dense)             (None, 2048)              20482048  \n",
            "_________________________________________________________________\n",
            "dense_17 (Dense)             (None, 2048)              4196352   \n",
            "_________________________________________________________________\n",
            "dense_18 (Dense)             (None, 327)               670023    \n",
            "=================================================================\n",
            "Total params: 25,348,423\n",
            "Trainable params: 25,348,423\n",
            "Non-trainable params: 0\n",
            "_________________________________________________________________\n"
          ],
          "name": "stdout"
        }
      ]
    },
    {
      "cell_type": "code",
      "metadata": {
        "id": "DN1kmLIXvTSb",
        "colab_type": "code",
        "outputId": "dee37566-54be-46bf-ac99-99af23a7e6c8",
        "colab": {
          "base_uri": "https://localhost:8080/",
          "height": 784
        }
      },
      "source": [
        "model.fit(X_train_tfidf, y_train, epochs = 20, batch_size = 32, verbose = 1, validation_split=0.2)"
      ],
      "execution_count": 8,
      "outputs": [
        {
          "output_type": "stream",
          "text": [
            "Train on 1280 samples, validate on 320 samples\n",
            "Epoch 1/20\n",
            "1280/1280 [==============================] - 20s 16ms/step - loss: 0.1994 - accuracy: 0.9682 - auc: 0.3951 - val_loss: 0.0815 - val_accuracy: 0.9805 - val_auc: 0.4820\n",
            "Epoch 2/20\n",
            "1280/1280 [==============================] - 18s 14ms/step - loss: 0.0790 - accuracy: 0.9815 - auc: 0.5079 - val_loss: 0.0785 - val_accuracy: 0.9805 - val_auc: 0.5227\n",
            "Epoch 3/20\n",
            "1280/1280 [==============================] - 15s 12ms/step - loss: 0.0719 - accuracy: 0.9816 - auc: 0.5309 - val_loss: 0.0774 - val_accuracy: 0.9807 - val_auc: 0.5378\n",
            "Epoch 4/20\n",
            "1280/1280 [==============================] - 19s 15ms/step - loss: 0.0681 - accuracy: 0.9822 - auc: 0.5470 - val_loss: 0.0741 - val_accuracy: 0.9813 - val_auc: 0.5552\n",
            "Epoch 5/20\n",
            "1280/1280 [==============================] - 16s 13ms/step - loss: 0.0596 - accuracy: 0.9836 - auc: 0.5661 - val_loss: 0.0679 - val_accuracy: 0.9820 - val_auc: 0.5781\n",
            "Epoch 6/20\n",
            "1280/1280 [==============================] - 17s 13ms/step - loss: 0.0470 - accuracy: 0.9862 - auc: 0.5928 - val_loss: 0.0637 - val_accuracy: 0.9825 - val_auc: 0.6066\n",
            "Epoch 7/20\n",
            "1280/1280 [==============================] - 16s 13ms/step - loss: 0.0353 - accuracy: 0.9891 - auc: 0.6235 - val_loss: 0.0637 - val_accuracy: 0.9831 - val_auc: 0.6380\n",
            "Epoch 8/20\n",
            "1280/1280 [==============================] - 17s 13ms/step - loss: 0.0268 - accuracy: 0.9915 - auc: 0.6532 - val_loss: 0.0687 - val_accuracy: 0.9832 - val_auc: 0.6669\n",
            "Epoch 9/20\n",
            "1280/1280 [==============================] - 16s 13ms/step - loss: 0.0210 - accuracy: 0.9933 - auc: 0.6813 - val_loss: 0.0728 - val_accuracy: 0.9835 - val_auc: 0.6935\n",
            "Epoch 10/20\n",
            "1280/1280 [==============================] - 16s 12ms/step - loss: 0.0166 - accuracy: 0.9947 - auc: 0.7061 - val_loss: 0.0747 - val_accuracy: 0.9837 - val_auc: 0.7178\n",
            "Epoch 11/20\n",
            "1280/1280 [==============================] - 16s 12ms/step - loss: 0.0130 - accuracy: 0.9959 - auc: 0.7292 - val_loss: 0.0808 - val_accuracy: 0.9839 - val_auc: 0.7389\n",
            "Epoch 12/20\n",
            "1280/1280 [==============================] - 16s 13ms/step - loss: 0.0102 - accuracy: 0.9968 - auc: 0.7477 - val_loss: 0.0882 - val_accuracy: 0.9836 - val_auc: 0.7563\n",
            "Epoch 13/20\n",
            "1280/1280 [==============================] - 16s 13ms/step - loss: 0.0074 - accuracy: 0.9978 - auc: 0.7643 - val_loss: 0.0915 - val_accuracy: 0.9838 - val_auc: 0.7713\n",
            "Epoch 14/20\n",
            "1280/1280 [==============================] - 16s 12ms/step - loss: 0.0055 - accuracy: 0.9985 - auc: 0.7780 - val_loss: 0.0999 - val_accuracy: 0.9837 - val_auc: 0.7839\n",
            "Epoch 15/20\n",
            "1280/1280 [==============================] - 16s 12ms/step - loss: 0.0040 - accuracy: 0.9990 - auc: 0.7898 - val_loss: 0.1068 - val_accuracy: 0.9838 - val_auc: 0.7947\n",
            "Epoch 16/20\n",
            "1280/1280 [==============================] - 16s 13ms/step - loss: 0.0029 - accuracy: 0.9994 - auc: 0.7995 - val_loss: 0.1086 - val_accuracy: 0.9840 - val_auc: 0.8039\n",
            "Epoch 17/20\n",
            "1280/1280 [==============================] - 17s 13ms/step - loss: 0.0019 - accuracy: 0.9997 - auc: 0.8083 - val_loss: 0.1229 - val_accuracy: 0.9836 - val_auc: 0.8117\n",
            "Epoch 18/20\n",
            "1280/1280 [==============================] - 16s 12ms/step - loss: 0.0014 - accuracy: 0.9998 - auc: 0.8154 - val_loss: 0.1279 - val_accuracy: 0.9838 - val_auc: 0.8185\n",
            "Epoch 19/20\n",
            "1280/1280 [==============================] - 16s 12ms/step - loss: 9.6555e-04 - accuracy: 0.9999 - auc: 0.8218 - val_loss: 0.1324 - val_accuracy: 0.9837 - val_auc: 0.8244\n",
            "Epoch 20/20\n",
            "1280/1280 [==============================] - 16s 12ms/step - loss: 6.8391e-04 - accuracy: 1.0000 - auc: 0.8274 - val_loss: 0.1386 - val_accuracy: 0.9836 - val_auc: 0.8297\n"
          ],
          "name": "stdout"
        },
        {
          "output_type": "execute_result",
          "data": {
            "text/plain": [
              "<keras.callbacks.callbacks.History at 0x7f2b074cc0f0>"
            ]
          },
          "metadata": {
            "tags": []
          },
          "execution_count": 8
        }
      ]
    },
    {
      "cell_type": "markdown",
      "metadata": {
        "id": "5ZMyUs_uX2aC",
        "colab_type": "text"
      },
      "source": [
        "# **Testing on specific examples, getting scores, investigating output**"
      ]
    },
    {
      "cell_type": "code",
      "metadata": {
        "id": "CZOyzcI_GVa9",
        "colab_type": "code",
        "colab": {}
      },
      "source": [
        "ynew = modelSeq.predict_classes(X_test_tfidf)"
      ],
      "execution_count": 0,
      "outputs": []
    },
    {
      "cell_type": "code",
      "metadata": {
        "id": "-15a7vp3GvFf",
        "colab_type": "code",
        "colab": {}
      },
      "source": [
        "preds = model.predict(X_test_tfidf)\n",
        "preds[preds>=0.5] = 1\n",
        "preds[preds<0.5] = 0"
      ],
      "execution_count": 0,
      "outputs": []
    },
    {
      "cell_type": "code",
      "metadata": {
        "id": "SK7w9wGQII9m",
        "colab_type": "code",
        "outputId": "225d36c4-b64c-4d3e-f26c-0838712d9b96",
        "colab": {
          "base_uri": "https://localhost:8080/",
          "height": 372
        }
      },
      "source": [
        "preds[25]"
      ],
      "execution_count": 0,
      "outputs": [
        {
          "output_type": "execute_result",
          "data": {
            "text/plain": [
              "array([0., 0., 0., 0., 0., 0., 0., 0., 0., 0., 0., 0., 0., 0., 0., 0., 0.,\n",
              "       0., 0., 0., 0., 0., 0., 0., 0., 0., 0., 0., 0., 0., 0., 0., 0., 0.,\n",
              "       0., 0., 0., 0., 0., 0., 0., 0., 0., 0., 0., 0., 0., 0., 0., 0., 0.,\n",
              "       0., 0., 0., 0., 0., 0., 0., 0., 0., 0., 0., 0., 0., 0., 0., 0., 0.,\n",
              "       0., 0., 0., 0., 0., 0., 0., 0., 0., 0., 0., 0., 0., 0., 0., 0., 0.,\n",
              "       0., 0., 0., 0., 0., 0., 0., 0., 0., 0., 0., 0., 0., 0., 0., 0., 0.,\n",
              "       0., 0., 0., 0., 0., 0., 0., 0., 0., 0., 0., 0., 0., 0., 0., 0., 0.,\n",
              "       0., 0., 0., 0., 0., 0., 0., 0., 0., 0., 0., 0., 0., 0., 0., 0., 0.,\n",
              "       0., 0., 0., 0., 0., 0., 0., 0., 0., 0., 0., 0., 0., 0., 0., 0., 0.,\n",
              "       0., 0., 0., 0., 0., 0., 0., 0., 0., 0., 0., 0., 0., 0., 0., 0., 0.,\n",
              "       0., 0., 0., 0., 0., 0., 0., 0., 0., 0., 0., 0., 0., 0., 0., 0., 0.,\n",
              "       0., 0., 0., 0., 0., 0., 0., 0., 0., 0., 0., 0., 0., 0., 0., 0., 0.,\n",
              "       0., 0., 0., 0., 0., 0., 0., 0., 0., 0., 0., 0., 0., 0., 0., 0., 0.,\n",
              "       1., 0., 0., 0., 0., 0., 0., 0., 0., 0., 0., 0., 0., 0., 0., 0., 0.,\n",
              "       0., 0., 0., 0., 0., 0., 0., 0., 0., 0., 0., 1., 0., 0., 0., 0., 0.,\n",
              "       0., 0., 0., 0., 0., 0., 0., 0., 0., 0., 0., 0., 0., 0., 0., 0., 0.,\n",
              "       0., 0., 0., 0., 0., 0., 0., 0., 0., 0., 0., 0., 0., 0., 0., 0., 0.,\n",
              "       0., 0., 0., 0., 0., 0., 0., 0., 0., 0., 0., 0., 0., 0., 0., 0., 0.,\n",
              "       0., 0., 0., 0., 0., 0., 0., 0., 0., 0., 0., 0., 0., 0., 0., 0., 0.,\n",
              "       0., 0., 0., 0.], dtype=float32)"
            ]
          },
          "metadata": {
            "tags": []
          },
          "execution_count": 47
        }
      ]
    },
    {
      "cell_type": "code",
      "metadata": {
        "id": "njB9ccY2MIj1",
        "colab_type": "code",
        "outputId": "7334b04b-dddc-4662-d293-ed62520d11da",
        "colab": {
          "base_uri": "https://localhost:8080/",
          "height": 35
        }
      },
      "source": [
        "result = np.where(preds[25] == 1.)\n",
        "result"
      ],
      "execution_count": 0,
      "outputs": [
        {
          "output_type": "execute_result",
          "data": {
            "text/plain": [
              "(array([221, 249]),)"
            ]
          },
          "metadata": {
            "tags": []
          },
          "execution_count": 48
        }
      ]
    },
    {
      "cell_type": "code",
      "metadata": {
        "id": "hUXQSEMsMOn5",
        "colab_type": "code",
        "outputId": "b5fe3fb0-3cf6-4c29-a98d-97b27409e30b",
        "colab": {
          "base_uri": "https://localhost:8080/",
          "height": 35
        }
      },
      "source": [
        "result2 = np.where(y_test[25] == 1)\n",
        "result2"
      ],
      "execution_count": 0,
      "outputs": [
        {
          "output_type": "execute_result",
          "data": {
            "text/plain": [
              "(array([ 12,  90, 110, 221, 293]),)"
            ]
          },
          "metadata": {
            "tags": []
          },
          "execution_count": 49
        }
      ]
    },
    {
      "cell_type": "code",
      "metadata": {
        "id": "uggbsTqATrLH",
        "colab_type": "code",
        "outputId": "b17ca360-8b0d-4004-ee26-cc635adcb715",
        "colab": {
          "base_uri": "https://localhost:8080/",
          "height": 52
        }
      },
      "source": [
        "model.evaluate(X_test_tfidf, y_test)"
      ],
      "execution_count": 10,
      "outputs": [
        {
          "output_type": "stream",
          "text": [
            "400/400 [==============================] - 1s 3ms/step\n"
          ],
          "name": "stdout"
        },
        {
          "output_type": "execute_result",
          "data": {
            "text/plain": [
              "[0.13617886781692504, 0.9843807220458984, 0.831349790096283]"
            ]
          },
          "metadata": {
            "tags": []
          },
          "execution_count": 10
        }
      ]
    },
    {
      "cell_type": "code",
      "metadata": {
        "id": "uA6DqQ9bT3uB",
        "colab_type": "code",
        "outputId": "845d94e9-b458-4890-8671-c939292389a3",
        "colab": {
          "base_uri": "https://localhost:8080/",
          "height": 35
        }
      },
      "source": [
        "modelSeq.metrics_names"
      ],
      "execution_count": 0,
      "outputs": [
        {
          "output_type": "execute_result",
          "data": {
            "text/plain": [
              "['loss', 'accuracy']"
            ]
          },
          "metadata": {
            "tags": []
          },
          "execution_count": 188
        }
      ]
    },
    {
      "cell_type": "code",
      "metadata": {
        "id": "MRLbenftbQYO",
        "colab_type": "code",
        "outputId": "69a2f303-a98c-47ad-fce6-a7f013acf6e3",
        "colab": {
          "base_uri": "https://localhost:8080/",
          "height": 35
        }
      },
      "source": [
        "from sklearn.metrics import label_ranking_average_precision_score\n",
        "\n",
        "label_ranking_average_precision_score(y_test, preds)"
      ],
      "execution_count": 13,
      "outputs": [
        {
          "output_type": "execute_result",
          "data": {
            "text/plain": [
              "0.32190892723590553"
            ]
          },
          "metadata": {
            "tags": []
          },
          "execution_count": 13
        }
      ]
    },
    {
      "cell_type": "code",
      "metadata": {
        "id": "OizsTlX301QN",
        "colab_type": "code",
        "colab": {
          "base_uri": "https://localhost:8080/",
          "height": 70
        },
        "outputId": "6b91e022-8180-496c-89ff-55761dd307d8"
      },
      "source": [
        "from sklearn.metrics import average_precision_score\n",
        "\n",
        "preds = model.predict(X_test_tfidf)\n",
        "\n",
        "preds[preds>=0.5] = 1\n",
        "preds[preds<0.5] = 0\n",
        "\n",
        "average_precision_score(y_test, preds)"
      ],
      "execution_count": 12,
      "outputs": [
        {
          "output_type": "stream",
          "text": [
            "/usr/local/lib/python3.6/dist-packages/sklearn/metrics/_ranking.py:677: RuntimeWarning: invalid value encountered in true_divide\n",
            "  recall = tps / tps[-1]\n"
          ],
          "name": "stderr"
        },
        {
          "output_type": "execute_result",
          "data": {
            "text/plain": [
              "nan"
            ]
          },
          "metadata": {
            "tags": []
          },
          "execution_count": 12
        }
      ]
    },
    {
      "cell_type": "code",
      "metadata": {
        "id": "AR-aXUlqCKSg",
        "colab_type": "code",
        "outputId": "2ac396ac-a0f7-4fa0-c075-7fd17422f145",
        "colab": {
          "base_uri": "https://localhost:8080/",
          "height": 1000
        }
      },
      "source": [
        "# use this to check for class imbalances with \"support\" numbers\n",
        "from sklearn.metrics import classification_report\n",
        "\n",
        "print(classification_report(y_test, preds))"
      ],
      "execution_count": 0,
      "outputs": [
        {
          "output_type": "stream",
          "text": [
            "              precision    recall  f1-score   support\n",
            "\n",
            "           0       0.00      0.00      0.00         0\n",
            "           1       0.00      0.00      0.00         1\n",
            "           2       0.00      0.00      0.00        15\n",
            "           3       0.00      0.00      0.00        20\n",
            "           4       0.00      0.00      0.00         7\n",
            "           5       0.00      0.00      0.00         5\n",
            "           6       0.00      0.00      0.00         0\n",
            "           7       0.00      0.00      0.00         9\n",
            "           8       0.00      0.00      0.00         0\n",
            "           9       0.00      0.00      0.00         4\n",
            "          10       0.00      0.00      0.00         6\n",
            "          11       0.89      0.51      0.65        83\n",
            "          12       0.00      0.00      0.00         7\n",
            "          13       0.00      0.00      0.00         0\n",
            "          14       0.00      0.00      0.00        21\n",
            "          15       0.00      0.00      0.00         3\n",
            "          16       0.00      0.00      0.00         6\n",
            "          17       0.00      0.00      0.00         0\n",
            "          18       0.00      0.00      0.00         1\n",
            "          19       0.00      0.00      0.00         0\n",
            "          20       0.00      0.00      0.00         1\n",
            "          21       0.00      0.00      0.00         1\n",
            "          22       0.00      0.00      0.00         1\n",
            "          23       0.00      0.00      0.00         5\n",
            "          24       0.00      0.00      0.00         2\n",
            "          25       0.00      0.00      0.00         0\n",
            "          26       0.00      0.00      0.00         0\n",
            "          27       0.00      0.00      0.00         1\n",
            "          28       0.93      0.35      0.51        40\n",
            "          29       0.00      0.00      0.00         1\n",
            "          30       0.00      0.00      0.00         1\n",
            "          31       0.00      0.00      0.00        19\n",
            "          32       0.90      0.34      0.49        80\n",
            "          33       0.00      0.00      0.00        12\n",
            "          34       0.00      0.00      0.00         0\n",
            "          35       0.00      0.00      0.00         0\n",
            "          36       0.00      0.00      0.00         2\n",
            "          37       0.00      0.00      0.00         0\n",
            "          38       0.00      0.00      0.00         3\n",
            "          39       0.00      0.00      0.00         1\n",
            "          40       0.00      0.00      0.00         7\n",
            "          41       1.00      0.25      0.40        12\n",
            "          42       0.00      0.00      0.00         5\n",
            "          43       0.00      0.00      0.00         5\n",
            "          44       0.00      0.00      0.00         1\n",
            "          45       1.00      0.18      0.31        11\n",
            "          46       0.00      0.00      0.00         3\n",
            "          47       0.00      0.00      0.00         0\n",
            "          48       0.00      0.00      0.00         4\n",
            "          49       0.00      0.00      0.00        17\n",
            "          50       0.00      0.00      0.00         0\n",
            "          51       0.00      0.00      0.00         1\n",
            "          52       0.00      0.00      0.00         3\n",
            "          53       0.00      0.00      0.00         0\n",
            "          54       0.00      0.00      0.00        12\n",
            "          55       0.00      0.00      0.00         4\n",
            "          56       0.00      0.00      0.00         4\n",
            "          57       0.00      0.00      0.00         2\n",
            "          58       0.00      0.00      0.00         0\n",
            "          59       0.00      0.00      0.00         0\n",
            "          60       0.00      0.00      0.00         1\n",
            "          61       0.00      0.00      0.00        11\n",
            "          62       0.00      0.00      0.00         0\n",
            "          63       0.00      0.00      0.00         2\n",
            "          64       0.00      0.00      0.00         0\n",
            "          65       0.00      0.00      0.00        19\n",
            "          66       0.00      0.00      0.00         4\n",
            "          67       0.00      0.00      0.00         5\n",
            "          68       1.00      0.09      0.17        32\n",
            "          69       0.00      0.00      0.00         2\n",
            "          70       0.00      0.00      0.00        16\n",
            "          71       0.00      0.00      0.00         2\n",
            "          72       0.00      0.00      0.00         9\n",
            "          73       0.00      0.00      0.00         0\n",
            "          74       0.00      0.00      0.00         4\n",
            "          75       0.00      0.00      0.00         5\n",
            "          76       0.00      0.00      0.00         1\n",
            "          77       0.00      0.00      0.00         5\n",
            "          78       0.00      0.00      0.00         8\n",
            "          79       0.00      0.00      0.00        22\n",
            "          80       0.00      0.00      0.00         3\n",
            "          81       0.00      0.00      0.00         5\n",
            "          82       0.00      0.00      0.00         7\n",
            "          83       0.00      0.00      0.00         0\n",
            "          84       1.00      0.19      0.32        53\n",
            "          85       0.00      0.00      0.00         2\n",
            "          86       0.00      0.00      0.00         0\n",
            "          87       0.00      0.00      0.00        12\n",
            "          88       0.00      0.00      0.00         3\n",
            "          89       0.00      0.00      0.00         4\n",
            "          90       0.00      0.00      0.00        26\n",
            "          91       0.00      0.00      0.00         6\n",
            "          92       0.00      0.00      0.00        16\n",
            "          93       0.00      0.00      0.00         5\n",
            "          94       0.00      0.00      0.00        11\n",
            "          95       0.00      0.00      0.00         0\n",
            "          96       0.00      0.00      0.00         1\n",
            "          97       0.00      0.00      0.00         1\n",
            "          98       0.00      0.00      0.00         0\n",
            "          99       0.00      0.00      0.00         6\n",
            "         100       0.00      0.00      0.00         2\n",
            "         101       0.00      0.00      0.00         0\n",
            "         102       0.00      0.00      0.00         9\n",
            "         103       0.00      0.00      0.00         4\n",
            "         104       0.00      0.00      0.00         3\n",
            "         105       0.00      0.00      0.00         3\n",
            "         106       0.00      0.00      0.00        18\n",
            "         107       0.40      0.21      0.28        19\n",
            "         108       0.00      0.00      0.00         7\n",
            "         109       0.00      0.00      0.00         1\n",
            "         110       0.00      0.00      0.00         7\n",
            "         111       0.00      0.00      0.00         1\n",
            "         112       0.00      0.00      0.00         0\n",
            "         113       1.00      0.11      0.19        19\n",
            "         114       0.00      0.00      0.00         0\n",
            "         115       0.00      0.00      0.00         0\n",
            "         116       0.00      0.00      0.00         3\n",
            "         117       0.00      0.00      0.00         2\n",
            "         118       0.88      0.36      0.51        59\n",
            "         119       0.00      0.00      0.00        15\n",
            "         120       0.00      0.00      0.00         0\n",
            "         121       0.00      0.00      0.00         0\n",
            "         122       0.00      0.00      0.00         0\n",
            "         123       0.00      0.00      0.00         7\n",
            "         124       0.00      0.00      0.00         0\n",
            "         125       0.00      0.00      0.00         7\n",
            "         126       0.00      0.00      0.00         1\n",
            "         127       0.00      0.00      0.00         1\n",
            "         128       0.00      0.00      0.00         3\n",
            "         129       0.00      0.00      0.00        11\n",
            "         130       0.00      0.00      0.00         2\n",
            "         131       0.00      0.00      0.00         5\n",
            "         132       0.00      0.00      0.00         0\n",
            "         133       0.00      0.00      0.00         1\n",
            "         134       0.00      0.00      0.00         0\n",
            "         135       0.00      0.00      0.00         2\n",
            "         136       0.00      0.00      0.00         1\n",
            "         137       0.00      0.00      0.00        15\n",
            "         138       0.92      0.28      0.43        43\n",
            "         139       0.00      0.00      0.00         4\n",
            "         140       0.00      0.00      0.00         1\n",
            "         141       0.00      0.00      0.00         0\n",
            "         142       0.00      0.00      0.00         4\n",
            "         143       0.00      0.00      0.00         3\n",
            "         144       0.00      0.00      0.00         1\n",
            "         145       0.00      0.00      0.00         0\n",
            "         146       0.00      0.00      0.00         2\n",
            "         147       0.00      0.00      0.00        32\n",
            "         148       0.00      0.00      0.00        30\n",
            "         149       0.00      0.00      0.00         4\n",
            "         150       0.00      0.00      0.00         2\n",
            "         151       0.00      0.00      0.00         1\n",
            "         152       0.00      0.00      0.00         1\n",
            "         153       0.00      0.00      0.00         0\n",
            "         154       1.00      0.10      0.18        10\n",
            "         155       1.00      0.12      0.22         8\n",
            "         156       0.00      0.00      0.00         1\n",
            "         157       0.00      0.00      0.00         0\n",
            "         158       0.00      0.00      0.00         2\n",
            "         159       0.00      0.00      0.00         2\n",
            "         160       0.00      0.00      0.00         4\n",
            "         161       0.00      0.00      0.00         2\n",
            "         162       0.00      0.00      0.00         1\n",
            "         163       0.86      0.67      0.75        97\n",
            "         164       0.00      0.00      0.00        12\n",
            "         165       0.00      0.00      0.00         0\n",
            "         166       0.00      0.00      0.00         0\n",
            "         167       0.00      0.00      0.00         7\n",
            "         168       0.00      0.00      0.00         1\n",
            "         169       1.00      0.14      0.25         7\n",
            "         170       0.88      0.37      0.52        19\n",
            "         171       0.43      0.21      0.29        14\n",
            "         172       0.00      0.00      0.00         1\n",
            "         173       0.00      0.00      0.00         4\n",
            "         174       0.00      0.00      0.00         0\n",
            "         175       0.00      0.00      0.00         0\n",
            "         176       0.00      0.00      0.00         1\n",
            "         177       0.00      0.00      0.00         1\n",
            "         178       0.00      0.00      0.00         0\n",
            "         179       0.00      0.00      0.00         6\n",
            "         180       0.00      0.00      0.00         4\n",
            "         181       0.00      0.00      0.00         1\n",
            "         182       0.00      0.00      0.00         0\n",
            "         183       1.00      0.05      0.09        21\n",
            "         184       0.00      0.00      0.00         1\n",
            "         185       0.00      0.00      0.00        12\n",
            "         186       0.00      0.00      0.00        19\n",
            "         187       0.00      0.00      0.00         0\n",
            "         188       0.00      0.00      0.00         1\n",
            "         189       0.00      0.00      0.00         2\n",
            "         190       0.00      0.00      0.00         2\n",
            "         191       0.00      0.00      0.00         4\n",
            "         192       0.00      0.00      0.00         3\n",
            "         193       0.00      0.00      0.00         0\n",
            "         194       0.00      0.00      0.00         0\n",
            "         195       0.00      0.00      0.00         0\n",
            "         196       0.00      0.00      0.00         2\n",
            "         197       1.00      0.06      0.11        18\n",
            "         198       0.00      0.00      0.00         1\n",
            "         199       0.00      0.00      0.00         2\n",
            "         200       0.00      0.00      0.00         1\n",
            "         201       0.00      0.00      0.00         6\n",
            "         202       0.00      0.00      0.00        15\n",
            "         203       0.00      0.00      0.00         1\n",
            "         204       0.00      0.00      0.00         4\n",
            "         205       0.00      0.00      0.00         1\n",
            "         206       0.00      0.00      0.00         0\n",
            "         207       0.00      0.00      0.00         0\n",
            "         208       0.00      0.00      0.00         4\n",
            "         209       0.00      0.00      0.00         8\n",
            "         210       0.00      0.00      0.00        29\n",
            "         211       0.00      0.00      0.00        12\n",
            "         212       0.00      0.00      0.00         5\n",
            "         213       0.00      0.00      0.00         0\n",
            "         214       0.00      0.00      0.00         6\n",
            "         215       0.00      0.00      0.00         0\n",
            "         216       0.00      0.00      0.00         1\n",
            "         217       0.00      0.00      0.00         0\n",
            "         218       0.00      0.00      0.00         5\n",
            "         219       0.00      0.00      0.00         2\n",
            "         220       0.00      0.00      0.00         2\n",
            "         221       0.93      1.00      0.96       372\n",
            "         222       0.00      0.00      0.00        12\n",
            "         223       0.00      0.00      0.00         5\n",
            "         224       1.00      0.11      0.20         9\n",
            "         225       0.00      0.00      0.00         2\n",
            "         226       0.00      0.00      0.00         9\n",
            "         227       0.00      0.00      0.00         1\n",
            "         228       0.50      0.06      0.11        17\n",
            "         229       0.00      0.00      0.00         1\n",
            "         230       0.00      0.00      0.00        10\n",
            "         231       0.00      0.00      0.00         2\n",
            "         232       0.00      0.00      0.00         3\n",
            "         233       0.00      0.00      0.00         0\n",
            "         234       0.89      0.24      0.37        34\n",
            "         235       0.00      0.00      0.00         4\n",
            "         236       0.00      0.00      0.00         3\n",
            "         237       0.00      0.00      0.00         2\n",
            "         238       0.67      0.14      0.23        58\n",
            "         239       0.00      0.00      0.00         1\n",
            "         240       0.00      0.00      0.00        11\n",
            "         241       0.00      0.00      0.00         0\n",
            "         242       0.00      0.00      0.00         0\n",
            "         243       1.00      0.29      0.44        28\n",
            "         244       0.40      0.14      0.21        29\n",
            "         245       0.00      0.00      0.00         0\n",
            "         246       0.00      0.00      0.00         0\n",
            "         247       0.00      0.00      0.00         0\n",
            "         248       0.00      0.00      0.00         6\n",
            "         249       0.74      0.72      0.73       155\n",
            "         250       0.00      0.00      0.00         1\n",
            "         251       0.00      0.00      0.00         3\n",
            "         252       0.00      0.00      0.00         6\n",
            "         253       0.00      0.00      0.00         4\n",
            "         254       0.00      0.00      0.00         4\n",
            "         255       0.00      0.00      0.00         2\n",
            "         256       0.00      0.00      0.00         0\n",
            "         257       0.00      0.00      0.00         1\n",
            "         258       0.00      0.00      0.00         1\n",
            "         259       0.00      0.00      0.00         0\n",
            "         260       0.00      0.00      0.00         2\n",
            "         261       0.00      0.00      0.00         0\n",
            "         262       0.00      0.00      0.00         0\n",
            "         263       0.00      0.00      0.00        23\n",
            "         264       0.00      0.00      0.00         6\n",
            "         265       0.00      0.00      0.00         2\n",
            "         266       0.00      0.00      0.00         2\n",
            "         267       0.00      0.00      0.00        12\n",
            "         268       0.00      0.00      0.00         2\n",
            "         269       0.00      0.00      0.00         1\n",
            "         270       0.45      0.15      0.22        34\n",
            "         271       0.00      0.00      0.00        11\n",
            "         272       0.00      0.00      0.00         5\n",
            "         273       0.00      0.00      0.00         5\n",
            "         274       0.00      0.00      0.00         1\n",
            "         275       0.00      0.00      0.00         1\n",
            "         276       0.00      0.00      0.00         2\n",
            "         277       0.00      0.00      0.00         3\n",
            "         278       0.00      0.00      0.00         1\n",
            "         279       0.00      0.00      0.00         2\n",
            "         280       0.00      0.00      0.00        22\n",
            "         281       0.00      0.00      0.00         1\n",
            "         282       0.00      0.00      0.00         0\n",
            "         283       0.00      0.00      0.00         2\n",
            "         284       0.00      0.00      0.00         2\n",
            "         285       0.00      0.00      0.00         2\n",
            "         286       0.00      0.00      0.00         1\n",
            "         287       0.00      0.00      0.00         3\n",
            "         288       0.00      0.00      0.00         1\n",
            "         289       0.00      0.00      0.00         0\n",
            "         290       0.00      0.00      0.00        17\n",
            "         291       0.00      0.00      0.00         0\n",
            "         292       0.00      0.00      0.00         0\n",
            "         293       0.00      0.00      0.00         7\n",
            "         294       0.00      0.00      0.00         0\n",
            "         295       0.00      0.00      0.00         0\n",
            "         296       0.00      0.00      0.00         1\n",
            "         297       0.00      0.00      0.00         2\n",
            "         298       0.00      0.00      0.00         0\n",
            "         299       0.00      0.00      0.00         3\n",
            "         300       0.00      0.00      0.00         2\n",
            "         301       0.00      0.00      0.00         0\n",
            "         302       0.00      0.00      0.00         0\n",
            "         303       0.00      0.00      0.00        24\n",
            "         304       0.00      0.00      0.00         3\n",
            "         305       1.00      0.05      0.09        22\n",
            "         306       0.50      0.09      0.15        34\n",
            "         307       0.00      0.00      0.00        11\n",
            "         308       0.00      0.00      0.00        10\n",
            "         309       0.00      0.00      0.00        15\n",
            "         310       0.00      0.00      0.00         1\n",
            "         311       0.00      0.00      0.00         1\n",
            "         312       0.00      0.00      0.00         0\n",
            "         313       0.00      0.00      0.00         0\n",
            "         314       0.00      0.00      0.00         0\n",
            "         315       0.00      0.00      0.00         0\n",
            "         316       0.00      0.00      0.00         4\n",
            "         317       0.00      0.00      0.00         9\n",
            "         318       0.00      0.00      0.00        15\n",
            "         319       0.00      0.00      0.00         4\n",
            "         320       0.00      0.00      0.00        28\n",
            "         321       0.00      0.00      0.00         3\n",
            "         322       0.00      0.00      0.00         1\n",
            "         323       0.00      0.00      0.00         1\n",
            "         324       0.00      0.00      0.00         1\n",
            "         325       0.75      0.60      0.67        78\n",
            "         326       0.00      0.00      0.00         1\n",
            "\n",
            "   micro avg       0.85      0.29      0.43      2752\n",
            "   macro avg       0.08      0.02      0.03      2752\n",
            "weighted avg       0.47      0.29      0.32      2752\n",
            " samples avg       0.87      0.33      0.44      2752\n",
            "\n"
          ],
          "name": "stdout"
        },
        {
          "output_type": "stream",
          "text": [
            "/usr/local/lib/python3.6/dist-packages/sklearn/metrics/_classification.py:1272: UndefinedMetricWarning: Precision and F-score are ill-defined and being set to 0.0 in labels with no predicted samples. Use `zero_division` parameter to control this behavior.\n",
            "  _warn_prf(average, modifier, msg_start, len(result))\n",
            "/usr/local/lib/python3.6/dist-packages/sklearn/metrics/_classification.py:1272: UndefinedMetricWarning: Recall and F-score are ill-defined and being set to 0.0 in labels with no true samples. Use `zero_division` parameter to control this behavior.\n",
            "  _warn_prf(average, modifier, msg_start, len(result))\n"
          ],
          "name": "stderr"
        }
      ]
    },
    {
      "cell_type": "markdown",
      "metadata": {
        "id": "M7ZSLS49bm1L",
        "colab_type": "text"
      },
      "source": [
        "Label ranking average precision (LRAP) averages over the samples the answer to the following question: for each ground truth label, what fraction of higher-ranked labels were true labels? This performance measure will be higher if you are able to give better rank to the labels associated with each sample. The obtained score is always strictly greater than 0, and the best value is 1. If there is exactly one relevant label per sample, label ranking average precision is equivalent to the mean reciprocal rank."
      ]
    },
    {
      "cell_type": "code",
      "metadata": {
        "id": "gJYyzDimbpqe",
        "colab_type": "code",
        "colab": {}
      },
      "source": [
        ""
      ],
      "execution_count": 0,
      "outputs": []
    }
  ]
}