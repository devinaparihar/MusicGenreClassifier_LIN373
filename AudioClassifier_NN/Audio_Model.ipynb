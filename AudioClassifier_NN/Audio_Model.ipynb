{
  "nbformat": 4,
  "nbformat_minor": 0,
  "metadata": {
    "kernelspec": {
      "display_name": "Python 3",
      "language": "python",
      "name": "python3"
    },
    "language_info": {
      "codemirror_mode": {
        "name": "ipython",
        "version": 3
      },
      "file_extension": ".py",
      "mimetype": "text/x-python",
      "name": "python",
      "nbconvert_exporter": "python",
      "pygments_lexer": "ipython3",
      "version": "3.7.1"
    },
    "colab": {
      "name": "Audio Model.ipynb",
      "provenance": []
    }
  },
  "cells": [
    {
      "cell_type": "code",
      "metadata": {
        "id": "u2llQsb6ttzl",
        "colab_type": "code",
        "colab": {}
      },
      "source": [
        "import pandas as pd\n",
        "import numpy as np\n",
        "from sklearn.model_selection import train_test_split\n",
        "from sklearn.preprocessing import MultiLabelBinarizer, MinMaxScaler\n",
        "from keras import models\n",
        "from keras import layers\n",
        "import tensorflow as tf\n",
        "from google.colab import files\n",
        "import io\n",
        "from sklearn.metrics import label_ranking_average_precision_score"
      ],
      "execution_count": 0,
      "outputs": []
    },
    {
      "cell_type": "markdown",
      "metadata": {
        "id": "U0rORqBmuGHx",
        "colab_type": "text"
      },
      "source": [
        "# Combining datasets from audio processing"
      ]
    },
    {
      "cell_type": "code",
      "metadata": {
        "id": "y59UjGozttzs",
        "colab_type": "code",
        "colab": {}
      },
      "source": [
        "audio_df1 = pd.read_csv('audio_processed_MLP_a.csv')\n",
        "audio_df2 = pd.read_csv('audio_processed_MLP_b.csv')\n",
        "audio_df3 = pd.read_csv('audio_processed_MLP_c.csv')\n",
        "audio_df4 = pd.read_csv('audio_processed_MLP_d.csv')\n",
        "audio_df5 = pd.read_csv('audio_processed_MLP_e.csv')\n",
        "audio_df6 = pd.read_csv('audio_processed_MLP_f.csv')\n",
        "audio_df7 = pd.read_csv('audio_processed_MLP_g.csv')\n",
        "audio_df8 = pd.read_csv('audio_processed_MLP_h.csv')"
      ],
      "execution_count": 0,
      "outputs": []
    },
    {
      "cell_type": "code",
      "metadata": {
        "id": "Bn0RrBZRttzv",
        "colab_type": "code",
        "colab": {}
      },
      "source": [
        "audio_df = pd.concat([audio_df1, audio_df2, audio_df3, audio_df4, audio_df5, audio_df6, audio_df7, audio_df8], ignore_index=True, sort=False)"
      ],
      "execution_count": 0,
      "outputs": []
    },
    {
      "cell_type": "code",
      "metadata": {
        "id": "FaZhngLuttzx",
        "colab_type": "code",
        "colab": {},
        "outputId": "660ab35f-2c47-465f-9099-5f750790d6e3"
      },
      "source": [
        "audio_df.head(100)"
      ],
      "execution_count": 0,
      "outputs": [
        {
          "output_type": "execute_result",
          "data": {
            "text/html": [
              "<div>\n",
              "<style scoped>\n",
              "    .dataframe tbody tr th:only-of-type {\n",
              "        vertical-align: middle;\n",
              "    }\n",
              "\n",
              "    .dataframe tbody tr th {\n",
              "        vertical-align: top;\n",
              "    }\n",
              "\n",
              "    .dataframe thead th {\n",
              "        text-align: right;\n",
              "    }\n",
              "</style>\n",
              "<table border=\"1\" class=\"dataframe\">\n",
              "  <thead>\n",
              "    <tr style=\"text-align: right;\">\n",
              "      <th></th>\n",
              "      <th>Unnamed: 0</th>\n",
              "      <th>index</th>\n",
              "      <th>amazonIDs</th>\n",
              "      <th>Chroma Stft</th>\n",
              "      <th>Spectral Centroid</th>\n",
              "      <th>Spectral Bandwidth</th>\n",
              "      <th>Spectral Rolloff</th>\n",
              "      <th>ZCR</th>\n",
              "      <th>MFCC 1</th>\n",
              "      <th>MFCC 2</th>\n",
              "      <th>MFCC 3</th>\n",
              "      <th>MFCC 4</th>\n",
              "      <th>MFCC 5</th>\n",
              "      <th>Genres</th>\n",
              "    </tr>\n",
              "  </thead>\n",
              "  <tbody>\n",
              "    <tr>\n",
              "      <th>0</th>\n",
              "      <td>0</td>\n",
              "      <td>2</td>\n",
              "      <td>1906063443</td>\n",
              "      <td>0.317631</td>\n",
              "      <td>1858.848095</td>\n",
              "      <td>2070.823969</td>\n",
              "      <td>3804.451995</td>\n",
              "      <td>0.086750</td>\n",
              "      <td>-110.527584</td>\n",
              "      <td>107.819219</td>\n",
              "      <td>-12.992357</td>\n",
              "      <td>23.560247</td>\n",
              "      <td>0.107660</td>\n",
              "      <td>Europe,Christian,Eastern Europe,Pop,Gypsy,Worl...</td>\n",
              "    </tr>\n",
              "    <tr>\n",
              "      <th>1</th>\n",
              "      <td>1</td>\n",
              "      <td>3</td>\n",
              "      <td>1929243766</td>\n",
              "      <td>0.407539</td>\n",
              "      <td>2430.657788</td>\n",
              "      <td>1993.710689</td>\n",
              "      <td>4243.952115</td>\n",
              "      <td>0.150768</td>\n",
              "      <td>-152.042158</td>\n",
              "      <td>87.872922</td>\n",
              "      <td>-49.915526</td>\n",
              "      <td>10.911422</td>\n",
              "      <td>-15.193659</td>\n",
              "      <td>Comedy &amp; Spoken Word,Pop, Comedy &amp; Spoken Word...</td>\n",
              "    </tr>\n",
              "    <tr>\n",
              "      <th>2</th>\n",
              "      <td>2</td>\n",
              "      <td>4</td>\n",
              "      <td>1930864159</td>\n",
              "      <td>0.299010</td>\n",
              "      <td>1344.961601</td>\n",
              "      <td>1702.962194</td>\n",
              "      <td>2691.983722</td>\n",
              "      <td>0.059642</td>\n",
              "      <td>-135.593519</td>\n",
              "      <td>146.903281</td>\n",
              "      <td>-16.374589</td>\n",
              "      <td>33.878938</td>\n",
              "      <td>-6.721820</td>\n",
              "      <td>Pop &amp; Contemporary,Christian,Gospel,Pop, Pop &amp;...</td>\n",
              "    </tr>\n",
              "    <tr>\n",
              "      <th>3</th>\n",
              "      <td>3</td>\n",
              "      <td>6</td>\n",
              "      <td>3937406328</td>\n",
              "      <td>0.344631</td>\n",
              "      <td>750.293388</td>\n",
              "      <td>1203.916434</td>\n",
              "      <td>1506.657556</td>\n",
              "      <td>0.031481</td>\n",
              "      <td>-287.927929</td>\n",
              "      <td>174.176362</td>\n",
              "      <td>5.348383</td>\n",
              "      <td>36.172204</td>\n",
              "      <td>39.698738</td>\n",
              "      <td>Europe,World Music,Blues Rock,Rock,Pop,Dance &amp;...</td>\n",
              "    </tr>\n",
              "    <tr>\n",
              "      <th>4</th>\n",
              "      <td>4</td>\n",
              "      <td>7</td>\n",
              "      <td>4266950926</td>\n",
              "      <td>0.209722</td>\n",
              "      <td>950.325207</td>\n",
              "      <td>1516.822655</td>\n",
              "      <td>1586.357074</td>\n",
              "      <td>0.043833</td>\n",
              "      <td>-206.839709</td>\n",
              "      <td>139.278957</td>\n",
              "      <td>1.349824</td>\n",
              "      <td>20.984522</td>\n",
              "      <td>16.714627</td>\n",
              "      <td>New Age,Meditation,World Music,Pop, New Age,Me...</td>\n",
              "    </tr>\n",
              "    <tr>\n",
              "      <th>...</th>\n",
              "      <td>...</td>\n",
              "      <td>...</td>\n",
              "      <td>...</td>\n",
              "      <td>...</td>\n",
              "      <td>...</td>\n",
              "      <td>...</td>\n",
              "      <td>...</td>\n",
              "      <td>...</td>\n",
              "      <td>...</td>\n",
              "      <td>...</td>\n",
              "      <td>...</td>\n",
              "      <td>...</td>\n",
              "      <td>...</td>\n",
              "      <td>...</td>\n",
              "    </tr>\n",
              "    <tr>\n",
              "      <th>95</th>\n",
              "      <td>22</td>\n",
              "      <td>214</td>\n",
              "      <td>B0000002O1</td>\n",
              "      <td>0.291460</td>\n",
              "      <td>2052.202774</td>\n",
              "      <td>2163.159422</td>\n",
              "      <td>4205.124572</td>\n",
              "      <td>0.113936</td>\n",
              "      <td>-190.334424</td>\n",
              "      <td>97.712082</td>\n",
              "      <td>-13.016282</td>\n",
              "      <td>32.322287</td>\n",
              "      <td>-5.583653</td>\n",
              "      <td>Today's Country,Country,Bluegrass,Pop,Classic ...</td>\n",
              "    </tr>\n",
              "    <tr>\n",
              "      <th>96</th>\n",
              "      <td>23</td>\n",
              "      <td>220</td>\n",
              "      <td>B0000002QZ</td>\n",
              "      <td>0.313866</td>\n",
              "      <td>1272.079600</td>\n",
              "      <td>1379.621112</td>\n",
              "      <td>2375.368970</td>\n",
              "      <td>0.077135</td>\n",
              "      <td>-170.606304</td>\n",
              "      <td>160.817913</td>\n",
              "      <td>-48.638232</td>\n",
              "      <td>31.774473</td>\n",
              "      <td>15.970293</td>\n",
              "      <td>Pop,Folk,Traditional Folk</td>\n",
              "    </tr>\n",
              "    <tr>\n",
              "      <th>97</th>\n",
              "      <td>24</td>\n",
              "      <td>221</td>\n",
              "      <td>B0000002S0</td>\n",
              "      <td>0.308558</td>\n",
              "      <td>1446.929956</td>\n",
              "      <td>1580.531608</td>\n",
              "      <td>2804.899706</td>\n",
              "      <td>0.076404</td>\n",
              "      <td>-221.357855</td>\n",
              "      <td>143.655457</td>\n",
              "      <td>-36.518783</td>\n",
              "      <td>37.657918</td>\n",
              "      <td>-5.605341</td>\n",
              "      <td>Classic Country,Country,Pop,Traditional Folk,T...</td>\n",
              "    </tr>\n",
              "    <tr>\n",
              "      <th>98</th>\n",
              "      <td>25</td>\n",
              "      <td>223</td>\n",
              "      <td>B0000002SC</td>\n",
              "      <td>0.357563</td>\n",
              "      <td>1139.882674</td>\n",
              "      <td>1261.018593</td>\n",
              "      <td>2252.969710</td>\n",
              "      <td>0.067185</td>\n",
              "      <td>-214.357672</td>\n",
              "      <td>174.025115</td>\n",
              "      <td>-39.226681</td>\n",
              "      <td>42.549193</td>\n",
              "      <td>-1.716212</td>\n",
              "      <td>Reggae,Calypso,Latin Music,World Music,Caribbe...</td>\n",
              "    </tr>\n",
              "    <tr>\n",
              "      <th>99</th>\n",
              "      <td>26</td>\n",
              "      <td>234</td>\n",
              "      <td>B0000002Y5</td>\n",
              "      <td>0.376540</td>\n",
              "      <td>2213.495860</td>\n",
              "      <td>2425.588210</td>\n",
              "      <td>4789.787703</td>\n",
              "      <td>0.100315</td>\n",
              "      <td>-114.826793</td>\n",
              "      <td>95.110378</td>\n",
              "      <td>-4.996307</td>\n",
              "      <td>28.115553</td>\n",
              "      <td>10.677966</td>\n",
              "      <td>Soul,Pop,Texas Blues,Electric Blues,R&amp;B,Region...</td>\n",
              "    </tr>\n",
              "  </tbody>\n",
              "</table>\n",
              "<p>100 rows × 14 columns</p>\n",
              "</div>"
            ],
            "text/plain": [
              "    Unnamed: 0  index   amazonIDs  Chroma Stft  Spectral Centroid  \\\n",
              "0            0      2  1906063443     0.317631        1858.848095   \n",
              "1            1      3  1929243766     0.407539        2430.657788   \n",
              "2            2      4  1930864159     0.299010        1344.961601   \n",
              "3            3      6  3937406328     0.344631         750.293388   \n",
              "4            4      7  4266950926     0.209722         950.325207   \n",
              "..         ...    ...         ...          ...                ...   \n",
              "95          22    214  B0000002O1     0.291460        2052.202774   \n",
              "96          23    220  B0000002QZ     0.313866        1272.079600   \n",
              "97          24    221  B0000002S0     0.308558        1446.929956   \n",
              "98          25    223  B0000002SC     0.357563        1139.882674   \n",
              "99          26    234  B0000002Y5     0.376540        2213.495860   \n",
              "\n",
              "    Spectral Bandwidth  Spectral Rolloff       ZCR      MFCC 1      MFCC 2  \\\n",
              "0          2070.823969       3804.451995  0.086750 -110.527584  107.819219   \n",
              "1          1993.710689       4243.952115  0.150768 -152.042158   87.872922   \n",
              "2          1702.962194       2691.983722  0.059642 -135.593519  146.903281   \n",
              "3          1203.916434       1506.657556  0.031481 -287.927929  174.176362   \n",
              "4          1516.822655       1586.357074  0.043833 -206.839709  139.278957   \n",
              "..                 ...               ...       ...         ...         ...   \n",
              "95         2163.159422       4205.124572  0.113936 -190.334424   97.712082   \n",
              "96         1379.621112       2375.368970  0.077135 -170.606304  160.817913   \n",
              "97         1580.531608       2804.899706  0.076404 -221.357855  143.655457   \n",
              "98         1261.018593       2252.969710  0.067185 -214.357672  174.025115   \n",
              "99         2425.588210       4789.787703  0.100315 -114.826793   95.110378   \n",
              "\n",
              "       MFCC 3     MFCC 4     MFCC 5  \\\n",
              "0  -12.992357  23.560247   0.107660   \n",
              "1  -49.915526  10.911422 -15.193659   \n",
              "2  -16.374589  33.878938  -6.721820   \n",
              "3    5.348383  36.172204  39.698738   \n",
              "4    1.349824  20.984522  16.714627   \n",
              "..        ...        ...        ...   \n",
              "95 -13.016282  32.322287  -5.583653   \n",
              "96 -48.638232  31.774473  15.970293   \n",
              "97 -36.518783  37.657918  -5.605341   \n",
              "98 -39.226681  42.549193  -1.716212   \n",
              "99  -4.996307  28.115553  10.677966   \n",
              "\n",
              "                                               Genres  \n",
              "0   Europe,Christian,Eastern Europe,Pop,Gypsy,Worl...  \n",
              "1   Comedy & Spoken Word,Pop, Comedy & Spoken Word...  \n",
              "2   Pop & Contemporary,Christian,Gospel,Pop, Pop &...  \n",
              "3   Europe,World Music,Blues Rock,Rock,Pop,Dance &...  \n",
              "4   New Age,Meditation,World Music,Pop, New Age,Me...  \n",
              "..                                                ...  \n",
              "95  Today's Country,Country,Bluegrass,Pop,Classic ...  \n",
              "96                          Pop,Folk,Traditional Folk  \n",
              "97  Classic Country,Country,Pop,Traditional Folk,T...  \n",
              "98  Reggae,Calypso,Latin Music,World Music,Caribbe...  \n",
              "99  Soul,Pop,Texas Blues,Electric Blues,R&B,Region...  \n",
              "\n",
              "[100 rows x 14 columns]"
            ]
          },
          "metadata": {
            "tags": []
          },
          "execution_count": 5
        }
      ]
    },
    {
      "cell_type": "code",
      "metadata": {
        "id": "XdTmFpsvttz0",
        "colab_type": "code",
        "colab": {}
      },
      "source": [
        "audio_df = audio_df.drop(columns = ['Unnamed: 0'])"
      ],
      "execution_count": 0,
      "outputs": []
    },
    {
      "cell_type": "code",
      "metadata": {
        "id": "lD7l9vCHttz2",
        "colab_type": "code",
        "colab": {},
        "outputId": "aa8f22e9-8945-4271-b5ea-c681131922c5"
      },
      "source": [
        "audio_df.head()"
      ],
      "execution_count": 0,
      "outputs": [
        {
          "output_type": "execute_result",
          "data": {
            "text/html": [
              "<div>\n",
              "<style scoped>\n",
              "    .dataframe tbody tr th:only-of-type {\n",
              "        vertical-align: middle;\n",
              "    }\n",
              "\n",
              "    .dataframe tbody tr th {\n",
              "        vertical-align: top;\n",
              "    }\n",
              "\n",
              "    .dataframe thead th {\n",
              "        text-align: right;\n",
              "    }\n",
              "</style>\n",
              "<table border=\"1\" class=\"dataframe\">\n",
              "  <thead>\n",
              "    <tr style=\"text-align: right;\">\n",
              "      <th></th>\n",
              "      <th>index</th>\n",
              "      <th>amazonIDs</th>\n",
              "      <th>Chroma Stft</th>\n",
              "      <th>Spectral Centroid</th>\n",
              "      <th>Spectral Bandwidth</th>\n",
              "      <th>Spectral Rolloff</th>\n",
              "      <th>ZCR</th>\n",
              "      <th>MFCC 1</th>\n",
              "      <th>MFCC 2</th>\n",
              "      <th>MFCC 3</th>\n",
              "      <th>MFCC 4</th>\n",
              "      <th>MFCC 5</th>\n",
              "      <th>Genres</th>\n",
              "    </tr>\n",
              "  </thead>\n",
              "  <tbody>\n",
              "    <tr>\n",
              "      <th>0</th>\n",
              "      <td>2</td>\n",
              "      <td>1906063443</td>\n",
              "      <td>0.317631</td>\n",
              "      <td>1858.848095</td>\n",
              "      <td>2070.823969</td>\n",
              "      <td>3804.451995</td>\n",
              "      <td>0.086750</td>\n",
              "      <td>-110.527584</td>\n",
              "      <td>107.819219</td>\n",
              "      <td>-12.992357</td>\n",
              "      <td>23.560247</td>\n",
              "      <td>0.107660</td>\n",
              "      <td>Europe,Christian,Eastern Europe,Pop,Gypsy,Worl...</td>\n",
              "    </tr>\n",
              "    <tr>\n",
              "      <th>1</th>\n",
              "      <td>3</td>\n",
              "      <td>1929243766</td>\n",
              "      <td>0.407539</td>\n",
              "      <td>2430.657788</td>\n",
              "      <td>1993.710689</td>\n",
              "      <td>4243.952115</td>\n",
              "      <td>0.150768</td>\n",
              "      <td>-152.042158</td>\n",
              "      <td>87.872922</td>\n",
              "      <td>-49.915526</td>\n",
              "      <td>10.911422</td>\n",
              "      <td>-15.193659</td>\n",
              "      <td>Comedy &amp; Spoken Word,Pop, Comedy &amp; Spoken Word...</td>\n",
              "    </tr>\n",
              "    <tr>\n",
              "      <th>2</th>\n",
              "      <td>4</td>\n",
              "      <td>1930864159</td>\n",
              "      <td>0.299010</td>\n",
              "      <td>1344.961601</td>\n",
              "      <td>1702.962194</td>\n",
              "      <td>2691.983722</td>\n",
              "      <td>0.059642</td>\n",
              "      <td>-135.593519</td>\n",
              "      <td>146.903281</td>\n",
              "      <td>-16.374589</td>\n",
              "      <td>33.878938</td>\n",
              "      <td>-6.721820</td>\n",
              "      <td>Pop &amp; Contemporary,Christian,Gospel,Pop, Pop &amp;...</td>\n",
              "    </tr>\n",
              "    <tr>\n",
              "      <th>3</th>\n",
              "      <td>6</td>\n",
              "      <td>3937406328</td>\n",
              "      <td>0.344631</td>\n",
              "      <td>750.293388</td>\n",
              "      <td>1203.916434</td>\n",
              "      <td>1506.657556</td>\n",
              "      <td>0.031481</td>\n",
              "      <td>-287.927929</td>\n",
              "      <td>174.176362</td>\n",
              "      <td>5.348383</td>\n",
              "      <td>36.172204</td>\n",
              "      <td>39.698738</td>\n",
              "      <td>Europe,World Music,Blues Rock,Rock,Pop,Dance &amp;...</td>\n",
              "    </tr>\n",
              "    <tr>\n",
              "      <th>4</th>\n",
              "      <td>7</td>\n",
              "      <td>4266950926</td>\n",
              "      <td>0.209722</td>\n",
              "      <td>950.325207</td>\n",
              "      <td>1516.822655</td>\n",
              "      <td>1586.357074</td>\n",
              "      <td>0.043833</td>\n",
              "      <td>-206.839709</td>\n",
              "      <td>139.278957</td>\n",
              "      <td>1.349824</td>\n",
              "      <td>20.984522</td>\n",
              "      <td>16.714627</td>\n",
              "      <td>New Age,Meditation,World Music,Pop, New Age,Me...</td>\n",
              "    </tr>\n",
              "  </tbody>\n",
              "</table>\n",
              "</div>"
            ],
            "text/plain": [
              "   index   amazonIDs  Chroma Stft  Spectral Centroid  Spectral Bandwidth  \\\n",
              "0      2  1906063443     0.317631        1858.848095         2070.823969   \n",
              "1      3  1929243766     0.407539        2430.657788         1993.710689   \n",
              "2      4  1930864159     0.299010        1344.961601         1702.962194   \n",
              "3      6  3937406328     0.344631         750.293388         1203.916434   \n",
              "4      7  4266950926     0.209722         950.325207         1516.822655   \n",
              "\n",
              "   Spectral Rolloff       ZCR      MFCC 1      MFCC 2     MFCC 3     MFCC 4  \\\n",
              "0       3804.451995  0.086750 -110.527584  107.819219 -12.992357  23.560247   \n",
              "1       4243.952115  0.150768 -152.042158   87.872922 -49.915526  10.911422   \n",
              "2       2691.983722  0.059642 -135.593519  146.903281 -16.374589  33.878938   \n",
              "3       1506.657556  0.031481 -287.927929  174.176362   5.348383  36.172204   \n",
              "4       1586.357074  0.043833 -206.839709  139.278957   1.349824  20.984522   \n",
              "\n",
              "      MFCC 5                                             Genres  \n",
              "0   0.107660  Europe,Christian,Eastern Europe,Pop,Gypsy,Worl...  \n",
              "1 -15.193659  Comedy & Spoken Word,Pop, Comedy & Spoken Word...  \n",
              "2  -6.721820  Pop & Contemporary,Christian,Gospel,Pop, Pop &...  \n",
              "3  39.698738  Europe,World Music,Blues Rock,Rock,Pop,Dance &...  \n",
              "4  16.714627  New Age,Meditation,World Music,Pop, New Age,Me...  "
            ]
          },
          "metadata": {
            "tags": []
          },
          "execution_count": 7
        }
      ]
    },
    {
      "cell_type": "code",
      "metadata": {
        "id": "NDPM593wttz8",
        "colab_type": "code",
        "colab": {},
        "outputId": "6c186a58-87d0-4529-f7fb-105afdae01d9"
      },
      "source": [
        "audio_df.shape"
      ],
      "execution_count": 0,
      "outputs": [
        {
          "output_type": "execute_result",
          "data": {
            "text/plain": [
              "(551, 13)"
            ]
          },
          "metadata": {
            "tags": []
          },
          "execution_count": 8
        }
      ]
    },
    {
      "cell_type": "code",
      "metadata": {
        "id": "EgDmgLBott0A",
        "colab_type": "code",
        "colab": {}
      },
      "source": [
        "audio_df.to_csv('551_albums_audio.csv')"
      ],
      "execution_count": 0,
      "outputs": []
    },
    {
      "cell_type": "markdown",
      "metadata": {
        "id": "SqkHocY-uC1N",
        "colab_type": "text"
      },
      "source": [
        "# Model"
      ]
    },
    {
      "cell_type": "code",
      "metadata": {
        "id": "2CH4ox5ktzuo",
        "colab_type": "code",
        "colab": {
          "resources": {
            "http://localhost:8080/nbextensions/google.colab/files.js": {
              "data": "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",
              "ok": true,
              "headers": [
                [
                  "content-type",
                  "application/javascript"
                ]
              ],
              "status": 200,
              "status_text": ""
            }
          },
          "base_uri": "https://localhost:8080/",
          "height": 75
        },
        "outputId": "b630b76b-63e8-4c2d-8cf6-5fa687ada9be"
      },
      "source": [
        "uploaded = files.upload()"
      ],
      "execution_count": 3,
      "outputs": [
        {
          "output_type": "display_data",
          "data": {
            "text/html": [
              "\n",
              "     <input type=\"file\" id=\"files-c6b87b0f-cd77-4e19-badd-cefd8d3f1daf\" name=\"files[]\" multiple disabled />\n",
              "     <output id=\"result-c6b87b0f-cd77-4e19-badd-cefd8d3f1daf\">\n",
              "      Upload widget is only available when the cell has been executed in the\n",
              "      current browser session. Please rerun this cell to enable.\n",
              "      </output>\n",
              "      <script src=\"/nbextensions/google.colab/files.js\"></script> "
            ],
            "text/plain": [
              "<IPython.core.display.HTML object>"
            ]
          },
          "metadata": {
            "tags": []
          }
        },
        {
          "output_type": "stream",
          "text": [
            "Saving 551_albums_audio.csv to 551_albums_audio.csv\n"
          ],
          "name": "stdout"
        }
      ]
    },
    {
      "cell_type": "code",
      "metadata": {
        "id": "GC_w8gWEuAq-",
        "colab_type": "code",
        "colab": {}
      },
      "source": [
        "audio_df = pd.read_csv(io.BytesIO(uploaded['551_albums_audio.csv']))"
      ],
      "execution_count": 0,
      "outputs": []
    },
    {
      "cell_type": "code",
      "metadata": {
        "id": "GndArgM3tt0D",
        "colab_type": "code",
        "colab": {
          "base_uri": "https://localhost:8080/",
          "height": 323
        },
        "outputId": "4f885376-70ef-4426-d552-daf51953fe03"
      },
      "source": [
        "audio_df = audio_df.drop(columns = ['Unnamed: 0', 'index', 'amazonIDs'])\n",
        "audio_df.head()"
      ],
      "execution_count": 5,
      "outputs": [
        {
          "output_type": "execute_result",
          "data": {
            "text/html": [
              "<div>\n",
              "<style scoped>\n",
              "    .dataframe tbody tr th:only-of-type {\n",
              "        vertical-align: middle;\n",
              "    }\n",
              "\n",
              "    .dataframe tbody tr th {\n",
              "        vertical-align: top;\n",
              "    }\n",
              "\n",
              "    .dataframe thead th {\n",
              "        text-align: right;\n",
              "    }\n",
              "</style>\n",
              "<table border=\"1\" class=\"dataframe\">\n",
              "  <thead>\n",
              "    <tr style=\"text-align: right;\">\n",
              "      <th></th>\n",
              "      <th>Chroma Stft</th>\n",
              "      <th>Spectral Centroid</th>\n",
              "      <th>Spectral Bandwidth</th>\n",
              "      <th>Spectral Rolloff</th>\n",
              "      <th>ZCR</th>\n",
              "      <th>MFCC 1</th>\n",
              "      <th>MFCC 2</th>\n",
              "      <th>MFCC 3</th>\n",
              "      <th>MFCC 4</th>\n",
              "      <th>MFCC 5</th>\n",
              "      <th>Genres</th>\n",
              "    </tr>\n",
              "  </thead>\n",
              "  <tbody>\n",
              "    <tr>\n",
              "      <th>0</th>\n",
              "      <td>0.317631</td>\n",
              "      <td>1858.848095</td>\n",
              "      <td>2070.823969</td>\n",
              "      <td>3804.451995</td>\n",
              "      <td>0.086750</td>\n",
              "      <td>-110.527584</td>\n",
              "      <td>107.819219</td>\n",
              "      <td>-12.992357</td>\n",
              "      <td>23.560247</td>\n",
              "      <td>0.107660</td>\n",
              "      <td>Europe,Christian,Eastern Europe,Pop,Gypsy,Worl...</td>\n",
              "    </tr>\n",
              "    <tr>\n",
              "      <th>1</th>\n",
              "      <td>0.407539</td>\n",
              "      <td>2430.657788</td>\n",
              "      <td>1993.710689</td>\n",
              "      <td>4243.952115</td>\n",
              "      <td>0.150768</td>\n",
              "      <td>-152.042158</td>\n",
              "      <td>87.872922</td>\n",
              "      <td>-49.915526</td>\n",
              "      <td>10.911422</td>\n",
              "      <td>-15.193659</td>\n",
              "      <td>Comedy &amp; Spoken Word,Pop, Comedy &amp; Spoken Word...</td>\n",
              "    </tr>\n",
              "    <tr>\n",
              "      <th>2</th>\n",
              "      <td>0.299010</td>\n",
              "      <td>1344.961601</td>\n",
              "      <td>1702.962194</td>\n",
              "      <td>2691.983722</td>\n",
              "      <td>0.059642</td>\n",
              "      <td>-135.593519</td>\n",
              "      <td>146.903281</td>\n",
              "      <td>-16.374589</td>\n",
              "      <td>33.878938</td>\n",
              "      <td>-6.721820</td>\n",
              "      <td>Pop &amp; Contemporary,Christian,Gospel,Pop, Pop &amp;...</td>\n",
              "    </tr>\n",
              "    <tr>\n",
              "      <th>3</th>\n",
              "      <td>0.344631</td>\n",
              "      <td>750.293388</td>\n",
              "      <td>1203.916434</td>\n",
              "      <td>1506.657556</td>\n",
              "      <td>0.031481</td>\n",
              "      <td>-287.927929</td>\n",
              "      <td>174.176362</td>\n",
              "      <td>5.348383</td>\n",
              "      <td>36.172204</td>\n",
              "      <td>39.698738</td>\n",
              "      <td>Europe,World Music,Blues Rock,Rock,Pop,Dance &amp;...</td>\n",
              "    </tr>\n",
              "    <tr>\n",
              "      <th>4</th>\n",
              "      <td>0.209722</td>\n",
              "      <td>950.325207</td>\n",
              "      <td>1516.822655</td>\n",
              "      <td>1586.357074</td>\n",
              "      <td>0.043833</td>\n",
              "      <td>-206.839709</td>\n",
              "      <td>139.278957</td>\n",
              "      <td>1.349824</td>\n",
              "      <td>20.984522</td>\n",
              "      <td>16.714627</td>\n",
              "      <td>New Age,Meditation,World Music,Pop, New Age,Me...</td>\n",
              "    </tr>\n",
              "  </tbody>\n",
              "</table>\n",
              "</div>"
            ],
            "text/plain": [
              "   Chroma Stft  ...                                             Genres\n",
              "0     0.317631  ...  Europe,Christian,Eastern Europe,Pop,Gypsy,Worl...\n",
              "1     0.407539  ...  Comedy & Spoken Word,Pop, Comedy & Spoken Word...\n",
              "2     0.299010  ...  Pop & Contemporary,Christian,Gospel,Pop, Pop &...\n",
              "3     0.344631  ...  Europe,World Music,Blues Rock,Rock,Pop,Dance &...\n",
              "4     0.209722  ...  New Age,Meditation,World Music,Pop, New Age,Me...\n",
              "\n",
              "[5 rows x 11 columns]"
            ]
          },
          "metadata": {
            "tags": []
          },
          "execution_count": 5
        }
      ]
    },
    {
      "cell_type": "code",
      "metadata": {
        "id": "VA-5hf8Ntt0F",
        "colab_type": "code",
        "colab": {}
      },
      "source": [
        "scaler = MinMaxScaler()\n",
        "X = scaler.fit_transform(np.array(audio_df.iloc[:, :-1], dtype = float))"
      ],
      "execution_count": 0,
      "outputs": []
    },
    {
      "cell_type": "code",
      "metadata": {
        "id": "Rj1cxtwWtt0H",
        "colab_type": "code",
        "colab": {}
      },
      "source": [
        "def changeToTuple(x):\n",
        "    stringListGenres = x.split(\",\")\n",
        "    stringListGenres = tuple(stringListGenres)\n",
        "    return(stringListGenres)\n",
        "\n",
        "genres = audio_df['Genres']\n",
        "genres = genres.apply(lambda x: changeToTuple(x))\n",
        "\n",
        "genresList = genres.tolist()\n",
        "\n",
        "mlb = MultiLabelBinarizer()\n",
        "\n",
        "y = mlb.fit_transform(genresList)"
      ],
      "execution_count": 0,
      "outputs": []
    },
    {
      "cell_type": "code",
      "metadata": {
        "id": "dwBcIcXAtt0K",
        "colab_type": "code",
        "colab": {}
      },
      "source": [
        "X_train, X_test, y_train, y_test = train_test_split(X, y, test_size = 0.2)"
      ],
      "execution_count": 0,
      "outputs": []
    },
    {
      "cell_type": "code",
      "metadata": {
        "id": "rjPN8XOWtt0O",
        "colab_type": "code",
        "colab": {
          "base_uri": "https://localhost:8080/",
          "height": 35
        },
        "outputId": "e440077b-5750-44b5-fbbc-07884899453a"
      },
      "source": [
        "X_train.shape[1]"
      ],
      "execution_count": 9,
      "outputs": [
        {
          "output_type": "execute_result",
          "data": {
            "text/plain": [
              "10"
            ]
          },
          "metadata": {
            "tags": []
          },
          "execution_count": 9
        }
      ]
    },
    {
      "cell_type": "code",
      "metadata": {
        "id": "-iLW_Swott0Q",
        "colab_type": "code",
        "colab": {}
      },
      "source": [
        "model = models.Sequential()\n",
        "model.add(layers.Dense(256, activation='relu', input_shape=(X_train.shape[1],)))\n",
        "model.add(layers.Dense(128, activation='relu'))\n",
        "model.add(layers.Dense(64, activation='relu'))\n",
        "model.add(layers.Dense(y_train.shape[1], activation='softmax'))"
      ],
      "execution_count": 0,
      "outputs": []
    },
    {
      "cell_type": "code",
      "metadata": {
        "id": "lqSxnmBett0T",
        "colab_type": "code",
        "colab": {}
      },
      "source": [
        "model.compile(optimizer='adam',\n",
        "              loss='binary_crossentropy',\n",
        "              metrics=['accuracy', tf.keras.metrics.AUC(multi_label = True)])"
      ],
      "execution_count": 0,
      "outputs": []
    },
    {
      "cell_type": "code",
      "metadata": {
        "id": "-Ad8-K_Ytt0X",
        "colab_type": "code",
        "colab": {
          "base_uri": "https://localhost:8080/",
          "height": 711
        },
        "outputId": "310cfe54-7ef4-47e9-acbd-bb9779a7493c"
      },
      "source": [
        "history = model.fit(X_train, y_train, epochs=20, batch_size=32)"
      ],
      "execution_count": 12,
      "outputs": [
        {
          "output_type": "stream",
          "text": [
            "Epoch 1/20\n",
            "440/440 [==============================] - 1s 2ms/step - loss: 0.1494 - accuracy: 0.9741 - auc: 0.3768\n",
            "Epoch 2/20\n",
            "440/440 [==============================] - 0s 915us/step - loss: 0.1388 - accuracy: 0.9741 - auc: 0.4719\n",
            "Epoch 3/20\n",
            "440/440 [==============================] - 0s 949us/step - loss: 0.1260 - accuracy: 0.9741 - auc: 0.4719\n",
            "Epoch 4/20\n",
            "440/440 [==============================] - 0s 929us/step - loss: 0.1226 - accuracy: 0.9741 - auc: 0.4722\n",
            "Epoch 5/20\n",
            "440/440 [==============================] - 0s 918us/step - loss: 0.1218 - accuracy: 0.9741 - auc: 0.4717\n",
            "Epoch 6/20\n",
            "440/440 [==============================] - 0s 919us/step - loss: 0.1215 - accuracy: 0.9741 - auc: 0.4719\n",
            "Epoch 7/20\n",
            "440/440 [==============================] - 0s 908us/step - loss: 0.1214 - accuracy: 0.9741 - auc: 0.4719\n",
            "Epoch 8/20\n",
            "440/440 [==============================] - 0s 957us/step - loss: 0.1212 - accuracy: 0.9741 - auc: 0.4719\n",
            "Epoch 9/20\n",
            "440/440 [==============================] - 0s 921us/step - loss: 0.1211 - accuracy: 0.9741 - auc: 0.4721\n",
            "Epoch 10/20\n",
            "440/440 [==============================] - 0s 926us/step - loss: 0.1210 - accuracy: 0.9741 - auc: 0.4724\n",
            "Epoch 11/20\n",
            "440/440 [==============================] - 0s 920us/step - loss: 0.1208 - accuracy: 0.9741 - auc: 0.4729\n",
            "Epoch 12/20\n",
            "440/440 [==============================] - 0s 919us/step - loss: 0.1203 - accuracy: 0.9741 - auc: 0.4737\n",
            "Epoch 13/20\n",
            "440/440 [==============================] - 0s 949us/step - loss: 0.1199 - accuracy: 0.9741 - auc: 0.4747\n",
            "Epoch 14/20\n",
            "440/440 [==============================] - 0s 902us/step - loss: 0.1192 - accuracy: 0.9741 - auc: 0.4757\n",
            "Epoch 15/20\n",
            "440/440 [==============================] - 0s 938us/step - loss: 0.1185 - accuracy: 0.9741 - auc: 0.4771\n",
            "Epoch 16/20\n",
            "440/440 [==============================] - 0s 932us/step - loss: 0.1179 - accuracy: 0.9741 - auc: 0.4787\n",
            "Epoch 17/20\n",
            "440/440 [==============================] - 0s 924us/step - loss: 0.1171 - accuracy: 0.9741 - auc: 0.4805\n",
            "Epoch 18/20\n",
            "440/440 [==============================] - 0s 918us/step - loss: 0.1166 - accuracy: 0.9741 - auc: 0.4823\n",
            "Epoch 19/20\n",
            "440/440 [==============================] - 0s 922us/step - loss: 0.1159 - accuracy: 0.9741 - auc: 0.4840\n",
            "Epoch 20/20\n",
            "440/440 [==============================] - 0s 954us/step - loss: 0.1155 - accuracy: 0.9741 - auc: 0.4858\n"
          ],
          "name": "stdout"
        }
      ]
    },
    {
      "cell_type": "code",
      "metadata": {
        "id": "Ge2CVLlutt0c",
        "colab_type": "code",
        "colab": {}
      },
      "source": [
        "y_pred = model.predict(X_test)"
      ],
      "execution_count": 0,
      "outputs": []
    },
    {
      "cell_type": "code",
      "metadata": {
        "id": "75fnIgHrwsiw",
        "colab_type": "code",
        "colab": {
          "base_uri": "https://localhost:8080/",
          "height": 35
        },
        "outputId": "bf570c55-c4a9-4060-a119-0545fe9a4b6a"
      },
      "source": [
        "LRAP = label_ranking_average_precision_score(y_test, y_pred)\n",
        "print(LRAP)"
      ],
      "execution_count": 15,
      "outputs": [
        {
          "output_type": "stream",
          "text": [
            "0.42555410875277355\n"
          ],
          "name": "stdout"
        }
      ]
    },
    {
      "cell_type": "code",
      "metadata": {
        "id": "ECdX6A4DxFNb",
        "colab_type": "code",
        "colab": {}
      },
      "source": [
        ""
      ],
      "execution_count": 0,
      "outputs": []
    }
  ]
}