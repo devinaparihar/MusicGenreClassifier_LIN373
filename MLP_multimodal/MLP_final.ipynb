{
  "nbformat": 4,
  "nbformat_minor": 0,
  "metadata": {
    "kernelspec": {
      "display_name": "Python 3",
      "language": "python",
      "name": "python3"
    },
    "language_info": {
      "codemirror_mode": {
        "name": "ipython",
        "version": 3
      },
      "file_extension": ".py",
      "mimetype": "text/x-python",
      "name": "python",
      "nbconvert_exporter": "python",
      "pygments_lexer": "ipython3",
      "version": "3.7.1"
    },
    "colab": {
      "name": "MLP_final.ipynb",
      "provenance": []
    }
  },
  "cells": [
    {
      "cell_type": "code",
      "metadata": {
        "id": "UwtmliPRnnEw",
        "colab_type": "code",
        "colab": {}
      },
      "source": [
        "from sklearn.model_selection import train_test_split\n",
        "from keras import models\n",
        "from keras import layers\n",
        "import pandas as pd\n",
        "from sklearn.preprocessing import MultiLabelBinarizer, MinMaxScaler\n",
        "from sklearn.feature_extraction.text import TfidfVectorizer\n",
        "from keras.applications.resnet50 import ResNet50\n",
        "import numpy as np\n",
        "import pickle\n",
        "from keras.layers import Input,Dense\n",
        "from keras.models import Sequential,Model,load_model\n",
        "import tensorflow as tf\n",
        "from google.colab import files\n",
        "import io\n",
        "from sklearn.metrics import label_ranking_average_precision_score"
      ],
      "execution_count": 0,
      "outputs": []
    },
    {
      "cell_type": "markdown",
      "metadata": {
        "id": "I4vPY95UnnE4",
        "colab_type": "text"
      },
      "source": [
        "All the albums that didn't have any audio tracks to sample from"
      ]
    },
    {
      "cell_type": "code",
      "metadata": {
        "id": "pHIilNOrnnE4",
        "colab_type": "code",
        "colab": {}
      },
      "source": [
        "useless_albums_reset_index = [7, 8, 9, 11, 15, 18, 19, 31, 52, 54, 62, 70, 84, 85, 86, 88, 89, 90, 91, 92, 93, 94, 95, \n",
        "                              96, 97, 98, 99, 100, 101, 102, 103, 104, 105, 106, 107, 109, 110, 111, 113, 114, 115, 116,\n",
        "                              117, 118, 119, 121, 122, 123, 124, 125, 126, 129, 130, 132, 134, 137, 147, 150, 151, 152, \n",
        "                              154, 155, 156, 157, 158, 159, 160, 161, 162, 165, 166, 170, 171, 172, 173, 174, 175, 177, \n",
        "                              178, 179, 181, 182, 183, 184, 185, 186, 188, 191, 192, 195, 199, 200, 204, 207, 208, 210, \n",
        "                              211, 212, 216, 219, 222, 223, 224, 225, 226, 227, 233, 235, 238, 249, 252, 254, 258, 275, \n",
        "                              311, 313, 325, 335, 354, 363, 364, 365, 371, 374, 375, 376, 379, 391, 392, 393, 395, 399, \n",
        "                              401, 402, 404, 406, 407, 408, 409, 410, 411, 413, 414, 415, 416, 417, 418, 420, 421, 423, \n",
        "                              425, 427, 428, 430, 431, 433, 434, 435, 437, 438, 439, 440, 441, 442, 445, 458, 468, 470, \n",
        "                              471, 481, 482, 483, 487, 488, 489, 497, 502, 511, 519, 521, 522, 525, 533, 536, 540, 543, \n",
        "                              544, 554, 565, 568, 570, 582, 589, 599, 601, 604, 606, 609, 630, 635, 643, 645, 655, 689, \n",
        "                              693, 694, 700, 711, 719, 720, 724, 726, 730, 731, 732, 733, 734, 735, 737, 738, 739, 741, \n",
        "                              742, 743, 744, 745, 746, 747, 748, 749, 750, 751, 752, 753, 754, 755, 756, 757, 758, 759, \n",
        "                              760, 761, 762, 765, 767, 781, 789, 794, 796]\n",
        "useless_albums_index_not_reset = [11, 12, 16, 19, 23, 26, 27, 41, 70, 72, 81, 92, 110, 112, 115, 117, 120, 121, 122, \n",
        "                                  123, 124, 125, 126, 127, 128, 129, 130, 131, 133, 134, 135, 136, 137, 138, 139, 142, \n",
        "                                  143, 145, 149, 150, 151, 152, 153, 154, 155, 157, 158, 159, 161, 162, 163, 168, 170, \n",
        "                                  172, 175, 178, 189, 196, 197, 198, 200, 203, 204, 205, 206, 207, 210, 211, 212, 215, \n",
        "                                  216, 226, 228, 229, 231, 232, 233, 235, 236, 237, 240, 241, 242, 244, 246, 247, 249, \n",
        "                                  252, 253, 257, 261, 262, 267, 270, 272, 275, 276, 277, 282, 285, 288, 289, 290, 291, \n",
        "                                  292, 293, 303, 305, 308, 321, 326, 328, 334, 357, 405, 408, 428, 438, 462, 473, 474, \n",
        "                                  475, 483, 486, 488, 490, 493, 509, 510, 511, 513, 517, 521, 522, 524, 527, 528, 530, \n",
        "                                  531, 532, 533, 536, 537, 538, 539, 540, 542, 544, 545, 548, 550, 552, 553, 558, 559, \n",
        "                                  561, 563, 564, 567, 569, 570, 571, 572, 573, 577, 596, 611, 613, 614, 626, 628, 629, \n",
        "                                  636, 639, 641, 651, 657, 668, 680, 682, 683, 687, 697, 701, 706, 709, 710, 723, 738, \n",
        "                                  744, 747, 768, 778, 791, 793, 796, 798, 805, 833, 841, 851, 854, 870, 914, 919, 920, \n",
        "                                  929, 942, 952, 954, 960, 963, 967, 968, 969, 970, 971, 972, 975, 976, 977, 980, 981, \n",
        "                                  983, 984, 985, 986, 987, 990, 991, 994, 997, 998, 999, 1000, 1001, 1002, 1003, 1004, \n",
        "                                  1006, 1008, 1011, 1012, 1017, 1019, 1037, 1050, 1057, 1060]"
      ],
      "execution_count": 0,
      "outputs": []
    },
    {
      "cell_type": "code",
      "metadata": {
        "id": "7NwbLJatnnE-",
        "colab_type": "code",
        "colab": {},
        "outputId": "6babd37f-d757-4aea-bd9d-bc6aac1e89c8"
      },
      "source": [
        "len(useless_albums_reset_index)"
      ],
      "execution_count": 0,
      "outputs": [
        {
          "output_type": "execute_result",
          "data": {
            "text/plain": [
              "249"
            ]
          },
          "metadata": {
            "tags": []
          },
          "execution_count": 3
        }
      ]
    },
    {
      "cell_type": "markdown",
      "metadata": {
        "id": "ln-zh4kdnnFC",
        "colab_type": "text"
      },
      "source": [
        "# Models"
      ]
    },
    {
      "cell_type": "code",
      "metadata": {
        "id": "bP9WHT4BnnFE",
        "colab_type": "code",
        "colab": {}
      },
      "source": [
        "def audio_model(X, y, regress=False):\n",
        "    model = models.Sequential()\n",
        "    model.add(layers.Dense(256, activation='relu', input_shape=(X.shape[1],)))\n",
        "    model.add(layers.Dense(128, activation='relu'))\n",
        "    model.add(layers.Dense(64, activation='relu'))\n",
        "    \n",
        "    if regress:\n",
        "        model.add(layers.Dense(y.shape[1], activation='softmax'))\n",
        "    \n",
        "    return model"
      ],
      "execution_count": 0,
      "outputs": []
    },
    {
      "cell_type": "code",
      "metadata": {
        "id": "-Hj8GFGVnnFJ",
        "colab_type": "code",
        "colab": {}
      },
      "source": [
        "def text_model(X, y, regress=False):\n",
        "#     model  = models.Sequential()\n",
        "#     model.add(layers.Dense(2048, input_shape = X_train.shape[1], activation = 'relu'))\n",
        "#     model.add(layers.Dense(2048, activation = 'relu'))\n",
        "#     model.add(layers.Dropout(0.10))\n",
        "#     model = models.Sequential()\n",
        "#     model.add(layers.Dense(256, activation='relu', input_shape=(X_train.shape[1],)))\n",
        "#     model.add(layers.Dense(128, activation='relu'))\n",
        "#     model.add(layers.Dense(64, activation='relu'))\n",
        "\n",
        "    num_classes = y.shape[1]\n",
        "\n",
        "    input_tfidf = Input(shape=(X.shape[1],))\n",
        "    dense1 = Dense(2048, activation = 'relu')(input_tfidf)\n",
        "    dense2 = Dense(2048, activation = 'relu')(dense1)\n",
        "    output = Dense(num_classes, activation = 'sigmoid')(dense2)\n",
        "\n",
        "    model = Model(input = input_tfidf, output = output)\n",
        "\n",
        "\n",
        "    if regress:\n",
        "        #model.add(layers.Dense(y.shape[1], activation = 'sigmoid'))\n",
        "        output_layer = layers.Dense(num_classes, activation = 'sigmoid')(output)\n",
        "        model = Model(input = input_tfidf, output = output_layer)\n",
        "\n",
        "    return model"
      ],
      "execution_count": 0,
      "outputs": []
    },
    {
      "cell_type": "code",
      "metadata": {
        "id": "OWo1lJjGnnFN",
        "colab_type": "code",
        "colab": {}
      },
      "source": [
        "def image_model(X, y, regress=False):\n",
        "    img = Input(shape = (300, 300, 3))\n",
        "    base_model = ResNet50(weights = 'imagenet',include_top = False, input_tensor = img, input_shape = None, pooling = 'avg')\n",
        "    num_classes = y.shape[1]\n",
        "    \n",
        "    final_layer = base_model.layers[-1].output\n",
        "    dense_layer_1 = layers.Dense(128, activation = 'relu')(final_layer)\n",
        "    model = models.Model(input = img, output = dense_layer_1)\n",
        "    \n",
        "    if regress:\n",
        "        output_layer = layers.Dense(num_classes, activation = 'sigmoid')(dense_layer_1)\n",
        "        model = models.Model(input = img, output = output_layer)\n",
        "        \n",
        "    return model"
      ],
      "execution_count": 0,
      "outputs": []
    },
    {
      "cell_type": "markdown",
      "metadata": {
        "id": "RADmDbXFnnFQ",
        "colab_type": "text"
      },
      "source": [
        "# Modality matching"
      ]
    },
    {
      "cell_type": "markdown",
      "metadata": {
        "id": "vkkH_E8jnnFR",
        "colab_type": "text"
      },
      "source": [
        "**Audio**"
      ]
    },
    {
      "cell_type": "code",
      "metadata": {
        "id": "ryGvU3bJnnFS",
        "colab_type": "code",
        "colab": {}
      },
      "source": [
        "audio_df = pd.read_csv('551_albums_audio.csv')\n",
        "audio_df = audio_df.drop(columns = ['Unnamed: 0'])"
      ],
      "execution_count": 0,
      "outputs": []
    },
    {
      "cell_type": "code",
      "metadata": {
        "id": "jL3tROCinnFW",
        "colab_type": "code",
        "colab": {},
        "outputId": "98034bbd-2304-4103-b22e-c550596efcb1"
      },
      "source": [
        "audio_df.head(10)"
      ],
      "execution_count": 0,
      "outputs": [
        {
          "output_type": "execute_result",
          "data": {
            "text/html": [
              "<div>\n",
              "<style scoped>\n",
              "    .dataframe tbody tr th:only-of-type {\n",
              "        vertical-align: middle;\n",
              "    }\n",
              "\n",
              "    .dataframe tbody tr th {\n",
              "        vertical-align: top;\n",
              "    }\n",
              "\n",
              "    .dataframe thead th {\n",
              "        text-align: right;\n",
              "    }\n",
              "</style>\n",
              "<table border=\"1\" class=\"dataframe\">\n",
              "  <thead>\n",
              "    <tr style=\"text-align: right;\">\n",
              "      <th></th>\n",
              "      <th>Unnamed: 0</th>\n",
              "      <th>index</th>\n",
              "      <th>amazonIDs</th>\n",
              "      <th>Chroma Stft</th>\n",
              "      <th>Spectral Centroid</th>\n",
              "      <th>Spectral Bandwidth</th>\n",
              "      <th>Spectral Rolloff</th>\n",
              "      <th>ZCR</th>\n",
              "      <th>MFCC 1</th>\n",
              "      <th>MFCC 2</th>\n",
              "      <th>MFCC 3</th>\n",
              "      <th>MFCC 4</th>\n",
              "      <th>MFCC 5</th>\n",
              "      <th>Genres</th>\n",
              "    </tr>\n",
              "  </thead>\n",
              "  <tbody>\n",
              "    <tr>\n",
              "      <th>0</th>\n",
              "      <td>0</td>\n",
              "      <td>2</td>\n",
              "      <td>1906063443</td>\n",
              "      <td>0.317631</td>\n",
              "      <td>1858.848095</td>\n",
              "      <td>2070.823969</td>\n",
              "      <td>3804.451995</td>\n",
              "      <td>0.086750</td>\n",
              "      <td>-110.527584</td>\n",
              "      <td>107.819219</td>\n",
              "      <td>-12.992357</td>\n",
              "      <td>23.560247</td>\n",
              "      <td>0.107660</td>\n",
              "      <td>Europe,Christian,Eastern Europe,Pop,Gypsy,Worl...</td>\n",
              "    </tr>\n",
              "    <tr>\n",
              "      <th>1</th>\n",
              "      <td>1</td>\n",
              "      <td>3</td>\n",
              "      <td>1929243766</td>\n",
              "      <td>0.407539</td>\n",
              "      <td>2430.657788</td>\n",
              "      <td>1993.710689</td>\n",
              "      <td>4243.952115</td>\n",
              "      <td>0.150768</td>\n",
              "      <td>-152.042158</td>\n",
              "      <td>87.872922</td>\n",
              "      <td>-49.915526</td>\n",
              "      <td>10.911422</td>\n",
              "      <td>-15.193659</td>\n",
              "      <td>Comedy &amp; Spoken Word,Pop, Comedy &amp; Spoken Word...</td>\n",
              "    </tr>\n",
              "    <tr>\n",
              "      <th>2</th>\n",
              "      <td>2</td>\n",
              "      <td>4</td>\n",
              "      <td>1930864159</td>\n",
              "      <td>0.299010</td>\n",
              "      <td>1344.961601</td>\n",
              "      <td>1702.962194</td>\n",
              "      <td>2691.983722</td>\n",
              "      <td>0.059642</td>\n",
              "      <td>-135.593519</td>\n",
              "      <td>146.903281</td>\n",
              "      <td>-16.374589</td>\n",
              "      <td>33.878938</td>\n",
              "      <td>-6.721820</td>\n",
              "      <td>Pop &amp; Contemporary,Christian,Gospel,Pop, Pop &amp;...</td>\n",
              "    </tr>\n",
              "    <tr>\n",
              "      <th>3</th>\n",
              "      <td>3</td>\n",
              "      <td>6</td>\n",
              "      <td>3937406328</td>\n",
              "      <td>0.344631</td>\n",
              "      <td>750.293388</td>\n",
              "      <td>1203.916434</td>\n",
              "      <td>1506.657556</td>\n",
              "      <td>0.031481</td>\n",
              "      <td>-287.927929</td>\n",
              "      <td>174.176362</td>\n",
              "      <td>5.348383</td>\n",
              "      <td>36.172204</td>\n",
              "      <td>39.698738</td>\n",
              "      <td>Europe,World Music,Blues Rock,Rock,Pop,Dance &amp;...</td>\n",
              "    </tr>\n",
              "    <tr>\n",
              "      <th>4</th>\n",
              "      <td>4</td>\n",
              "      <td>7</td>\n",
              "      <td>4266950926</td>\n",
              "      <td>0.209722</td>\n",
              "      <td>950.325207</td>\n",
              "      <td>1516.822655</td>\n",
              "      <td>1586.357074</td>\n",
              "      <td>0.043833</td>\n",
              "      <td>-206.839709</td>\n",
              "      <td>139.278957</td>\n",
              "      <td>1.349824</td>\n",
              "      <td>20.984522</td>\n",
              "      <td>16.714627</td>\n",
              "      <td>New Age,Meditation,World Music,Pop, New Age,Me...</td>\n",
              "    </tr>\n",
              "  </tbody>\n",
              "</table>\n",
              "</div>"
            ],
            "text/plain": [
              "   Unnamed: 0  index   amazonIDs  Chroma Stft  Spectral Centroid  \\\n",
              "0           0      2  1906063443     0.317631        1858.848095   \n",
              "1           1      3  1929243766     0.407539        2430.657788   \n",
              "2           2      4  1930864159     0.299010        1344.961601   \n",
              "3           3      6  3937406328     0.344631         750.293388   \n",
              "4           4      7  4266950926     0.209722         950.325207   \n",
              "\n",
              "   Spectral Bandwidth  Spectral Rolloff       ZCR      MFCC 1      MFCC 2  \\\n",
              "0         2070.823969       3804.451995  0.086750 -110.527584  107.819219   \n",
              "1         1993.710689       4243.952115  0.150768 -152.042158   87.872922   \n",
              "2         1702.962194       2691.983722  0.059642 -135.593519  146.903281   \n",
              "3         1203.916434       1506.657556  0.031481 -287.927929  174.176362   \n",
              "4         1516.822655       1586.357074  0.043833 -206.839709  139.278957   \n",
              "\n",
              "      MFCC 3     MFCC 4     MFCC 5  \\\n",
              "0 -12.992357  23.560247   0.107660   \n",
              "1 -49.915526  10.911422 -15.193659   \n",
              "2 -16.374589  33.878938  -6.721820   \n",
              "3   5.348383  36.172204  39.698738   \n",
              "4   1.349824  20.984522  16.714627   \n",
              "\n",
              "                                              Genres  \n",
              "0  Europe,Christian,Eastern Europe,Pop,Gypsy,Worl...  \n",
              "1  Comedy & Spoken Word,Pop, Comedy & Spoken Word...  \n",
              "2  Pop & Contemporary,Christian,Gospel,Pop, Pop &...  \n",
              "3  Europe,World Music,Blues Rock,Rock,Pop,Dance &...  \n",
              "4  New Age,Meditation,World Music,Pop, New Age,Me...  "
            ]
          },
          "metadata": {
            "tags": []
          },
          "execution_count": 7
        }
      ]
    },
    {
      "cell_type": "markdown",
      "metadata": {
        "id": "jagtevATnnFZ",
        "colab_type": "text"
      },
      "source": [
        "**Text: Take out useless albums**"
      ]
    },
    {
      "cell_type": "code",
      "metadata": {
        "id": "awOqTJqUnnFZ",
        "colab_type": "code",
        "colab": {}
      },
      "source": [
        "text_df = pd.read_csv('text_babelified_processed_MLP.csv') #load\n",
        "text_df = text_df.drop(columns = ['Unnamed: 0'])\n",
        "entries_to_keep = audio_df.amazonIDs.tolist() #list of albums to keep  \n",
        "text_df = text_df[text_df['amazonIDs'].isin(entries_to_keep)] #apply to text df\n",
        "text_df = text_df.reset_index(drop = True) #reset index"
      ],
      "execution_count": 0,
      "outputs": []
    },
    {
      "cell_type": "code",
      "metadata": {
        "id": "zXCIKgRSnnFe",
        "colab_type": "code",
        "colab": {},
        "outputId": "3f397727-e86b-4e40-8070-dac646b7d1ed"
      },
      "source": [
        "text_df.head(10)"
      ],
      "execution_count": 0,
      "outputs": [
        {
          "output_type": "execute_result",
          "data": {
            "text/html": [
              "<div>\n",
              "<style scoped>\n",
              "    .dataframe tbody tr th:only-of-type {\n",
              "        vertical-align: middle;\n",
              "    }\n",
              "\n",
              "    .dataframe tbody tr th {\n",
              "        vertical-align: top;\n",
              "    }\n",
              "\n",
              "    .dataframe thead th {\n",
              "        text-align: right;\n",
              "    }\n",
              "</style>\n",
              "<table border=\"1\" class=\"dataframe\">\n",
              "  <thead>\n",
              "    <tr style=\"text-align: right;\">\n",
              "      <th></th>\n",
              "      <th>Unnamed: 0</th>\n",
              "      <th>index</th>\n",
              "      <th>amazonIDs</th>\n",
              "      <th>reviews</th>\n",
              "      <th>genres</th>\n",
              "      <th>clean_reviews</th>\n",
              "    </tr>\n",
              "  </thead>\n",
              "  <tbody>\n",
              "    <tr>\n",
              "      <th>0</th>\n",
              "      <td>0</td>\n",
              "      <td>2</td>\n",
              "      <td>1906063443</td>\n",
              "      <td>Contrary to the previous review, this IS a com...</td>\n",
              "      <td>Europe,Christian,Eastern Europe,Pop,Gypsy,Worl...</td>\n",
              "      <td>contrary previous review compilation single ar...</td>\n",
              "    </tr>\n",
              "    <tr>\n",
              "      <th>1</th>\n",
              "      <td>1</td>\n",
              "      <td>3</td>\n",
              "      <td>1929243766</td>\n",
              "      <td>My family and I all first experienced John on ...</td>\n",
              "      <td>Comedy &amp; Spoken Word,Pop</td>\n",
              "      <td>family first experienced john comedy central t...</td>\n",
              "    </tr>\n",
              "    <tr>\n",
              "      <th>2</th>\n",
              "      <td>2</td>\n",
              "      <td>4</td>\n",
              "      <td>1930864159</td>\n",
              "      <td>Awesome. This is so good when needing reminded...</td>\n",
              "      <td>Pop &amp; Contemporary,Christian,Gospel,Pop</td>\n",
              "      <td>awesome good needing reminded quiet hear god w...</td>\n",
              "    </tr>\n",
              "    <tr>\n",
              "      <th>3</th>\n",
              "      <td>3</td>\n",
              "      <td>6</td>\n",
              "      <td>3937406328</td>\n",
              "      <td>The purchase of this set was a bold step for m...</td>\n",
              "      <td>Europe,World Music,Blues Rock,Rock,Pop,Dance &amp;...</td>\n",
              "      <td>purchase set bold step dont boxed sets learned...</td>\n",
              "    </tr>\n",
              "    <tr>\n",
              "      <th>4</th>\n",
              "      <td>4</td>\n",
              "      <td>7</td>\n",
              "      <td>4266950926</td>\n",
              "      <td>I stumbled onto this CD one day at a listening...</td>\n",
              "      <td>New Age,Meditation,World Music,Pop</td>\n",
              "      <td>stumbled onto cd one day listening post first ...</td>\n",
              "    </tr>\n",
              "  </tbody>\n",
              "</table>\n",
              "</div>"
            ],
            "text/plain": [
              "   Unnamed: 0  index   amazonIDs  \\\n",
              "0           0      2  1906063443   \n",
              "1           1      3  1929243766   \n",
              "2           2      4  1930864159   \n",
              "3           3      6  3937406328   \n",
              "4           4      7  4266950926   \n",
              "\n",
              "                                             reviews  \\\n",
              "0  Contrary to the previous review, this IS a com...   \n",
              "1  My family and I all first experienced John on ...   \n",
              "2  Awesome. This is so good when needing reminded...   \n",
              "3  The purchase of this set was a bold step for m...   \n",
              "4  I stumbled onto this CD one day at a listening...   \n",
              "\n",
              "                                              genres  \\\n",
              "0  Europe,Christian,Eastern Europe,Pop,Gypsy,Worl...   \n",
              "1                           Comedy & Spoken Word,Pop   \n",
              "2            Pop & Contemporary,Christian,Gospel,Pop   \n",
              "3  Europe,World Music,Blues Rock,Rock,Pop,Dance &...   \n",
              "4                 New Age,Meditation,World Music,Pop   \n",
              "\n",
              "                                       clean_reviews  \n",
              "0  contrary previous review compilation single ar...  \n",
              "1  family first experienced john comedy central t...  \n",
              "2  awesome good needing reminded quiet hear god w...  \n",
              "3  purchase set bold step dont boxed sets learned...  \n",
              "4  stumbled onto cd one day listening post first ...  "
            ]
          },
          "metadata": {
            "tags": []
          },
          "execution_count": 10
        }
      ]
    },
    {
      "cell_type": "code",
      "metadata": {
        "id": "N7dbWjjKnnFi",
        "colab_type": "code",
        "colab": {},
        "outputId": "74427fd5-3194-47cb-cf85-13df8ace71cc"
      },
      "source": [
        "#double check they have the same row size\n",
        "print(audio_df.shape)\n",
        "print(text_df.shape)"
      ],
      "execution_count": 0,
      "outputs": [
        {
          "output_type": "stream",
          "text": [
            "(551, 13)\n",
            "(551, 5)\n"
          ],
          "name": "stdout"
        }
      ]
    },
    {
      "cell_type": "code",
      "metadata": {
        "id": "6TsrB6B8nnFm",
        "colab_type": "code",
        "colab": {}
      },
      "source": [
        "text_df.to_csv('551_albums_text.csv')"
      ],
      "execution_count": 0,
      "outputs": []
    },
    {
      "cell_type": "markdown",
      "metadata": {
        "id": "LhUlpDDrnnFq",
        "colab_type": "text"
      },
      "source": [
        "**Image: Take out useless albums**"
      ]
    },
    {
      "cell_type": "code",
      "metadata": {
        "id": "JH8D7IaHnnFr",
        "colab_type": "code",
        "colab": {},
        "outputId": "57f6781a-712b-42b2-953b-7630b825b309"
      },
      "source": [
        "image_df_X = pd.read_pickle(\"df2000_imgsVectorized_X.pkl\") #load\n",
        "image_df_X = image_df_X.to_frame() #convert to dataframe\n",
        "image_df_X"
      ],
      "execution_count": 0,
      "outputs": [
        {
          "output_type": "execute_result",
          "data": {
            "text/plain": [
              "2       [[[[248. 128.  31.], [248. 129.  29.], [248. 1...\n",
              "3       [[[[0. 0. 0.], [0. 0. 0.], [0. 0. 0.], [0. 0. ...\n",
              "4       [[[[165. 112. 118.], [128.  76.  80.], [111.  ...\n",
              "6       [[[[0. 0. 0.], [0. 0. 0.], [0. 0. 0.], [0. 0. ...\n",
              "7       [[[[0. 0. 0.], [0. 0. 0.], [0. 0. 0.], [0. 0. ...\n",
              "                              ...                        \n",
              "2644    [[[[253. 247. 231.], [251. 249. 224.], [250. 2...\n",
              "2627    [[[[44. 46. 41.], [60. 62. 57.], [85. 88. 82.]...\n",
              "2628    [[[[0. 0. 0.], [0. 0. 0.], [0. 0. 0.], [0. 0. ...\n",
              "2634    [[[[ 6. 15. 18.], [25. 33. 36.], [56. 64. 65.]...\n",
              "2633    [[[[61. 61. 66.], [59. 58. 63.], [58. 57. 61.]...\n",
              "Name: imUrl, Length: 2000, dtype: object"
            ]
          },
          "metadata": {
            "tags": []
          },
          "execution_count": 22
        }
      ]
    },
    {
      "cell_type": "code",
      "metadata": {
        "id": "7Q6OR822nnFv",
        "colab_type": "code",
        "colab": {},
        "outputId": "3340270d-5b63-4e04-9801-6531921d28c9"
      },
      "source": [
        "image_df_y = pd.read_pickle(\"df2000_labelsImgs_y.pkl\") #load\n",
        "image_df_y = image_df_y.to_frame() #convert to dataframe\n",
        "image_df_y"
      ],
      "execution_count": 0,
      "outputs": [
        {
          "output_type": "execute_result",
          "data": {
            "text/plain": [
              "2       (Europe, Christian, Eastern Europe, Pop, Gypsy...\n",
              "3                             (Comedy & Spoken Word, Pop)\n",
              "4            (Pop & Contemporary, Christian, Gospel, Pop)\n",
              "6       (Europe, World Music, Blues Rock, Rock, Pop, D...\n",
              "7                 (New Age, Meditation, World Music, Pop)\n",
              "                              ...                        \n",
              "2644    (Oldies, Dance & Electronic, Motown, Philly So...\n",
              "2627    (Oldies, Dance & Electronic, Motown, Philly So...\n",
              "2628    (Oldies, Motown, Soul, Pop, R&B, Classic R&B, ...\n",
              "2634              (R&B, Blues, Motown, Soul, Classic R&B)\n",
              "2633    (Oldies, Motown, Soul, Pop, Holiday & Wedding,...\n",
              "Name: genres, Length: 2000, dtype: object"
            ]
          },
          "metadata": {
            "tags": []
          },
          "execution_count": 25
        }
      ]
    },
    {
      "cell_type": "code",
      "metadata": {
        "id": "X5zUPdatnnF0",
        "colab_type": "code",
        "colab": {}
      },
      "source": [
        "image_df_X = image_df_X.reset_index(drop = True) #reset index\n",
        "image_df_X = image_df_X.drop(index = useless_albums_reset_index) #drop useless albums\n",
        "image_df_X = image_df_X[0:551] #take only the first 551 albums\n",
        "image_df_X = image_df_X.reset_index(drop = True) #reset index again\n",
        "image_df_X.head(10)"
      ],
      "execution_count": 0,
      "outputs": []
    },
    {
      "cell_type": "code",
      "metadata": {
        "id": "Tw5GM9JGnnF3",
        "colab_type": "code",
        "colab": {}
      },
      "source": [
        "image_df_X.to_csv('551_albums_images_X.csv') #save to csv"
      ],
      "execution_count": 0,
      "outputs": []
    },
    {
      "cell_type": "code",
      "metadata": {
        "id": "u3qhzdFFnnF6",
        "colab_type": "code",
        "colab": {}
      },
      "source": [
        "image_df_y = image_df_y.reset_index(drop = True)\n",
        "image_df_y = image_df_y.drop(index = useless_albums_reset_index)\n",
        "image_df_y = image_df_y[0:551]\n",
        "image_df_y = image_df_y.reset_index(drop = True)\n",
        "image_df_y.head(10)"
      ],
      "execution_count": 0,
      "outputs": []
    },
    {
      "cell_type": "code",
      "metadata": {
        "id": "nLYVvUV_nnF-",
        "colab_type": "code",
        "colab": {}
      },
      "source": [
        "image_df_y.to_csv('551_albums_images_y.csv') #save to csv"
      ],
      "execution_count": 0,
      "outputs": []
    },
    {
      "cell_type": "markdown",
      "metadata": {
        "id": "yTqo36QAnnGD",
        "colab_type": "text"
      },
      "source": [
        "# Model input extraction"
      ]
    },
    {
      "cell_type": "markdown",
      "metadata": {
        "id": "1Wrk0C7MnnGE",
        "colab_type": "text"
      },
      "source": [
        "**Load each modality**"
      ]
    },
    {
      "cell_type": "code",
      "metadata": {
        "id": "4rLU-l3foz5f",
        "colab_type": "code",
        "colab": {
          "resources": {
            "http://localhost:8080/nbextensions/google.colab/files.js": {
              "data": "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",
              "ok": true,
              "headers": [
                [
                  "content-type",
                  "application/javascript"
                ]
              ],
              "status": 200,
              "status_text": ""
            }
          },
          "base_uri": "https://localhost:8080/",
          "height": 75
        },
        "outputId": "8c63373a-2921-4690-8068-cdd4f131eefc"
      },
      "source": [
        "uploaded = files.upload()"
      ],
      "execution_count": 7,
      "outputs": [
        {
          "output_type": "display_data",
          "data": {
            "text/html": [
              "\n",
              "     <input type=\"file\" id=\"files-5d20d7e6-606a-44e6-9afe-19428bb5cf02\" name=\"files[]\" multiple disabled />\n",
              "     <output id=\"result-5d20d7e6-606a-44e6-9afe-19428bb5cf02\">\n",
              "      Upload widget is only available when the cell has been executed in the\n",
              "      current browser session. Please rerun this cell to enable.\n",
              "      </output>\n",
              "      <script src=\"/nbextensions/google.colab/files.js\"></script> "
            ],
            "text/plain": [
              "<IPython.core.display.HTML object>"
            ]
          },
          "metadata": {
            "tags": []
          }
        },
        {
          "output_type": "stream",
          "text": [
            "Saving 551_albums_audio.csv to 551_albums_audio.csv\n"
          ],
          "name": "stdout"
        }
      ]
    },
    {
      "cell_type": "code",
      "metadata": {
        "id": "B4dRZb4Io8n5",
        "colab_type": "code",
        "colab": {}
      },
      "source": [
        "audio_df = pd.read_csv(io.BytesIO(uploaded['551_albums_audio.csv']))"
      ],
      "execution_count": 0,
      "outputs": []
    },
    {
      "cell_type": "code",
      "metadata": {
        "id": "cThALNV3nnGE",
        "colab_type": "code",
        "colab": {
          "base_uri": "https://localhost:8080/",
          "height": 675
        },
        "outputId": "31a94f89-66ce-4b7e-892a-091eb19a8e14"
      },
      "source": [
        "audio_df = audio_df.drop(columns = ['Unnamed: 0', 'index', 'amazonIDs'])\n",
        "audio_df"
      ],
      "execution_count": 9,
      "outputs": [
        {
          "output_type": "execute_result",
          "data": {
            "text/html": [
              "<div>\n",
              "<style scoped>\n",
              "    .dataframe tbody tr th:only-of-type {\n",
              "        vertical-align: middle;\n",
              "    }\n",
              "\n",
              "    .dataframe tbody tr th {\n",
              "        vertical-align: top;\n",
              "    }\n",
              "\n",
              "    .dataframe thead th {\n",
              "        text-align: right;\n",
              "    }\n",
              "</style>\n",
              "<table border=\"1\" class=\"dataframe\">\n",
              "  <thead>\n",
              "    <tr style=\"text-align: right;\">\n",
              "      <th></th>\n",
              "      <th>Chroma Stft</th>\n",
              "      <th>Spectral Centroid</th>\n",
              "      <th>Spectral Bandwidth</th>\n",
              "      <th>Spectral Rolloff</th>\n",
              "      <th>ZCR</th>\n",
              "      <th>MFCC 1</th>\n",
              "      <th>MFCC 2</th>\n",
              "      <th>MFCC 3</th>\n",
              "      <th>MFCC 4</th>\n",
              "      <th>MFCC 5</th>\n",
              "      <th>Genres</th>\n",
              "    </tr>\n",
              "  </thead>\n",
              "  <tbody>\n",
              "    <tr>\n",
              "      <th>0</th>\n",
              "      <td>0.317631</td>\n",
              "      <td>1858.848095</td>\n",
              "      <td>2070.823969</td>\n",
              "      <td>3804.451995</td>\n",
              "      <td>0.086750</td>\n",
              "      <td>-110.527584</td>\n",
              "      <td>107.819219</td>\n",
              "      <td>-12.992357</td>\n",
              "      <td>23.560247</td>\n",
              "      <td>0.107660</td>\n",
              "      <td>Europe,Christian,Eastern Europe,Pop,Gypsy,Worl...</td>\n",
              "    </tr>\n",
              "    <tr>\n",
              "      <th>1</th>\n",
              "      <td>0.407539</td>\n",
              "      <td>2430.657788</td>\n",
              "      <td>1993.710689</td>\n",
              "      <td>4243.952115</td>\n",
              "      <td>0.150768</td>\n",
              "      <td>-152.042158</td>\n",
              "      <td>87.872922</td>\n",
              "      <td>-49.915526</td>\n",
              "      <td>10.911422</td>\n",
              "      <td>-15.193659</td>\n",
              "      <td>Comedy &amp; Spoken Word,Pop, Comedy &amp; Spoken Word...</td>\n",
              "    </tr>\n",
              "    <tr>\n",
              "      <th>2</th>\n",
              "      <td>0.299010</td>\n",
              "      <td>1344.961601</td>\n",
              "      <td>1702.962194</td>\n",
              "      <td>2691.983722</td>\n",
              "      <td>0.059642</td>\n",
              "      <td>-135.593519</td>\n",
              "      <td>146.903281</td>\n",
              "      <td>-16.374589</td>\n",
              "      <td>33.878938</td>\n",
              "      <td>-6.721820</td>\n",
              "      <td>Pop &amp; Contemporary,Christian,Gospel,Pop, Pop &amp;...</td>\n",
              "    </tr>\n",
              "    <tr>\n",
              "      <th>3</th>\n",
              "      <td>0.344631</td>\n",
              "      <td>750.293388</td>\n",
              "      <td>1203.916434</td>\n",
              "      <td>1506.657556</td>\n",
              "      <td>0.031481</td>\n",
              "      <td>-287.927929</td>\n",
              "      <td>174.176362</td>\n",
              "      <td>5.348383</td>\n",
              "      <td>36.172204</td>\n",
              "      <td>39.698738</td>\n",
              "      <td>Europe,World Music,Blues Rock,Rock,Pop,Dance &amp;...</td>\n",
              "    </tr>\n",
              "    <tr>\n",
              "      <th>4</th>\n",
              "      <td>0.209722</td>\n",
              "      <td>950.325207</td>\n",
              "      <td>1516.822655</td>\n",
              "      <td>1586.357074</td>\n",
              "      <td>0.043833</td>\n",
              "      <td>-206.839709</td>\n",
              "      <td>139.278957</td>\n",
              "      <td>1.349824</td>\n",
              "      <td>20.984522</td>\n",
              "      <td>16.714627</td>\n",
              "      <td>New Age,Meditation,World Music,Pop, New Age,Me...</td>\n",
              "    </tr>\n",
              "    <tr>\n",
              "      <th>...</th>\n",
              "      <td>...</td>\n",
              "      <td>...</td>\n",
              "      <td>...</td>\n",
              "      <td>...</td>\n",
              "      <td>...</td>\n",
              "      <td>...</td>\n",
              "      <td>...</td>\n",
              "      <td>...</td>\n",
              "      <td>...</td>\n",
              "      <td>...</td>\n",
              "      <td>...</td>\n",
              "    </tr>\n",
              "    <tr>\n",
              "      <th>546</th>\n",
              "      <td>0.380314</td>\n",
              "      <td>1746.240264</td>\n",
              "      <td>2067.960813</td>\n",
              "      <td>3930.009569</td>\n",
              "      <td>0.079052</td>\n",
              "      <td>-112.383933</td>\n",
              "      <td>110.687779</td>\n",
              "      <td>-4.429256</td>\n",
              "      <td>34.706761</td>\n",
              "      <td>-23.067543</td>\n",
              "      <td>Today's Country,Country,Bluegrass,Pop, Today's...</td>\n",
              "    </tr>\n",
              "    <tr>\n",
              "      <th>547</th>\n",
              "      <td>0.283765</td>\n",
              "      <td>1960.822899</td>\n",
              "      <td>2102.370790</td>\n",
              "      <td>4000.136923</td>\n",
              "      <td>0.098785</td>\n",
              "      <td>-153.785276</td>\n",
              "      <td>105.490050</td>\n",
              "      <td>-10.314614</td>\n",
              "      <td>30.471236</td>\n",
              "      <td>-4.295897</td>\n",
              "      <td>Classic Country,Contemporary Folk,Country,Blue...</td>\n",
              "    </tr>\n",
              "    <tr>\n",
              "      <th>548</th>\n",
              "      <td>0.384738</td>\n",
              "      <td>1695.939464</td>\n",
              "      <td>2007.082395</td>\n",
              "      <td>3607.978183</td>\n",
              "      <td>0.070799</td>\n",
              "      <td>-195.321153</td>\n",
              "      <td>118.496421</td>\n",
              "      <td>-11.272973</td>\n",
              "      <td>38.307347</td>\n",
              "      <td>-8.033069</td>\n",
              "      <td>Country Rock,Country,Bluegrass,Pop,Today's Cou...</td>\n",
              "    </tr>\n",
              "    <tr>\n",
              "      <th>549</th>\n",
              "      <td>0.318281</td>\n",
              "      <td>2261.429014</td>\n",
              "      <td>2578.469908</td>\n",
              "      <td>5137.568934</td>\n",
              "      <td>0.094882</td>\n",
              "      <td>-184.037275</td>\n",
              "      <td>95.162470</td>\n",
              "      <td>2.812427</td>\n",
              "      <td>6.379000</td>\n",
              "      <td>-8.597758</td>\n",
              "      <td>Folk Rock,Country,Bluegrass,Pop,Today's Countr...</td>\n",
              "    </tr>\n",
              "    <tr>\n",
              "      <th>550</th>\n",
              "      <td>0.285150</td>\n",
              "      <td>1706.489719</td>\n",
              "      <td>1984.414435</td>\n",
              "      <td>3398.729448</td>\n",
              "      <td>0.084711</td>\n",
              "      <td>-268.482777</td>\n",
              "      <td>115.134293</td>\n",
              "      <td>-11.788263</td>\n",
              "      <td>22.024477</td>\n",
              "      <td>-9.686661</td>\n",
              "      <td>Classic Country,Contemporary Folk,Country,Blue...</td>\n",
              "    </tr>\n",
              "  </tbody>\n",
              "</table>\n",
              "<p>551 rows × 11 columns</p>\n",
              "</div>"
            ],
            "text/plain": [
              "     Chroma Stft  ...                                             Genres\n",
              "0       0.317631  ...  Europe,Christian,Eastern Europe,Pop,Gypsy,Worl...\n",
              "1       0.407539  ...  Comedy & Spoken Word,Pop, Comedy & Spoken Word...\n",
              "2       0.299010  ...  Pop & Contemporary,Christian,Gospel,Pop, Pop &...\n",
              "3       0.344631  ...  Europe,World Music,Blues Rock,Rock,Pop,Dance &...\n",
              "4       0.209722  ...  New Age,Meditation,World Music,Pop, New Age,Me...\n",
              "..           ...  ...                                                ...\n",
              "546     0.380314  ...  Today's Country,Country,Bluegrass,Pop, Today's...\n",
              "547     0.283765  ...  Classic Country,Contemporary Folk,Country,Blue...\n",
              "548     0.384738  ...  Country Rock,Country,Bluegrass,Pop,Today's Cou...\n",
              "549     0.318281  ...  Folk Rock,Country,Bluegrass,Pop,Today's Countr...\n",
              "550     0.285150  ...  Classic Country,Contemporary Folk,Country,Blue...\n",
              "\n",
              "[551 rows x 11 columns]"
            ]
          },
          "metadata": {
            "tags": []
          },
          "execution_count": 9
        }
      ]
    },
    {
      "cell_type": "code",
      "metadata": {
        "id": "vFrWNOU-pWJ8",
        "colab_type": "code",
        "colab": {
          "resources": {
            "http://localhost:8080/nbextensions/google.colab/files.js": {
              "data": "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",
              "ok": true,
              "headers": [
                [
                  "content-type",
                  "application/javascript"
                ]
              ],
              "status": 200,
              "status_text": ""
            }
          },
          "base_uri": "https://localhost:8080/",
          "height": 75
        },
        "outputId": "0991551f-bf8a-4e9e-c78b-b6a5dfe0b1d5"
      },
      "source": [
        "uploaded = files.upload()"
      ],
      "execution_count": 10,
      "outputs": [
        {
          "output_type": "display_data",
          "data": {
            "text/html": [
              "\n",
              "     <input type=\"file\" id=\"files-68328459-f415-474b-bba4-45f9efbd6b86\" name=\"files[]\" multiple disabled />\n",
              "     <output id=\"result-68328459-f415-474b-bba4-45f9efbd6b86\">\n",
              "      Upload widget is only available when the cell has been executed in the\n",
              "      current browser session. Please rerun this cell to enable.\n",
              "      </output>\n",
              "      <script src=\"/nbextensions/google.colab/files.js\"></script> "
            ],
            "text/plain": [
              "<IPython.core.display.HTML object>"
            ]
          },
          "metadata": {
            "tags": []
          }
        },
        {
          "output_type": "stream",
          "text": [
            "Saving 551_albums_text.csv to 551_albums_text.csv\n"
          ],
          "name": "stdout"
        }
      ]
    },
    {
      "cell_type": "code",
      "metadata": {
        "id": "GL8vuujSpmkj",
        "colab_type": "code",
        "colab": {}
      },
      "source": [
        "text_df = pd.read_csv(io.BytesIO(uploaded['551_albums_text.csv']))"
      ],
      "execution_count": 0,
      "outputs": []
    },
    {
      "cell_type": "code",
      "metadata": {
        "id": "kLvO5v42nnGH",
        "colab_type": "code",
        "colab": {
          "base_uri": "https://localhost:8080/",
          "height": 415
        },
        "outputId": "e9991c3a-e816-476b-eda7-751c30c582d7"
      },
      "source": [
        "text_df = text_df.drop(columns = ['Unnamed: 0', 'index', 'amazonIDs', 'reviews'])\n",
        "text_df"
      ],
      "execution_count": 12,
      "outputs": [
        {
          "output_type": "execute_result",
          "data": {
            "text/html": [
              "<div>\n",
              "<style scoped>\n",
              "    .dataframe tbody tr th:only-of-type {\n",
              "        vertical-align: middle;\n",
              "    }\n",
              "\n",
              "    .dataframe tbody tr th {\n",
              "        vertical-align: top;\n",
              "    }\n",
              "\n",
              "    .dataframe thead th {\n",
              "        text-align: right;\n",
              "    }\n",
              "</style>\n",
              "<table border=\"1\" class=\"dataframe\">\n",
              "  <thead>\n",
              "    <tr style=\"text-align: right;\">\n",
              "      <th></th>\n",
              "      <th>genres</th>\n",
              "      <th>clean_reviews</th>\n",
              "    </tr>\n",
              "  </thead>\n",
              "  <tbody>\n",
              "    <tr>\n",
              "      <th>0</th>\n",
              "      <td>Europe,Christian,Eastern Europe,Pop,Gypsy,Worl...</td>\n",
              "      <td>contrary previous review compilation single ar...</td>\n",
              "    </tr>\n",
              "    <tr>\n",
              "      <th>1</th>\n",
              "      <td>Comedy &amp; Spoken Word,Pop</td>\n",
              "      <td>family first experienced john comedy central t...</td>\n",
              "    </tr>\n",
              "    <tr>\n",
              "      <th>2</th>\n",
              "      <td>Pop &amp; Contemporary,Christian,Gospel,Pop</td>\n",
              "      <td>awesome good needing reminded quiet hear god w...</td>\n",
              "    </tr>\n",
              "    <tr>\n",
              "      <th>3</th>\n",
              "      <td>Europe,World Music,Blues Rock,Rock,Pop,Dance &amp;...</td>\n",
              "      <td>purchase set bold step dont boxed sets learned...</td>\n",
              "    </tr>\n",
              "    <tr>\n",
              "      <th>4</th>\n",
              "      <td>New Age,Meditation,World Music,Pop</td>\n",
              "      <td>stumbled onto cd one day listening post first ...</td>\n",
              "    </tr>\n",
              "    <tr>\n",
              "      <th>...</th>\n",
              "      <td>...</td>\n",
              "      <td>...</td>\n",
              "    </tr>\n",
              "    <tr>\n",
              "      <th>546</th>\n",
              "      <td>Today's Country,Country,Bluegrass,Pop</td>\n",
              "      <td>midnight might best seldom scene phil rosentha...</td>\n",
              "    </tr>\n",
              "    <tr>\n",
              "      <th>547</th>\n",
              "      <td>Classic Country,Contemporary Folk,Country,Blue...</td>\n",
              "      <td>recorded tokyo originally issued nippon columb...</td>\n",
              "    </tr>\n",
              "    <tr>\n",
              "      <th>548</th>\n",
              "      <td>Country Rock,Country,Bluegrass,Pop,Today's Cou...</td>\n",
              "      <td>gave five star excellant excellant vocals enjo...</td>\n",
              "    </tr>\n",
              "    <tr>\n",
              "      <th>549</th>\n",
              "      <td>Folk Rock,Country,Bluegrass,Pop,Today's Countr...</td>\n",
              "      <td>take part jonathan edwards songwriter part ste...</td>\n",
              "    </tr>\n",
              "    <tr>\n",
              "      <th>550</th>\n",
              "      <td>Classic Country,Contemporary Folk,Country,Blue...</td>\n",
              "      <td>classic bought back came vinyl always leaned t...</td>\n",
              "    </tr>\n",
              "  </tbody>\n",
              "</table>\n",
              "<p>551 rows × 2 columns</p>\n",
              "</div>"
            ],
            "text/plain": [
              "                                                genres                                      clean_reviews\n",
              "0    Europe,Christian,Eastern Europe,Pop,Gypsy,Worl...  contrary previous review compilation single ar...\n",
              "1                             Comedy & Spoken Word,Pop  family first experienced john comedy central t...\n",
              "2              Pop & Contemporary,Christian,Gospel,Pop  awesome good needing reminded quiet hear god w...\n",
              "3    Europe,World Music,Blues Rock,Rock,Pop,Dance &...  purchase set bold step dont boxed sets learned...\n",
              "4                   New Age,Meditation,World Music,Pop  stumbled onto cd one day listening post first ...\n",
              "..                                                 ...                                                ...\n",
              "546              Today's Country,Country,Bluegrass,Pop  midnight might best seldom scene phil rosentha...\n",
              "547  Classic Country,Contemporary Folk,Country,Blue...  recorded tokyo originally issued nippon columb...\n",
              "548  Country Rock,Country,Bluegrass,Pop,Today's Cou...  gave five star excellant excellant vocals enjo...\n",
              "549  Folk Rock,Country,Bluegrass,Pop,Today's Countr...  take part jonathan edwards songwriter part ste...\n",
              "550  Classic Country,Contemporary Folk,Country,Blue...  classic bought back came vinyl always leaned t...\n",
              "\n",
              "[551 rows x 2 columns]"
            ]
          },
          "metadata": {
            "tags": []
          },
          "execution_count": 12
        }
      ]
    },
    {
      "cell_type": "code",
      "metadata": {
        "id": "3hZ9EvrIp0wV",
        "colab_type": "code",
        "colab": {
          "resources": {
            "http://localhost:8080/nbextensions/google.colab/files.js": {
              "data": "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",
              "ok": true,
              "headers": [
                [
                  "content-type",
                  "application/javascript"
                ]
              ],
              "status": 200,
              "status_text": ""
            }
          },
          "base_uri": "https://localhost:8080/",
          "height": 75
        },
        "outputId": "a8a5dd87-6389-485a-e08c-7c35fd459622"
      },
      "source": [
        "uploaded = files.upload()"
      ],
      "execution_count": 13,
      "outputs": [
        {
          "output_type": "display_data",
          "data": {
            "text/html": [
              "\n",
              "     <input type=\"file\" id=\"files-6ce2eebd-b762-4d73-9587-aee8996a9b52\" name=\"files[]\" multiple disabled />\n",
              "     <output id=\"result-6ce2eebd-b762-4d73-9587-aee8996a9b52\">\n",
              "      Upload widget is only available when the cell has been executed in the\n",
              "      current browser session. Please rerun this cell to enable.\n",
              "      </output>\n",
              "      <script src=\"/nbextensions/google.colab/files.js\"></script> "
            ],
            "text/plain": [
              "<IPython.core.display.HTML object>"
            ]
          },
          "metadata": {
            "tags": []
          }
        },
        {
          "output_type": "stream",
          "text": [
            "Saving df551_imgsVectorized_X.pkl to df551_imgsVectorized_X.pkl\n"
          ],
          "name": "stdout"
        }
      ]
    },
    {
      "cell_type": "code",
      "metadata": {
        "id": "0n4ieEuDqGxr",
        "colab_type": "code",
        "colab": {}
      },
      "source": [
        "image_df_X = pd.read_pickle(io.BytesIO(uploaded['df551_imgsVectorized_X.pkl']))"
      ],
      "execution_count": 0,
      "outputs": []
    },
    {
      "cell_type": "code",
      "metadata": {
        "id": "iOIhfSIunnGL",
        "colab_type": "code",
        "colab": {}
      },
      "source": [
        "image_df_X = image_df_X.to_frame()\n",
        "image_df_X = image_df_X.reset_index()"
      ],
      "execution_count": 0,
      "outputs": []
    },
    {
      "cell_type": "markdown",
      "metadata": {
        "id": "GG7u6-BFnnGP",
        "colab_type": "text"
      },
      "source": [
        "**Combine the modalities into one big dataframe**"
      ]
    },
    {
      "cell_type": "code",
      "metadata": {
        "scrolled": true,
        "id": "-scErsIJnnGQ",
        "colab_type": "code",
        "colab": {
          "base_uri": "https://localhost:8080/",
          "height": 1000
        },
        "outputId": "350a45fa-0858-48fd-bf5f-53a973a9c807"
      },
      "source": [
        "dataset = {\"Chroma Stft\": audio_df['Chroma Stft'], \"Spectral Centroid\": audio_df['Spectral Centroid'], \n",
        "           \"Spectral Bandwidth\": audio_df['Spectral Bandwidth'], \"Spectral Rolloff\": audio_df['Spectral Rolloff'], \n",
        "           \"ZCR\": audio_df['ZCR'], \"MFCC 1\": audio_df['MFCC 1'], \"MFCC 2\": audio_df['MFCC 2'], \n",
        "           \"MFCC 3\": audio_df['MFCC 3'], \"MFCC 4\": audio_df['MFCC 4'], \"MFCC 5\": audio_df['MFCC 5'], \n",
        "           \"Clean Reviews\": text_df['clean_reviews'], \"imUrl\": image_df_X['imUrl'], \"Genres\": text_df['genres']}\n",
        "\n",
        "multimodal_df = pd.DataFrame(dataset)\n",
        "multimodal_df"
      ],
      "execution_count": 16,
      "outputs": [
        {
          "output_type": "execute_result",
          "data": {
            "text/html": [
              "<div>\n",
              "<style scoped>\n",
              "    .dataframe tbody tr th:only-of-type {\n",
              "        vertical-align: middle;\n",
              "    }\n",
              "\n",
              "    .dataframe tbody tr th {\n",
              "        vertical-align: top;\n",
              "    }\n",
              "\n",
              "    .dataframe thead th {\n",
              "        text-align: right;\n",
              "    }\n",
              "</style>\n",
              "<table border=\"1\" class=\"dataframe\">\n",
              "  <thead>\n",
              "    <tr style=\"text-align: right;\">\n",
              "      <th></th>\n",
              "      <th>Chroma Stft</th>\n",
              "      <th>Spectral Centroid</th>\n",
              "      <th>Spectral Bandwidth</th>\n",
              "      <th>Spectral Rolloff</th>\n",
              "      <th>ZCR</th>\n",
              "      <th>MFCC 1</th>\n",
              "      <th>MFCC 2</th>\n",
              "      <th>MFCC 3</th>\n",
              "      <th>MFCC 4</th>\n",
              "      <th>MFCC 5</th>\n",
              "      <th>Clean Reviews</th>\n",
              "      <th>imUrl</th>\n",
              "      <th>Genres</th>\n",
              "    </tr>\n",
              "  </thead>\n",
              "  <tbody>\n",
              "    <tr>\n",
              "      <th>0</th>\n",
              "      <td>0.317631</td>\n",
              "      <td>1858.848095</td>\n",
              "      <td>2070.823969</td>\n",
              "      <td>3804.451995</td>\n",
              "      <td>0.086750</td>\n",
              "      <td>-110.527584</td>\n",
              "      <td>107.819219</td>\n",
              "      <td>-12.992357</td>\n",
              "      <td>23.560247</td>\n",
              "      <td>0.107660</td>\n",
              "      <td>contrary previous review compilation single ar...</td>\n",
              "      <td>[[[[248. 128.  31.], [248. 129.  29.], [248. 1...</td>\n",
              "      <td>Europe,Christian,Eastern Europe,Pop,Gypsy,Worl...</td>\n",
              "    </tr>\n",
              "    <tr>\n",
              "      <th>1</th>\n",
              "      <td>0.407539</td>\n",
              "      <td>2430.657788</td>\n",
              "      <td>1993.710689</td>\n",
              "      <td>4243.952115</td>\n",
              "      <td>0.150768</td>\n",
              "      <td>-152.042158</td>\n",
              "      <td>87.872922</td>\n",
              "      <td>-49.915526</td>\n",
              "      <td>10.911422</td>\n",
              "      <td>-15.193659</td>\n",
              "      <td>family first experienced john comedy central t...</td>\n",
              "      <td>[[[[0. 0. 0.], [0. 0. 0.], [0. 0. 0.], [0. 0. ...</td>\n",
              "      <td>Comedy &amp; Spoken Word,Pop</td>\n",
              "    </tr>\n",
              "    <tr>\n",
              "      <th>2</th>\n",
              "      <td>0.299010</td>\n",
              "      <td>1344.961601</td>\n",
              "      <td>1702.962194</td>\n",
              "      <td>2691.983722</td>\n",
              "      <td>0.059642</td>\n",
              "      <td>-135.593519</td>\n",
              "      <td>146.903281</td>\n",
              "      <td>-16.374589</td>\n",
              "      <td>33.878938</td>\n",
              "      <td>-6.721820</td>\n",
              "      <td>awesome good needing reminded quiet hear god w...</td>\n",
              "      <td>[[[[165. 112. 118.], [128.  76.  80.], [111.  ...</td>\n",
              "      <td>Pop &amp; Contemporary,Christian,Gospel,Pop</td>\n",
              "    </tr>\n",
              "    <tr>\n",
              "      <th>3</th>\n",
              "      <td>0.344631</td>\n",
              "      <td>750.293388</td>\n",
              "      <td>1203.916434</td>\n",
              "      <td>1506.657556</td>\n",
              "      <td>0.031481</td>\n",
              "      <td>-287.927929</td>\n",
              "      <td>174.176362</td>\n",
              "      <td>5.348383</td>\n",
              "      <td>36.172204</td>\n",
              "      <td>39.698738</td>\n",
              "      <td>purchase set bold step dont boxed sets learned...</td>\n",
              "      <td>[[[[0. 0. 0.], [0. 0. 0.], [0. 0. 0.], [0. 0. ...</td>\n",
              "      <td>Europe,World Music,Blues Rock,Rock,Pop,Dance &amp;...</td>\n",
              "    </tr>\n",
              "    <tr>\n",
              "      <th>4</th>\n",
              "      <td>0.209722</td>\n",
              "      <td>950.325207</td>\n",
              "      <td>1516.822655</td>\n",
              "      <td>1586.357074</td>\n",
              "      <td>0.043833</td>\n",
              "      <td>-206.839709</td>\n",
              "      <td>139.278957</td>\n",
              "      <td>1.349824</td>\n",
              "      <td>20.984522</td>\n",
              "      <td>16.714627</td>\n",
              "      <td>stumbled onto cd one day listening post first ...</td>\n",
              "      <td>[[[[0. 0. 0.], [0. 0. 0.], [0. 0. 0.], [0. 0. ...</td>\n",
              "      <td>New Age,Meditation,World Music,Pop</td>\n",
              "    </tr>\n",
              "    <tr>\n",
              "      <th>...</th>\n",
              "      <td>...</td>\n",
              "      <td>...</td>\n",
              "      <td>...</td>\n",
              "      <td>...</td>\n",
              "      <td>...</td>\n",
              "      <td>...</td>\n",
              "      <td>...</td>\n",
              "      <td>...</td>\n",
              "      <td>...</td>\n",
              "      <td>...</td>\n",
              "      <td>...</td>\n",
              "      <td>...</td>\n",
              "      <td>...</td>\n",
              "    </tr>\n",
              "    <tr>\n",
              "      <th>546</th>\n",
              "      <td>0.380314</td>\n",
              "      <td>1746.240264</td>\n",
              "      <td>2067.960813</td>\n",
              "      <td>3930.009569</td>\n",
              "      <td>0.079052</td>\n",
              "      <td>-112.383933</td>\n",
              "      <td>110.687779</td>\n",
              "      <td>-4.429256</td>\n",
              "      <td>34.706761</td>\n",
              "      <td>-23.067543</td>\n",
              "      <td>midnight might best seldom scene phil rosentha...</td>\n",
              "      <td>[[[[24. 35. 53.], [24. 35. 53.], [24. 35. 53.]...</td>\n",
              "      <td>Today's Country,Country,Bluegrass,Pop</td>\n",
              "    </tr>\n",
              "    <tr>\n",
              "      <th>547</th>\n",
              "      <td>0.283765</td>\n",
              "      <td>1960.822899</td>\n",
              "      <td>2102.370790</td>\n",
              "      <td>4000.136923</td>\n",
              "      <td>0.098785</td>\n",
              "      <td>-153.785276</td>\n",
              "      <td>105.490050</td>\n",
              "      <td>-10.314614</td>\n",
              "      <td>30.471236</td>\n",
              "      <td>-4.295897</td>\n",
              "      <td>recorded tokyo originally issued nippon columb...</td>\n",
              "      <td>[[[[124. 132. 135.], [110. 119. 124.], [ 96. 1...</td>\n",
              "      <td>Classic Country,Contemporary Folk,Country,Blue...</td>\n",
              "    </tr>\n",
              "    <tr>\n",
              "      <th>548</th>\n",
              "      <td>0.384738</td>\n",
              "      <td>1695.939464</td>\n",
              "      <td>2007.082395</td>\n",
              "      <td>3607.978183</td>\n",
              "      <td>0.070799</td>\n",
              "      <td>-195.321153</td>\n",
              "      <td>118.496421</td>\n",
              "      <td>-11.272973</td>\n",
              "      <td>38.307347</td>\n",
              "      <td>-8.033069</td>\n",
              "      <td>gave five star excellant excellant vocals enjo...</td>\n",
              "      <td>[[[[ 78. 127. 193.], [ 79. 129. 190.], [ 80. 1...</td>\n",
              "      <td>Country Rock,Country,Bluegrass,Pop,Today's Cou...</td>\n",
              "    </tr>\n",
              "    <tr>\n",
              "      <th>549</th>\n",
              "      <td>0.318281</td>\n",
              "      <td>2261.429014</td>\n",
              "      <td>2578.469908</td>\n",
              "      <td>5137.568934</td>\n",
              "      <td>0.094882</td>\n",
              "      <td>-184.037275</td>\n",
              "      <td>95.162470</td>\n",
              "      <td>2.812427</td>\n",
              "      <td>6.379000</td>\n",
              "      <td>-8.597758</td>\n",
              "      <td>take part jonathan edwards songwriter part ste...</td>\n",
              "      <td>[[[[0. 0. 0.], [0. 0. 0.], [0. 0. 0.], [0. 0. ...</td>\n",
              "      <td>Folk Rock,Country,Bluegrass,Pop,Today's Countr...</td>\n",
              "    </tr>\n",
              "    <tr>\n",
              "      <th>550</th>\n",
              "      <td>0.285150</td>\n",
              "      <td>1706.489719</td>\n",
              "      <td>1984.414435</td>\n",
              "      <td>3398.729448</td>\n",
              "      <td>0.084711</td>\n",
              "      <td>-268.482777</td>\n",
              "      <td>115.134293</td>\n",
              "      <td>-11.788263</td>\n",
              "      <td>22.024477</td>\n",
              "      <td>-9.686661</td>\n",
              "      <td>classic bought back came vinyl always leaned t...</td>\n",
              "      <td>[[[[230. 219. 201.], [207. 196. 178.], [217. 2...</td>\n",
              "      <td>Classic Country,Contemporary Folk,Country,Blue...</td>\n",
              "    </tr>\n",
              "  </tbody>\n",
              "</table>\n",
              "<p>551 rows × 13 columns</p>\n",
              "</div>"
            ],
            "text/plain": [
              "     Chroma Stft  ...                                             Genres\n",
              "0       0.317631  ...  Europe,Christian,Eastern Europe,Pop,Gypsy,Worl...\n",
              "1       0.407539  ...                           Comedy & Spoken Word,Pop\n",
              "2       0.299010  ...            Pop & Contemporary,Christian,Gospel,Pop\n",
              "3       0.344631  ...  Europe,World Music,Blues Rock,Rock,Pop,Dance &...\n",
              "4       0.209722  ...                 New Age,Meditation,World Music,Pop\n",
              "..           ...  ...                                                ...\n",
              "546     0.380314  ...              Today's Country,Country,Bluegrass,Pop\n",
              "547     0.283765  ...  Classic Country,Contemporary Folk,Country,Blue...\n",
              "548     0.384738  ...  Country Rock,Country,Bluegrass,Pop,Today's Cou...\n",
              "549     0.318281  ...  Folk Rock,Country,Bluegrass,Pop,Today's Countr...\n",
              "550     0.285150  ...  Classic Country,Contemporary Folk,Country,Blue...\n",
              "\n",
              "[551 rows x 13 columns]"
            ]
          },
          "metadata": {
            "tags": []
          },
          "execution_count": 16
        }
      ]
    },
    {
      "cell_type": "markdown",
      "metadata": {
        "id": "A4mOAoVmnnGW",
        "colab_type": "text"
      },
      "source": [
        "**Train test split**"
      ]
    },
    {
      "cell_type": "code",
      "metadata": {
        "id": "WMZiceROnnGW",
        "colab_type": "code",
        "colab": {}
      },
      "source": [
        "def changeToTuple(x):\n",
        "    stringListGenres = x.split(\",\")\n",
        "    stringListGenres = tuple(stringListGenres)\n",
        "    return(stringListGenres)\n",
        "\n",
        "genres = multimodal_df['Genres']\n",
        "genres = genres.apply(lambda x: changeToTuple(x))\n",
        "\n",
        "genresList = genres.tolist()\n",
        "\n",
        "mlb = MultiLabelBinarizer()\n",
        "\n",
        "y = mlb.fit_transform(genresList)"
      ],
      "execution_count": 0,
      "outputs": []
    },
    {
      "cell_type": "code",
      "metadata": {
        "id": "xXjGWSQJnnGa",
        "colab_type": "code",
        "colab": {}
      },
      "source": [
        "X_train, X_test, y_train, y_test = train_test_split(multimodal_df.iloc[:, :-1], y, test_size = 0.2)"
      ],
      "execution_count": 0,
      "outputs": []
    },
    {
      "cell_type": "markdown",
      "metadata": {
        "id": "tJNPKvSInnGd",
        "colab_type": "text"
      },
      "source": [
        "**Scaling of inputs**"
      ]
    },
    {
      "cell_type": "markdown",
      "metadata": {
        "id": "Sj-7z9B0nnGd",
        "colab_type": "text"
      },
      "source": [
        "Scaling audio"
      ]
    },
    {
      "cell_type": "code",
      "metadata": {
        "id": "Rrw2z1D3nnGe",
        "colab_type": "code",
        "colab": {}
      },
      "source": [
        "scaler = MinMaxScaler()\n",
        "X_train_audio = X_train[['Chroma Stft', 'Spectral Centroid', 'Spectral Bandwidth', 'Spectral Rolloff', 'ZCR', 'MFCC 1', \n",
        "                         'MFCC 2', 'MFCC 3', 'MFCC 4', 'MFCC 5']]\n",
        "X_test_audio = X_test[['Chroma Stft', 'Spectral Centroid', 'Spectral Bandwidth', 'Spectral Rolloff', 'ZCR', 'MFCC 1', \n",
        "                        'MFCC 2', 'MFCC 3', 'MFCC 4', 'MFCC 5']]\n",
        "X_train_audio_scaled = scaler.fit_transform(np.array(X_train_audio, dtype = float))\n",
        "X_test_audio_scaled = scaler.transform(np.array(X_test_audio,  dtype = float))"
      ],
      "execution_count": 0,
      "outputs": []
    },
    {
      "cell_type": "markdown",
      "metadata": {
        "id": "3fjzBO9-nnGj",
        "colab_type": "text"
      },
      "source": [
        "Scaling text"
      ]
    },
    {
      "cell_type": "code",
      "metadata": {
        "id": "a3rwchk4nnGk",
        "colab_type": "code",
        "colab": {}
      },
      "source": [
        "tfidf_vectorizer = TfidfVectorizer(max_features=10000)\n",
        "X_train_text = X_train['Clean Reviews']\n",
        "X_test_text = X_test['Clean Reviews']\n",
        "X_train_text_vectorized = tfidf_vectorizer.fit_transform(X_train_text).toarray()\n",
        "X_test_text_vectorized = tfidf_vectorizer.transform(X_test_text).toarray()"
      ],
      "execution_count": 0,
      "outputs": []
    },
    {
      "cell_type": "markdown",
      "metadata": {
        "id": "-vSC3ayTnnGn",
        "colab_type": "text"
      },
      "source": [
        "Scaling Audio"
      ]
    },
    {
      "cell_type": "code",
      "metadata": {
        "id": "JRw6u862nnGn",
        "colab_type": "code",
        "colab": {}
      },
      "source": [
        "res_train = np.array(X_train['imUrl'].values.tolist()).squeeze()\n",
        "res_test = np.array(X_test['imUrl'].values.tolist()).squeeze()"
      ],
      "execution_count": 0,
      "outputs": []
    },
    {
      "cell_type": "code",
      "metadata": {
        "id": "bXodYMb4nnGr",
        "colab_type": "code",
        "colab": {
          "base_uri": "https://localhost:8080/",
          "height": 35
        },
        "outputId": "b5cd94bc-2f2c-42c0-f888-7df40cfa9f2c"
      },
      "source": [
        "res_train.shape"
      ],
      "execution_count": 22,
      "outputs": [
        {
          "output_type": "execute_result",
          "data": {
            "text/plain": [
              "(440, 300, 300, 3)"
            ]
          },
          "metadata": {
            "tags": []
          },
          "execution_count": 22
        }
      ]
    },
    {
      "cell_type": "code",
      "metadata": {
        "id": "jeFaFJH8nnGu",
        "colab_type": "code",
        "colab": {
          "base_uri": "https://localhost:8080/",
          "height": 852
        },
        "outputId": "67e016db-45b5-46e3-d29e-3af026016740"
      },
      "source": [
        "audio = audio_model(X_train_audio_scaled, y_train, regress=False)\n",
        "text = text_model(X_train_text_vectorized, y_train, regress=False)\n",
        "image = image_model(res_train, y_train, regress=False)\n",
        "\n",
        "combinedInput = layers.concatenate([audio.output, text.output, image.output])\n",
        "\n",
        "x = layers.Dense(64, activation=\"relu\")(combinedInput)\n",
        "x = layers.Dense(y_train.shape[1], activation=\"linear\")(x)\n",
        "\n",
        "model = models.Model(inputs=[audio.input, text.input, image.input], outputs=x)\n",
        "model.compile(optimizer='adam', loss='binary_crossentropy', metrics=['accuracy', tf.keras.metrics.AUC(multi_label = True)])\n",
        "model.fit([X_train_audio_scaled, X_train_text_vectorized, res_train], y_train, \n",
        "          validation_data=([X_test_audio_scaled, X_test_text_vectorized, res_test], y_test), \n",
        "          epochs=20, batch_size=32)"
      ],
      "execution_count": 23,
      "outputs": [
        {
          "output_type": "stream",
          "text": [
            "/usr/local/lib/python3.6/dist-packages/ipykernel_launcher.py:18: UserWarning: Update your `Model` call to the Keras 2 API: `Model(inputs=Tensor(\"in..., outputs=Tensor(\"de...)`\n"
          ],
          "name": "stderr"
        },
        {
          "output_type": "stream",
          "text": [
            "Downloading data from https://github.com/fchollet/deep-learning-models/releases/download/v0.2/resnet50_weights_tf_dim_ordering_tf_kernels_notop.h5\n",
            "94658560/94653016 [==============================] - 4s 0us/step\n"
          ],
          "name": "stdout"
        },
        {
          "output_type": "stream",
          "text": [
            "/usr/local/lib/python3.6/dist-packages/ipykernel_launcher.py:8: UserWarning: Update your `Model` call to the Keras 2 API: `Model(inputs=Tensor(\"in..., outputs=Tensor(\"de...)`\n",
            "  \n"
          ],
          "name": "stderr"
        },
        {
          "output_type": "stream",
          "text": [
            "Train on 440 samples, validate on 111 samples\n",
            "Epoch 1/20\n",
            "440/440 [==============================] - 507s 1s/step - loss: 0.2956 - accuracy: 0.9461 - auc: 0.1248 - val_loss: 6.7924 - val_accuracy: 0.0012 - val_auc: 0.1196\n",
            "Epoch 2/20\n",
            "440/440 [==============================] - 477s 1s/step - loss: 0.2463 - accuracy: 0.9650 - auc: 0.1159 - val_loss: 5.2544 - val_accuracy: 2.6276e-04 - val_auc: 0.1025\n",
            "Epoch 3/20\n",
            "440/440 [==============================] - 477s 1s/step - loss: 0.2358 - accuracy: 0.9574 - auc: 0.0966 - val_loss: 4.7948 - val_accuracy: 4.8799e-04 - val_auc: 0.0910\n",
            "Epoch 4/20\n",
            "440/440 [==============================] - 480s 1s/step - loss: 0.2225 - accuracy: 0.9642 - auc: 0.0880 - val_loss: 5.4478 - val_accuracy: 0.0770 - val_auc: 0.0838\n",
            "Epoch 5/20\n",
            "440/440 [==============================] - 484s 1s/step - loss: 0.2192 - accuracy: 0.9567 - auc: 0.0818 - val_loss: 4.7168 - val_accuracy: 0.1572 - val_auc: 0.0791\n",
            "Epoch 6/20\n",
            "440/440 [==============================] - 486s 1s/step - loss: 0.2322 - accuracy: 0.9408 - auc: 0.0784 - val_loss: 5.1486 - val_accuracy: 0.0162 - val_auc: 0.0765\n",
            "Epoch 7/20\n",
            "440/440 [==============================] - 494s 1s/step - loss: 0.2331 - accuracy: 0.8748 - auc: 0.0756 - val_loss: 4.1497 - val_accuracy: 0.0163 - val_auc: 0.0740\n",
            "Epoch 8/20\n",
            "440/440 [==============================] - 490s 1s/step - loss: 0.2155 - accuracy: 0.8715 - auc: 0.0734 - val_loss: 4.6892 - val_accuracy: 0.0000e+00 - val_auc: 0.0720\n",
            "Epoch 9/20\n",
            "440/440 [==============================] - 485s 1s/step - loss: 0.2110 - accuracy: 0.8279 - auc: 0.0713 - val_loss: 3.6471 - val_accuracy: 0.0018 - val_auc: 0.0704\n",
            "Epoch 10/20\n",
            "440/440 [==============================] - 483s 1s/step - loss: 0.1918 - accuracy: 0.8649 - auc: 0.0705 - val_loss: 5.4889 - val_accuracy: 0.0394 - val_auc: 0.0705\n",
            "Epoch 11/20\n",
            "440/440 [==============================] - 486s 1s/step - loss: 0.1890 - accuracy: 0.8657 - auc: 0.0709 - val_loss: 1.1770 - val_accuracy: 0.5858 - val_auc: 0.0714\n",
            "Epoch 12/20\n",
            "440/440 [==============================] - 484s 1s/step - loss: 0.1816 - accuracy: 0.8966 - auc: 0.0720 - val_loss: 0.2485 - val_accuracy: 0.8586 - val_auc: 0.0723\n",
            "Epoch 13/20\n",
            "440/440 [==============================] - 488s 1s/step - loss: 0.1761 - accuracy: 0.8892 - auc: 0.0731 - val_loss: 0.2070 - val_accuracy: 0.9312 - val_auc: 0.0737\n",
            "Epoch 14/20\n",
            "440/440 [==============================] - 499s 1s/step - loss: 0.1769 - accuracy: 0.8846 - auc: 0.0743 - val_loss: 4.4536 - val_accuracy: 0.1250 - val_auc: 0.0743\n",
            "Epoch 15/20\n",
            "440/440 [==============================] - 493s 1s/step - loss: 0.1729 - accuracy: 0.8702 - auc: 0.0744 - val_loss: 3.9128 - val_accuracy: 0.1050 - val_auc: 0.0743\n",
            "Epoch 16/20\n",
            "440/440 [==============================] - 489s 1s/step - loss: 0.1719 - accuracy: 0.8342 - auc: 0.0748 - val_loss: 2.4060 - val_accuracy: 0.2095 - val_auc: 0.0748\n",
            "Epoch 17/20\n",
            "440/440 [==============================] - 488s 1s/step - loss: 0.1678 - accuracy: 0.8163 - auc: 0.0752 - val_loss: 1.3335 - val_accuracy: 0.2714 - val_auc: 0.0751\n",
            "Epoch 18/20\n",
            "440/440 [==============================] - 488s 1s/step - loss: 0.1632 - accuracy: 0.8046 - auc: 0.0753 - val_loss: 0.9759 - val_accuracy: 0.4631 - val_auc: 0.0753\n",
            "Epoch 19/20\n",
            "440/440 [==============================] - 488s 1s/step - loss: 0.1571 - accuracy: 0.7693 - auc: 0.0757 - val_loss: 0.5493 - val_accuracy: 0.7105 - val_auc: 0.0757\n",
            "Epoch 20/20\n",
            "440/440 [==============================] - 489s 1s/step - loss: 0.1538 - accuracy: 0.7300 - auc: 0.0758 - val_loss: 0.2728 - val_accuracy: 0.8808 - val_auc: 0.0757\n"
          ],
          "name": "stdout"
        },
        {
          "output_type": "execute_result",
          "data": {
            "text/plain": [
              "<keras.callbacks.callbacks.History at 0x7f145e9b6f28>"
            ]
          },
          "metadata": {
            "tags": []
          },
          "execution_count": 23
        }
      ]
    },
    {
      "cell_type": "code",
      "metadata": {
        "id": "egvQISqhnnGy",
        "colab_type": "code",
        "colab": {
          "base_uri": "https://localhost:8080/",
          "height": 35
        },
        "outputId": "2576070e-179a-4bc1-d074-616fcfadf678"
      },
      "source": [
        "y_pred = model.predict([X_test_audio_scaled, X_test_text_vectorized, res_test])\n",
        "LRAP = label_ranking_average_precision_score(y_test, y_pred)\n",
        "print(LRAP)"
      ],
      "execution_count": 26,
      "outputs": [
        {
          "output_type": "stream",
          "text": [
            "0.3284123863831167\n"
          ],
          "name": "stdout"
        }
      ]
    },
    {
      "cell_type": "code",
      "metadata": {
        "id": "QzIeCFeVpi2-",
        "colab_type": "code",
        "colab": {
          "base_uri": "https://localhost:8080/",
          "height": 867
        },
        "outputId": "99f299bd-fb29-487f-bcbc-17178afefd2e"
      },
      "source": [
        "y_pred[0]"
      ],
      "execution_count": 27,
      "outputs": [
        {
          "output_type": "execute_result",
          "data": {
            "text/plain": [
              "array([-0.12046073, -0.45471334,  0.00491246, -0.52987653, -0.41894636,\n",
              "       -0.17948696,  0.14678077, -0.1528193 ,  0.06567496, -0.4290982 ,\n",
              "       -0.3831603 , -0.255347  , -0.6118242 , -0.14607126, -0.04898738,\n",
              "       -0.15235147, -0.36081997, -0.48673308, -0.06674792, -0.5630109 ,\n",
              "       -0.06765563,  0.48630303, -0.5718459 , -0.24639705, -0.08421418,\n",
              "        0.04910471, -0.08942184, -0.05301187, -0.19265205, -0.32185766,\n",
              "       -0.44468677, -0.02826147, -0.2274544 , -0.35699564, -0.19018866,\n",
              "       -0.10122007, -0.3305955 , -0.19453755, -0.13621317, -0.19604616,\n",
              "       -0.217091  , -0.55410683,  0.20887274, -0.3127182 , -0.5484984 ,\n",
              "        0.0612696 , -0.25934935, -0.82555753, -0.03853856, -0.2641335 ,\n",
              "       -0.4491447 , -0.31315222, -0.05561231, -0.21404862, -0.3626286 ,\n",
              "       -0.05559411, -0.3721317 , -0.17517233, -0.59077245, -0.4828609 ,\n",
              "       -0.32736495, -0.4238217 , -0.12843217, -0.24503398, -0.3537833 ,\n",
              "       -0.37162852, -0.3058709 , -0.09660976, -0.8283805 , -0.19486386,\n",
              "       -0.25589493, -0.16578722, -0.47850868, -0.47687954, -0.02123598,\n",
              "       -0.55066574,  0.051553  , -0.20495361, -0.34934622,  0.08711639,\n",
              "       -0.04680129, -0.56690586, -0.10067025, -0.22465575, -0.2542541 ,\n",
              "       -0.14499018, -0.37025425, -0.37719345,  0.04856587, -0.31089842,\n",
              "       -0.12091269, -0.47729975, -0.18915367, -0.13954765, -0.49468753,\n",
              "       -0.22968124, -0.19380613,  0.09692116, -0.5499359 , -0.19257304,\n",
              "       -0.27904162, -0.00665757, -0.2929275 , -0.06106266,  0.10051785,\n",
              "        0.0264301 , -0.23596391, -0.48016998, -0.4169774 , -0.49752384,\n",
              "       -0.38180122, -0.15936825, -0.17840473, -0.39100614, -0.13284273,\n",
              "       -0.27567014,  0.12281379, -0.02998829, -0.37647587, -0.3436791 ,\n",
              "       -0.32901487, -0.4946611 , -0.17228   , -0.12361014, -0.34864965,\n",
              "       -0.2785045 , -0.40128526, -0.06719112, -0.4568582 , -0.5133575 ,\n",
              "       -0.29204908, -0.20751739, -0.01745088, -0.2204592 , -0.25733343,\n",
              "        0.2767784 , -0.00178722, -0.4068363 , -0.6528312 , -0.2538284 ,\n",
              "       -0.17892562, -0.15470342, -0.23566557, -0.41844627, -0.19051045,\n",
              "       -0.12374025, -0.25370285, -0.44237077, -0.6093584 , -0.3886109 ,\n",
              "        0.20591448, -0.11075026,  0.04696151, -0.13156667, -0.16389799,\n",
              "       -0.15801531, -0.31540918, -0.24361385, -0.3882513 , -0.4065666 ,\n",
              "       -0.2206851 ,  1.0276012 ,  0.04695823, -0.40870345,  0.15989473,\n",
              "        0.106003  , -0.30195695, -0.28860515, -0.15893567, -0.15343313,\n",
              "       -0.3750229 , -0.25095809, -0.10936551, -0.40641648, -0.5951998 ,\n",
              "       -0.17537233,  0.26512134, -0.42108035,  0.12918496, -0.05337279,\n",
              "       -0.03232027, -0.18271229,  0.20198582, -0.46869612, -0.2821283 ,\n",
              "       -0.0958571 ,  0.28181246, -0.13878603, -0.40470713, -0.3613759 ,\n",
              "       -0.3354938 , -0.30303285, -0.12589702, -0.3055151 , -0.3632324 ,\n",
              "       -0.39533275, -0.37899888, -0.36523125, -0.15430725,  0.00375938,\n",
              "       -0.29412827, -0.05197362,  0.10767236, -0.46222842, -0.10578906,\n",
              "       -0.04486217, -0.15592048, -0.19838244, -0.12470752, -0.29769725,\n",
              "       -0.12036995, -0.29625776, -0.488208  , -0.41822365, -0.50079596,\n",
              "       -0.11483885, -0.5018789 , -0.05943029, -0.06131315, -0.61584824,\n",
              "       -0.2500572 ,  0.08448413, -0.34900653,  0.01236113, -0.23484461,\n",
              "       -0.42649674, -0.5025848 , -0.15004404, -0.304575  , -0.22256376,\n",
              "       -0.00691731, -0.6522428 , -0.18065423, -0.11823437,  0.09525036,\n",
              "       -0.15494582, -0.3686157 , -0.23682378, -0.2721814 ,  0.16594496],\n",
              "      dtype=float32)"
            ]
          },
          "metadata": {
            "tags": []
          },
          "execution_count": 27
        }
      ]
    }
  ]
}