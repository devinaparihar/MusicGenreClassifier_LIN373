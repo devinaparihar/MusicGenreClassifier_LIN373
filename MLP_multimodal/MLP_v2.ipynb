{
  "nbformat": 4,
  "nbformat_minor": 0,
  "metadata": {
    "kernelspec": {
      "display_name": "Python 3",
      "language": "python",
      "name": "python3"
    },
    "language_info": {
      "codemirror_mode": {
        "name": "ipython",
        "version": 3
      },
      "file_extension": ".py",
      "mimetype": "text/x-python",
      "name": "python",
      "nbconvert_exporter": "python",
      "pygments_lexer": "ipython3",
      "version": "3.7.1"
    },
    "colab": {
      "name": "MLP_v2.ipynb",
      "provenance": [],
      "collapsed_sections": [],
      "toc_visible": true
    }
  },
  "cells": [
    {
      "cell_type": "code",
      "metadata": {
        "id": "BiXF1dx7j-1j",
        "colab_type": "code",
        "colab": {}
      },
      "source": [
        "# code snippet to prompt colab for more RAM\n",
        "a = []\n",
        "while(1):\n",
        "    a.append('1')"
      ],
      "execution_count": 0,
      "outputs": []
    },
    {
      "cell_type": "code",
      "metadata": {
        "id": "39GiuUBSMHsj",
        "colab_type": "code",
        "colab": {
          "base_uri": "https://localhost:8080/",
          "height": 35
        },
        "outputId": "6fef7234-7a49-4e49-8e10-28307d2dd529"
      },
      "source": [
        "from sklearn.model_selection import train_test_split\n",
        "from keras import models\n",
        "from keras import layers\n",
        "import pandas as pd\n",
        "from sklearn.preprocessing import MultiLabelBinarizer, MinMaxScaler\n",
        "from sklearn.feature_extraction.text import TfidfVectorizer\n",
        "from keras.applications.resnet50 import ResNet50\n",
        "import numpy as np\n",
        "import pickle\n",
        "from keras.layers import Input,Dense\n",
        "from keras.models import Sequential,Model,load_model"
      ],
      "execution_count": 2,
      "outputs": [
        {
          "output_type": "stream",
          "text": [
            "Using TensorFlow backend.\n"
          ],
          "name": "stderr"
        }
      ]
    },
    {
      "cell_type": "markdown",
      "metadata": {
        "id": "OHg7pKkeMHsp",
        "colab_type": "text"
      },
      "source": [
        "All the albums that didn't have any audio tracks to sample from"
      ]
    },
    {
      "cell_type": "code",
      "metadata": {
        "id": "Nz7bCJbpMHsq",
        "colab_type": "code",
        "colab": {}
      },
      "source": [
        "useless_albums_reset_index = [7, 8, 9, 11, 15, 18, 19, 31, 52, 54, 62, 70, 84, 85, 86, 88, 89, 90, 91, 92, 93, 94, 95, \n",
        "                              96, 97, 98, 99, 100, 101, 102, 103, 104, 105, 106, 107, 109, 110, 111, 113, 114, 115, 116,\n",
        "                              117, 118, 119, 121, 122, 123, 124, 125, 126, 129, 130, 132, 134, 137, 147, 150, 151, 152, \n",
        "                              154, 155, 156, 157, 158, 159, 160, 161, 162, 165, 166, 170, 171, 172, 173, 174, 175, 177, \n",
        "                              178, 179, 181, 182, 183, 184, 185, 186, 188, 191, 192, 195, 199, 200, 204, 207, 208, 210, \n",
        "                              211, 212, 216, 219, 222, 223, 224, 225, 226, 227, 233, 235, 238, 249, 252, 254, 258, 275, \n",
        "                              311, 313, 325, 335, 354, 363, 364, 365, 371, 374, 375, 376, 379, 391, 392, 393, 395, 399, \n",
        "                              401, 402, 404, 406, 407, 408, 409, 410, 411, 413, 414, 415, 416, 417, 418, 420, 421, 423, \n",
        "                              425, 427, 428, 430, 431, 433, 434, 435, 437, 438, 439, 440, 441, 442, 445, 458, 468, 470, \n",
        "                              471, 481, 482, 483, 487, 488, 489, 497, 502, 511, 519, 521, 522, 525, 533, 536, 540, 543, \n",
        "                              544, 554, 565, 568, 570, 582, 589, 599, 601, 604, 606, 609, 630, 635, 643, 645, 655, 689, \n",
        "                              693, 694, 700, 711, 719, 720, 724, 726, 730, 731, 732, 733, 734, 735, 737, 738, 739, 741, \n",
        "                              742, 743, 744, 745, 746, 747, 748, 749, 750, 751, 752, 753, 754, 755, 756, 757, 758, 759, \n",
        "                              760, 761, 762, 765, 767, 781, 789, 794, 796]\n",
        "useless_albums_index_not_reset = [11, 12, 16, 19, 23, 26, 27, 41, 70, 72, 81, 92, 110, 112, 115, 117, 120, 121, 122, \n",
        "                                  123, 124, 125, 126, 127, 128, 129, 130, 131, 133, 134, 135, 136, 137, 138, 139, 142, \n",
        "                                  143, 145, 149, 150, 151, 152, 153, 154, 155, 157, 158, 159, 161, 162, 163, 168, 170, \n",
        "                                  172, 175, 178, 189, 196, 197, 198, 200, 203, 204, 205, 206, 207, 210, 211, 212, 215, \n",
        "                                  216, 226, 228, 229, 231, 232, 233, 235, 236, 237, 240, 241, 242, 244, 246, 247, 249, \n",
        "                                  252, 253, 257, 261, 262, 267, 270, 272, 275, 276, 277, 282, 285, 288, 289, 290, 291, \n",
        "                                  292, 293, 303, 305, 308, 321, 326, 328, 334, 357, 405, 408, 428, 438, 462, 473, 474, \n",
        "                                  475, 483, 486, 488, 490, 493, 509, 510, 511, 513, 517, 521, 522, 524, 527, 528, 530, \n",
        "                                  531, 532, 533, 536, 537, 538, 539, 540, 542, 544, 545, 548, 550, 552, 553, 558, 559, \n",
        "                                  561, 563, 564, 567, 569, 570, 571, 572, 573, 577, 596, 611, 613, 614, 626, 628, 629, \n",
        "                                  636, 639, 641, 651, 657, 668, 680, 682, 683, 687, 697, 701, 706, 709, 710, 723, 738, \n",
        "                                  744, 747, 768, 778, 791, 793, 796, 798, 805, 833, 841, 851, 854, 870, 914, 919, 920, \n",
        "                                  929, 942, 952, 954, 960, 963, 967, 968, 969, 970, 971, 972, 975, 976, 977, 980, 981, \n",
        "                                  983, 984, 985, 986, 987, 990, 991, 994, 997, 998, 999, 1000, 1001, 1002, 1003, 1004, \n",
        "                                  1006, 1008, 1011, 1012, 1017, 1019, 1037, 1050, 1057, 1060]"
      ],
      "execution_count": 0,
      "outputs": []
    },
    {
      "cell_type": "code",
      "metadata": {
        "id": "eIdUS2SqMHst",
        "colab_type": "code",
        "colab": {
          "base_uri": "https://localhost:8080/",
          "height": 35
        },
        "outputId": "9e33d8e3-3af0-4456-908a-64f7baac3ac4"
      },
      "source": [
        "len(useless_albums_reset_index)"
      ],
      "execution_count": 3,
      "outputs": [
        {
          "output_type": "execute_result",
          "data": {
            "text/plain": [
              "249"
            ]
          },
          "metadata": {
            "tags": []
          },
          "execution_count": 3
        }
      ]
    },
    {
      "cell_type": "markdown",
      "metadata": {
        "id": "asgN-YI7MHsx",
        "colab_type": "text"
      },
      "source": [
        "# Models (retraining all models here because we are working with a very small sample, in future we can load trained models)"
      ]
    },
    {
      "cell_type": "code",
      "metadata": {
        "id": "MsuBnaoUMHsx",
        "colab_type": "code",
        "colab": {}
      },
      "source": [
        "def audio_model(X, y, regress=False):\n",
        "    model = models.Sequential()\n",
        "    model.add(layers.Dense(256, activation='relu', input_shape=(X.shape[1],)))\n",
        "    model.add(layers.Dense(128, activation='relu'))\n",
        "    model.add(layers.Dense(64, activation='relu'))\n",
        "    \n",
        "    if regress:\n",
        "        model.add(layers.Dense(y.shape[1], activation='softmax'))\n",
        "    \n",
        "    return model"
      ],
      "execution_count": 0,
      "outputs": []
    },
    {
      "cell_type": "code",
      "metadata": {
        "id": "DdYTiNz6MHs0",
        "colab_type": "code",
        "colab": {}
      },
      "source": [
        "def text_model(X, y, regress=False):\n",
        "#     model  = models.Sequential()\n",
        "#     model.add(layers.Dense(2048, input_shape = X_train.shape[1], activation = 'relu'))\n",
        "#     model.add(layers.Dense(2048, activation = 'relu'))\n",
        "#     model.add(layers.Dropout(0.10))\n",
        "#     model = models.Sequential()\n",
        "#     model.add(layers.Dense(256, activation='relu', input_shape=(X_train.shape[1],)))\n",
        "#     model.add(layers.Dense(128, activation='relu'))\n",
        "#     model.add(layers.Dense(64, activation='relu'))\n",
        "\n",
        "  num_classes = y.shape[1]\n",
        "\n",
        "  input_tfidf = Input(shape=(X.shape[1],))\n",
        "  dense1 = Dense(2048, activation = 'relu')(input_tfidf)\n",
        "  dense2 = Dense(2048, activation = 'relu')(dense1)\n",
        "  output = Dense(num_classes, activation = 'sigmoid')(dense2)\n",
        "\n",
        "  model = Model(input = input_tfidf, output = output)\n",
        "\n",
        "    \n",
        "  if regress:\n",
        "      #model.add(layers.Dense(y.shape[1], activation = 'sigmoid'))\n",
        "      output_layer = layers.Dense(num_classes, activation = 'sigmoid')(output)\n",
        "      model = Model(input = input_tfidf, output = output_layer)\n",
        "        \n",
        "  return model"
      ],
      "execution_count": 0,
      "outputs": []
    },
    {
      "cell_type": "code",
      "metadata": {
        "id": "3Z4Sl810MHs3",
        "colab_type": "code",
        "colab": {}
      },
      "source": [
        "def image_model(X, y, regress=False):\n",
        "    img = Input(shape = (300, 300, 3))\n",
        "    base_model = ResNet50(weights = 'imagenet',include_top = False, input_tensor = img, input_shape = None, pooling = 'avg')\n",
        "    num_classes = y.shape[1]\n",
        "    \n",
        "    final_layer = base_model.layers[-1].output\n",
        "    dense_layer_1 = layers.Dense(128, activation = 'relu')(final_layer)\n",
        "    model = models.Model(input = img, output = dense_layer_1)\n",
        "    \n",
        "    if regress:\n",
        "        output_layer = layers.Dense(num_classes, activation = 'sigmoid')(dense_layer_1)\n",
        "        model = models.Model(input = img, output = output_layer)\n",
        "        \n",
        "    return model"
      ],
      "execution_count": 0,
      "outputs": []
    },
    {
      "cell_type": "markdown",
      "metadata": {
        "id": "2sBhOUVXMHs7",
        "colab_type": "text"
      },
      "source": [
        "# Modality matching"
      ]
    },
    {
      "cell_type": "markdown",
      "metadata": {
        "id": "FNzvFdY9MHs9",
        "colab_type": "text"
      },
      "source": [
        "**Audio**"
      ]
    },
    {
      "cell_type": "code",
      "metadata": {
        "id": "P_9NXrSNMHs-",
        "colab_type": "code",
        "colab": {}
      },
      "source": [
        "audio_df = pd.read_csv('551_albums_audio.csv')\n",
        "audio_df = audio_df.drop(columns = ['Unnamed: 0'])"
      ],
      "execution_count": 0,
      "outputs": []
    },
    {
      "cell_type": "code",
      "metadata": {
        "id": "gxhvyWDLMHtB",
        "colab_type": "code",
        "colab": {},
        "outputId": "d5cbc719-6fae-4bbe-8033-53be884a8926"
      },
      "source": [
        "audio_df.head(10)"
      ],
      "execution_count": 0,
      "outputs": [
        {
          "output_type": "execute_result",
          "data": {
            "text/html": [
              "<div>\n",
              "<style scoped>\n",
              "    .dataframe tbody tr th:only-of-type {\n",
              "        vertical-align: middle;\n",
              "    }\n",
              "\n",
              "    .dataframe tbody tr th {\n",
              "        vertical-align: top;\n",
              "    }\n",
              "\n",
              "    .dataframe thead th {\n",
              "        text-align: right;\n",
              "    }\n",
              "</style>\n",
              "<table border=\"1\" class=\"dataframe\">\n",
              "  <thead>\n",
              "    <tr style=\"text-align: right;\">\n",
              "      <th></th>\n",
              "      <th>Unnamed: 0</th>\n",
              "      <th>index</th>\n",
              "      <th>amazonIDs</th>\n",
              "      <th>Chroma Stft</th>\n",
              "      <th>Spectral Centroid</th>\n",
              "      <th>Spectral Bandwidth</th>\n",
              "      <th>Spectral Rolloff</th>\n",
              "      <th>ZCR</th>\n",
              "      <th>MFCC 1</th>\n",
              "      <th>MFCC 2</th>\n",
              "      <th>MFCC 3</th>\n",
              "      <th>MFCC 4</th>\n",
              "      <th>MFCC 5</th>\n",
              "      <th>Genres</th>\n",
              "    </tr>\n",
              "  </thead>\n",
              "  <tbody>\n",
              "    <tr>\n",
              "      <th>0</th>\n",
              "      <td>0</td>\n",
              "      <td>2</td>\n",
              "      <td>1906063443</td>\n",
              "      <td>0.317631</td>\n",
              "      <td>1858.848095</td>\n",
              "      <td>2070.823969</td>\n",
              "      <td>3804.451995</td>\n",
              "      <td>0.086750</td>\n",
              "      <td>-110.527584</td>\n",
              "      <td>107.819219</td>\n",
              "      <td>-12.992357</td>\n",
              "      <td>23.560247</td>\n",
              "      <td>0.107660</td>\n",
              "      <td>Europe,Christian,Eastern Europe,Pop,Gypsy,Worl...</td>\n",
              "    </tr>\n",
              "    <tr>\n",
              "      <th>1</th>\n",
              "      <td>1</td>\n",
              "      <td>3</td>\n",
              "      <td>1929243766</td>\n",
              "      <td>0.407539</td>\n",
              "      <td>2430.657788</td>\n",
              "      <td>1993.710689</td>\n",
              "      <td>4243.952115</td>\n",
              "      <td>0.150768</td>\n",
              "      <td>-152.042158</td>\n",
              "      <td>87.872922</td>\n",
              "      <td>-49.915526</td>\n",
              "      <td>10.911422</td>\n",
              "      <td>-15.193659</td>\n",
              "      <td>Comedy &amp; Spoken Word,Pop, Comedy &amp; Spoken Word...</td>\n",
              "    </tr>\n",
              "    <tr>\n",
              "      <th>2</th>\n",
              "      <td>2</td>\n",
              "      <td>4</td>\n",
              "      <td>1930864159</td>\n",
              "      <td>0.299010</td>\n",
              "      <td>1344.961601</td>\n",
              "      <td>1702.962194</td>\n",
              "      <td>2691.983722</td>\n",
              "      <td>0.059642</td>\n",
              "      <td>-135.593519</td>\n",
              "      <td>146.903281</td>\n",
              "      <td>-16.374589</td>\n",
              "      <td>33.878938</td>\n",
              "      <td>-6.721820</td>\n",
              "      <td>Pop &amp; Contemporary,Christian,Gospel,Pop, Pop &amp;...</td>\n",
              "    </tr>\n",
              "    <tr>\n",
              "      <th>3</th>\n",
              "      <td>3</td>\n",
              "      <td>6</td>\n",
              "      <td>3937406328</td>\n",
              "      <td>0.344631</td>\n",
              "      <td>750.293388</td>\n",
              "      <td>1203.916434</td>\n",
              "      <td>1506.657556</td>\n",
              "      <td>0.031481</td>\n",
              "      <td>-287.927929</td>\n",
              "      <td>174.176362</td>\n",
              "      <td>5.348383</td>\n",
              "      <td>36.172204</td>\n",
              "      <td>39.698738</td>\n",
              "      <td>Europe,World Music,Blues Rock,Rock,Pop,Dance &amp;...</td>\n",
              "    </tr>\n",
              "    <tr>\n",
              "      <th>4</th>\n",
              "      <td>4</td>\n",
              "      <td>7</td>\n",
              "      <td>4266950926</td>\n",
              "      <td>0.209722</td>\n",
              "      <td>950.325207</td>\n",
              "      <td>1516.822655</td>\n",
              "      <td>1586.357074</td>\n",
              "      <td>0.043833</td>\n",
              "      <td>-206.839709</td>\n",
              "      <td>139.278957</td>\n",
              "      <td>1.349824</td>\n",
              "      <td>20.984522</td>\n",
              "      <td>16.714627</td>\n",
              "      <td>New Age,Meditation,World Music,Pop, New Age,Me...</td>\n",
              "    </tr>\n",
              "  </tbody>\n",
              "</table>\n",
              "</div>"
            ],
            "text/plain": [
              "   Unnamed: 0  index   amazonIDs  Chroma Stft  Spectral Centroid  \\\n",
              "0           0      2  1906063443     0.317631        1858.848095   \n",
              "1           1      3  1929243766     0.407539        2430.657788   \n",
              "2           2      4  1930864159     0.299010        1344.961601   \n",
              "3           3      6  3937406328     0.344631         750.293388   \n",
              "4           4      7  4266950926     0.209722         950.325207   \n",
              "\n",
              "   Spectral Bandwidth  Spectral Rolloff       ZCR      MFCC 1      MFCC 2  \\\n",
              "0         2070.823969       3804.451995  0.086750 -110.527584  107.819219   \n",
              "1         1993.710689       4243.952115  0.150768 -152.042158   87.872922   \n",
              "2         1702.962194       2691.983722  0.059642 -135.593519  146.903281   \n",
              "3         1203.916434       1506.657556  0.031481 -287.927929  174.176362   \n",
              "4         1516.822655       1586.357074  0.043833 -206.839709  139.278957   \n",
              "\n",
              "      MFCC 3     MFCC 4     MFCC 5  \\\n",
              "0 -12.992357  23.560247   0.107660   \n",
              "1 -49.915526  10.911422 -15.193659   \n",
              "2 -16.374589  33.878938  -6.721820   \n",
              "3   5.348383  36.172204  39.698738   \n",
              "4   1.349824  20.984522  16.714627   \n",
              "\n",
              "                                              Genres  \n",
              "0  Europe,Christian,Eastern Europe,Pop,Gypsy,Worl...  \n",
              "1  Comedy & Spoken Word,Pop, Comedy & Spoken Word...  \n",
              "2  Pop & Contemporary,Christian,Gospel,Pop, Pop &...  \n",
              "3  Europe,World Music,Blues Rock,Rock,Pop,Dance &...  \n",
              "4  New Age,Meditation,World Music,Pop, New Age,Me...  "
            ]
          },
          "metadata": {
            "tags": []
          },
          "execution_count": 7
        }
      ]
    },
    {
      "cell_type": "markdown",
      "metadata": {
        "id": "JFmXsuc8MHtJ",
        "colab_type": "text"
      },
      "source": [
        "**Text: Take out useless albums**"
      ]
    },
    {
      "cell_type": "code",
      "metadata": {
        "id": "isUO2rmlMHtL",
        "colab_type": "code",
        "colab": {}
      },
      "source": [
        "text_df = pd.read_csv('text_babelified_processed_MLP.csv') #load\n",
        "text_df = text_df.drop(columns = ['Unnamed: 0'])\n",
        "entries_to_keep = audio_df.amazonIDs.tolist() #list of albums to keep  \n",
        "text_df = text_df[text_df['amazonIDs'].isin(entries_to_keep)] #apply to text df\n",
        "text_df = text_df.reset_index(drop = True) #reset index"
      ],
      "execution_count": 0,
      "outputs": []
    },
    {
      "cell_type": "code",
      "metadata": {
        "id": "pzj2FF5SMHtO",
        "colab_type": "code",
        "colab": {},
        "outputId": "9815e51d-9025-4d2a-df97-a55d55c972d0"
      },
      "source": [
        "text_df.head(10)"
      ],
      "execution_count": 0,
      "outputs": [
        {
          "output_type": "execute_result",
          "data": {
            "text/html": [
              "<div>\n",
              "<style scoped>\n",
              "    .dataframe tbody tr th:only-of-type {\n",
              "        vertical-align: middle;\n",
              "    }\n",
              "\n",
              "    .dataframe tbody tr th {\n",
              "        vertical-align: top;\n",
              "    }\n",
              "\n",
              "    .dataframe thead th {\n",
              "        text-align: right;\n",
              "    }\n",
              "</style>\n",
              "<table border=\"1\" class=\"dataframe\">\n",
              "  <thead>\n",
              "    <tr style=\"text-align: right;\">\n",
              "      <th></th>\n",
              "      <th>Unnamed: 0</th>\n",
              "      <th>index</th>\n",
              "      <th>amazonIDs</th>\n",
              "      <th>reviews</th>\n",
              "      <th>genres</th>\n",
              "      <th>clean_reviews</th>\n",
              "    </tr>\n",
              "  </thead>\n",
              "  <tbody>\n",
              "    <tr>\n",
              "      <th>0</th>\n",
              "      <td>0</td>\n",
              "      <td>2</td>\n",
              "      <td>1906063443</td>\n",
              "      <td>Contrary to the previous review, this IS a com...</td>\n",
              "      <td>Europe,Christian,Eastern Europe,Pop,Gypsy,Worl...</td>\n",
              "      <td>contrary previous review compilation single ar...</td>\n",
              "    </tr>\n",
              "    <tr>\n",
              "      <th>1</th>\n",
              "      <td>1</td>\n",
              "      <td>3</td>\n",
              "      <td>1929243766</td>\n",
              "      <td>My family and I all first experienced John on ...</td>\n",
              "      <td>Comedy &amp; Spoken Word,Pop</td>\n",
              "      <td>family first experienced john comedy central t...</td>\n",
              "    </tr>\n",
              "    <tr>\n",
              "      <th>2</th>\n",
              "      <td>2</td>\n",
              "      <td>4</td>\n",
              "      <td>1930864159</td>\n",
              "      <td>Awesome. This is so good when needing reminded...</td>\n",
              "      <td>Pop &amp; Contemporary,Christian,Gospel,Pop</td>\n",
              "      <td>awesome good needing reminded quiet hear god w...</td>\n",
              "    </tr>\n",
              "    <tr>\n",
              "      <th>3</th>\n",
              "      <td>3</td>\n",
              "      <td>6</td>\n",
              "      <td>3937406328</td>\n",
              "      <td>The purchase of this set was a bold step for m...</td>\n",
              "      <td>Europe,World Music,Blues Rock,Rock,Pop,Dance &amp;...</td>\n",
              "      <td>purchase set bold step dont boxed sets learned...</td>\n",
              "    </tr>\n",
              "    <tr>\n",
              "      <th>4</th>\n",
              "      <td>4</td>\n",
              "      <td>7</td>\n",
              "      <td>4266950926</td>\n",
              "      <td>I stumbled onto this CD one day at a listening...</td>\n",
              "      <td>New Age,Meditation,World Music,Pop</td>\n",
              "      <td>stumbled onto cd one day listening post first ...</td>\n",
              "    </tr>\n",
              "  </tbody>\n",
              "</table>\n",
              "</div>"
            ],
            "text/plain": [
              "   Unnamed: 0  index   amazonIDs  \\\n",
              "0           0      2  1906063443   \n",
              "1           1      3  1929243766   \n",
              "2           2      4  1930864159   \n",
              "3           3      6  3937406328   \n",
              "4           4      7  4266950926   \n",
              "\n",
              "                                             reviews  \\\n",
              "0  Contrary to the previous review, this IS a com...   \n",
              "1  My family and I all first experienced John on ...   \n",
              "2  Awesome. This is so good when needing reminded...   \n",
              "3  The purchase of this set was a bold step for m...   \n",
              "4  I stumbled onto this CD one day at a listening...   \n",
              "\n",
              "                                              genres  \\\n",
              "0  Europe,Christian,Eastern Europe,Pop,Gypsy,Worl...   \n",
              "1                           Comedy & Spoken Word,Pop   \n",
              "2            Pop & Contemporary,Christian,Gospel,Pop   \n",
              "3  Europe,World Music,Blues Rock,Rock,Pop,Dance &...   \n",
              "4                 New Age,Meditation,World Music,Pop   \n",
              "\n",
              "                                       clean_reviews  \n",
              "0  contrary previous review compilation single ar...  \n",
              "1  family first experienced john comedy central t...  \n",
              "2  awesome good needing reminded quiet hear god w...  \n",
              "3  purchase set bold step dont boxed sets learned...  \n",
              "4  stumbled onto cd one day listening post first ...  "
            ]
          },
          "metadata": {
            "tags": []
          },
          "execution_count": 10
        }
      ]
    },
    {
      "cell_type": "code",
      "metadata": {
        "id": "xguA2jofMHtR",
        "colab_type": "code",
        "colab": {},
        "outputId": "ea6ca5b3-23e4-46c7-d213-282603c94cd7"
      },
      "source": [
        "#double check they have the same row size\n",
        "print(audio_df.shape)\n",
        "print(text_df.shape)"
      ],
      "execution_count": 0,
      "outputs": [
        {
          "output_type": "stream",
          "text": [
            "(551, 13)\n",
            "(551, 5)\n"
          ],
          "name": "stdout"
        }
      ]
    },
    {
      "cell_type": "code",
      "metadata": {
        "id": "ALcSSuSKMHtW",
        "colab_type": "code",
        "colab": {}
      },
      "source": [
        "text_df.to_csv('551_albums_text.csv')"
      ],
      "execution_count": 0,
      "outputs": []
    },
    {
      "cell_type": "markdown",
      "metadata": {
        "id": "UzicV-uhMHtb",
        "colab_type": "text"
      },
      "source": [
        "**Image: Take out useless albums**"
      ]
    },
    {
      "cell_type": "code",
      "metadata": {
        "id": "G0BmfNOHMHtc",
        "colab_type": "code",
        "colab": {},
        "outputId": "b20f1349-2915-4640-87ac-211bc86952fd"
      },
      "source": [
        "image_df_X = pd.read_pickle(\"df2000_imgsVectorized_X.pkl\") #load\n",
        "image_df_X = image_df_X.to_frame() #convert to dataframe\n",
        "image_df_X"
      ],
      "execution_count": 0,
      "outputs": [
        {
          "output_type": "execute_result",
          "data": {
            "text/plain": [
              "2       [[[[248. 128.  31.], [248. 129.  29.], [248. 1...\n",
              "3       [[[[0. 0. 0.], [0. 0. 0.], [0. 0. 0.], [0. 0. ...\n",
              "4       [[[[165. 112. 118.], [128.  76.  80.], [111.  ...\n",
              "6       [[[[0. 0. 0.], [0. 0. 0.], [0. 0. 0.], [0. 0. ...\n",
              "7       [[[[0. 0. 0.], [0. 0. 0.], [0. 0. 0.], [0. 0. ...\n",
              "                              ...                        \n",
              "2644    [[[[253. 247. 231.], [251. 249. 224.], [250. 2...\n",
              "2627    [[[[44. 46. 41.], [60. 62. 57.], [85. 88. 82.]...\n",
              "2628    [[[[0. 0. 0.], [0. 0. 0.], [0. 0. 0.], [0. 0. ...\n",
              "2634    [[[[ 6. 15. 18.], [25. 33. 36.], [56. 64. 65.]...\n",
              "2633    [[[[61. 61. 66.], [59. 58. 63.], [58. 57. 61.]...\n",
              "Name: imUrl, Length: 2000, dtype: object"
            ]
          },
          "metadata": {
            "tags": []
          },
          "execution_count": 22
        }
      ]
    },
    {
      "cell_type": "code",
      "metadata": {
        "id": "WofifkWdMHtg",
        "colab_type": "code",
        "colab": {},
        "outputId": "cbd2207b-7a61-40df-a26a-ce7d05700c7f"
      },
      "source": [
        "image_df_y = pd.read_pickle(\"df2000_labelsImgs_y.pkl\") #load\n",
        "image_df_y = image_df_y.to_frame() #convert to dataframe\n",
        "image_df_y"
      ],
      "execution_count": 0,
      "outputs": [
        {
          "output_type": "execute_result",
          "data": {
            "text/plain": [
              "2       (Europe, Christian, Eastern Europe, Pop, Gypsy...\n",
              "3                             (Comedy & Spoken Word, Pop)\n",
              "4            (Pop & Contemporary, Christian, Gospel, Pop)\n",
              "6       (Europe, World Music, Blues Rock, Rock, Pop, D...\n",
              "7                 (New Age, Meditation, World Music, Pop)\n",
              "                              ...                        \n",
              "2644    (Oldies, Dance & Electronic, Motown, Philly So...\n",
              "2627    (Oldies, Dance & Electronic, Motown, Philly So...\n",
              "2628    (Oldies, Motown, Soul, Pop, R&B, Classic R&B, ...\n",
              "2634              (R&B, Blues, Motown, Soul, Classic R&B)\n",
              "2633    (Oldies, Motown, Soul, Pop, Holiday & Wedding,...\n",
              "Name: genres, Length: 2000, dtype: object"
            ]
          },
          "metadata": {
            "tags": []
          },
          "execution_count": 25
        }
      ]
    },
    {
      "cell_type": "code",
      "metadata": {
        "id": "ZBRIP3lPMHtk",
        "colab_type": "code",
        "colab": {}
      },
      "source": [
        "image_df_X = image_df_X.reset_index(drop = True) #reset index\n",
        "image_df_X = image_df_X.drop(index = useless_albums_reset_index) #drop useless albums\n",
        "image_df_X = image_df_X[0:551] #take only the first 551 albums\n",
        "image_df_X = image_df_X.reset_index(drop = True) #reset index again\n",
        "image_df_X.head(10)"
      ],
      "execution_count": 0,
      "outputs": []
    },
    {
      "cell_type": "code",
      "metadata": {
        "id": "NMjlVFjMMHtn",
        "colab_type": "code",
        "colab": {}
      },
      "source": [
        "image_df_X.to_csv('551_albums_images_X.csv') #save to csv"
      ],
      "execution_count": 0,
      "outputs": []
    },
    {
      "cell_type": "code",
      "metadata": {
        "id": "kJtpXnNxMHtt",
        "colab_type": "code",
        "colab": {}
      },
      "source": [
        "image_df_y = image_df_y.reset_index(drop = True)\n",
        "image_df_y = image_df_y.drop(index = useless_albums_reset_index)\n",
        "image_df_y = image_df_y[0:551]\n",
        "image_df_y = image_df_y.reset_index(drop = True)\n",
        "image_df_y.head(10)"
      ],
      "execution_count": 0,
      "outputs": []
    },
    {
      "cell_type": "code",
      "metadata": {
        "id": "Le3l66ymMHt3",
        "colab_type": "code",
        "colab": {}
      },
      "source": [
        "image_df_y.to_csv('551_albums_images_y.csv') #save to csv"
      ],
      "execution_count": 0,
      "outputs": []
    },
    {
      "cell_type": "markdown",
      "metadata": {
        "id": "XO-c8YYtMHt5",
        "colab_type": "text"
      },
      "source": [
        "# Model input extraction"
      ]
    },
    {
      "cell_type": "markdown",
      "metadata": {
        "id": "gpuNipOeMHt6",
        "colab_type": "text"
      },
      "source": [
        "**Load each modality**"
      ]
    },
    {
      "cell_type": "code",
      "metadata": {
        "id": "fbl8N-24MHt6",
        "colab_type": "code",
        "colab": {
          "base_uri": "https://localhost:8080/",
          "height": 652
        },
        "outputId": "43c4a9c4-95c1-40ab-e1b5-cba4f3a6c655"
      },
      "source": [
        "audio_df = pd.read_csv('551_albums_audio.csv')\n",
        "audio_df = audio_df.drop(columns = ['Unnamed: 0', 'index'])\n",
        "audio_df"
      ],
      "execution_count": 7,
      "outputs": [
        {
          "output_type": "execute_result",
          "data": {
            "text/html": [
              "<div>\n",
              "<style scoped>\n",
              "    .dataframe tbody tr th:only-of-type {\n",
              "        vertical-align: middle;\n",
              "    }\n",
              "\n",
              "    .dataframe tbody tr th {\n",
              "        vertical-align: top;\n",
              "    }\n",
              "\n",
              "    .dataframe thead th {\n",
              "        text-align: right;\n",
              "    }\n",
              "</style>\n",
              "<table border=\"1\" class=\"dataframe\">\n",
              "  <thead>\n",
              "    <tr style=\"text-align: right;\">\n",
              "      <th></th>\n",
              "      <th>amazonIDs</th>\n",
              "      <th>Chroma Stft</th>\n",
              "      <th>Spectral Centroid</th>\n",
              "      <th>Spectral Bandwidth</th>\n",
              "      <th>Spectral Rolloff</th>\n",
              "      <th>ZCR</th>\n",
              "      <th>MFCC 1</th>\n",
              "      <th>MFCC 2</th>\n",
              "      <th>MFCC 3</th>\n",
              "      <th>MFCC 4</th>\n",
              "      <th>MFCC 5</th>\n",
              "      <th>Genres</th>\n",
              "    </tr>\n",
              "  </thead>\n",
              "  <tbody>\n",
              "    <tr>\n",
              "      <th>0</th>\n",
              "      <td>1906063443</td>\n",
              "      <td>0.317631</td>\n",
              "      <td>1858.848095</td>\n",
              "      <td>2070.823969</td>\n",
              "      <td>3804.451995</td>\n",
              "      <td>0.086750</td>\n",
              "      <td>-110.527584</td>\n",
              "      <td>107.819219</td>\n",
              "      <td>-12.992357</td>\n",
              "      <td>23.560247</td>\n",
              "      <td>0.107660</td>\n",
              "      <td>Europe,Christian,Eastern Europe,Pop,Gypsy,Worl...</td>\n",
              "    </tr>\n",
              "    <tr>\n",
              "      <th>1</th>\n",
              "      <td>1929243766</td>\n",
              "      <td>0.407539</td>\n",
              "      <td>2430.657788</td>\n",
              "      <td>1993.710689</td>\n",
              "      <td>4243.952115</td>\n",
              "      <td>0.150768</td>\n",
              "      <td>-152.042158</td>\n",
              "      <td>87.872922</td>\n",
              "      <td>-49.915526</td>\n",
              "      <td>10.911422</td>\n",
              "      <td>-15.193659</td>\n",
              "      <td>Comedy &amp; Spoken Word,Pop, Comedy &amp; Spoken Word...</td>\n",
              "    </tr>\n",
              "    <tr>\n",
              "      <th>2</th>\n",
              "      <td>1930864159</td>\n",
              "      <td>0.299010</td>\n",
              "      <td>1344.961601</td>\n",
              "      <td>1702.962194</td>\n",
              "      <td>2691.983722</td>\n",
              "      <td>0.059642</td>\n",
              "      <td>-135.593519</td>\n",
              "      <td>146.903281</td>\n",
              "      <td>-16.374589</td>\n",
              "      <td>33.878938</td>\n",
              "      <td>-6.721820</td>\n",
              "      <td>Pop &amp; Contemporary,Christian,Gospel,Pop, Pop &amp;...</td>\n",
              "    </tr>\n",
              "    <tr>\n",
              "      <th>3</th>\n",
              "      <td>3937406328</td>\n",
              "      <td>0.344631</td>\n",
              "      <td>750.293388</td>\n",
              "      <td>1203.916434</td>\n",
              "      <td>1506.657556</td>\n",
              "      <td>0.031481</td>\n",
              "      <td>-287.927929</td>\n",
              "      <td>174.176362</td>\n",
              "      <td>5.348383</td>\n",
              "      <td>36.172204</td>\n",
              "      <td>39.698738</td>\n",
              "      <td>Europe,World Music,Blues Rock,Rock,Pop,Dance &amp;...</td>\n",
              "    </tr>\n",
              "    <tr>\n",
              "      <th>4</th>\n",
              "      <td>4266950926</td>\n",
              "      <td>0.209722</td>\n",
              "      <td>950.325207</td>\n",
              "      <td>1516.822655</td>\n",
              "      <td>1586.357074</td>\n",
              "      <td>0.043833</td>\n",
              "      <td>-206.839709</td>\n",
              "      <td>139.278957</td>\n",
              "      <td>1.349824</td>\n",
              "      <td>20.984522</td>\n",
              "      <td>16.714627</td>\n",
              "      <td>New Age,Meditation,World Music,Pop, New Age,Me...</td>\n",
              "    </tr>\n",
              "    <tr>\n",
              "      <th>...</th>\n",
              "      <td>...</td>\n",
              "      <td>...</td>\n",
              "      <td>...</td>\n",
              "      <td>...</td>\n",
              "      <td>...</td>\n",
              "      <td>...</td>\n",
              "      <td>...</td>\n",
              "      <td>...</td>\n",
              "      <td>...</td>\n",
              "      <td>...</td>\n",
              "      <td>...</td>\n",
              "      <td>...</td>\n",
              "    </tr>\n",
              "    <tr>\n",
              "      <th>546</th>\n",
              "      <td>B000000EYW</td>\n",
              "      <td>0.380314</td>\n",
              "      <td>1746.240264</td>\n",
              "      <td>2067.960813</td>\n",
              "      <td>3930.009569</td>\n",
              "      <td>0.079052</td>\n",
              "      <td>-112.383933</td>\n",
              "      <td>110.687779</td>\n",
              "      <td>-4.429256</td>\n",
              "      <td>34.706761</td>\n",
              "      <td>-23.067543</td>\n",
              "      <td>Today's Country,Country,Bluegrass,Pop, Today's...</td>\n",
              "    </tr>\n",
              "    <tr>\n",
              "      <th>547</th>\n",
              "      <td>B000000EZ8</td>\n",
              "      <td>0.283765</td>\n",
              "      <td>1960.822899</td>\n",
              "      <td>2102.370790</td>\n",
              "      <td>4000.136923</td>\n",
              "      <td>0.098785</td>\n",
              "      <td>-153.785276</td>\n",
              "      <td>105.490050</td>\n",
              "      <td>-10.314614</td>\n",
              "      <td>30.471236</td>\n",
              "      <td>-4.295897</td>\n",
              "      <td>Classic Country,Contemporary Folk,Country,Blue...</td>\n",
              "    </tr>\n",
              "    <tr>\n",
              "      <th>548</th>\n",
              "      <td>B000000EZI</td>\n",
              "      <td>0.384738</td>\n",
              "      <td>1695.939464</td>\n",
              "      <td>2007.082395</td>\n",
              "      <td>3607.978183</td>\n",
              "      <td>0.070799</td>\n",
              "      <td>-195.321153</td>\n",
              "      <td>118.496421</td>\n",
              "      <td>-11.272973</td>\n",
              "      <td>38.307347</td>\n",
              "      <td>-8.033069</td>\n",
              "      <td>Country Rock,Country,Bluegrass,Pop,Today's Cou...</td>\n",
              "    </tr>\n",
              "    <tr>\n",
              "      <th>549</th>\n",
              "      <td>B000000EZN</td>\n",
              "      <td>0.318281</td>\n",
              "      <td>2261.429014</td>\n",
              "      <td>2578.469908</td>\n",
              "      <td>5137.568934</td>\n",
              "      <td>0.094882</td>\n",
              "      <td>-184.037275</td>\n",
              "      <td>95.162470</td>\n",
              "      <td>2.812427</td>\n",
              "      <td>6.379000</td>\n",
              "      <td>-8.597758</td>\n",
              "      <td>Folk Rock,Country,Bluegrass,Pop,Today's Countr...</td>\n",
              "    </tr>\n",
              "    <tr>\n",
              "      <th>550</th>\n",
              "      <td>B000000EZQ</td>\n",
              "      <td>0.285150</td>\n",
              "      <td>1706.489719</td>\n",
              "      <td>1984.414435</td>\n",
              "      <td>3398.729448</td>\n",
              "      <td>0.084711</td>\n",
              "      <td>-268.482777</td>\n",
              "      <td>115.134293</td>\n",
              "      <td>-11.788263</td>\n",
              "      <td>22.024477</td>\n",
              "      <td>-9.686661</td>\n",
              "      <td>Classic Country,Contemporary Folk,Country,Blue...</td>\n",
              "    </tr>\n",
              "  </tbody>\n",
              "</table>\n",
              "<p>551 rows × 12 columns</p>\n",
              "</div>"
            ],
            "text/plain": [
              "      amazonIDs  ...                                             Genres\n",
              "0    1906063443  ...  Europe,Christian,Eastern Europe,Pop,Gypsy,Worl...\n",
              "1    1929243766  ...  Comedy & Spoken Word,Pop, Comedy & Spoken Word...\n",
              "2    1930864159  ...  Pop & Contemporary,Christian,Gospel,Pop, Pop &...\n",
              "3    3937406328  ...  Europe,World Music,Blues Rock,Rock,Pop,Dance &...\n",
              "4    4266950926  ...  New Age,Meditation,World Music,Pop, New Age,Me...\n",
              "..          ...  ...                                                ...\n",
              "546  B000000EYW  ...  Today's Country,Country,Bluegrass,Pop, Today's...\n",
              "547  B000000EZ8  ...  Classic Country,Contemporary Folk,Country,Blue...\n",
              "548  B000000EZI  ...  Country Rock,Country,Bluegrass,Pop,Today's Cou...\n",
              "549  B000000EZN  ...  Folk Rock,Country,Bluegrass,Pop,Today's Countr...\n",
              "550  B000000EZQ  ...  Classic Country,Contemporary Folk,Country,Blue...\n",
              "\n",
              "[551 rows x 12 columns]"
            ]
          },
          "metadata": {
            "tags": []
          },
          "execution_count": 7
        }
      ]
    },
    {
      "cell_type": "code",
      "metadata": {
        "id": "bfFh61stMHt9",
        "colab_type": "code",
        "colab": {
          "base_uri": "https://localhost:8080/",
          "height": 194
        },
        "outputId": "fb257ebf-f870-43c8-fa26-c20cb7d89c34"
      },
      "source": [
        "text_df = pd.read_csv('551_albums_text.csv')\n",
        "text_df = text_df.drop(columns = ['Unnamed: 0', 'index', 'amazonIDs', 'reviews'])\n",
        "text_df.head()"
      ],
      "execution_count": 8,
      "outputs": [
        {
          "output_type": "execute_result",
          "data": {
            "text/html": [
              "<div>\n",
              "<style scoped>\n",
              "    .dataframe tbody tr th:only-of-type {\n",
              "        vertical-align: middle;\n",
              "    }\n",
              "\n",
              "    .dataframe tbody tr th {\n",
              "        vertical-align: top;\n",
              "    }\n",
              "\n",
              "    .dataframe thead th {\n",
              "        text-align: right;\n",
              "    }\n",
              "</style>\n",
              "<table border=\"1\" class=\"dataframe\">\n",
              "  <thead>\n",
              "    <tr style=\"text-align: right;\">\n",
              "      <th></th>\n",
              "      <th>genres</th>\n",
              "      <th>clean_reviews</th>\n",
              "    </tr>\n",
              "  </thead>\n",
              "  <tbody>\n",
              "    <tr>\n",
              "      <th>0</th>\n",
              "      <td>Europe,Christian,Eastern Europe,Pop,Gypsy,Worl...</td>\n",
              "      <td>contrary previous review compilation single ar...</td>\n",
              "    </tr>\n",
              "    <tr>\n",
              "      <th>1</th>\n",
              "      <td>Comedy &amp; Spoken Word,Pop</td>\n",
              "      <td>family first experienced john comedy central t...</td>\n",
              "    </tr>\n",
              "    <tr>\n",
              "      <th>2</th>\n",
              "      <td>Pop &amp; Contemporary,Christian,Gospel,Pop</td>\n",
              "      <td>awesome good needing reminded quiet hear god w...</td>\n",
              "    </tr>\n",
              "    <tr>\n",
              "      <th>3</th>\n",
              "      <td>Europe,World Music,Blues Rock,Rock,Pop,Dance &amp;...</td>\n",
              "      <td>purchase set bold step dont boxed sets learned...</td>\n",
              "    </tr>\n",
              "    <tr>\n",
              "      <th>4</th>\n",
              "      <td>New Age,Meditation,World Music,Pop</td>\n",
              "      <td>stumbled onto cd one day listening post first ...</td>\n",
              "    </tr>\n",
              "  </tbody>\n",
              "</table>\n",
              "</div>"
            ],
            "text/plain": [
              "                                              genres                                      clean_reviews\n",
              "0  Europe,Christian,Eastern Europe,Pop,Gypsy,Worl...  contrary previous review compilation single ar...\n",
              "1                           Comedy & Spoken Word,Pop  family first experienced john comedy central t...\n",
              "2            Pop & Contemporary,Christian,Gospel,Pop  awesome good needing reminded quiet hear god w...\n",
              "3  Europe,World Music,Blues Rock,Rock,Pop,Dance &...  purchase set bold step dont boxed sets learned...\n",
              "4                 New Age,Meditation,World Music,Pop  stumbled onto cd one day listening post first ..."
            ]
          },
          "metadata": {
            "tags": []
          },
          "execution_count": 8
        }
      ]
    },
    {
      "cell_type": "code",
      "metadata": {
        "id": "unQ6nFEwMHt_",
        "colab_type": "code",
        "colab": {}
      },
      "source": [
        "image_df_X = pd.read_pickle('df551_imgsVectorized_X.pkl')"
      ],
      "execution_count": 0,
      "outputs": []
    },
    {
      "cell_type": "code",
      "metadata": {
        "id": "LKGhAHaKZUVw",
        "colab_type": "code",
        "colab": {}
      },
      "source": [
        "image_df_X = image_df_X.to_frame()\n",
        "image_df_X = image_df_X.reset_index()"
      ],
      "execution_count": 0,
      "outputs": []
    },
    {
      "cell_type": "markdown",
      "metadata": {
        "id": "1f-T97LVMHuB",
        "colab_type": "text"
      },
      "source": [
        "**Combine the modalities into one big dataframe**"
      ]
    },
    {
      "cell_type": "code",
      "metadata": {
        "scrolled": true,
        "id": "BK7fe4pHMHuB",
        "colab_type": "code",
        "colab": {
          "base_uri": "https://localhost:8080/",
          "height": 1000
        },
        "outputId": "f7778388-64c8-49fb-ed67-8ee4d83bbff5"
      },
      "source": [
        "dataset = {\"Chroma Stft\": audio_df['Chroma Stft'], \"Spectral Centroid\": audio_df['Spectral Centroid'], \n",
        "           \"Spectral Bandwidth\": audio_df['Spectral Bandwidth'], \"Spectral Rolloff\": audio_df['Spectral Rolloff'], \n",
        "           \"ZCR\": audio_df['ZCR'], \"MFCC 1\": audio_df['MFCC 1'], \"MFCC 2\": audio_df['MFCC 2'], \n",
        "           \"MFCC 3\": audio_df['MFCC 3'], \"MFCC 4\": audio_df['MFCC 4'], \"MFCC 5\": audio_df['MFCC 5'], \n",
        "           \"Clean Reviews\": text_df['clean_reviews'], \"imUrl\": image_df_X['imUrl'], \"Genres\": text_df['genres']}\n",
        "\n",
        "multimodal_df = pd.DataFrame(dataset)\n",
        "multimodal_df"
      ],
      "execution_count": 11,
      "outputs": [
        {
          "output_type": "execute_result",
          "data": {
            "text/html": [
              "<div>\n",
              "<style scoped>\n",
              "    .dataframe tbody tr th:only-of-type {\n",
              "        vertical-align: middle;\n",
              "    }\n",
              "\n",
              "    .dataframe tbody tr th {\n",
              "        vertical-align: top;\n",
              "    }\n",
              "\n",
              "    .dataframe thead th {\n",
              "        text-align: right;\n",
              "    }\n",
              "</style>\n",
              "<table border=\"1\" class=\"dataframe\">\n",
              "  <thead>\n",
              "    <tr style=\"text-align: right;\">\n",
              "      <th></th>\n",
              "      <th>Chroma Stft</th>\n",
              "      <th>Spectral Centroid</th>\n",
              "      <th>Spectral Bandwidth</th>\n",
              "      <th>Spectral Rolloff</th>\n",
              "      <th>ZCR</th>\n",
              "      <th>MFCC 1</th>\n",
              "      <th>MFCC 2</th>\n",
              "      <th>MFCC 3</th>\n",
              "      <th>MFCC 4</th>\n",
              "      <th>MFCC 5</th>\n",
              "      <th>Clean Reviews</th>\n",
              "      <th>imUrl</th>\n",
              "      <th>Genres</th>\n",
              "    </tr>\n",
              "  </thead>\n",
              "  <tbody>\n",
              "    <tr>\n",
              "      <th>0</th>\n",
              "      <td>0.317631</td>\n",
              "      <td>1858.848095</td>\n",
              "      <td>2070.823969</td>\n",
              "      <td>3804.451995</td>\n",
              "      <td>0.086750</td>\n",
              "      <td>-110.527584</td>\n",
              "      <td>107.819219</td>\n",
              "      <td>-12.992357</td>\n",
              "      <td>23.560247</td>\n",
              "      <td>0.107660</td>\n",
              "      <td>contrary previous review compilation single ar...</td>\n",
              "      <td>[[[[248. 128.  31.], [248. 129.  29.], [248. 1...</td>\n",
              "      <td>Europe,Christian,Eastern Europe,Pop,Gypsy,Worl...</td>\n",
              "    </tr>\n",
              "    <tr>\n",
              "      <th>1</th>\n",
              "      <td>0.407539</td>\n",
              "      <td>2430.657788</td>\n",
              "      <td>1993.710689</td>\n",
              "      <td>4243.952115</td>\n",
              "      <td>0.150768</td>\n",
              "      <td>-152.042158</td>\n",
              "      <td>87.872922</td>\n",
              "      <td>-49.915526</td>\n",
              "      <td>10.911422</td>\n",
              "      <td>-15.193659</td>\n",
              "      <td>family first experienced john comedy central t...</td>\n",
              "      <td>[[[[0. 0. 0.], [0. 0. 0.], [0. 0. 0.], [0. 0. ...</td>\n",
              "      <td>Comedy &amp; Spoken Word,Pop</td>\n",
              "    </tr>\n",
              "    <tr>\n",
              "      <th>2</th>\n",
              "      <td>0.299010</td>\n",
              "      <td>1344.961601</td>\n",
              "      <td>1702.962194</td>\n",
              "      <td>2691.983722</td>\n",
              "      <td>0.059642</td>\n",
              "      <td>-135.593519</td>\n",
              "      <td>146.903281</td>\n",
              "      <td>-16.374589</td>\n",
              "      <td>33.878938</td>\n",
              "      <td>-6.721820</td>\n",
              "      <td>awesome good needing reminded quiet hear god w...</td>\n",
              "      <td>[[[[165. 112. 118.], [128.  76.  80.], [111.  ...</td>\n",
              "      <td>Pop &amp; Contemporary,Christian,Gospel,Pop</td>\n",
              "    </tr>\n",
              "    <tr>\n",
              "      <th>3</th>\n",
              "      <td>0.344631</td>\n",
              "      <td>750.293388</td>\n",
              "      <td>1203.916434</td>\n",
              "      <td>1506.657556</td>\n",
              "      <td>0.031481</td>\n",
              "      <td>-287.927929</td>\n",
              "      <td>174.176362</td>\n",
              "      <td>5.348383</td>\n",
              "      <td>36.172204</td>\n",
              "      <td>39.698738</td>\n",
              "      <td>purchase set bold step dont boxed sets learned...</td>\n",
              "      <td>[[[[0. 0. 0.], [0. 0. 0.], [0. 0. 0.], [0. 0. ...</td>\n",
              "      <td>Europe,World Music,Blues Rock,Rock,Pop,Dance &amp;...</td>\n",
              "    </tr>\n",
              "    <tr>\n",
              "      <th>4</th>\n",
              "      <td>0.209722</td>\n",
              "      <td>950.325207</td>\n",
              "      <td>1516.822655</td>\n",
              "      <td>1586.357074</td>\n",
              "      <td>0.043833</td>\n",
              "      <td>-206.839709</td>\n",
              "      <td>139.278957</td>\n",
              "      <td>1.349824</td>\n",
              "      <td>20.984522</td>\n",
              "      <td>16.714627</td>\n",
              "      <td>stumbled onto cd one day listening post first ...</td>\n",
              "      <td>[[[[0. 0. 0.], [0. 0. 0.], [0. 0. 0.], [0. 0. ...</td>\n",
              "      <td>New Age,Meditation,World Music,Pop</td>\n",
              "    </tr>\n",
              "    <tr>\n",
              "      <th>...</th>\n",
              "      <td>...</td>\n",
              "      <td>...</td>\n",
              "      <td>...</td>\n",
              "      <td>...</td>\n",
              "      <td>...</td>\n",
              "      <td>...</td>\n",
              "      <td>...</td>\n",
              "      <td>...</td>\n",
              "      <td>...</td>\n",
              "      <td>...</td>\n",
              "      <td>...</td>\n",
              "      <td>...</td>\n",
              "      <td>...</td>\n",
              "    </tr>\n",
              "    <tr>\n",
              "      <th>546</th>\n",
              "      <td>0.380314</td>\n",
              "      <td>1746.240264</td>\n",
              "      <td>2067.960813</td>\n",
              "      <td>3930.009569</td>\n",
              "      <td>0.079052</td>\n",
              "      <td>-112.383933</td>\n",
              "      <td>110.687779</td>\n",
              "      <td>-4.429256</td>\n",
              "      <td>34.706761</td>\n",
              "      <td>-23.067543</td>\n",
              "      <td>midnight might best seldom scene phil rosentha...</td>\n",
              "      <td>[[[[24. 35. 53.], [24. 35. 53.], [24. 35. 53.]...</td>\n",
              "      <td>Today's Country,Country,Bluegrass,Pop</td>\n",
              "    </tr>\n",
              "    <tr>\n",
              "      <th>547</th>\n",
              "      <td>0.283765</td>\n",
              "      <td>1960.822899</td>\n",
              "      <td>2102.370790</td>\n",
              "      <td>4000.136923</td>\n",
              "      <td>0.098785</td>\n",
              "      <td>-153.785276</td>\n",
              "      <td>105.490050</td>\n",
              "      <td>-10.314614</td>\n",
              "      <td>30.471236</td>\n",
              "      <td>-4.295897</td>\n",
              "      <td>recorded tokyo originally issued nippon columb...</td>\n",
              "      <td>[[[[124. 132. 135.], [110. 119. 124.], [ 96. 1...</td>\n",
              "      <td>Classic Country,Contemporary Folk,Country,Blue...</td>\n",
              "    </tr>\n",
              "    <tr>\n",
              "      <th>548</th>\n",
              "      <td>0.384738</td>\n",
              "      <td>1695.939464</td>\n",
              "      <td>2007.082395</td>\n",
              "      <td>3607.978183</td>\n",
              "      <td>0.070799</td>\n",
              "      <td>-195.321153</td>\n",
              "      <td>118.496421</td>\n",
              "      <td>-11.272973</td>\n",
              "      <td>38.307347</td>\n",
              "      <td>-8.033069</td>\n",
              "      <td>gave five star excellant excellant vocals enjo...</td>\n",
              "      <td>[[[[ 78. 127. 193.], [ 79. 129. 190.], [ 80. 1...</td>\n",
              "      <td>Country Rock,Country,Bluegrass,Pop,Today's Cou...</td>\n",
              "    </tr>\n",
              "    <tr>\n",
              "      <th>549</th>\n",
              "      <td>0.318281</td>\n",
              "      <td>2261.429014</td>\n",
              "      <td>2578.469908</td>\n",
              "      <td>5137.568934</td>\n",
              "      <td>0.094882</td>\n",
              "      <td>-184.037275</td>\n",
              "      <td>95.162470</td>\n",
              "      <td>2.812427</td>\n",
              "      <td>6.379000</td>\n",
              "      <td>-8.597758</td>\n",
              "      <td>take part jonathan edwards songwriter part ste...</td>\n",
              "      <td>[[[[0. 0. 0.], [0. 0. 0.], [0. 0. 0.], [0. 0. ...</td>\n",
              "      <td>Folk Rock,Country,Bluegrass,Pop,Today's Countr...</td>\n",
              "    </tr>\n",
              "    <tr>\n",
              "      <th>550</th>\n",
              "      <td>0.285150</td>\n",
              "      <td>1706.489719</td>\n",
              "      <td>1984.414435</td>\n",
              "      <td>3398.729448</td>\n",
              "      <td>0.084711</td>\n",
              "      <td>-268.482777</td>\n",
              "      <td>115.134293</td>\n",
              "      <td>-11.788263</td>\n",
              "      <td>22.024477</td>\n",
              "      <td>-9.686661</td>\n",
              "      <td>classic bought back came vinyl always leaned t...</td>\n",
              "      <td>[[[[230. 219. 201.], [207. 196. 178.], [217. 2...</td>\n",
              "      <td>Classic Country,Contemporary Folk,Country,Blue...</td>\n",
              "    </tr>\n",
              "  </tbody>\n",
              "</table>\n",
              "<p>551 rows × 13 columns</p>\n",
              "</div>"
            ],
            "text/plain": [
              "     Chroma Stft  ...                                             Genres\n",
              "0       0.317631  ...  Europe,Christian,Eastern Europe,Pop,Gypsy,Worl...\n",
              "1       0.407539  ...                           Comedy & Spoken Word,Pop\n",
              "2       0.299010  ...            Pop & Contemporary,Christian,Gospel,Pop\n",
              "3       0.344631  ...  Europe,World Music,Blues Rock,Rock,Pop,Dance &...\n",
              "4       0.209722  ...                 New Age,Meditation,World Music,Pop\n",
              "..           ...  ...                                                ...\n",
              "546     0.380314  ...              Today's Country,Country,Bluegrass,Pop\n",
              "547     0.283765  ...  Classic Country,Contemporary Folk,Country,Blue...\n",
              "548     0.384738  ...  Country Rock,Country,Bluegrass,Pop,Today's Cou...\n",
              "549     0.318281  ...  Folk Rock,Country,Bluegrass,Pop,Today's Countr...\n",
              "550     0.285150  ...  Classic Country,Contemporary Folk,Country,Blue...\n",
              "\n",
              "[551 rows x 13 columns]"
            ]
          },
          "metadata": {
            "tags": []
          },
          "execution_count": 11
        }
      ]
    },
    {
      "cell_type": "markdown",
      "metadata": {
        "id": "SweaJzMLMHuD",
        "colab_type": "text"
      },
      "source": [
        "**Train test split**"
      ]
    },
    {
      "cell_type": "code",
      "metadata": {
        "id": "NtU4lFeyMHuE",
        "colab_type": "code",
        "colab": {}
      },
      "source": [
        "def changeToTuple(x):\n",
        "    stringListGenres = x.split(\",\")\n",
        "    stringListGenres = tuple(stringListGenres)\n",
        "    return(stringListGenres)\n",
        "\n",
        "genres = multimodal_df['Genres']\n",
        "genres = genres.apply(lambda x: changeToTuple(x))\n",
        "\n",
        "genresList = genres.tolist()\n",
        "\n",
        "mlb = MultiLabelBinarizer()\n",
        "\n",
        "y = mlb.fit_transform(genresList)"
      ],
      "execution_count": 0,
      "outputs": []
    },
    {
      "cell_type": "code",
      "metadata": {
        "id": "UkJ9cXIqMHuH",
        "colab_type": "code",
        "colab": {}
      },
      "source": [
        "X_train, X_test, y_train, y_test = train_test_split(multimodal_df.iloc[:, :-1], y, test_size = 0.2)"
      ],
      "execution_count": 0,
      "outputs": []
    },
    {
      "cell_type": "markdown",
      "metadata": {
        "id": "Cij1hM8KMHuJ",
        "colab_type": "text"
      },
      "source": [
        "**Scaling of inputs**"
      ]
    },
    {
      "cell_type": "markdown",
      "metadata": {
        "id": "K5aQ_JJEMHuJ",
        "colab_type": "text"
      },
      "source": [
        "Scaling audio"
      ]
    },
    {
      "cell_type": "code",
      "metadata": {
        "id": "yPWa0nc0MHuK",
        "colab_type": "code",
        "colab": {}
      },
      "source": [
        "scaler = MinMaxScaler()\n",
        "X_train_audio = X_train[['Chroma Stft', 'Spectral Centroid', 'Spectral Bandwidth', 'Spectral Rolloff', 'ZCR', 'MFCC 1', \n",
        "                         'MFCC 2', 'MFCC 3', 'MFCC 4', 'MFCC 5']]\n",
        "X_test_audio = X_test[['Chroma Stft', 'Spectral Centroid', 'Spectral Bandwidth', 'Spectral Rolloff', 'ZCR', 'MFCC 1', \n",
        "                        'MFCC 2', 'MFCC 3', 'MFCC 4', 'MFCC 5']]\n",
        "X_train_audio_scaled = scaler.fit_transform(np.array(X_train_audio, dtype = float))\n",
        "X_test_audio_scaled = scaler.transform(np.array(X_test_audio,  dtype = float))"
      ],
      "execution_count": 0,
      "outputs": []
    },
    {
      "cell_type": "markdown",
      "metadata": {
        "id": "iwgWXfS8MHuM",
        "colab_type": "text"
      },
      "source": [
        "Scaling text"
      ]
    },
    {
      "cell_type": "code",
      "metadata": {
        "id": "jb0Ugk1xMHuM",
        "colab_type": "code",
        "colab": {}
      },
      "source": [
        "tfidf_vectorizer = TfidfVectorizer(max_features=10000)\n",
        "X_train_text = X_train['Clean Reviews']\n",
        "X_test_text = X_test['Clean Reviews']\n",
        "X_train_text_vectorized = tfidf_vectorizer.fit_transform(X_train_text).toarray()\n",
        "X_test_text_vectorized = tfidf_vectorizer.transform(X_test_text).toarray()"
      ],
      "execution_count": 0,
      "outputs": []
    },
    {
      "cell_type": "markdown",
      "metadata": {
        "id": "clUMXuQJMHuO",
        "colab_type": "text"
      },
      "source": [
        "Image remove dimension"
      ]
    },
    {
      "cell_type": "code",
      "metadata": {
        "id": "5A7UOqoFMHuO",
        "colab_type": "code",
        "colab": {}
      },
      "source": [
        "res_train = np.array(X_train['imUrl'].values.tolist()).squeeze()\n",
        "res_test = np.array(X_test['imUrl'].values.tolist()).squeeze()"
      ],
      "execution_count": 0,
      "outputs": []
    },
    {
      "cell_type": "code",
      "metadata": {
        "id": "nxPJ7rRpMHuR",
        "colab_type": "code",
        "colab": {
          "base_uri": "https://localhost:8080/",
          "height": 35
        },
        "outputId": "91b74104-dd6b-4e6c-827e-ca404321b026"
      },
      "source": [
        "res_train.shape"
      ],
      "execution_count": 17,
      "outputs": [
        {
          "output_type": "execute_result",
          "data": {
            "text/plain": [
              "(440, 300, 300, 3)"
            ]
          },
          "metadata": {
            "tags": []
          },
          "execution_count": 17
        }
      ]
    },
    {
      "cell_type": "code",
      "metadata": {
        "id": "BzME4WQriCWL",
        "colab_type": "code",
        "colab": {
          "base_uri": "https://localhost:8080/",
          "height": 35
        },
        "outputId": "f9adf960-c611-4fa1-8283-f2c9e05da1de"
      },
      "source": [
        "y_train.shape[1]"
      ],
      "execution_count": 18,
      "outputs": [
        {
          "output_type": "execute_result",
          "data": {
            "text/plain": [
              "240"
            ]
          },
          "metadata": {
            "tags": []
          },
          "execution_count": 18
        }
      ]
    },
    {
      "cell_type": "code",
      "metadata": {
        "id": "Z-4cUGlhivuU",
        "colab_type": "code",
        "colab": {
          "base_uri": "https://localhost:8080/",
          "height": 35
        },
        "outputId": "ba4d3682-7945-404c-8083-108aae171e9c"
      },
      "source": [
        "X_train_text_vectorized.shape"
      ],
      "execution_count": 19,
      "outputs": [
        {
          "output_type": "execute_result",
          "data": {
            "text/plain": [
              "(440, 8440)"
            ]
          },
          "metadata": {
            "tags": []
          },
          "execution_count": 19
        }
      ]
    },
    {
      "cell_type": "code",
      "metadata": {
        "id": "7T9Wp5kRMHuT",
        "colab_type": "code",
        "colab": {
          "base_uri": "https://localhost:8080/",
          "height": 197
        },
        "outputId": "30ed828e-274d-4714-ca26-213fcc299d63"
      },
      "source": [
        "import tensorflow as tf\n",
        "\n",
        "audio = audio_model(X_train_audio_scaled, y_train, regress=False)\n",
        "text = text_model(X_train_text_vectorized, y_train, regress=False)\n",
        "image = image_model(res_train, y_train, regress=False)\n",
        "\n",
        "combinedInput = layers.concatenate([audio.output, text.output, image.output])\n",
        "\n",
        "x = layers.Dense(64, activation=\"relu\")(combinedInput)\n",
        "x = layers.Dense(y_train.shape[1], activation=\"linear\")(x)\n",
        "\n",
        "model = models.Model(inputs=[audio.input, text.input, image.input], outputs=x)\n",
        "model.compile(optimizer='adam', loss='binary_crossentropy', metrics=['accuracy', tf.keras.metrics.AUC(multi_label = True)])\n",
        "model.fit([X_train_audio_scaled, X_train_text_vectorized, res_train], y_train, \n",
        "          validation_data=([X_test_audio_scaled, X_test_text_vectorized, res_test], y_test), \n",
        "          epochs=2, batch_size=32)"
      ],
      "execution_count": 20,
      "outputs": [
        {
          "output_type": "stream",
          "text": [
            "/usr/local/lib/python3.6/dist-packages/ipykernel_launcher.py:18: UserWarning: Update your `Model` call to the Keras 2 API: `Model(inputs=Tensor(\"in..., outputs=Tensor(\"de...)`\n",
            "/usr/local/lib/python3.6/dist-packages/ipykernel_launcher.py:8: UserWarning: Update your `Model` call to the Keras 2 API: `Model(inputs=Tensor(\"in..., outputs=Tensor(\"de...)`\n",
            "  \n"
          ],
          "name": "stderr"
        },
        {
          "output_type": "stream",
          "text": [
            "Train on 440 samples, validate on 111 samples\n",
            "Epoch 1/2\n",
            "440/440 [==============================] - 586s 1s/step - loss: 0.2683 - accuracy: 0.9617 - val_loss: 6.9644 - val_accuracy: 1.8769e-04\n",
            "Epoch 2/2\n",
            "440/440 [==============================] - 571s 1s/step - loss: 0.2280 - accuracy: 0.9687 - val_loss: 6.5925 - val_accuracy: 0.0000e+00\n"
          ],
          "name": "stdout"
        },
        {
          "output_type": "execute_result",
          "data": {
            "text/plain": [
              "<keras.callbacks.callbacks.History at 0x7f92663b7f28>"
            ]
          },
          "metadata": {
            "tags": []
          },
          "execution_count": 20
        }
      ]
    },
    {
      "cell_type": "code",
      "metadata": {
        "id": "O2q3b_MyqiYp",
        "colab_type": "code",
        "colab": {}
      },
      "source": [
        "preds = model.predict([X_test_audio_scaled, X_test_text_vectorized, res_test])\n",
        "preds[preds>=0.5] = 1\n",
        "preds[preds<0.5] = 0"
      ],
      "execution_count": 0,
      "outputs": []
    },
    {
      "cell_type": "code",
      "metadata": {
        "id": "-NtU3LagrXnu",
        "colab_type": "code",
        "colab": {
          "base_uri": "https://localhost:8080/",
          "height": 284
        },
        "outputId": "ef6366de-bd01-4144-be57-adb1aff4d6c0"
      },
      "source": [
        "preds[0]"
      ],
      "execution_count": 23,
      "outputs": [
        {
          "output_type": "execute_result",
          "data": {
            "text/plain": [
              "array([1., 1., 1., 1., 0., 0., 0., 0., 1., 1., 0., 1., 0., 1., 1., 1., 1.,\n",
              "       0., 0., 0., 1., 1., 1., 1., 1., 1., 1., 0., 0., 1., 1., 0., 0., 0.,\n",
              "       1., 0., 0., 0., 0., 1., 0., 0., 0., 0., 1., 0., 1., 1., 0., 0., 0.,\n",
              "       0., 0., 1., 1., 1., 0., 1., 0., 0., 1., 0., 0., 0., 1., 1., 0., 0.,\n",
              "       1., 0., 1., 1., 0., 1., 1., 0., 0., 0., 1., 0., 1., 0., 0., 0., 0.,\n",
              "       1., 0., 1., 0., 0., 1., 1., 0., 0., 1., 0., 1., 1., 0., 0., 0., 0.,\n",
              "       0., 1., 1., 0., 0., 1., 0., 0., 0., 0., 0., 0., 1., 0., 1., 1., 0.,\n",
              "       1., 0., 0., 0., 1., 1., 1., 0., 1., 0., 1., 0., 0., 0., 1., 0., 1.,\n",
              "       1., 1., 1., 1., 0., 1., 1., 0., 1., 1., 0., 0., 0., 0., 0., 0., 1.,\n",
              "       0., 0., 0., 1., 1., 0., 0., 1., 0., 1., 0., 1., 0., 1., 1., 0., 1.,\n",
              "       1., 1., 1., 1., 1., 1., 0., 1., 0., 1., 1., 0., 0., 0., 0., 0., 0.,\n",
              "       0., 1., 0., 0., 0., 0., 1., 1., 0., 0., 0., 0., 0., 1., 0., 0., 0.,\n",
              "       0., 1., 0., 1., 0., 1., 0., 0., 0., 1., 0., 1., 0., 1., 0., 1., 0.,\n",
              "       1., 1., 1., 0., 0., 0., 0., 0., 0., 0., 0., 0., 0., 1., 0., 1., 0.,\n",
              "       0., 0.], dtype=float32)"
            ]
          },
          "metadata": {
            "tags": []
          },
          "execution_count": 23
        }
      ]
    },
    {
      "cell_type": "code",
      "metadata": {
        "id": "1duvARYyhSBW",
        "colab_type": "code",
        "colab": {
          "base_uri": "https://localhost:8080/",
          "height": 1000
        },
        "outputId": "15e75863-6e8f-4f03-9d2f-4361bffc7a17"
      },
      "source": [
        "model.summary()"
      ],
      "execution_count": 49,
      "outputs": [
        {
          "output_type": "stream",
          "text": [
            "Model: \"model_7\"\n",
            "__________________________________________________________________________________________________\n",
            "Layer (type)                    Output Shape         Param #     Connected to                     \n",
            "==================================================================================================\n",
            "input_8 (InputLayer)            (None, 300, 300, 3)  0                                            \n",
            "__________________________________________________________________________________________________\n",
            "conv1_pad (ZeroPadding2D)       (None, 306, 306, 3)  0           input_8[0][0]                    \n",
            "__________________________________________________________________________________________________\n",
            "conv1 (Conv2D)                  (None, 150, 150, 64) 9472        conv1_pad[0][0]                  \n",
            "__________________________________________________________________________________________________\n",
            "bn_conv1 (BatchNormalization)   (None, 150, 150, 64) 256         conv1[0][0]                      \n",
            "__________________________________________________________________________________________________\n",
            "activation_50 (Activation)      (None, 150, 150, 64) 0           bn_conv1[0][0]                   \n",
            "__________________________________________________________________________________________________\n",
            "pool1_pad (ZeroPadding2D)       (None, 152, 152, 64) 0           activation_50[0][0]              \n",
            "__________________________________________________________________________________________________\n",
            "max_pooling2d_2 (MaxPooling2D)  (None, 75, 75, 64)   0           pool1_pad[0][0]                  \n",
            "__________________________________________________________________________________________________\n",
            "res2a_branch2a (Conv2D)         (None, 75, 75, 64)   4160        max_pooling2d_2[0][0]            \n",
            "__________________________________________________________________________________________________\n",
            "bn2a_branch2a (BatchNormalizati (None, 75, 75, 64)   256         res2a_branch2a[0][0]             \n",
            "__________________________________________________________________________________________________\n",
            "activation_51 (Activation)      (None, 75, 75, 64)   0           bn2a_branch2a[0][0]              \n",
            "__________________________________________________________________________________________________\n",
            "res2a_branch2b (Conv2D)         (None, 75, 75, 64)   36928       activation_51[0][0]              \n",
            "__________________________________________________________________________________________________\n",
            "bn2a_branch2b (BatchNormalizati (None, 75, 75, 64)   256         res2a_branch2b[0][0]             \n",
            "__________________________________________________________________________________________________\n",
            "activation_52 (Activation)      (None, 75, 75, 64)   0           bn2a_branch2b[0][0]              \n",
            "__________________________________________________________________________________________________\n",
            "res2a_branch2c (Conv2D)         (None, 75, 75, 256)  16640       activation_52[0][0]              \n",
            "__________________________________________________________________________________________________\n",
            "res2a_branch1 (Conv2D)          (None, 75, 75, 256)  16640       max_pooling2d_2[0][0]            \n",
            "__________________________________________________________________________________________________\n",
            "bn2a_branch2c (BatchNormalizati (None, 75, 75, 256)  1024        res2a_branch2c[0][0]             \n",
            "__________________________________________________________________________________________________\n",
            "bn2a_branch1 (BatchNormalizatio (None, 75, 75, 256)  1024        res2a_branch1[0][0]              \n",
            "__________________________________________________________________________________________________\n",
            "add_17 (Add)                    (None, 75, 75, 256)  0           bn2a_branch2c[0][0]              \n",
            "                                                                 bn2a_branch1[0][0]               \n",
            "__________________________________________________________________________________________________\n",
            "activation_53 (Activation)      (None, 75, 75, 256)  0           add_17[0][0]                     \n",
            "__________________________________________________________________________________________________\n",
            "res2b_branch2a (Conv2D)         (None, 75, 75, 64)   16448       activation_53[0][0]              \n",
            "__________________________________________________________________________________________________\n",
            "bn2b_branch2a (BatchNormalizati (None, 75, 75, 64)   256         res2b_branch2a[0][0]             \n",
            "__________________________________________________________________________________________________\n",
            "activation_54 (Activation)      (None, 75, 75, 64)   0           bn2b_branch2a[0][0]              \n",
            "__________________________________________________________________________________________________\n",
            "res2b_branch2b (Conv2D)         (None, 75, 75, 64)   36928       activation_54[0][0]              \n",
            "__________________________________________________________________________________________________\n",
            "bn2b_branch2b (BatchNormalizati (None, 75, 75, 64)   256         res2b_branch2b[0][0]             \n",
            "__________________________________________________________________________________________________\n",
            "activation_55 (Activation)      (None, 75, 75, 64)   0           bn2b_branch2b[0][0]              \n",
            "__________________________________________________________________________________________________\n",
            "res2b_branch2c (Conv2D)         (None, 75, 75, 256)  16640       activation_55[0][0]              \n",
            "__________________________________________________________________________________________________\n",
            "bn2b_branch2c (BatchNormalizati (None, 75, 75, 256)  1024        res2b_branch2c[0][0]             \n",
            "__________________________________________________________________________________________________\n",
            "add_18 (Add)                    (None, 75, 75, 256)  0           bn2b_branch2c[0][0]              \n",
            "                                                                 activation_53[0][0]              \n",
            "__________________________________________________________________________________________________\n",
            "activation_56 (Activation)      (None, 75, 75, 256)  0           add_18[0][0]                     \n",
            "__________________________________________________________________________________________________\n",
            "res2c_branch2a (Conv2D)         (None, 75, 75, 64)   16448       activation_56[0][0]              \n",
            "__________________________________________________________________________________________________\n",
            "bn2c_branch2a (BatchNormalizati (None, 75, 75, 64)   256         res2c_branch2a[0][0]             \n",
            "__________________________________________________________________________________________________\n",
            "activation_57 (Activation)      (None, 75, 75, 64)   0           bn2c_branch2a[0][0]              \n",
            "__________________________________________________________________________________________________\n",
            "res2c_branch2b (Conv2D)         (None, 75, 75, 64)   36928       activation_57[0][0]              \n",
            "__________________________________________________________________________________________________\n",
            "bn2c_branch2b (BatchNormalizati (None, 75, 75, 64)   256         res2c_branch2b[0][0]             \n",
            "__________________________________________________________________________________________________\n",
            "activation_58 (Activation)      (None, 75, 75, 64)   0           bn2c_branch2b[0][0]              \n",
            "__________________________________________________________________________________________________\n",
            "res2c_branch2c (Conv2D)         (None, 75, 75, 256)  16640       activation_58[0][0]              \n",
            "__________________________________________________________________________________________________\n",
            "bn2c_branch2c (BatchNormalizati (None, 75, 75, 256)  1024        res2c_branch2c[0][0]             \n",
            "__________________________________________________________________________________________________\n",
            "add_19 (Add)                    (None, 75, 75, 256)  0           bn2c_branch2c[0][0]              \n",
            "                                                                 activation_56[0][0]              \n",
            "__________________________________________________________________________________________________\n",
            "activation_59 (Activation)      (None, 75, 75, 256)  0           add_19[0][0]                     \n",
            "__________________________________________________________________________________________________\n",
            "res3a_branch2a (Conv2D)         (None, 38, 38, 128)  32896       activation_59[0][0]              \n",
            "__________________________________________________________________________________________________\n",
            "bn3a_branch2a (BatchNormalizati (None, 38, 38, 128)  512         res3a_branch2a[0][0]             \n",
            "__________________________________________________________________________________________________\n",
            "activation_60 (Activation)      (None, 38, 38, 128)  0           bn3a_branch2a[0][0]              \n",
            "__________________________________________________________________________________________________\n",
            "res3a_branch2b (Conv2D)         (None, 38, 38, 128)  147584      activation_60[0][0]              \n",
            "__________________________________________________________________________________________________\n",
            "bn3a_branch2b (BatchNormalizati (None, 38, 38, 128)  512         res3a_branch2b[0][0]             \n",
            "__________________________________________________________________________________________________\n",
            "activation_61 (Activation)      (None, 38, 38, 128)  0           bn3a_branch2b[0][0]              \n",
            "__________________________________________________________________________________________________\n",
            "res3a_branch2c (Conv2D)         (None, 38, 38, 512)  66048       activation_61[0][0]              \n",
            "__________________________________________________________________________________________________\n",
            "res3a_branch1 (Conv2D)          (None, 38, 38, 512)  131584      activation_59[0][0]              \n",
            "__________________________________________________________________________________________________\n",
            "bn3a_branch2c (BatchNormalizati (None, 38, 38, 512)  2048        res3a_branch2c[0][0]             \n",
            "__________________________________________________________________________________________________\n",
            "bn3a_branch1 (BatchNormalizatio (None, 38, 38, 512)  2048        res3a_branch1[0][0]              \n",
            "__________________________________________________________________________________________________\n",
            "add_20 (Add)                    (None, 38, 38, 512)  0           bn3a_branch2c[0][0]              \n",
            "                                                                 bn3a_branch1[0][0]               \n",
            "__________________________________________________________________________________________________\n",
            "activation_62 (Activation)      (None, 38, 38, 512)  0           add_20[0][0]                     \n",
            "__________________________________________________________________________________________________\n",
            "res3b_branch2a (Conv2D)         (None, 38, 38, 128)  65664       activation_62[0][0]              \n",
            "__________________________________________________________________________________________________\n",
            "bn3b_branch2a (BatchNormalizati (None, 38, 38, 128)  512         res3b_branch2a[0][0]             \n",
            "__________________________________________________________________________________________________\n",
            "activation_63 (Activation)      (None, 38, 38, 128)  0           bn3b_branch2a[0][0]              \n",
            "__________________________________________________________________________________________________\n",
            "res3b_branch2b (Conv2D)         (None, 38, 38, 128)  147584      activation_63[0][0]              \n",
            "__________________________________________________________________________________________________\n",
            "bn3b_branch2b (BatchNormalizati (None, 38, 38, 128)  512         res3b_branch2b[0][0]             \n",
            "__________________________________________________________________________________________________\n",
            "activation_64 (Activation)      (None, 38, 38, 128)  0           bn3b_branch2b[0][0]              \n",
            "__________________________________________________________________________________________________\n",
            "res3b_branch2c (Conv2D)         (None, 38, 38, 512)  66048       activation_64[0][0]              \n",
            "__________________________________________________________________________________________________\n",
            "bn3b_branch2c (BatchNormalizati (None, 38, 38, 512)  2048        res3b_branch2c[0][0]             \n",
            "__________________________________________________________________________________________________\n",
            "add_21 (Add)                    (None, 38, 38, 512)  0           bn3b_branch2c[0][0]              \n",
            "                                                                 activation_62[0][0]              \n",
            "__________________________________________________________________________________________________\n",
            "activation_65 (Activation)      (None, 38, 38, 512)  0           add_21[0][0]                     \n",
            "__________________________________________________________________________________________________\n",
            "res3c_branch2a (Conv2D)         (None, 38, 38, 128)  65664       activation_65[0][0]              \n",
            "__________________________________________________________________________________________________\n",
            "bn3c_branch2a (BatchNormalizati (None, 38, 38, 128)  512         res3c_branch2a[0][0]             \n",
            "__________________________________________________________________________________________________\n",
            "activation_66 (Activation)      (None, 38, 38, 128)  0           bn3c_branch2a[0][0]              \n",
            "__________________________________________________________________________________________________\n",
            "res3c_branch2b (Conv2D)         (None, 38, 38, 128)  147584      activation_66[0][0]              \n",
            "__________________________________________________________________________________________________\n",
            "bn3c_branch2b (BatchNormalizati (None, 38, 38, 128)  512         res3c_branch2b[0][0]             \n",
            "__________________________________________________________________________________________________\n",
            "activation_67 (Activation)      (None, 38, 38, 128)  0           bn3c_branch2b[0][0]              \n",
            "__________________________________________________________________________________________________\n",
            "res3c_branch2c (Conv2D)         (None, 38, 38, 512)  66048       activation_67[0][0]              \n",
            "__________________________________________________________________________________________________\n",
            "bn3c_branch2c (BatchNormalizati (None, 38, 38, 512)  2048        res3c_branch2c[0][0]             \n",
            "__________________________________________________________________________________________________\n",
            "add_22 (Add)                    (None, 38, 38, 512)  0           bn3c_branch2c[0][0]              \n",
            "                                                                 activation_65[0][0]              \n",
            "__________________________________________________________________________________________________\n",
            "activation_68 (Activation)      (None, 38, 38, 512)  0           add_22[0][0]                     \n",
            "__________________________________________________________________________________________________\n",
            "res3d_branch2a (Conv2D)         (None, 38, 38, 128)  65664       activation_68[0][0]              \n",
            "__________________________________________________________________________________________________\n",
            "bn3d_branch2a (BatchNormalizati (None, 38, 38, 128)  512         res3d_branch2a[0][0]             \n",
            "__________________________________________________________________________________________________\n",
            "activation_69 (Activation)      (None, 38, 38, 128)  0           bn3d_branch2a[0][0]              \n",
            "__________________________________________________________________________________________________\n",
            "res3d_branch2b (Conv2D)         (None, 38, 38, 128)  147584      activation_69[0][0]              \n",
            "__________________________________________________________________________________________________\n",
            "bn3d_branch2b (BatchNormalizati (None, 38, 38, 128)  512         res3d_branch2b[0][0]             \n",
            "__________________________________________________________________________________________________\n",
            "activation_70 (Activation)      (None, 38, 38, 128)  0           bn3d_branch2b[0][0]              \n",
            "__________________________________________________________________________________________________\n",
            "res3d_branch2c (Conv2D)         (None, 38, 38, 512)  66048       activation_70[0][0]              \n",
            "__________________________________________________________________________________________________\n",
            "bn3d_branch2c (BatchNormalizati (None, 38, 38, 512)  2048        res3d_branch2c[0][0]             \n",
            "__________________________________________________________________________________________________\n",
            "add_23 (Add)                    (None, 38, 38, 512)  0           bn3d_branch2c[0][0]              \n",
            "                                                                 activation_68[0][0]              \n",
            "__________________________________________________________________________________________________\n",
            "activation_71 (Activation)      (None, 38, 38, 512)  0           add_23[0][0]                     \n",
            "__________________________________________________________________________________________________\n",
            "res4a_branch2a (Conv2D)         (None, 19, 19, 256)  131328      activation_71[0][0]              \n",
            "__________________________________________________________________________________________________\n",
            "bn4a_branch2a (BatchNormalizati (None, 19, 19, 256)  1024        res4a_branch2a[0][0]             \n",
            "__________________________________________________________________________________________________\n",
            "activation_72 (Activation)      (None, 19, 19, 256)  0           bn4a_branch2a[0][0]              \n",
            "__________________________________________________________________________________________________\n",
            "res4a_branch2b (Conv2D)         (None, 19, 19, 256)  590080      activation_72[0][0]              \n",
            "__________________________________________________________________________________________________\n",
            "bn4a_branch2b (BatchNormalizati (None, 19, 19, 256)  1024        res4a_branch2b[0][0]             \n",
            "__________________________________________________________________________________________________\n",
            "activation_73 (Activation)      (None, 19, 19, 256)  0           bn4a_branch2b[0][0]              \n",
            "__________________________________________________________________________________________________\n",
            "res4a_branch2c (Conv2D)         (None, 19, 19, 1024) 263168      activation_73[0][0]              \n",
            "__________________________________________________________________________________________________\n",
            "res4a_branch1 (Conv2D)          (None, 19, 19, 1024) 525312      activation_71[0][0]              \n",
            "__________________________________________________________________________________________________\n",
            "bn4a_branch2c (BatchNormalizati (None, 19, 19, 1024) 4096        res4a_branch2c[0][0]             \n",
            "__________________________________________________________________________________________________\n",
            "bn4a_branch1 (BatchNormalizatio (None, 19, 19, 1024) 4096        res4a_branch1[0][0]              \n",
            "__________________________________________________________________________________________________\n",
            "add_24 (Add)                    (None, 19, 19, 1024) 0           bn4a_branch2c[0][0]              \n",
            "                                                                 bn4a_branch1[0][0]               \n",
            "__________________________________________________________________________________________________\n",
            "activation_74 (Activation)      (None, 19, 19, 1024) 0           add_24[0][0]                     \n",
            "__________________________________________________________________________________________________\n",
            "res4b_branch2a (Conv2D)         (None, 19, 19, 256)  262400      activation_74[0][0]              \n",
            "__________________________________________________________________________________________________\n",
            "bn4b_branch2a (BatchNormalizati (None, 19, 19, 256)  1024        res4b_branch2a[0][0]             \n",
            "__________________________________________________________________________________________________\n",
            "activation_75 (Activation)      (None, 19, 19, 256)  0           bn4b_branch2a[0][0]              \n",
            "__________________________________________________________________________________________________\n",
            "res4b_branch2b (Conv2D)         (None, 19, 19, 256)  590080      activation_75[0][0]              \n",
            "__________________________________________________________________________________________________\n",
            "bn4b_branch2b (BatchNormalizati (None, 19, 19, 256)  1024        res4b_branch2b[0][0]             \n",
            "__________________________________________________________________________________________________\n",
            "activation_76 (Activation)      (None, 19, 19, 256)  0           bn4b_branch2b[0][0]              \n",
            "__________________________________________________________________________________________________\n",
            "res4b_branch2c (Conv2D)         (None, 19, 19, 1024) 263168      activation_76[0][0]              \n",
            "__________________________________________________________________________________________________\n",
            "bn4b_branch2c (BatchNormalizati (None, 19, 19, 1024) 4096        res4b_branch2c[0][0]             \n",
            "__________________________________________________________________________________________________\n",
            "add_25 (Add)                    (None, 19, 19, 1024) 0           bn4b_branch2c[0][0]              \n",
            "                                                                 activation_74[0][0]              \n",
            "__________________________________________________________________________________________________\n",
            "activation_77 (Activation)      (None, 19, 19, 1024) 0           add_25[0][0]                     \n",
            "__________________________________________________________________________________________________\n",
            "res4c_branch2a (Conv2D)         (None, 19, 19, 256)  262400      activation_77[0][0]              \n",
            "__________________________________________________________________________________________________\n",
            "bn4c_branch2a (BatchNormalizati (None, 19, 19, 256)  1024        res4c_branch2a[0][0]             \n",
            "__________________________________________________________________________________________________\n",
            "activation_78 (Activation)      (None, 19, 19, 256)  0           bn4c_branch2a[0][0]              \n",
            "__________________________________________________________________________________________________\n",
            "res4c_branch2b (Conv2D)         (None, 19, 19, 256)  590080      activation_78[0][0]              \n",
            "__________________________________________________________________________________________________\n",
            "bn4c_branch2b (BatchNormalizati (None, 19, 19, 256)  1024        res4c_branch2b[0][0]             \n",
            "__________________________________________________________________________________________________\n",
            "activation_79 (Activation)      (None, 19, 19, 256)  0           bn4c_branch2b[0][0]              \n",
            "__________________________________________________________________________________________________\n",
            "res4c_branch2c (Conv2D)         (None, 19, 19, 1024) 263168      activation_79[0][0]              \n",
            "__________________________________________________________________________________________________\n",
            "bn4c_branch2c (BatchNormalizati (None, 19, 19, 1024) 4096        res4c_branch2c[0][0]             \n",
            "__________________________________________________________________________________________________\n",
            "add_26 (Add)                    (None, 19, 19, 1024) 0           bn4c_branch2c[0][0]              \n",
            "                                                                 activation_77[0][0]              \n",
            "__________________________________________________________________________________________________\n",
            "activation_80 (Activation)      (None, 19, 19, 1024) 0           add_26[0][0]                     \n",
            "__________________________________________________________________________________________________\n",
            "res4d_branch2a (Conv2D)         (None, 19, 19, 256)  262400      activation_80[0][0]              \n",
            "__________________________________________________________________________________________________\n",
            "bn4d_branch2a (BatchNormalizati (None, 19, 19, 256)  1024        res4d_branch2a[0][0]             \n",
            "__________________________________________________________________________________________________\n",
            "activation_81 (Activation)      (None, 19, 19, 256)  0           bn4d_branch2a[0][0]              \n",
            "__________________________________________________________________________________________________\n",
            "res4d_branch2b (Conv2D)         (None, 19, 19, 256)  590080      activation_81[0][0]              \n",
            "__________________________________________________________________________________________________\n",
            "bn4d_branch2b (BatchNormalizati (None, 19, 19, 256)  1024        res4d_branch2b[0][0]             \n",
            "__________________________________________________________________________________________________\n",
            "activation_82 (Activation)      (None, 19, 19, 256)  0           bn4d_branch2b[0][0]              \n",
            "__________________________________________________________________________________________________\n",
            "res4d_branch2c (Conv2D)         (None, 19, 19, 1024) 263168      activation_82[0][0]              \n",
            "__________________________________________________________________________________________________\n",
            "bn4d_branch2c (BatchNormalizati (None, 19, 19, 1024) 4096        res4d_branch2c[0][0]             \n",
            "__________________________________________________________________________________________________\n",
            "add_27 (Add)                    (None, 19, 19, 1024) 0           bn4d_branch2c[0][0]              \n",
            "                                                                 activation_80[0][0]              \n",
            "__________________________________________________________________________________________________\n",
            "activation_83 (Activation)      (None, 19, 19, 1024) 0           add_27[0][0]                     \n",
            "__________________________________________________________________________________________________\n",
            "res4e_branch2a (Conv2D)         (None, 19, 19, 256)  262400      activation_83[0][0]              \n",
            "__________________________________________________________________________________________________\n",
            "bn4e_branch2a (BatchNormalizati (None, 19, 19, 256)  1024        res4e_branch2a[0][0]             \n",
            "__________________________________________________________________________________________________\n",
            "activation_84 (Activation)      (None, 19, 19, 256)  0           bn4e_branch2a[0][0]              \n",
            "__________________________________________________________________________________________________\n",
            "res4e_branch2b (Conv2D)         (None, 19, 19, 256)  590080      activation_84[0][0]              \n",
            "__________________________________________________________________________________________________\n",
            "bn4e_branch2b (BatchNormalizati (None, 19, 19, 256)  1024        res4e_branch2b[0][0]             \n",
            "__________________________________________________________________________________________________\n",
            "activation_85 (Activation)      (None, 19, 19, 256)  0           bn4e_branch2b[0][0]              \n",
            "__________________________________________________________________________________________________\n",
            "res4e_branch2c (Conv2D)         (None, 19, 19, 1024) 263168      activation_85[0][0]              \n",
            "__________________________________________________________________________________________________\n",
            "bn4e_branch2c (BatchNormalizati (None, 19, 19, 1024) 4096        res4e_branch2c[0][0]             \n",
            "__________________________________________________________________________________________________\n",
            "add_28 (Add)                    (None, 19, 19, 1024) 0           bn4e_branch2c[0][0]              \n",
            "                                                                 activation_83[0][0]              \n",
            "__________________________________________________________________________________________________\n",
            "activation_86 (Activation)      (None, 19, 19, 1024) 0           add_28[0][0]                     \n",
            "__________________________________________________________________________________________________\n",
            "res4f_branch2a (Conv2D)         (None, 19, 19, 256)  262400      activation_86[0][0]              \n",
            "__________________________________________________________________________________________________\n",
            "bn4f_branch2a (BatchNormalizati (None, 19, 19, 256)  1024        res4f_branch2a[0][0]             \n",
            "__________________________________________________________________________________________________\n",
            "activation_87 (Activation)      (None, 19, 19, 256)  0           bn4f_branch2a[0][0]              \n",
            "__________________________________________________________________________________________________\n",
            "res4f_branch2b (Conv2D)         (None, 19, 19, 256)  590080      activation_87[0][0]              \n",
            "__________________________________________________________________________________________________\n",
            "bn4f_branch2b (BatchNormalizati (None, 19, 19, 256)  1024        res4f_branch2b[0][0]             \n",
            "__________________________________________________________________________________________________\n",
            "activation_88 (Activation)      (None, 19, 19, 256)  0           bn4f_branch2b[0][0]              \n",
            "__________________________________________________________________________________________________\n",
            "res4f_branch2c (Conv2D)         (None, 19, 19, 1024) 263168      activation_88[0][0]              \n",
            "__________________________________________________________________________________________________\n",
            "bn4f_branch2c (BatchNormalizati (None, 19, 19, 1024) 4096        res4f_branch2c[0][0]             \n",
            "__________________________________________________________________________________________________\n",
            "add_29 (Add)                    (None, 19, 19, 1024) 0           bn4f_branch2c[0][0]              \n",
            "                                                                 activation_86[0][0]              \n",
            "__________________________________________________________________________________________________\n",
            "activation_89 (Activation)      (None, 19, 19, 1024) 0           add_29[0][0]                     \n",
            "__________________________________________________________________________________________________\n",
            "res5a_branch2a (Conv2D)         (None, 10, 10, 512)  524800      activation_89[0][0]              \n",
            "__________________________________________________________________________________________________\n",
            "bn5a_branch2a (BatchNormalizati (None, 10, 10, 512)  2048        res5a_branch2a[0][0]             \n",
            "__________________________________________________________________________________________________\n",
            "activation_90 (Activation)      (None, 10, 10, 512)  0           bn5a_branch2a[0][0]              \n",
            "__________________________________________________________________________________________________\n",
            "res5a_branch2b (Conv2D)         (None, 10, 10, 512)  2359808     activation_90[0][0]              \n",
            "__________________________________________________________________________________________________\n",
            "bn5a_branch2b (BatchNormalizati (None, 10, 10, 512)  2048        res5a_branch2b[0][0]             \n",
            "__________________________________________________________________________________________________\n",
            "activation_91 (Activation)      (None, 10, 10, 512)  0           bn5a_branch2b[0][0]              \n",
            "__________________________________________________________________________________________________\n",
            "res5a_branch2c (Conv2D)         (None, 10, 10, 2048) 1050624     activation_91[0][0]              \n",
            "__________________________________________________________________________________________________\n",
            "res5a_branch1 (Conv2D)          (None, 10, 10, 2048) 2099200     activation_89[0][0]              \n",
            "__________________________________________________________________________________________________\n",
            "bn5a_branch2c (BatchNormalizati (None, 10, 10, 2048) 8192        res5a_branch2c[0][0]             \n",
            "__________________________________________________________________________________________________\n",
            "bn5a_branch1 (BatchNormalizatio (None, 10, 10, 2048) 8192        res5a_branch1[0][0]              \n",
            "__________________________________________________________________________________________________\n",
            "add_30 (Add)                    (None, 10, 10, 2048) 0           bn5a_branch2c[0][0]              \n",
            "                                                                 bn5a_branch1[0][0]               \n",
            "__________________________________________________________________________________________________\n",
            "activation_92 (Activation)      (None, 10, 10, 2048) 0           add_30[0][0]                     \n",
            "__________________________________________________________________________________________________\n",
            "res5b_branch2a (Conv2D)         (None, 10, 10, 512)  1049088     activation_92[0][0]              \n",
            "__________________________________________________________________________________________________\n",
            "bn5b_branch2a (BatchNormalizati (None, 10, 10, 512)  2048        res5b_branch2a[0][0]             \n",
            "__________________________________________________________________________________________________\n",
            "activation_93 (Activation)      (None, 10, 10, 512)  0           bn5b_branch2a[0][0]              \n",
            "__________________________________________________________________________________________________\n",
            "res5b_branch2b (Conv2D)         (None, 10, 10, 512)  2359808     activation_93[0][0]              \n",
            "__________________________________________________________________________________________________\n",
            "bn5b_branch2b (BatchNormalizati (None, 10, 10, 512)  2048        res5b_branch2b[0][0]             \n",
            "__________________________________________________________________________________________________\n",
            "activation_94 (Activation)      (None, 10, 10, 512)  0           bn5b_branch2b[0][0]              \n",
            "__________________________________________________________________________________________________\n",
            "res5b_branch2c (Conv2D)         (None, 10, 10, 2048) 1050624     activation_94[0][0]              \n",
            "__________________________________________________________________________________________________\n",
            "bn5b_branch2c (BatchNormalizati (None, 10, 10, 2048) 8192        res5b_branch2c[0][0]             \n",
            "__________________________________________________________________________________________________\n",
            "add_31 (Add)                    (None, 10, 10, 2048) 0           bn5b_branch2c[0][0]              \n",
            "                                                                 activation_92[0][0]              \n",
            "__________________________________________________________________________________________________\n",
            "activation_95 (Activation)      (None, 10, 10, 2048) 0           add_31[0][0]                     \n",
            "__________________________________________________________________________________________________\n",
            "res5c_branch2a (Conv2D)         (None, 10, 10, 512)  1049088     activation_95[0][0]              \n",
            "__________________________________________________________________________________________________\n",
            "bn5c_branch2a (BatchNormalizati (None, 10, 10, 512)  2048        res5c_branch2a[0][0]             \n",
            "__________________________________________________________________________________________________\n",
            "activation_96 (Activation)      (None, 10, 10, 512)  0           bn5c_branch2a[0][0]              \n",
            "__________________________________________________________________________________________________\n",
            "res5c_branch2b (Conv2D)         (None, 10, 10, 512)  2359808     activation_96[0][0]              \n",
            "__________________________________________________________________________________________________\n",
            "bn5c_branch2b (BatchNormalizati (None, 10, 10, 512)  2048        res5c_branch2b[0][0]             \n",
            "__________________________________________________________________________________________________\n",
            "activation_97 (Activation)      (None, 10, 10, 512)  0           bn5c_branch2b[0][0]              \n",
            "__________________________________________________________________________________________________\n",
            "res5c_branch2c (Conv2D)         (None, 10, 10, 2048) 1050624     activation_97[0][0]              \n",
            "__________________________________________________________________________________________________\n",
            "bn5c_branch2c (BatchNormalizati (None, 10, 10, 2048) 8192        res5c_branch2c[0][0]             \n",
            "__________________________________________________________________________________________________\n",
            "dense_28_input (InputLayer)     (None, 10)           0                                            \n",
            "__________________________________________________________________________________________________\n",
            "input_7 (InputLayer)            (None, 10000)        0                                            \n",
            "__________________________________________________________________________________________________\n",
            "add_32 (Add)                    (None, 10, 10, 2048) 0           bn5c_branch2c[0][0]              \n",
            "                                                                 activation_95[0][0]              \n",
            "__________________________________________________________________________________________________\n",
            "dense_28 (Dense)                (None, 256)          2816        dense_28_input[0][0]             \n",
            "__________________________________________________________________________________________________\n",
            "dense_31 (Dense)                (None, 2048)         20482048    input_7[0][0]                    \n",
            "__________________________________________________________________________________________________\n",
            "activation_98 (Activation)      (None, 10, 10, 2048) 0           add_32[0][0]                     \n",
            "__________________________________________________________________________________________________\n",
            "dense_29 (Dense)                (None, 128)          32896       dense_28[0][0]                   \n",
            "__________________________________________________________________________________________________\n",
            "dense_32 (Dense)                (None, 2048)         4196352     dense_31[0][0]                   \n",
            "__________________________________________________________________________________________________\n",
            "global_average_pooling2d_2 (Glo (None, 2048)         0           activation_98[0][0]              \n",
            "__________________________________________________________________________________________________\n",
            "dense_30 (Dense)                (None, 64)           8256        dense_29[0][0]                   \n",
            "__________________________________________________________________________________________________\n",
            "dense_33 (Dense)                (None, 240)          491760      dense_32[0][0]                   \n",
            "__________________________________________________________________________________________________\n",
            "dense_34 (Dense)                (None, 128)          262272      global_average_pooling2d_2[0][0] \n",
            "__________________________________________________________________________________________________\n",
            "concatenate_2 (Concatenate)     (None, 432)          0           dense_30[0][0]                   \n",
            "                                                                 dense_33[0][0]                   \n",
            "                                                                 dense_34[0][0]                   \n",
            "__________________________________________________________________________________________________\n",
            "dense_35 (Dense)                (None, 64)           27712       concatenate_2[0][0]              \n",
            "__________________________________________________________________________________________________\n",
            "dense_36 (Dense)                (None, 240)          15600       dense_35[0][0]                   \n",
            "==================================================================================================\n",
            "Total params: 49,107,424\n",
            "Trainable params: 49,054,304\n",
            "Non-trainable params: 53,120\n",
            "__________________________________________________________________________________________________\n"
          ],
          "name": "stdout"
        }
      ]
    }
  ]
}